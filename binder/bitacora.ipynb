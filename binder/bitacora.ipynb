{
 "cells": [
  {
   "cell_type": "markdown",
   "metadata": {},
   "source": [
    "<a id=\"indice\"></a>\n",
    "# Índice\n",
    "\n",
    "- [Rombo de seguridad](#rombo)\n",
    "- [Código de colores](#codigo_colores)\n",
    "- [Práctica 1: Verificación y Manejo de una Balanza Analítica](#p_1)\n",
    "- [Práctica 2: Determinación de aspirina en tabletas comerciales por Potenciometría](#p_2)\n",
    "- [Práctica 3: Práctica 3:Uso y aplicaciones de la espectrofotometría de ultravioleta visible en fármacos y en colorantes organometálicos](#p_3)\n",
    "- [Práctica 4: Preparación de la curva de calibración para determinar paracetamol en tabletas por UV](#p_4)\n",
    "- [Tóxicología](#tox)"
   ]
  },
  {
   "cell_type": "markdown",
   "metadata": {},
   "source": [
    "# Rombo de seguridad<a id=\"rombo\"></a>\n",
    "<img src=\"https://bl3301files.storage.live.com/y4mT07__XksCcGCRRTb0PFha_KeHdSQfDp9Pzcs5ty6oToxffxlxgxP7NZjf7mPOohjNfwB0ZVwdhiUXJneoaHwUpmWTLN6gosfH53d8CRLH-k3zvOqO1iEVFgDsUxmla3xDhFP4ZQj5F8b1jPqCAAeNKHiwE_KJM60ZI1HG7uQMXzRWUr_ztMmVzZrDRjhne-a?width=1000&height=1000&cropmode=none\" width=\"300\" height=\"300\" />\n"
   ]
  },
  {
   "cell_type": "markdown",
   "metadata": {},
   "source": [
    "# Disposición de residuos\n",
    "<a id=\"codigo_colores\"></a>\n",
    "\n",
    "\n",
    "|Código|Tipo de sustancia |Ejemplo|\n",
    "|:------:|:--------:|:--------------:|\n",
    "|A|Disolventes orgánicos y soluciones de sustancias orgánicas que no contengan halógenos.|Acetonas|\n",
    "|B|Disolventes orgánicos y soluciones de sustancias orgánicas que contengan halógenos.|Cloroformo|\n",
    "|C|Residuos sólidos orgánicos.|Ácido Acetil salicílico|\n",
    "|D|Soluciones salinas inorgánicas.|Sulfato de cobre|\n",
    "|E|Residuos inorgánicos tóxicos, así como las sales y sus soluciones de metales pesados.|Sales de plomo, talio y selenio|\n",
    "|F|Compuestos combustibles tóxicos.|Benceno|\n",
    "|G|Mercurio y sales de mercurio.|Sulfato de mercurio|\n",
    "|H|Sales metálicas regenerables.|Cloruro de plata|\n",
    "|I|Sólidos inorgánicos.|Carbonato de bario|\n",
    "|K|Residuos de vidrios, plásticos, metal, columnas y cartuchos para HPLC, capa fina y columnas, papel filtro, papel indicador.|Recipientes vacíos o rotos, papel|"
   ]
  },
  {
   "cell_type": "markdown",
   "metadata": {},
   "source": [
    "<a id=\"p_1\"></a>\n",
    "<h1><center> Práctica 1: Verificación y Manejo de una Balanza Analítica</center><a id=\"p_1\"></a></h1>"
   ]
  },
  {
   "cell_type": "markdown",
   "metadata": {},
   "source": [
    "### Objetivos\n",
    "Recordar el manejo correcto de la balanza analítica y realizar el procedimiento para llevar a cabo su calibración para determinar el error de la balanza.\n",
    "<p></p>"
   ]
  },
  {
   "cell_type": "markdown",
   "metadata": {},
   "source": [
    "### Hipótesis\n",
    "Se manejará la balanza de manera adecuada y se llevaráacabo su calibración pudiendo así determinar el error de esta.\n",
    "<p></p>"
   ]
  },
  {
   "cell_type": "markdown",
   "metadata": {},
   "source": [
    "### Introducción\n",
    "<p style=\"text-align: justify;\">Uno     de     los     procedimientos     utilizados     más comúnmenteen  el  laboratorio  es  la  medición  de masa.  Tal  es  suimportancia  que  existen  análisis químicos  basadosúnicamente  en  la  determinación precisa   de   la   masa   de   unamuestra,   o   en   la preparación  meticulosa  de  una  solución estándar. Por esto, la balanza ha sido y continuará siendouno de     los     instrumentos     más     importantes     del laboratorio</p>\n",
    "\n",
    "\n",
    "<p style=\"text-align: justify;\">A lo largo de los años, las balanzas se han vuelto más refinadas,  más  exactas,  y  como  consecuencia, más sensibles  a  influencia  externa  (como  humedad  o vibraciones). Sin embargo, se deben seguir una serie de    lineamientos    cuando    se    trata    con    ellas, independientemente  de  que  tipo  de  balanza  se trate<a href=\"#b1\"><sup>[1]</sup></a></p>\n",
    "\n",
    "#### Lineamientos para manejo de la balanza <a href=\"#b1\"><sup>[1]</sup></a>\n",
    "\n",
    "\n",
    "* Nunca exceder la carga máxima de la balanza.\n",
    "* Mantener  la  balanza  limpia.  Pre  y  post  uso  se debe  limpiar  tanto  polvo  como  residuos  del platillo y sus alrededores. \n",
    "* El  material  a  utilizar  nunca  debe  ser  manejado con  las  manos;  siempre  utilizar  pinzas  o  papel limpio.\n",
    "* Objetos   pesados   deben   estar   a   la   misma temperatura que la balanza.\n",
    "* La  balanza  debe  encontrarse  en  un  espacio cerrado,    con    factores    como    humedad    y temperatura adecuadamente controlados.\n",
    "* Ningún químico u objeto que pueda causar daño a  la  balanza  debe  ser  pesado  directamente sobre  ella.  Existenrecipientes  adecuados  para todo tipo de sustancias.\n",
    "* No  se  debe  recargar  sobre  la  mesa  donde  se encuentre  la  balanza,  ni  colocar  objetos  sobre ella. \n",
    "* Mientras  se  pesa  los  compartimientos  de  la balanza deben permanecer cerrados.\n",
    "\n",
    "\n",
    "\n",
    "#### Errores comunes en mediciones con la balanza<a href=\"#b1\"><sup>[1]</sup></a>\n",
    "\n",
    "* <p style=\"text-align: justify;\"><b>Cambio    de    condición    del    recipiente    y/o sustancia   entre   mediciones   sucesivas.</b>   Estos pueden absorber o perder humedad, electrificarse    por    fricción,    o    cambiar    su temperatura entre mediciones. La manera más fácil  de  evitar  estos  problemas  es  dejando  la muestra   reposar   unos   ~30min   cerca   de   la balanza para homogeneizar.</p>\n",
    "* <p style=\"text-align: justify;\"><b>Cuando una sustancia está inmersa en un fluido (como  el  aire),  su  peso  real  es  alterado  por  el peso  del  fluido  que  desplaza.</b>Este  error  se observa cuando la densidad de la muestra y de las   pesas   de   la   balanza   tienen   densidades distintas  (esto  se  cumple  casi  siempre).  Si  la sustancia tiene una densidad menor a las pesas, el peso medido será menor al real (y viceversa). Sin     embargo,     solo     es     necesario     hacer correcciones para estos errores en procedimientos como la calibración de material volumétrico; en el día a día no es necesario.</p>\n",
    "\n",
    "<p style=\"text-align: justify;\">Hay  una  gran  variedad  de  factores  que  afectan  el desempeño de las balanzas tales como temperatura ambiental,   humedad,  presión   barométrica,   etc. Debido  a  estos  factores  no  se  pueden  entregar certificaciones de calibración con la compra de estas balanzas  analíticas,  y  la  garantía  de  mediciones precisa  se  obtiene  solamente  tras  una  calibración local  (y  recurrente).  Existen  tanto  la  calibración externa (proceso manual que requiere utilizar masas aprobadas  como  estándares)  e  interna  (donde  el instrumento  se  calibra  solo,  usualmente  con  solo presionar un botón).</p>  \n",
    "<p></p>"
   ]
  },
  {
   "cell_type": "markdown",
   "metadata": {},
   "source": [
    "### Lista de reactivos materiales \n",
    "* Balanza analítica \n",
    "* Pesas patrón\n",
    "* Guantes\n",
    "* Pinzas de disección\n",
    "* Brocha\n",
    "<p></p>"
   ]
  },
  {
   "cell_type": "markdown",
   "metadata": {},
   "source": [
    "### Metodología \n",
    "\n",
    "<img src=\"https://bl3301files.storage.live.com/y4mRJCxrDW2bkdNlGN72BlaUuGmj32O3m53clExNvcueNCEQ3cnjShS-TB_ggKvZrfpw97eYoFL50Xhl9at9PBedCoDz_1ZY_LaiLPsWq_8a1iyTvShVMTgZKiGz_sIvhdlNIOwpVe5RU7netMxqa1InEMNzy8GSrQsnbaUxQHjT-0zApolYNcsVELNpP7nV9y8?width=2775&height=872&cropmode=none\" width=\"2775\" height=\"872\" />\n",
    "\n",
    "\n",
    "<p></p>"
   ]
  },
  {
   "cell_type": "markdown",
   "metadata": {},
   "source": [
    "### Actividades de investigación <a href=\"#b2\"><sup>[2]</sup></a><a href=\"#b3\"><sup>[3]</sup></a>\n",
    "\n",
    "<p style=\"text-align: justify;\"><b>Material de referencia:</b> Material homogéneo y estable de acuerdo consus propiedades especificada que lo establecen como apto para su uso en una medición o en un análisis cualitativo.</p>\n",
    "\n",
    "<p style=\"text-align: justify;\"><b>Material   de   referencia: </b>Certificado: Material   de referencia  que  tiene  un  documento emitido  por alguna organización autorizada, donde proporciona diferentes   valores de las   propiedades con   surespectiva     incertidumbre     y  trazabilidad,     los requisitos del certificado se encuentran en la normaNMX-CH-161-IMNC.</p>\n",
    "\n",
    "<p style=\"text-align: justify;\"><b>Patrón de medición:</b> Los  estándares  son  materiales  que  contienen  una concentración   precisamente   conocida   de   alguna sustancia  a  utilizar  en  análisis  cuantitativo.  Estos permiten  una  referencia  que  puede  ser  utilizada para  determinar  concentraciones  desconocidas  o para calibrar instrumentos. </p>\n",
    "\n",
    "<p style=\"text-align: justify;\"><b>Trazabilidad: </b>según     NOM-001-SAG/GAN-2015:“Serie   de   actividades   técnicas   y   administrativas sistematizadas  que  permiten  registrar  los  procesos relacionados  con  el  nacimiento,  crianza,  engorda, reproducción,  sacrificio   y   procesamiento   de   un animal, los bienes de origen animal, así como de los productos   químicos,   farmacéuticos,   biológicos   y alimenticios  para  uso  en  animales  o  consumo  por éstos, hasta su consumo final, identificando en cada etapa su ubicación espacial y en su caso, los factores de   riesgo   zoosanitario   y   de   contaminación   que pueden   estar   presentes   en   cada   una   de   las actividades\".</p>\n",
    "<p style=\"text-align: justify;\"> <b>Desviación estándar: </b>Es una medición de que tan cercanamente los datos están  agrupados  alrededor  de  la  media.  Entre  más pequeña sea esta desviación, más agrupados están los datos cerca de la media. La    ecuación    predeterminada    para    calcular    la desviación estándar en Excel es: <b>“=STDEV(VALORES)”</b></p>\n",
    "<p style=\"text-align: justify;\"> <b>Desviación estándar relativa: </b>Es una medición de que tan cercanamente los datos están  agrupados  alrededor  de  la  media.  Entre  más pequeña sea esta desviación, más agrupados están los datos cerca de la media. La    ecuación    predeterminada    para    calcular    la desviación estándar en Excel es: <b>“=STDEV(VALORES)”</b></p>\n",
    "\n",
    "<p></p>"
   ]
  },
  {
   "cell_type": "code",
   "execution_count": 1,
   "metadata": {},
   "outputs": [],
   "source": [
    "import pandas as pd\n",
    "import numpy as np\n",
    "\n",
    "#cálculos de las balanzas 1 y 4\n",
    "\n",
    "balance1 = pd.DataFrame(\n",
    "    {\n",
    "        'Pesa':[1,2,5,10,20,50,100],\n",
    "        'Repeticion 1':[1.0011,2.0038,5.0049,10.0005,20.0087,49.9987,100.0094],\n",
    "        'Repeticion 2':[1.0011,2.0038,5.0048,10.0001,20.0081,49.9984,100.0099],\n",
    "        'Repeticion 3':[1.0008,2.0033,5.0044,9.9994,20.0084,49.9986,100.0093]\n",
    "    }\n",
    ")\n",
    "balance1['Promedio'] = balance1[['Repeticion 1','Repeticion 2','Repeticion 3']].mean(axis=1).round(4)\n",
    "balance1['Desviación'] = balance1[['Repeticion 1','Repeticion 2','Repeticion 3']].std(axis=1).round(4)\n",
    "balance1['Error Absoluto'] = (balance1['Promedio'] - balance1['Pesa']).abs().round(4)\n",
    "balance1['Error Relativo (%)'] = (balance1['Error Absoluto'] / balance1['Pesa'] * 100).round(4)\n",
    "balance1.set_index('Pesa',inplace=True)\n",
    "\n",
    "balance4 = pd.DataFrame(\n",
    "    {\n",
    "        'Pesa':[1,2,5,10,20,50,100],\n",
    "        'Repeticion 1':[0.98340,1.96840,4.91680,9.82440,19.65680,49.12060,98.25420],\n",
    "        'Repeticion 2':[0.98340,1.96840,4.91690,9.82430,19.65680,49.12040,98.25410],\n",
    "        'Repeticion 3':[0.98340,1.96840,4.91690,9.82420,19.65690,49.12040,98.25400]\n",
    "    }\n",
    ")\n",
    "balance4['Promedio'] = balance4[['Repeticion 1','Repeticion 2','Repeticion 3']].mean(axis=1).round(4)\n",
    "balance4['Desviación'] = balance4[['Repeticion 1','Repeticion 2','Repeticion 3']].std(axis=1).round(4)\n",
    "balance4['Error Absoluto'] = (balance4['Promedio'] - balance4['Pesa']).abs().round(4)\n",
    "balance4['Error Relativo (%)'] = (balance4['Error Absoluto'] / balance4['Pesa'] * 100).round(4)\n",
    "balance4.set_index('Pesa',inplace=True)\n",
    "\n",
    "\n"
   ]
  },
  {
   "cell_type": "code",
   "execution_count": 2,
   "metadata": {},
   "outputs": [],
   "source": [
    "#calculos de las balanzas del lab 5\n",
    "\n",
    "balances_l5 = pd.DataFrame(\n",
    "    {\n",
    "        'Estandar':[2.0000,5.0000,10.0000,20.0000,50.0000,100.0000],\n",
    "        '1':[2.0050,5.0043,9.9997,20.0080,49.9980,100.0100],\n",
    "        '2':[2.0035,5.0051,10.0000,20.0090,49.9980,100.0100],\n",
    "        '3':[2.0037,5.0046,9.9996,20.0080,49.9970,100.0100,],\n",
    "        '4':[1.9702,4.9171,9.8247,19.6580,49.1220,98.2570],\n",
    "        '5':[2.0051,5.0045,9.9997,20.0080,49.9980,100.0100],\n",
    "        '6':[2.0039,5.0046,9.9998,20.0080,49.9970,100.0100],\n",
    "        '7':[2.0059,5.0045,9.9993,20.0070,49.9950,100.0000],\n",
    "        '8':[2.0036,5.0047,9.9995,20.0080,49.9980,100.0100]\n",
    "    }\n",
    ")\n",
    "\n",
    "balances_l5_abserr = pd.DataFrame(\n",
    "    {\n",
    "        'Masa (g)':balances_l5['Estandar']\n",
    "    }\n",
    ")\n",
    "\n",
    "for e in range(0,8):\n",
    "    a = []\n",
    "    for i in range(1,7):\n",
    "        a.append(abs(balances_l5.iloc[i-1][e+1] - balances_l5.iloc[i-1][0]))\n",
    "    balances_l5_abserr[e+1] = a\n",
    "\n",
    "balances_l5_relerr = pd.DataFrame(\n",
    "    {\n",
    "        'Masa (g)':balances_l5['Estandar']\n",
    "    }\n",
    ")\n",
    "\n",
    "for e in range(1,9):\n",
    "    a = []\n",
    "    for i in range(1,7):\n",
    "        a.append(balances_l5_abserr.iloc[i-1][e] / balances_l5.iloc[i-1][0] * 100)\n",
    "    balances_l5_relerr[e] = a\n",
    "    \n",
    "balances_l5_abserr.set_index('Masa (g)',inplace=True)    \n",
    "balances_l5_relerr.set_index('Masa (g)',inplace=True)\n"
   ]
  },
  {
   "cell_type": "code",
   "execution_count": 3,
   "metadata": {},
   "outputs": [],
   "source": [
    "#calculos de monedas individuales\n",
    "\n",
    "coins_individual = pd.DataFrame(\n",
    "    {\n",
    "        'Moneda y año':['1 (1998)','2 (2005)','3 (2015)','4 (2016)','5 (2017)'],\n",
    "        'Pesada 1':[3.8323,3.8893,3.8921,3.9004,3.9193],\n",
    "        'Pesada 2':[3.8322,3.8404,3.8935,3.9013,3.9307],\n",
    "        'Pesada 3':[3.8331,3.8905,3.8931,3.9004,3.9301]\n",
    "    }\n",
    ")\n",
    "coins_individual['Promedio'] = coins_individual[['Pesada 1','Pesada 2', 'Pesada 3']].mean(axis=1).round(4)\n",
    "coins_individual['Desviacion'] = coins_individual[['Pesada 1','Pesada 2', 'Pesada 3']].std(axis=1).round(4)\n",
    "\n",
    "templist = []\n",
    "\n",
    "for i in range(0,5):\n",
    "    a = []\n",
    "    for e in range(1,4):\n",
    "        a.append(abs(coins_individual.iloc[i][e] - coins_individual['Promedio'][i]))\n",
    "    templist.append(np.sum(a)/3)\n",
    "    \n",
    "coins_individual['Error Absoluto'] = templist\n",
    "coins_individual['Error Absoluto'] = coins_individual['Error Absoluto'].round(4)\n",
    "coins_individual['Error Relativo (%)'] = (coins_individual['Error Absoluto'] / coins_individual['Promedio'] * 100).round(3)\n",
    "coins_individual.set_index('Moneda y año',inplace=True)  \n"
   ]
  },
  {
   "cell_type": "code",
   "execution_count": 4,
   "metadata": {},
   "outputs": [],
   "source": [
    "#calculos de monedas por diferencias\n",
    "\n",
    "coins_multiple = pd.DataFrame(\n",
    "    {\n",
    "        '# Moneda':[1,2,3,4,5],\n",
    "        'Peso por diferencia':[3.9333,3.7905,3.8934,3.9009,3.9304],\n",
    "        'Masa promedio (g)':coins_individual['Promedio']\n",
    "    }\n",
    ")\n",
    "\n",
    "coins_multiple['Error Absoluto'] = (coins_multiple['Masa promedio (g)'] - coins_multiple['Peso por diferencia']).abs().round(4)\n",
    "coins_multiple['Error Relativo (%)'] = (coins_multiple['Error Absoluto'] / coins_multiple['Masa promedio (g)'] * 100).round(3)\n",
    "coins_multiple.set_index('# Moneda',inplace=True)  "
   ]
  },
  {
   "cell_type": "markdown",
   "metadata": {},
   "source": [
    "# Resultados"
   ]
  },
  {
   "cell_type": "markdown",
   "metadata": {
    "variables": {
     "balance1[['Promedio','Desviación','Error Absoluto','Error Relativo (%)']]": "<div>\n<style scoped>\n    .dataframe tbody tr th:only-of-type {\n        vertical-align: middle;\n    }\n\n    .dataframe tbody tr th {\n        vertical-align: top;\n    }\n\n    .dataframe thead th {\n        text-align: right;\n    }\n</style>\n<table border=\"1\" class=\"dataframe\">\n  <thead>\n    <tr style=\"text-align: right;\">\n      <th></th>\n      <th>Promedio</th>\n      <th>Desviación</th>\n      <th>Error Absoluto</th>\n      <th>Error Relativo (%)</th>\n    </tr>\n    <tr>\n      <th>Pesa</th>\n      <th></th>\n      <th></th>\n      <th></th>\n      <th></th>\n    </tr>\n  </thead>\n  <tbody>\n    <tr>\n      <th>1</th>\n      <td>1.0010</td>\n      <td>0.0002</td>\n      <td>0.0010</td>\n      <td>0.1000</td>\n    </tr>\n    <tr>\n      <th>2</th>\n      <td>2.0036</td>\n      <td>0.0003</td>\n      <td>0.0036</td>\n      <td>0.1800</td>\n    </tr>\n    <tr>\n      <th>5</th>\n      <td>5.0047</td>\n      <td>0.0003</td>\n      <td>0.0047</td>\n      <td>0.0940</td>\n    </tr>\n    <tr>\n      <th>10</th>\n      <td>10.0000</td>\n      <td>0.0006</td>\n      <td>0.0000</td>\n      <td>0.0000</td>\n    </tr>\n    <tr>\n      <th>20</th>\n      <td>20.0084</td>\n      <td>0.0003</td>\n      <td>0.0084</td>\n      <td>0.0420</td>\n    </tr>\n    <tr>\n      <th>50</th>\n      <td>49.9986</td>\n      <td>0.0002</td>\n      <td>0.0014</td>\n      <td>0.0028</td>\n    </tr>\n    <tr>\n      <th>100</th>\n      <td>100.0095</td>\n      <td>0.0003</td>\n      <td>0.0095</td>\n      <td>0.0095</td>\n    </tr>\n  </tbody>\n</table>\n</div>",
     "balance4[['Promedio','Desviación','Error Absoluto','Error Relativo (%)']]": "<div>\n<style scoped>\n    .dataframe tbody tr th:only-of-type {\n        vertical-align: middle;\n    }\n\n    .dataframe tbody tr th {\n        vertical-align: top;\n    }\n\n    .dataframe thead th {\n        text-align: right;\n    }\n</style>\n<table border=\"1\" class=\"dataframe\">\n  <thead>\n    <tr style=\"text-align: right;\">\n      <th></th>\n      <th>Promedio</th>\n      <th>Desviación</th>\n      <th>Error Absoluto</th>\n      <th>Error Relativo (%)</th>\n    </tr>\n    <tr>\n      <th>Pesa</th>\n      <th></th>\n      <th></th>\n      <th></th>\n      <th></th>\n    </tr>\n  </thead>\n  <tbody>\n    <tr>\n      <th>1</th>\n      <td>0.9834</td>\n      <td>0.0000</td>\n      <td>0.0166</td>\n      <td>1.6600</td>\n    </tr>\n    <tr>\n      <th>2</th>\n      <td>1.9684</td>\n      <td>0.0000</td>\n      <td>0.0316</td>\n      <td>1.5800</td>\n    </tr>\n    <tr>\n      <th>5</th>\n      <td>4.9169</td>\n      <td>0.0001</td>\n      <td>0.0831</td>\n      <td>1.6620</td>\n    </tr>\n    <tr>\n      <th>10</th>\n      <td>9.8243</td>\n      <td>0.0001</td>\n      <td>0.1757</td>\n      <td>1.7570</td>\n    </tr>\n    <tr>\n      <th>20</th>\n      <td>19.6568</td>\n      <td>0.0001</td>\n      <td>0.3432</td>\n      <td>1.7160</td>\n    </tr>\n    <tr>\n      <th>50</th>\n      <td>49.1205</td>\n      <td>0.0001</td>\n      <td>0.8795</td>\n      <td>1.7590</td>\n    </tr>\n    <tr>\n      <th>100</th>\n      <td>98.2541</td>\n      <td>0.0001</td>\n      <td>1.7459</td>\n      <td>1.7459</td>\n    </tr>\n  </tbody>\n</table>\n</div>"
    }
   },
   "source": [
    "\n",
    "\n",
    "### Balanza 1\n",
    "\n",
    "{{balance1[['Promedio','Desviación','Error Absoluto','Error Relativo (%)']]}}\n",
    "\n",
    "### Balanza 4\n",
    "\n",
    "{{balance4[['Promedio','Desviación','Error Absoluto','Error Relativo (%)']]}}"
   ]
  },
  {
   "cell_type": "markdown",
   "metadata": {
    "variables": {
     "balances_l5_abserr": "<div>\n<style scoped>\n    .dataframe tbody tr th:only-of-type {\n        vertical-align: middle;\n    }\n\n    .dataframe tbody tr th {\n        vertical-align: top;\n    }\n\n    .dataframe thead th {\n        text-align: right;\n    }\n</style>\n<table border=\"1\" class=\"dataframe\">\n  <thead>\n    <tr style=\"text-align: right;\">\n      <th></th>\n      <th>1</th>\n      <th>2</th>\n      <th>3</th>\n      <th>4</th>\n      <th>5</th>\n      <th>6</th>\n      <th>7</th>\n      <th>8</th>\n    </tr>\n    <tr>\n      <th>Masa (g)</th>\n      <th></th>\n      <th></th>\n      <th></th>\n      <th></th>\n      <th></th>\n      <th></th>\n      <th></th>\n      <th></th>\n    </tr>\n  </thead>\n  <tbody>\n    <tr>\n      <th>2.0</th>\n      <td>0.0050</td>\n      <td>0.0035</td>\n      <td>0.0037</td>\n      <td>0.0298</td>\n      <td>0.0051</td>\n      <td>0.0039</td>\n      <td>0.0059</td>\n      <td>0.0036</td>\n    </tr>\n    <tr>\n      <th>5.0</th>\n      <td>0.0043</td>\n      <td>0.0051</td>\n      <td>0.0046</td>\n      <td>0.0829</td>\n      <td>0.0045</td>\n      <td>0.0046</td>\n      <td>0.0045</td>\n      <td>0.0047</td>\n    </tr>\n    <tr>\n      <th>10.0</th>\n      <td>0.0003</td>\n      <td>0.0000</td>\n      <td>0.0004</td>\n      <td>0.1753</td>\n      <td>0.0003</td>\n      <td>0.0002</td>\n      <td>0.0007</td>\n      <td>0.0005</td>\n    </tr>\n    <tr>\n      <th>20.0</th>\n      <td>0.0080</td>\n      <td>0.0090</td>\n      <td>0.0080</td>\n      <td>0.3420</td>\n      <td>0.0080</td>\n      <td>0.0080</td>\n      <td>0.0070</td>\n      <td>0.0080</td>\n    </tr>\n    <tr>\n      <th>50.0</th>\n      <td>0.0020</td>\n      <td>0.0020</td>\n      <td>0.0030</td>\n      <td>0.8780</td>\n      <td>0.0020</td>\n      <td>0.0030</td>\n      <td>0.0050</td>\n      <td>0.0020</td>\n    </tr>\n    <tr>\n      <th>100.0</th>\n      <td>0.0100</td>\n      <td>0.0100</td>\n      <td>0.0100</td>\n      <td>1.7430</td>\n      <td>0.0100</td>\n      <td>0.0100</td>\n      <td>0.0000</td>\n      <td>0.0100</td>\n    </tr>\n  </tbody>\n</table>\n</div>",
     "balances_l5_relerr": "<div>\n<style scoped>\n    .dataframe tbody tr th:only-of-type {\n        vertical-align: middle;\n    }\n\n    .dataframe tbody tr th {\n        vertical-align: top;\n    }\n\n    .dataframe thead th {\n        text-align: right;\n    }\n</style>\n<table border=\"1\" class=\"dataframe\">\n  <thead>\n    <tr style=\"text-align: right;\">\n      <th></th>\n      <th>1</th>\n      <th>2</th>\n      <th>3</th>\n      <th>4</th>\n      <th>5</th>\n      <th>6</th>\n      <th>7</th>\n      <th>8</th>\n    </tr>\n    <tr>\n      <th>Masa (g)</th>\n      <th></th>\n      <th></th>\n      <th></th>\n      <th></th>\n      <th></th>\n      <th></th>\n      <th></th>\n      <th></th>\n    </tr>\n  </thead>\n  <tbody>\n    <tr>\n      <th>2.0</th>\n      <td>0.250</td>\n      <td>0.175</td>\n      <td>0.185</td>\n      <td>1.490</td>\n      <td>0.255</td>\n      <td>0.195</td>\n      <td>0.295</td>\n      <td>0.180</td>\n    </tr>\n    <tr>\n      <th>5.0</th>\n      <td>0.086</td>\n      <td>0.102</td>\n      <td>0.092</td>\n      <td>1.658</td>\n      <td>0.090</td>\n      <td>0.092</td>\n      <td>0.090</td>\n      <td>0.094</td>\n    </tr>\n    <tr>\n      <th>10.0</th>\n      <td>0.003</td>\n      <td>0.000</td>\n      <td>0.004</td>\n      <td>1.753</td>\n      <td>0.003</td>\n      <td>0.002</td>\n      <td>0.007</td>\n      <td>0.005</td>\n    </tr>\n    <tr>\n      <th>20.0</th>\n      <td>0.040</td>\n      <td>0.045</td>\n      <td>0.040</td>\n      <td>1.710</td>\n      <td>0.040</td>\n      <td>0.040</td>\n      <td>0.035</td>\n      <td>0.040</td>\n    </tr>\n    <tr>\n      <th>50.0</th>\n      <td>0.004</td>\n      <td>0.004</td>\n      <td>0.006</td>\n      <td>1.756</td>\n      <td>0.004</td>\n      <td>0.006</td>\n      <td>0.010</td>\n      <td>0.004</td>\n    </tr>\n    <tr>\n      <th>100.0</th>\n      <td>0.010</td>\n      <td>0.010</td>\n      <td>0.010</td>\n      <td>1.743</td>\n      <td>0.010</td>\n      <td>0.010</td>\n      <td>0.000</td>\n      <td>0.010</td>\n    </tr>\n  </tbody>\n</table>\n</div>"
    }
   },
   "source": [
    "### Errores absolutos balanzas lab 5\n",
    "\n",
    "{{balances_l5_abserr}}\n",
    "\n",
    "### Errores relativos (%) balanzas lab 5\n",
    "\n",
    "{{balances_l5_relerr}}"
   ]
  },
  {
   "cell_type": "markdown",
   "metadata": {
    "variables": {
     "coins_individual": "<div>\n<style scoped>\n    .dataframe tbody tr th:only-of-type {\n        vertical-align: middle;\n    }\n\n    .dataframe tbody tr th {\n        vertical-align: top;\n    }\n\n    .dataframe thead th {\n        text-align: right;\n    }\n</style>\n<table border=\"1\" class=\"dataframe\">\n  <thead>\n    <tr style=\"text-align: right;\">\n      <th></th>\n      <th>Pesada 1</th>\n      <th>Pesada 2</th>\n      <th>Pesada 3</th>\n      <th>Promedio</th>\n      <th>Desviacion</th>\n      <th>Error Absoluto</th>\n      <th>Error Relativo (%)</th>\n    </tr>\n    <tr>\n      <th>Moneda y año</th>\n      <th></th>\n      <th></th>\n      <th></th>\n      <th></th>\n      <th></th>\n      <th></th>\n      <th></th>\n    </tr>\n  </thead>\n  <tbody>\n    <tr>\n      <th>1 (1998)</th>\n      <td>3.8323</td>\n      <td>3.8322</td>\n      <td>3.8331</td>\n      <td>3.8325</td>\n      <td>0.0005</td>\n      <td>0.0004</td>\n      <td>0.010</td>\n    </tr>\n    <tr>\n      <th>2 (2005)</th>\n      <td>3.8893</td>\n      <td>3.8404</td>\n      <td>3.8905</td>\n      <td>3.8734</td>\n      <td>0.0286</td>\n      <td>0.0220</td>\n      <td>0.568</td>\n    </tr>\n    <tr>\n      <th>3 (2015)</th>\n      <td>3.8921</td>\n      <td>3.8935</td>\n      <td>3.8931</td>\n      <td>3.8929</td>\n      <td>0.0007</td>\n      <td>0.0005</td>\n      <td>0.013</td>\n    </tr>\n    <tr>\n      <th>4 (2016)</th>\n      <td>3.9004</td>\n      <td>3.9013</td>\n      <td>3.9004</td>\n      <td>3.9007</td>\n      <td>0.0005</td>\n      <td>0.0004</td>\n      <td>0.010</td>\n    </tr>\n    <tr>\n      <th>5 (2017)</th>\n      <td>3.9193</td>\n      <td>3.9307</td>\n      <td>3.9301</td>\n      <td>3.9267</td>\n      <td>0.0064</td>\n      <td>0.0049</td>\n      <td>0.125</td>\n    </tr>\n  </tbody>\n</table>\n</div>"
    }
   },
   "source": [
    "### Monedas pesadas individualmente\n",
    "\n",
    "{{coins_individual}}"
   ]
  },
  {
   "cell_type": "markdown",
   "metadata": {
    "variables": {
     "coins_multiple": "<div>\n<style scoped>\n    .dataframe tbody tr th:only-of-type {\n        vertical-align: middle;\n    }\n\n    .dataframe tbody tr th {\n        vertical-align: top;\n    }\n\n    .dataframe thead th {\n        text-align: right;\n    }\n</style>\n<table border=\"1\" class=\"dataframe\">\n  <thead>\n    <tr style=\"text-align: right;\">\n      <th></th>\n      <th>Peso por diferencia</th>\n      <th>Masa promedio (g)</th>\n      <th>Error Absoluto</th>\n      <th>Error Relativo (%)</th>\n    </tr>\n    <tr>\n      <th># Moneda</th>\n      <th></th>\n      <th></th>\n      <th></th>\n      <th></th>\n    </tr>\n  </thead>\n  <tbody>\n    <tr>\n      <th>1</th>\n      <td>3.9333</td>\n      <td>3.8325</td>\n      <td>0.1008</td>\n      <td>2.630</td>\n    </tr>\n    <tr>\n      <th>2</th>\n      <td>3.7905</td>\n      <td>3.8734</td>\n      <td>0.0829</td>\n      <td>2.140</td>\n    </tr>\n    <tr>\n      <th>3</th>\n      <td>3.8934</td>\n      <td>3.8929</td>\n      <td>0.0005</td>\n      <td>0.013</td>\n    </tr>\n    <tr>\n      <th>4</th>\n      <td>3.9009</td>\n      <td>3.9007</td>\n      <td>0.0002</td>\n      <td>0.005</td>\n    </tr>\n    <tr>\n      <th>5</th>\n      <td>3.9304</td>\n      <td>3.9267</td>\n      <td>0.0037</td>\n      <td>0.094</td>\n    </tr>\n  </tbody>\n</table>\n</div>"
    }
   },
   "source": [
    "### Monedas pesadas en grupo\n",
    "\n",
    "{{coins_multiple}}\n"
   ]
  },
  {
   "cell_type": "markdown",
   "metadata": {},
   "source": [
    "# Análisis y discusión de resultados  \n",
    "#### Resultados de la balanzas 1 y 4\n",
    "Las primeras dos reacciones fueron calibradas utilizando masas patron de 1g, 2g, 5g, 10g, 20g, 50g y 100g en ambas balanxas se realizo el pesado por triplicado y posteriormente determino el promedio, desviación estandar y se obtuvo el error absoluto y el error relativo de acuerdo a las siguientes ecuaciones:\n",
    "<a id=\"ea\"></a>\n",
    "<p></p>\n",
    "$$Promedio$$\n",
    "<p></p>\n",
    "$$\n",
    "\\bar{X}=\\frac{X_{i}}{n}\n",
    "$$\n",
    "<p></p>\n",
    "$$Error\\;absoluto$$\n",
    "<p></p>\n",
    "$$\n",
    "ε_{a}=\\left |X_{real}-\\bar{X}\\right|\n",
    "$$\n",
    "<p></p>\n",
    "\n",
    "$$Error\\;relativo$$\n",
    "<p></p>\n",
    "$$\n",
    "ε_{r}=\\frac{ε_{a}}{X_{real}}\n",
    "$$\n",
    "<p></p>\n",
    "$$Desviación\\;Estandar$$\n",
    "<p></p>\n",
    "$$\n",
    "s = \\sqrt{\\frac{\\sum{(\\bar{X}-X_{i})}}{n-1}}\n",
    "$$\n",
    "<p></p>\n",
    "<p style=\"text-align: justify;\">En la práctica no se indica el tipo de pesas patron utilizadas para la calibración, suponiendo se utilizaron pesas patrón de tipo E1  de acuerdo a la norma NOM-038-SCFI-2000 <a href=\"#b4\"><sup>[4]</sup></a>  los errores absolutos se encuentran dentro de los rangos permitidos para la balanza número 1 y la desviación estadar es muy pequeña del orden $10^{-4}$ lo que significa que no hay variaziones significativas en la medición, en la balanza 4 se puede observar una variación mas notoria y los errores absolutos sobrepasan a los permitidos en la norma por lo que es necesario llevar acabo el proceso de calibración de la balanza, la desviación estandar en esta balanza fue igual del orden de $10^{-4}$ incluso en unos casos no hubo variación en la lectura pero esto únicamente indica la repetibilidad en las mediciones no si estas son correctas o no. En esta balanza el error absoluto incrementa conforme aumenta el peso de los patrones, teniendo el error mas grande con la pesa de 100g.</p>\n",
    "\n",
    "Tambien se analizaron los datos de las balanzas del laboratorio 5 de los cuales  unicamente se tenia el reporte de los diferentes pesos de cada uno de los patrones en cada una de las balanzas lo cual unicamente nos permitio obtener  el  error absoluto y el error relativo calculado con las mismas [ecuaciones](#ea) mencionadas anteriormente utilizando el valor reportado en cada lectura.\n",
    "<p style=\"text-align: justify;\">Estos datos no son de utilidad para llevar acabo la calibración de las balanzas, pero nos permiten evualuar las condiciones de las balanzas en el laboratorio 5, observando que la balanza que presenta un mayor error es la balanza número 4, ya que presentaba un  error relativo  mayor entre (1.48 - 1.75%) en comparación al que presentaban las demás balanzas que tenian un rango de errores relativos entre (0.004 - 0.25% ). Por lo que en este laboratorio seria necesario llevar acabo el proceso de calibración de la balanza.</p>\n",
    "\n",
    "\n",
    "\n",
    "\n"
   ]
  },
  {
   "cell_type": "markdown",
   "metadata": {},
   "source": [
    "<p style=\"text-align: justify;\" >En el último experimento para determinar el peso por diferencia de diferentes monedas, primeramente se determino el peso por triplicado de 5 mondeas de 5 pesos las cuales se determinó su, promedio, error absoluto, error relativo y desviación estandar. El promedio del peso de cada moneda se considero como el valor real, el cual fue utilizado para comparar con el peso determinado por diferencia. Las ecuaciones para determinar el error absoluto fue la siguiente:</p>\n",
    "\n",
    "$$\n",
    "ε_{a}=\\frac{\\sum_{i=1}^{3}|\\bar{X}-X_{i}|}{3}\n",
    "$$\n",
    "Para determinar el error relativo se utilizó la [ecuación](#ea) anteriormente mencionada unicamente sustituyendo el valor real por el valor el peso promedio de la moneda.\n",
    "\n",
    "<p style=\"text-align: justify;\" > Al determinar el peso por diferencia en las primeras dos medidas se observa un error mucho mas grande (2.14-2.62%) en comparación a cuando se determinó el peso por diferencia de las tres monedas donde se observó un error mucho menor (0.005-0.09%). </p>\n",
    "\n",
    "\n",
    "\n",
    "\n"
   ]
  },
  {
   "cell_type": "markdown",
   "metadata": {},
   "source": [
    "### Conclusiones\n",
    "\n",
    "<p style=\"text-align: justify;\">Como tal el objetivo de la práctica no pudo ser completado debido a que la práctica no fue realizada de manera presencial unicamente analizamos los datos de otras personas y realizamos el análisis de datos que obtuvieron con los primeros datos se pudieron obtener los errores de la balanza y desviación estandar que nos permiten verificar si se encuentran dentro de los límites permitidos, respecto al análisis de las balanzas de laboratorio 5 nos permiten unicamente ver las condiciones en las que se encuentran las balanzas.</p>\n",
    " <p></p>\n",
    " \n",
    " \n",
    "\n"
   ]
  },
  {
   "cell_type": "markdown",
   "metadata": {},
   "source": [
    "<a href= \"#indice\" ><img src=\"https://bl3301files.storage.live.com/y4m-c96T5uHYCy5gRYmjxh9GAKLct1CTOz-IAhMfv-5-yf3kkDICnUTqD7h8CtGTWc5N8tGnzP1JGiTIgCQYQQusiQE6qmZUnNXw16aj5CeS2H-V0DWechdQ-nXMOuPwzGCO_qrHuG3eUNU2_AjktluOM9bW8NXvKAoF1Ba3jqv3Z9EuuEHJfFrig7uhjuC8eMe?width=250&height=83&cropmode=none\" width=\"125\" height=\"41\" /></a>"
   ]
  },
  {
   "cell_type": "markdown",
   "metadata": {},
   "source": [
    "<a id=\"p_2\"></a>\n",
    "<h1><center> Práctica 2: Determinación de Aspirina en Tabletas Comerciales por Potenciometría</center><a id=\"p_2\"></a></h1>"
   ]
  },
  {
   "cell_type": "markdown",
   "metadata": {},
   "source": [
    "### Objetivos\n",
    "Determinar la concentración de aspirina en una muestra de tableta comercial por medio de titulación Potenciométrica.\n",
    "<p></p>"
   ]
  },
  {
   "cell_type": "markdown",
   "metadata": {},
   "source": [
    "### Hipótesis\n",
    "Se determinará que todas las tabletas contienen la cantidad de principio activo indicado por los proveedores, dentro de los rangos aceptables según las farmacopeas.\n",
    "<p></p>"
   ]
  },
  {
   "cell_type": "markdown",
   "metadata": {},
   "source": [
    "### Método\n",
    "En este experimento se usará la técnica de titulación Potenciométrica usando NaOH como agente titulante.\n",
    "<p></p>"
   ]
  },
  {
   "cell_type": "markdown",
   "metadata": {},
   "source": [
    "### Introducción\n",
    "<p style=\"text-align: justify;\">Los métodos electroquímicos tienen una amplia gama de aplicaciones, aún dentro de la química analítica. Donde otros métodos solo podrían determinar, por ejemplo, la cantidad total de cobre en solución, con métodos EQs se podría distinguir entre la cantidad de Cu(I) y Cu(II).<a href=\"#b5\"><sup>[5]</sup></a> Adicionalmente, cuando se comparan con métodos espectrofotométricos o cromatográficos, por ejemplo, resultan mucho más baratos. </p>\n",
    "<p style=\"text-align: justify;\"> Una celda electroquímica generalmente cuenta con dos conductores eléctricos sumergidos en soluciones de electrolitos, a los cuales denominamos electrodos. Para que circule una corriente en una celda es necesario 1) que los electrodos se conecten externamente mediante un conductor metálico, 2) que las dos soluciones de electrolito estén en contacto para permitir el movimiento de iones de una a otra y 3) que pueda tener lugar una reacción de transferencia de electrones en cada uno de los electrodos<a href=\"#b6\"><sup>[6]</sup></a>. </p>\n",
    "\n",
    "<img src=\"https://bl3301files.storage.live.com/y4m2yO2Mf6QFsP-a1HrNN630GygbXmatA9gWhxMY7j6cFHKH4b1yt_GIJXp3RtNQbMmhATXvLqdCq2P4NAyl4gdORY1YX3-iBdsHbRyqp00Wq2Y7hj7RoHkcY_50g6cJCtFk3SbAurVbe073Dv7o8LiAZoIl9rQlq5mBmhu4mSS4Uc-jMEQqJ5nLB_iHmqWi3Aw?width=790&height=539&cropmode=none\" width=\"400\" height=\"250\" />\n",
    "<p style=\"text-align: center;\"><cite> <b>Figura I: Celda electroquímica galvánica con un circuito abierto<a href=\"#b6\"><sup>[6]</sup></a></cite></p>\n",
    "\n",
    "<p style=\"text-align: justify;\"> El potencial de una celda electroquímica es la diferencia entre el potencial de uno de los electrodos y el potencial del otro. Por esto, es útil pensar en la reacción de una celda EQ como si estuviese formada por dos semirreacciones de semicelda, cada una de las cuales posee un potencial de electrodo característico. Sin embargo, es importante notar que no existe método alguno para determinar el valor absoluto del potencial de un electrodo; esta incapacidad no es necesariamente una desventaja ya que los potenciales relativos medidos respecto a un electrodo de referencia son igual de útiles. Estos potenciales relativos pueden ser utilizados para calcular tanto potenciales de celda reales como constantes de equilibrio en procesos redox.</p> \n",
    "\n",
    "<p style=\"text-align: justify;\">La respuesta de un buen electrodo indicador a cambios de actividad debe ser 1) rápida y 2) una reproducible. Aunque existen errores que son imposibles de eliminar por completo, como el asociado al potencial líquido-líquido, y aunque no existe indicador perfectamente selectivo, hemos desarrollado excelentes opciones. Estos se dividen en dos categorías: electrodos metálicos y de membrana. Aquí se mencionarán principalmente los de membrana, y entre ellos los de vidrio, ya que son los más ocupados en análisis ácido-base. </p> \n",
    "\n",
    "<p style=\"text-align: center;\"><b>Tabla I: Tipos de electrodos de membrana selectiva de iones </b><a href=\"#b6\"><sup>[6]</sup></a></p>\n",
    "<img src=\"https://bl3301files.storage.live.com/y4mOywAcDNDfjvnhNs2edgTIVOKmSQIEU2xZcxc8uzc9sti2A-PcHZ2ZX8_XF5rWhvRRrBs12XYs7sJ_7DBN7eL3h8UyNLkxqfabPPa_TZqn94RB4-eLjguXVAMq9MbDF9HucpAblzyi4B5Nb2DVm7lifCEP4btI65gQEC9tx1pH372CJtTiqxz7ERRBr3hwe1Q?width=573&height=434&cropmode=none\" width=\"350\" height=\"250\" />\n",
    "\n",
    "\n",
    "<p style=\"text-align: justify;\">El electrodo de vidrio es el más antiguo de los electrodos de membrana, y aún sigue siendo el más utilizado<a href=\"#b6\"><sup>[6]</sup></a>. Desde los años 30´s la manera más adecuada de analizar pH ha sido midiendo la diferencia de potencial a través de una membrana de vidrio que separa la solución de analito de una solución de referencia de acidez fija. En la figura (II) se observa una celda característica para medición de pH. La figura (II.b) ilustra la configuración más común para medir el pH mediante un electrodo de vidrio En ella, el electrodo de vidrio y su electrodo de referencia interno Ag-AgCl se encuentran en el centro de una sonda cilíndrica. Un electrodo de referencia externo (generalmente de tipo Ag-AgCl) rodea al electrodo de vidrio; la presencia del electrodo de referencia externo no es tan obvia como en el diseño más anticuado (II.a). La membrana de vidrio sensible al pH está unida a la base de la sonda, y actúa como puente salino.</p>\n",
    "<img src=\"https://bl3301files.storage.live.com/y4mAAP70rYYqZt9Co4iU97iDbIT_dLtQhorgkkR-5YNiOP-AVd4MCzwCRkufSLqCgS1Y3LxUDAIu5e29-laqfAr3QoPSx_ZzIqAWXlm3vMfqNAyejEpn_WxFDHkWNDiILqvSqSiubn02Am124inaT-ofPr9f302MH_wXDC9RthU-cQULZYlsPki4lNTZsKeHSY2?width=636&height=449&cropmode=none\" width=\"400\" height=\"200\" />\n",
    "\n",
    "<p style=\"text-align: center;\"><cite> <b>Figura II:</b> Sistema de electrodos típico para medir el pH. a) Electrodo de vidrio (indicador) y electrodo de calomel saturado (de referencia) sumergidos en una solución de pH desconocido. b) Sonda de combinación que está constituida por un electrodo indicador de vidrio y un electrodo de referencia de Ag-AgCl. Un segundo electrodo de Ag-AgCl funciona como la referencia interna del electrodo de vidrio <a href=\"#b6\"><sup>[6]</sup></a></cite></p>\n",
    "\n",
    "<p style=\"text-align: justify;\">En este caso, se llevará a cabo una reacción simple ácido-base entre el ácido acetilsalicílico y el hidróxido de sodio para formar acetilsalicilato de sodio, según la reacción:</p>\n",
    "<img src=\"https://bl3301files.storage.live.com/y4mdAPSnKsHQzX596DmEiW3w6PNyXSBP-SoSUdkxWyH-S8ijgSGdTH0ADQ5wAZHjCR41v4LaEG9FF4fo9Png8SVPfzL3Cphtus_OSyJHupTxjMxWYnvaB5EexH5sOFORNlzYj7PkilKWzoZ8aqyvEHcp7wQ1JbZynip9WEStsWdqZJpa_cMy9jXlO4m0t8a4Chn?width=547&height=193&cropmode=none\" width=\"400\" height=\"90\" />\n",
    "\n",
    "<p style=\"text-align: center;\"><cite> <b>Figura III: </b>Reacción de hidróxido de sodio y ácido acetil salicílico</cite></p>\n",
    "\n",
    "<p style=\"text-align: justify;\">Este compuesto, el cual pertenece a la familia de las drogas antiinflamatorias no-esteroideas (NSAIDS) y es utilizada comúnmente para tratar dolores, fiebre, e inflamaciones, forma una parte importante de la industria farmacéutica, y por lo tanto su determinación precisa y exacta es indispensable. Según <a href=\"#b7\"><sup>[7]</sup></a> el estándar de la industria es que la pureza debe estar entre (99.5-100.5)%, y este rango levanta la necesidad de buenas técnicas de determinación. Entre estas existen titulaciones simples ácido-base, retrotitulaciones, y técnicas espectrofotométricas, entre otras. En esta práctica se realizará una determinación por potenciometría.</p>"
   ]
  },
  {
   "cell_type": "markdown",
   "metadata": {},
   "source": [
    "### Reactivos\n",
    "* NaOH 0.1 M </b><a href=\"#t1\"><sup>[tox]</sup></a></p>\n",
    "* Ftalato ácido de potasio.</b><a href=\"#t2\"><sup>[tox]</sup></a></p>\n",
    "* Indicador Fenolftaleína.\n",
    "* Tabletas con aspirina\n",
    "\n",
    "### Equipo\n",
    "\n",
    "<ul>\n",
    "     <li>Potenciómetro</li>\n",
    "     <li>Un Matraz aforado de 250 mL </li>\n",
    "     <li>Un soporte universal </li>\n",
    "     <li>Una parrilla con agitación</li>\n",
    "     <li>Una pinza para bureta</li>\n",
    "     <li>Una bureta de 50 mL</li>\n",
    "     <li>Un agitador magnético (Tamaño arroz)</li>\n",
    "     <li>3 vasos de precipitados de 250 mL</li>\n",
    "     <li>3 vasos de precipitados de 50 mL</li>\n",
    "     <li>1 pipeta volumétrica de 10 mL</li>\t\n",
    "     <li>1 pipeta volumétrica de 25 mL</li>\n",
    "     <li>1 mortero</li>\t\t\t\t\n",
    "     <li>Una pizeta</li>\n",
    "     <li>Papel para limpiar los electrodos</li>\n",
    "     <li>Una perilla</li>\n",
    "     <li>Espátula</li>\n",
    "</ul>\n"
   ]
  },
  {
   "cell_type": "markdown",
   "metadata": {},
   "source": [
    "# Metodología \n",
    "<img src=\"https://bl3301files.storage.live.com/y4mjiWfhYc1pO9J1O6Zb483g-a8Iog7KoYLnPG3rZfIGQnhaEKpLeF66DuO9vTjf9GAV6cSxBhY8jXty2Y1dYVPTpwBvzQuZVPx_iVKXPpkOSj1Mado5vfMsWxWWClKtFbWEXon2Y2G_Hb6wzpKdo72sVlU3IJp4ENy9cBsblgjmmy8obHG8CvsGcyjZ4S4tngr?width=2625&height=1298&cropmode=none\" width=\"600\" height=\"300\" />"
   ]
  },
  {
   "cell_type": "code",
   "execution_count": 5,
   "metadata": {},
   "outputs": [],
   "source": [
    "KHP_MM = 204.22\n",
    "\n",
    "NAOH_TIT = pd.DataFrame(\n",
    "    {\n",
    "        'Ensayo':[1,2,3],\n",
    "        'Masa KHP (g)':[0.7064,0.7077,0.7026],\n",
    "        'Volumen Final (ml)':[0.0354,0.0346,0.0339]\n",
    "    }\n",
    ")\n",
    "NAOH_TIT['Concentración (M)'] = (NAOH_TIT['Masa KHP (g)'] / KHP_MM / NAOH_TIT['Volumen Final (ml)'])\n",
    "NAOH_TIT.set_index('Ensayo',inplace=True)\n",
    "\n",
    "M_AVG = NAOH_TIT[['Concentración (M)']].mean()\n",
    "\n"
   ]
  },
  {
   "cell_type": "code",
   "execution_count": 6,
   "metadata": {},
   "outputs": [],
   "source": [
    "NAOH_ERR_AVGREAL = pd.DataFrame(\n",
    "    {\n",
    "        'Ensayo':[1,2,3],\n",
    "        'Concentración (M)':NAOH_TIT['Concentración (M)']\n",
    "    }\n",
    ")\n",
    "NAOH_ERR_AVGREAL['Error Absoluto'] = (NAOH_ERR_AVGREAL['Concentración (M)'] - M_AVG[0]).abs()\n",
    "NAOH_ERR_AVGREAL['Error Relativo'] = (NAOH_ERR_AVGREAL['Error Absoluto'] / M_AVG[0] * 100).abs()\n",
    "NAOH_ERR_AVGREAL.set_index('Ensayo',inplace=True)\n"
   ]
  },
  {
   "cell_type": "code",
   "execution_count": 7,
   "metadata": {},
   "outputs": [],
   "source": [
    "VALREAL = 0.1\n",
    "\n",
    "NAOH_ERR_VALREAL = pd.DataFrame(\n",
    "    {\n",
    "        'Ensayo':[1,2,3],\n",
    "        'Concentración (M)':NAOH_TIT['Concentración (M)']\n",
    "    }\n",
    ")\n",
    "NAOH_ERR_VALREAL['Error Absoluto'] = (NAOH_ERR_VALREAL['Concentración (M)'] - VALREAL).abs()\n",
    "NAOH_ERR_VALREAL['Error Relativo'] = (NAOH_ERR_VALREAL['Error Absoluto'] / VALREAL * 100).abs()\n",
    "NAOH_ERR_VALREAL.set_index('Ensayo',inplace=True)\n"
   ]
  },
  {
   "cell_type": "code",
   "execution_count": 8,
   "metadata": {},
   "outputs": [],
   "source": [
    "#titulaciones\n",
    "import matplotlib.pyplot as plt\n",
    "import pandas as pd\n",
    "\n",
    "tit_1 = pd.DataFrame(\n",
    "    {\n",
    "        'Volumen (ml)':[0,1,2,3,3.5,4,4.5,5,5.5,6,6.5,7,7.5,8,8.5,9,9.5,10,10.5,\n",
    "                        11,11.5,12,12.5,13,13.5,14,14.5,15,15.5,16,16.5,17,17.5,\n",
    "                        18,18.5,19,19.5,20,20.5,21,21.5,22,22.5,22.7,22.9,23,23.5,\n",
    "                        23.7,24.5,25.5,26.5,27.5,28.5,29.5,30.5,31.5],\n",
    "        'pH': [2.58,2.82,3.04,3.21,3.29,3.36,3.4,3.45,3.5,3.55,3.59,3.63,\n",
    "                           3.67,3.7,3.74,3.78,3.82,3.86,3.88,3.92,3.96,3.99,4.03,4.07,\n",
    "                           4.11,4.15,4.19,4.23,4.28,4.32,4.37,4.43,4.49,4.56,4.63,4.7,\n",
    "                           4.81,4.92,5.03,5.23,5.49,6.02,6.12,6.33,6.44,6.63,6.82,6.94,\n",
    "                           11.5,12.05,12.27,12.36,12.44,12.48,12.52,12.53]\n",
    "    }\n",
    ")\n",
    "\n",
    "pH_list = []\n",
    "Vol_list = [[],[]]\n",
    "for i in range(0,55):\n",
    "    pH_list.append(tit_1['pH'][i+1] - tit_1['pH'][i])\n",
    "    Vol_list[0].append(tit_1['Volumen (ml)'][i+1] - tit_1['Volumen (ml)'][i])\n",
    "    Vol_list[1].append((tit_1['Volumen (ml)'][i+1] + tit_1['Volumen (ml)'][i]) / 2)\n",
    "    \n",
    "FIRST_DERIV_tit1 = pd.DataFrame(\n",
    "    {\n",
    "        'ΔpH':pH_list,\n",
    "        'ΔV':Vol_list[0],\n",
    "        'Volumen (ml)':Vol_list[1]\n",
    "    }\n",
    ")\n",
    "\n",
    "tit_2 = pd.DataFrame(\n",
    "    {\n",
    "        'Volumen (ml)':[0,5,10,15,20,21.5,23,23.5,23.7,24,24.2,25,26,27.1,28,29,30],\n",
    "        'pH':[2.68,3.43,3.83,4.16,4.66,4.93,5.45,5.91,6.11,6.48,6.85,11.6,12.04,12.24,12.33,12.42,12.47]\n",
    "    }\n",
    ")\n",
    "\n",
    "pH_list = []\n",
    "Vol_list = [[],[]]\n",
    "\n",
    "for i in range(0,16):\n",
    "    pH_list.append(tit_2['pH'][i+1] - tit_2['pH'][i])\n",
    "    Vol_list[0].append(tit_2['Volumen (ml)'][i+1] - tit_2['Volumen (ml)'][i])\n",
    "    Vol_list[1].append((tit_2['Volumen (ml)'][i+1] + tit_2['Volumen (ml)'][i]) / 2)\n",
    "\n",
    "FIRST_DERIV_tit2 = pd.DataFrame(\n",
    "    {\n",
    "        'ΔpH':pH_list,\n",
    "        'ΔV':Vol_list[0],\n",
    "        'Volumen (ml)':Vol_list[1]\n",
    "    }\n",
    ")\n",
    "\n",
    "tit_3 = pd.DataFrame(\n",
    "    {\n",
    "        'Volumen (ml)':[0,5,10,15,20,21.5,23,23.5,23.7,24,25,26,27.1,28,29,30],\n",
    "        'pH':[2.62,3.41,3.82,4.22,4.94,5.69,6.29,6.55,6.82,10.57,11.87,12.14,12.28,12.37,12.43,12.44]\n",
    "    }\n",
    ")\n",
    "\n",
    "pH_list = []\n",
    "Vol_list = [[],[]]\n",
    "\n",
    "for i in range(0,15):\n",
    "    pH_list.append(tit_3['pH'][i+1] - tit_3['pH'][i])\n",
    "    Vol_list[0].append(tit_3['Volumen (ml)'][i+1] - tit_3['Volumen (ml)'][i])\n",
    "    Vol_list[1].append((tit_3['Volumen (ml)'][i+1] + tit_3['Volumen (ml)'][i]) / 2)\n",
    "\n",
    "FIRST_DERIV_tit3 = pd.DataFrame(\n",
    "    {\n",
    "        'ΔpH':pH_list,\n",
    "        'ΔV':Vol_list[0],\n",
    "        'Volumen (ml)':Vol_list[1]\n",
    "    }\n",
    ")\n",
    "\n",
    "FIRST_DERIV_tit1['ΔpH/ΔV'] = FIRST_DERIV_tit1['ΔpH'] / FIRST_DERIV_tit1['ΔV']\n",
    "FIRST_DERIV_tit2['ΔpH/ΔV'] = FIRST_DERIV_tit2['ΔpH'] / FIRST_DERIV_tit2['ΔV']\n",
    "FIRST_DERIV_tit3['ΔpH/ΔV'] = FIRST_DERIV_tit3['ΔpH'] / FIRST_DERIV_tit3['ΔV']\n"
   ]
  },
  {
   "cell_type": "code",
   "execution_count": 9,
   "metadata": {},
   "outputs": [],
   "source": [
    "MM_AcSal = 180.158\n",
    "REPORTED_VAL = 500\n",
    "\n",
    "aspirin = pd.DataFrame(\n",
    "    {\n",
    "        'Veq (ml)':[FIRST_DERIV_tit1['Volumen (ml)'].loc[FIRST_DERIV_tit1['ΔpH/ΔV'].idxmax()],\n",
    "                   FIRST_DERIV_tit2['Volumen (ml)'].loc[FIRST_DERIV_tit2['ΔpH/ΔV'].idxmax()],\n",
    "                   FIRST_DERIV_tit3['Volumen (ml)'].loc[FIRST_DERIV_tit3['ΔpH/ΔV'].idxmax()]],\n",
    "        'Masa Pastilla':[594.1,595.3,586]\n",
    "    }\n",
    ")\n",
    "\n",
    "aspirin['Masa (mg AcSal)'] = aspirin['Veq (ml)'] * M_AVG[0] * MM_AcSal\n",
    "aspirin['Error Absoluto'] = (aspirin['Masa (mg AcSal)'] - REPORTED_VAL).abs()\n",
    "aspirin['Error Relativo (%))'] = aspirin['Error Absoluto'] / REPORTED_VAL * 100\n",
    "aspirin['% p/p (respecto a 500mg)'] = aspirin['Masa (mg AcSal)'] / 500 * 100\n",
    "aspirin['% p/p (respecto a total)'] = aspirin['Masa (mg AcSal)'] / aspirin['Masa Pastilla'] * 100\n",
    "\n",
    "def confidence(std, t = 4.303, n = 3):\n",
    "    return t * std / np.sqrt(n) \n",
    "\n",
    "AcSal_avg = aspirin['Masa (mg AcSal)'].mean()\n",
    "AcSal_std = aspirin['Masa (mg AcSal)'].std()\n"
   ]
  },
  {
   "cell_type": "code",
   "execution_count": 10,
   "metadata": {},
   "outputs": [],
   "source": [
    "x1, y1, x2 , y2 , x3, y3 = tit_1['Volumen (ml)'], tit_1['pH'], tit_2['Volumen (ml)'], tit_2['pH'], tit_3['Volumen (ml)'], tit_3['pH']\n",
    "\n",
    "def plot_all():\n",
    "    fig, axs = plt.subplots(2, 2)\n",
    "    axs[0][0].plot(x1, y1)\n",
    "    axs[0][0].plot(x2, y2)\n",
    "    axs[0][0].plot(x3, y3)\n",
    "    axs[0][0].set_xlabel('Volumen (ml)')\n",
    "    axs[0][0].set_ylabel('pH')\n",
    "    axs[0][0].set_title('Estandarizaciones')\n",
    "    axs[0][0].legend([\"Titulación 1\", \"Titulación 2\", \"Titulación 3\"])\n",
    "    \n",
    "    axs[0][1].plot(FIRST_DERIV_tit1['Volumen (ml)'] , FIRST_DERIV_tit1['ΔpH/ΔV'])\n",
    "    axs[0][1].plot(x1, y1)\n",
    "    axs[0][1].set_xlabel('Volumen (ml)')\n",
    "    axs[0][1].set_ylabel('ΔpH/ΔV')\n",
    "    axs[0][1].set_title('Tit 1 - Primera Derivada')\n",
    "    \n",
    "    axs[1][0].plot(FIRST_DERIV_tit2['Volumen (ml)'] , FIRST_DERIV_tit2['ΔpH/ΔV'])\n",
    "    axs[1][0].plot(x1, y1)\n",
    "    axs[1][0].set_xlabel('Volumen (ml)')\n",
    "    axs[1][0].set_ylabel('ΔpH/ΔV')\n",
    "    axs[1][0].set_title('Tit 2 - Primera Derivada')\n",
    "    \n",
    "    axs[1][1].plot(FIRST_DERIV_tit3['Volumen (ml)'] , FIRST_DERIV_tit3['ΔpH/ΔV'])\n",
    "    axs[1][1].plot(x1, y1)\n",
    "    axs[1][1].set_xlabel('Volumen (ml)')\n",
    "    axs[1][1].set_ylabel('ΔpH/ΔV')\n",
    "    axs[1][1].set_title('Tit 3 - Primera Derivada')\n",
    "    plt.tight_layout()\n"
   ]
  },
  {
   "cell_type": "code",
   "execution_count": null,
   "metadata": {},
   "outputs": [],
   "source": []
  },
  {
   "cell_type": "markdown",
   "metadata": {},
   "source": [
    "# Resultados"
   ]
  },
  {
   "cell_type": "markdown",
   "metadata": {
    "variables": {
     "M_AVG[0].round(4)": "0.0998",
     "NAOH_ERR_AVGREAL.round(4)": "<div>\n<style scoped>\n    .dataframe tbody tr th:only-of-type {\n        vertical-align: middle;\n    }\n\n    .dataframe tbody tr th {\n        vertical-align: top;\n    }\n\n    .dataframe thead th {\n        text-align: right;\n    }\n</style>\n<table border=\"1\" class=\"dataframe\">\n  <thead>\n    <tr style=\"text-align: right;\">\n      <th></th>\n      <th>Concentración (M)</th>\n      <th>Error Absoluto</th>\n      <th>Error Relativo</th>\n    </tr>\n    <tr>\n      <th>Ensayo</th>\n      <th></th>\n      <th></th>\n      <th></th>\n    </tr>\n  </thead>\n  <tbody>\n    <tr>\n      <th>1</th>\n      <td>0.0977</td>\n      <td>0.0021</td>\n      <td>2.0771</td>\n    </tr>\n    <tr>\n      <th>2</th>\n      <td>0.1002</td>\n      <td>0.0004</td>\n      <td>0.3714</td>\n    </tr>\n    <tr>\n      <th>3</th>\n      <td>0.1015</td>\n      <td>0.0017</td>\n      <td>1.7057</td>\n    </tr>\n  </tbody>\n</table>\n</div>",
     "NAOH_ERR_VALREAL.round(4)": "<div>\n<style scoped>\n    .dataframe tbody tr th:only-of-type {\n        vertical-align: middle;\n    }\n\n    .dataframe tbody tr th {\n        vertical-align: top;\n    }\n\n    .dataframe thead th {\n        text-align: right;\n    }\n</style>\n<table border=\"1\" class=\"dataframe\">\n  <thead>\n    <tr style=\"text-align: right;\">\n      <th></th>\n      <th>Concentración (M)</th>\n      <th>Error Absoluto</th>\n      <th>Error Relativo</th>\n    </tr>\n    <tr>\n      <th>Ensayo</th>\n      <th></th>\n      <th></th>\n      <th></th>\n    </tr>\n  </thead>\n  <tbody>\n    <tr>\n      <th>1</th>\n      <td>0.0977</td>\n      <td>0.0023</td>\n      <td>2.2877</td>\n    </tr>\n    <tr>\n      <th>2</th>\n      <td>0.1002</td>\n      <td>0.0002</td>\n      <td>0.1555</td>\n    </tr>\n    <tr>\n      <th>3</th>\n      <td>0.1015</td>\n      <td>0.0015</td>\n      <td>1.4869</td>\n    </tr>\n  </tbody>\n</table>\n</div>",
     "NAOH_TIT": "<div>\n<style scoped>\n    .dataframe tbody tr th:only-of-type {\n        vertical-align: middle;\n    }\n\n    .dataframe tbody tr th {\n        vertical-align: top;\n    }\n\n    .dataframe thead th {\n        text-align: right;\n    }\n</style>\n<table border=\"1\" class=\"dataframe\">\n  <thead>\n    <tr style=\"text-align: right;\">\n      <th></th>\n      <th>Masa KHP (g)</th>\n      <th>Volumen Final (ml)</th>\n      <th>Concentración (M)</th>\n    </tr>\n    <tr>\n      <th>Ensayo</th>\n      <th></th>\n      <th></th>\n      <th></th>\n    </tr>\n  </thead>\n  <tbody>\n    <tr>\n      <th>1</th>\n      <td>0.7064</td>\n      <td>0.0354</td>\n      <td>0.097712</td>\n    </tr>\n    <tr>\n      <th>2</th>\n      <td>0.7077</td>\n      <td>0.0346</td>\n      <td>0.100156</td>\n    </tr>\n    <tr>\n      <th>3</th>\n      <td>0.7026</td>\n      <td>0.0339</td>\n      <td>0.101487</td>\n    </tr>\n  </tbody>\n</table>\n</div>",
     "VALREAL": "0.1"
    }
   },
   "source": [
    "### Estandarización de NaOH\n",
    "\n",
    "{{NAOH_TIT}}\n",
    "\n",
    "\n",
    "### Errores de la estandarización considerando el promedio M = {{M_AVG[0].round(4)}} como valor real\n",
    "\n",
    "{{NAOH_ERR_AVGREAL.round(4)}}\n",
    "\n",
    "\n",
    "### Errores de la estandarización considerando el promedio M = {{VALREAL}} como valor real\n",
    "\n",
    "{{NAOH_ERR_VALREAL.round(4)}}\n",
    "\n"
   ]
  },
  {
   "cell_type": "markdown",
   "metadata": {
    "variables": {
     "AcSal_avg.round(4)": "434.745",
     "aspirin.round(4)": "<div>\n<style scoped>\n    .dataframe tbody tr th:only-of-type {\n        vertical-align: middle;\n    }\n\n    .dataframe tbody tr th {\n        vertical-align: top;\n    }\n\n    .dataframe thead th {\n        text-align: right;\n    }\n</style>\n<table border=\"1\" class=\"dataframe\">\n  <thead>\n    <tr style=\"text-align: right;\">\n      <th></th>\n      <th>Veq (ml)</th>\n      <th>Masa Pastilla</th>\n      <th>Masa (mg AcSal)</th>\n      <th>Error Absoluto</th>\n      <th>Error Relativo (%))</th>\n      <th>% p/p (respecto a 500mg)</th>\n      <th>% p/p (respecto a total)</th>\n    </tr>\n  </thead>\n  <tbody>\n    <tr>\n      <th>0</th>\n      <td>24.10</td>\n      <td>594.1</td>\n      <td>433.2469</td>\n      <td>66.7531</td>\n      <td>13.3506</td>\n      <td>86.6494</td>\n      <td>72.9249</td>\n    </tr>\n    <tr>\n      <th>1</th>\n      <td>24.60</td>\n      <td>595.3</td>\n      <td>442.2354</td>\n      <td>57.7646</td>\n      <td>11.5529</td>\n      <td>88.4471</td>\n      <td>74.2878</td>\n    </tr>\n    <tr>\n      <th>2</th>\n      <td>23.85</td>\n      <td>586.0</td>\n      <td>428.7526</td>\n      <td>71.2474</td>\n      <td>14.2495</td>\n      <td>85.7505</td>\n      <td>73.1660</td>\n    </tr>\n  </tbody>\n</table>\n</div>",
     "confidence(AcSal_std).round(3)": "17.055",
     "plot_all()": "<img src=\"data:image/png;base64,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\n\"/>"
    }
   },
   "source": [
    "### Gráfica de titulaciones\n",
    "\n",
    "{{plot_all()}}\n",
    "\n",
    "\n",
    "\n",
    "\n",
    "{{aspirin.round(4)}}\n",
    "\n",
    "\n",
    "#### Cantidad de aspirina en pastilla con intervalo de confianza al 95%\n",
    "###### Intervalo de confianza t-student\n",
    "<p><center>{{AcSal_avg.round(4)}} ± {{confidence(AcSal_std).round(3)}} mg de ácido acetilsalicílico por pastilla<center></p>"
   ]
  },
  {
   "cell_type": "markdown",
   "metadata": {},
   "source": [
    "# Análisis y discusión de resultados\n",
    "\n"
   ]
  },
  {
   "cell_type": "markdown",
   "metadata": {
    "variables": {
     "AcSal_avg.round(4)": "434.745",
     "M_AVG[0].round(4)": "0.0998",
     "confidence(AcSal_std).round(3)": "17.055"
    }
   },
   "source": [
    "<p style=\"text-align: justify;\">Las pastillas utilizadas en este experimento contenían de acuerdo a la etiqueta 500mg de ácido acetilsalicílico, se pesaron y se registró el peso de la pastilla, posteriormente fueron disueltas y tituladas por potenciometría con una solución de hidróxido de sodio la cual fue estandarizada con Biftalato de potasio dando una concentración {{M_AVG[0].round(4)}}M con una desviación estándar de σ = {{}}, se realizó por triplicado y se determinó el <a href= \"#ep2\">punto de equivalencia</a> por medio de la primera derivada, se determinó los mg de aspirina por tableta con una confianza del 95% y se comparó con el valor reportado en la etiqueta comercial el intervalo de confianza de acuerdo a la distribución de <a href= \"#tstudent\">t-student</a> la pastilla contenía {{AcSal_avg.round(4)}} ± {{confidence(AcSal_std).round(3)}}mg que está por debajo de los valores reportados en la etiqueta.  </p>\n",
    "\n",
    "<p></p>\n",
    "$$Intervalo\\;de\\;confianza\\;t-student$$ \n",
    "<a name= \"tstudent\"> </a>\n",
    "$$\n",
    "\\mu =\\bar{x}\\;\\pm\\;\\frac{ts}{\\sqrt{n}}\n",
    "$$\n",
    "<p></p>\n",
    "<a name= \"tstudent\"> </a>\n",
    "\n",
    "\n",
    "<p style=\"text-align: justify;\">También se determinaron los errores absolutos y relativos  de acuerdo a la masa promedio obtenida con la reportada en la etiqueta comercial, también se determinó el porcentaje que contienen de ácido acetilsalicílico considerando el 100% los 500mg de lo que debería tener cada pastilla. Estando por debajo de los limites que solicita la farmacopea de la organización mundial de la salud donde el intervalo debe de ser de (99 – 100.5)% </p>\n",
    "\n",
    "El error es esta práctica es bastante alto lo cual puede deberse a errores en la metodología o técnica:\n",
    "-\tPosible pérdida de masa al moler las pastillas y al traspasar miligramos de aspirina del mortero al matraz donde se llevará acabo la estandarización.\n",
    "-\tNo dejar estabilizar la lectura del electrodo el tiempo necesario para registrar la lectura\n",
    "-\tFalta de calibración de la balanza analítica.\n",
    "\n",
    "La cantidad de Ácido acetilsalicílico fue menor a la reportada en la pastilla la cual puede deberse a lo mencionado anteriormente de no dejar estabilizar la lectura del potenciómetro el tiempo adecuado para que llegue al equilibrio por lo que el volumen de hidróxido de sodio es menor al que debería ser y por consiguiente la cantidad de ácido acetilsalicílico."
   ]
  },
  {
   "cell_type": "markdown",
   "metadata": {},
   "source": [
    "### Conclusiones \n",
    "Se pudo llevar a cabo la titulación potenciométrica y reportar un resultado de la concentración de ácido acetil salicílico, aunque no se pudo hacer la práctica de manera experimental de acuerdo con prácticas que hemos hecho anteriormente y al análisis de la técnica pudimos detectar posibles fuentes de error por las que el resultado que obtuvimos fue menor al que debía de contener la pastilla de ácido acetil salicílico."
   ]
  },
  {
   "cell_type": "markdown",
   "metadata": {},
   "source": [
    "<a href= \"#indice\" ><img src=\"https://bl3301files.storage.live.com/y4m-c96T5uHYCy5gRYmjxh9GAKLct1CTOz-IAhMfv-5-yf3kkDICnUTqD7h8CtGTWc5N8tGnzP1JGiTIgCQYQQusiQE6qmZUnNXw16aj5CeS2H-V0DWechdQ-nXMOuPwzGCO_qrHuG3eUNU2_AjktluOM9bW8NXvKAoF1Ba3jqv3Z9EuuEHJfFrig7uhjuC8eMe?width=250&height=83&cropmode=none\" width=\"125\" height=\"41\" /></a>"
   ]
  },
  {
   "cell_type": "markdown",
   "metadata": {},
   "source": [
    "<a id=\"p_3\"></a>\n",
    "<h1><center> Práctica 3: Uso y aplicaciones de la espectrofotometría de ultravioleta visible en fármacos y en colorantes organometálicos</center></h1>"
   ]
  },
  {
   "cell_type": "markdown",
   "metadata": {},
   "source": [
    "### Objetivos\n",
    "<p style=\"text-align: justify;\">El alumno aprenderá a utilizar el equipo de ultravioleta-visible para analizar la pureza de fármacos y colorantes por medio del modo de barrido. \n",
    "Aprenderá a identificar los parámetros de medición en el espectro y a sacar conclusiones a través de la lectura de esos parámetros.\n",
    "</p>"
   ]
  },
  {
   "cell_type": "markdown",
   "metadata": {},
   "source": [
    "### Hipótesis\n",
    "<p style=\"text-align: justify;\"></p>"
   ]
  },
  {
   "cell_type": "markdown",
   "metadata": {},
   "source": [
    "\n",
    "### Materiales \n",
    "<ul>\n",
    "    <li>Balanza analítica </li>\n",
    "    <li>Espectrofotómetro\t</li>\n",
    "    <li>Matraz volumétrico de 100 mL (2)</li>\n",
    "    <li>Vaso de precipitado de 30 mL (2)</li>\n",
    "    <li>Vaso de precipitado de 500 mL</li>\n",
    "    <li>Pipeta graduada de 1mL.</li>\n",
    "    <li>Celdas de Cuarzo y Plástico</li>\n",
    "</ul>\n",
    "\n",
    "### Reactivos  \n",
    "<ul>\n",
    "  <li>Colorantes</li>\n",
    "  <li>Fármacos: Diclofenaco, naproxeno y Paracetamol.</li>\n",
    "  <li>Agua destilada</li>\n",
    "  <li>Metanol grado HPLC<a href=\"#t3\"><sup>[tox]</sup></a></li>\n",
    "</ul>\n",
    "\n"
   ]
  },
  {
   "cell_type": "markdown",
   "metadata": {},
   "source": [
    "### Metodología \n",
    "<h4><center> Fármacos</center></h4>\n",
    "<img src=\"https://bl3301files.storage.live.com/y4miLKvBhgtep7nkQepV65kKC6ekehtOCD98ZosUSDJThahKZOJNyCv3WNDiCM0yeK-FB0jssUjEKs3t62hMUk7KA9dfm6BiBCs3Pbgl1v1NQWY4bpMOhqqj11nDY0qY4oe3PKzHwVkDY0DN1PF1yEBnzDEGYnuhfNyPgFSHt0-iBRoq0vNgYGlZaELmZMaigC6?width=3075&height=1388&cropmode=none\" width=\"450\" height=\"200\" />\n",
    "<h4><center>Colorantes</center></h4>\n",
    "<img src=\"https://bl3301files.storage.live.com/y4mTz2REjyt0wDq4a4UdAWm5fgnp7HvYRmlqp66NYfKBDv_1R3eTQU12KhOK34EINEOrA-_OeZAnC6V6a3mgp6IvurtFcMWmKOqrwJwNUEOYDs4tDTaRyO-IgGD2IGHfGAlqN9ToMo1kL8axs_bQ7yDoYnzpIxZMt_sJ_jOW6_ltNNbEuQ91NmnZCn8JVlA2UBn?width=2162&height=1088&cropmode=none\" width=\"450\" height=\"200\" />"
   ]
  },
  {
   "cell_type": "markdown",
   "metadata": {},
   "source": [
    "### Introducción  "
   ]
  },
  {
   "cell_type": "markdown",
   "metadata": {},
   "source": [
    "<p style=\"text-align: justify;\"> Un espectrómetro óptico es un instrumento que posee un sistema óptico que puede producir la dispersión de la radiación electromagnética incidente, y con el cual se pueden realizar mediciones de la cantidad de radiación transmitida en longitudes de onda elegidas. Un fotómetro es un dispositivo para medir la intensidad de la radiación transmitida (o una función de esta cantidad). Cuando se combinan en el espectrofotómetro, el espectrómetro y el fotómetro se emplean conjuntamente para producir una señal correspondiente a la diferencia entre el radiación transmitida de un material de referencia y la de una muestra problema a longitudes de onda seleccionadas. La ventaja principal de los métodos colorimétricos y espectrofotométricos es que proporcionan un medio sencillo para determinar cantidades diminutas de sustancias.</p>\n",
    "\n",
    "<p style=\"text-align: justify;\">Cuando la luz (ya sea hetero o monocromática) cae sobre un medio homogéneo, una porción de esa luz incidente es reflejada por el recipiente de vidrio, un poco puede ser dispersada por partículas grandes, otra porción es absorbida por el medio, ocasionalmente se absorbe por las paredes del recipiente, y lo que resta es transmitida, como se ve en la figura (I). </p>\n",
    "\n",
    "<p style=\"text-align: center;\"><cite>Ilustración 1 Pérdidas por reflexión y dispersión con una solución que está en un recipiente típico de vidrio</cite></p>\n",
    "\n",
    "<p style=\"text-align: justify;\"> Para poder despreciar todos estos efectos y solo tomar en cuenta la absorción de la muestra problema, generalmente se compara la potencia del haz transmitido con una celda control, la cual es idéntica a la solución que contiene la muestra problema, pero sin ésta. \n",
    "Lambert generalmente recibe el crédito por haber evaluado el cambio en absorción lumínica en función del grosor del medio a través del cual viaja, aunque realmente extendió sobre conceptos originalmente desarrollados por Bouguer. Sus experimentos encontraron que cuando la luz monocromática pasa a través de un medio transparente, la tasa de disminución en intensidad con el grosor del medio es proporcional al a intensidad de la luz. </p>\n",
    "\n",
    "<p style=\"text-align: justify;\">Luego, Beer aplicó experimentos similares a soluciones de concentraciones diferentes. Él encontró que la relación entre la transmisión y la concentración era la misma que Lambert había encontrado entre transmisión y grosor. Las dos leyes separadas que encontraron, las cuales gobiernan el fenómeno de absorción, se denominan Ley de Lambert & Ley de Beer; en su forma combinada, es conocida como la ley de Lambert-Beer:</p>\n",
    "\n",
    "$$\n",
    "log \\frac{I_o}{I_t} = acl\n",
    "$$\n",
    "\n",
    "<p style=\"text-align: justify;\">Esta es la ecuación fundamental de la colorimetría y espectrofotometría, donde el valor de a dependerá en el método de expresión de concentración. Si c se expresa como molaridad y  l como centímetros, a recibe el símbolo ε y se denomina coeficiente de absorción molar o absortividad molar (antes era conocido como el coeficiente de extinción molar). \n",
    "Las escalas de los espectrofotómetros generalmente se calibran para leer directamente en absorbancias, y muchas veces en porcentaje de transmitancia, aprovechando la relación entre estas dos unidades y el coeficiente molar de absorción, según:\n",
    "</p>\n",
    "<p></p>\n",
    " $$\n",
    " A = εcl = log \\frac{I_o}{I_t} = log \\frac{1}{T} =-log(T)\n",
    " $$\n",
    "<p style=\"text-align: justify;\"> La ley de Beer generalmente se cumplirá a concentraciones menores a 0.01M, aunque puede cumplirse a rangos más grandes si la estructura del ion colorido o no-electrolito disuelto no cambia con la concentración. Aunque cantidades pequeñas de electrolitos no suelen afectar la absorción de la solución, grandes cantidades pueden desplazar el máximo de absorción, y puede cambiar el valor del coeficiente de extinción. También se deja de cumplir esta ley cuando el soluto colorado se ioniza, disocia, o asocia en solución, además de cuando forma complejos en solución. Por último, el comportamiento se aleja del de esta ley cuando no se utiliza luz monocromática. Siempre es posible evaluar el comportamiento de las condiciones de soluto graficando I0/It, o log1/T vs la concentración: una línea recta que pasa por el origen indica conformidad a la ley de Beer.</p>"
   ]
  },
  {
   "cell_type": "code",
   "execution_count": 11,
   "metadata": {
    "scrolled": true
   },
   "outputs": [],
   "source": [
    "#calculos\n",
    "import pandas as pd\n",
    "import matplotlib.pyplot as plt\n",
    "\n",
    "azul1_spectrum = pd.DataFrame(\n",
    "    {\n",
    "        'λ (nm)':[400,405,410,415,420,425,430,435,440,445,450,455,460,465,470,475,\n",
    "                  480,485,490,495,500,505,510,515,520,525,530,535,540,545,550,555,\n",
    "                  560,565,570,575,580,585,590,595,600,605,610,615,620,625,630,635,\n",
    "                  640,645,650,655,660,665,670,675,680,685,690,695,700],\n",
    "        'A':[1.391,1.636,1.697,1.454,1.06,0.68,0.404,0.224,0.124,0.076,0.056,0.049,\n",
    "             0.05,0.054,0.061,0.071,0.084,0.101,0.121,0.147,0.18,0.221,0.272,0.333,\n",
    "             0.41,0.51,0.624,0.763,0.939,1.127,1.372,1.674,2.055,2.506,2.987,3.37,\n",
    "             3.557,3.654,3.675,3.835,3.809,3.799,3.598,3.863,3.956,3.986,4.082,4.154,\n",
    "             4.186,4.317,4.337,3.88,3.244,2.17,1.402,0.902,0.569,0.361,0.227,0.144,0.092]\n",
    "    }\n",
    ")\n",
    "\n",
    "amarillo5_spectrum = pd.DataFrame(\n",
    "    {\n",
    "        'λ (nm)':[400,405,410,415,420,425,430,435,440,445,450,455,460,465,470,475,\n",
    "                  480,485,490,495,500,505,510,515,520,525,530,535,540,545,550,555,\n",
    "                  560,565,570,575,580,585,590,595,600,605,610,615,620,625,630,635,\n",
    "                  640,645,650,655,660,665,670,675,680,685,690,695,700],\n",
    "        'A':[2.349,2.419,2.481,2.536,2.592,2.665,2.78,2.965,3.24,3.525,3.554,3.796,\n",
    "             4.031,4.179,4.2,4.293,4.216,4.353,4.204,4.039,4.346,4.157,4.106,3.788,\n",
    "             3.136,2.199,1.409,0.834,0.479,0.402,0.307,0.248,0.212,0.189,0.173,0.162,\n",
    "             0.152,0.145,0.138,0.134,0.012,0.012,0.012,0.013,0.012,0.013,0.012,0.013,\n",
    "             0.011,0.01,0.009,0.009,0.008,0.009,0.009,0.008,0.007,0.008,0.008,0.007,0.007]\n",
    "    }\n",
    ")\n",
    "\n",
    "rojo40_spectrum = pd.DataFrame(\n",
    "    {\n",
    "        'λ (nm)':[400,405,410,415,420,425,430,435,440,445,450,455,460,465,470,475,\n",
    "                  480,485,490,495,500,505,510,515,520,525,530,535,540,545,550,555,\n",
    "                  560,565,570,575,580,585,590,595,600,605,610,615,620,625,630,635,\n",
    "                  640,645,650,655,660,665,670,675,680,685,690,695,700],\n",
    "        'A':[1.662,1.53,1.411,1.332,1.324,1.395,1.542,1.76,2.032,2.356,2.79,3.769,\n",
    "             4.34,4.69,5.387,4.896,4.528,4.378,4.287,4.21,4.195,4.191,4.269,4.241,\n",
    "             4.179,4.253,4.068,3.956,3.728,3.283,3.167,2.976,2.568,2.19,1.785,1.56,\n",
    "             1.265,0.954,0.59,0.287,0.041,0.031,0.025,0.023,0.02,0.019,0.018,0.018,\n",
    "             0.017,0.017,0.017,0.016,0.016,0.016,0.015,0.015,0.015,0.014,0.014,0.014,0.013]\n",
    "    }\n",
    ")\n",
    "\n",
    "diclofenac_spectrum = pd.DataFrame(\n",
    "    {\n",
    "        'λ (nm)':[200,205,210,215,220,225,230,235,240,245,250,255,260,265,270,275,\n",
    "                  280,285,290,295,300,305,310,315,320,325,330,335,340,345,350,355,\n",
    "                  360,365,370,375,380,385,390,395,400],\n",
    "        'A':[0.0009,0.045,0.055,0.086,0.116,0.167,0.195,0.167,0.145,0.127,0.102,0.065,\n",
    "             0.071,0.058,0.103,0.089,0.104,0.282,1.219,1.909,2.025,1.375,0.781,0.419,\n",
    "             0.218,0.118,0.066,0.041,0.027,0.02,0.016,0.014,0.013,0.012,0.012,0.012,\n",
    "             0.012,0.012,0.013,0.013,0.012]\n",
    "    }\n",
    ")\n",
    "\n",
    "def plot_all_abs():\n",
    "    fig, axs = plt.subplots(2, 2)\n",
    "    axs[0][0].plot(azul1_spectrum['λ (nm)'], azul1_spectrum['A'], color = 'blue')\n",
    "    axs[0][0].set_xlabel('λ (nm)')\n",
    "    axs[0][0].set_ylabel('A')\n",
    "    axs[0][0].set_title('Espectro de Azul-1')\n",
    "    \n",
    "    axs[0][1].plot(amarillo5_spectrum['λ (nm)'], amarillo5_spectrum['A'], color = '#d6e34b')\n",
    "    axs[0][1].set_xlabel('λ (nm)')\n",
    "    axs[0][1].set_ylabel('A')\n",
    "    axs[0][1].set_title('Espectro de Amarillo-5')\n",
    "    \n",
    "    axs[1][0].plot(rojo40_spectrum['λ (nm)'], rojo40_spectrum['A'], color = 'red')\n",
    "    axs[1][0].set_xlabel('λ (nm)')\n",
    "    axs[1][0].set_ylabel('A')\n",
    "    axs[1][0].set_title('Espectro de Rojo-40')\n",
    "    \n",
    "    axs[1][1].plot(diclofenac_spectrum['λ (nm)'], diclofenac_spectrum['A'], color = 'black')\n",
    "    axs[1][1].set_xlabel('λ (nm)')\n",
    "    axs[1][1].set_ylabel('A')\n",
    "    axs[1][1].set_title('Espectro de Diclofenac')\n",
    "    plt.tight_layout()\n",
    "    \n",
    "datos = pd.DataFrame(\n",
    "    {\n",
    "        'Compuesto':['Azul-1','Amarillo-5','Rojo-40','Diclofenac'],\n",
    "        'λ max (nm)':[azul1_spectrum['λ (nm)'][azul1_spectrum['A'].idxmax()],\n",
    "                    amarillo5_spectrum['λ (nm)'][amarillo5_spectrum['A'].idxmax()],\n",
    "                    rojo40_spectrum['λ (nm)'][rojo40_spectrum['A'].idxmax()],\n",
    "                    diclofenac_spectrum['λ (nm)'][diclofenac_spectrum['A'].idxmax()]],\n",
    "        'A max':[azul1_spectrum['A'].max(), amarillo5_spectrum['A'].max(), rojo40_spectrum['A'].max(),\n",
    "                 diclofenac_spectrum['A'].max()],\n",
    "        'Concentración (g/L)':[1,1,1,100]\n",
    "    }\n",
    ")\n",
    "\n",
    "az1ε = azul1_spectrum['A'].max() / datos['Concentración (g/L)'][0]\n",
    "am5ε = amarillo5_spectrum['A'].max() / datos['Concentración (g/L)'][1]\n",
    "r40ε = rojo40_spectrum['A'].max() / datos['Concentración (g/L)'][2]\n",
    "diclε = diclofenac_spectrum['A'].max() / datos['Concentración (g/L)'][3]\n",
    "\n",
    "datos['ε (L/gcm)'] = [az1ε, am5ε, r40ε, diclε]\n"
   ]
  },
  {
   "cell_type": "markdown",
   "metadata": {
    "variables": {
     "datos": "<div>\n<style scoped>\n    .dataframe tbody tr th:only-of-type {\n        vertical-align: middle;\n    }\n\n    .dataframe tbody tr th {\n        vertical-align: top;\n    }\n\n    .dataframe thead th {\n        text-align: right;\n    }\n</style>\n<table border=\"1\" class=\"dataframe\">\n  <thead>\n    <tr style=\"text-align: right;\">\n      <th></th>\n      <th>Compuesto</th>\n      <th>λ max (nm)</th>\n      <th>A max</th>\n      <th>Concentración (g/L)</th>\n      <th>ε (L/gcm)</th>\n    </tr>\n  </thead>\n  <tbody>\n    <tr>\n      <th>0</th>\n      <td>Azul-1</td>\n      <td>650</td>\n      <td>4.337</td>\n      <td>1</td>\n      <td>4.33700</td>\n    </tr>\n    <tr>\n      <th>1</th>\n      <td>Amarillo-5</td>\n      <td>485</td>\n      <td>4.353</td>\n      <td>1</td>\n      <td>4.35300</td>\n    </tr>\n    <tr>\n      <th>2</th>\n      <td>Rojo-40</td>\n      <td>470</td>\n      <td>5.387</td>\n      <td>1</td>\n      <td>5.38700</td>\n    </tr>\n    <tr>\n      <th>3</th>\n      <td>Diclofenac</td>\n      <td>300</td>\n      <td>2.025</td>\n      <td>100</td>\n      <td>0.02025</td>\n    </tr>\n  </tbody>\n</table>\n</div>"
    }
   },
   "source": [
    "### Resultados\n",
    "\n",
    "{{datos}}\n",
    "\n",
    "\n",
    "\n",
    "<img src=\"https://bl3301files.storage.live.com/y4m6zU3vOa-YDiUsjmCZCaLTj2vOownpR-k8Akkn5oydH6STDkGnYD-Ft6RAf7CwCFLqc5kv1Jz7lViA9dgTLswl2zKEKPqD2ul_o6qrqSbY2zaXwQ5slVvRnBRSYQGKUNTzuBf4heepP5xSQhfMLw0pA2sLSfxanZFVpu-K410wm8woDElDYJVzfRl-Kka4TlO?width=779&height=419&cropmode=none\" width=\"779\" height=\"419\" />\n",
    "\n",
    "|Compuesto|λ max|A max|Concentración g/L|ε L/gcm|\n",
    "|:------:|:--------:|:--------------:|:--------------:|:--------------:|\n",
    "|AMARILLO 6|480.34|0.572|0.084|5.72|\n",
    "|AZUL 1|628.26|1.77|0.1|17.7|\n",
    "|AMARILLO 6|480.34|0.678|0.1|6.78|\n",
    "|ROJO 40|504.34|0.325|0.1|3.25|\n",
    "\n",
    "### Discusión de resultados \n",
    "\n",
    "<p style=\"text-align: justify;\">Se pudo determinar los máximos de absorción a partir de los datos proporcionados en los colorantes encontrando la máxima absorción y se registró su longitud de onda y valor de absorbancia y a partir de la concentración conocida y el camino óptico se determinó el coeficiente de absortividad tanto para los colorantes como para el fármaco (Diclofenaco). Esta información es útil cuando deseamos caracterizar algún compuesto y hacer análisis posteriores con estos. </p>\n",
    "<p style=\"text-align: justify;\">Con la gráfica proporcionada del análisis del espectro de absorción de 4 colorantes se determinaron las longitudes de máxima absorción y a partir de la absorbancia y considerando la misma concentración que las muestras que se prepararon en la práctica de 0.1 g/L y un camino óptico de un 1cm, se determinaron los coeficientes de absortividad. para cada colorante</p>\n",
    "<p style=\"text-align: justify;\">Para los datos de la gráfica se contaban con dos bandas del amarillo 6 esto a que eran dos concentraciones, se consideró que la que tenía mayor absorbancia era la solución de concentración 0.1 g/L y se determinó la concentración  de la segunda  muestra de amarillo 6 que tenía una menor absorbancia, con la ley de Lambert Beer.</p>\n",
    "\n",
    "### Conclusiones\n",
    "\n",
    "<p style=\"text-align: justify;\">Con esta práctica pudimos aprender como construir un espectro de absorción UV-vis a partir de los datos obtenidos del espectrofotómetro y a partir de estos espectros podemos obtener los máximos de absorción y determinar los coeficientes de absortividad de los colorantes utilizados y del fármaco. .</p>\n",
    "<p style=\"text-align: justify;\">Este método puede ser utilizado para caracterizar cualquier compuestos orgánicos que presenten dobles enlaces en su estructura. Los datos obtenidos en esta práctica pueden ser utilizados posteriormente para la construcción de una curva de calibración para cuantificar un compuesto orgánico o compuestos con dobles enlaces en su estructura ya que es debido a estos que tienen la capacidad de absorber en la región ultravioleta del espectro electromagnético.</p>\n",
    "\n",
    "<a href= \"#indice\" ><img src=\"https://bl3301files.storage.live.com/y4m-c96T5uHYCy5gRYmjxh9GAKLct1CTOz-IAhMfv-5-yf3kkDICnUTqD7h8CtGTWc5N8tGnzP1JGiTIgCQYQQusiQE6qmZUnNXw16aj5CeS2H-V0DWechdQ-nXMOuPwzGCO_qrHuG3eUNU2_AjktluOM9bW8NXvKAoF1Ba3jqv3Z9EuuEHJfFrig7uhjuC8eMe?width=250&height=83&cropmode=none\" width=\"125\" height=\"41\" /></a>\n",
    "\n",
    "<a id=\"p_4\"></a>\n",
    "<h1><center> Práctica 4: Preparación de la curva de calibración para determinar paracetamol en tabletas por UV</center></h1>\n",
    "\n",
    "### Objetivos \n",
    "\n",
    "<p style=\"text-align: justify;\">Que el alumno aplique los conocimientos adquiridos acerca de la espectrofotometría ultravioleta en la elaboración de una curva de calibración con el fin de realizar un análisis cuantitativo de muestras problema.</p>\n",
    "\n",
    "### Hipótesis\n",
    "\n",
    "### Materiales\n",
    "\n",
    "- 8 matraces aforados de 10 mL.\n",
    "- 1 matraces aforados de 25 mL\n",
    "- 8 frasco color ámbar de 10 a 20 mL\n",
    "- 1 micropipeta de volumen variable de 10 a 100 µL.\n",
    "- 1 micropipeta de volumen fijo de 100 µL\n",
    "\n",
    "### Reactivos\n",
    "\n",
    "- Estándar de paracetamol\n",
    "- Metanol grado HPLC\n",
    "- Agua destilada\n",
    "- 4 pastillas de paracetamol\n",
    "\n",
    "### Introducción\n",
    "\n",
    "<p style=\"text-align: justify;\">En el análisis químico es muy común comparar alguna propiedad de un analito (o de una reacción con dicho analito) con estándares tales que la propiedad que se busca identificar concuerda de manera muy cercana con la del estándar. Esto que conocemos como estándar o patrón externo se caracteriza por ser preparado aparte de la muestra. En contraste, también existen estándares internos, los cuales, a diferencia de los anteriores, se añaden a la muestra. Estos se utilizan para calibrar instrumentos y/o procedimientos cuando el efecto de interferencia de la matriz del analito es negligible. En este caso se preparan una serie de disoluciones que contienen al analito en concentraciones conocidas.</p>\n",
    "<p style=\"text-align: justify;\">Independientemente del método que se adecúe mejor al análisis, en general los analitos con concentraciones iguales dan diferentes respuestas de detección. Para asegurar que la respuesta del instrumento es lineal (o linealizable) en el rango de concentraciones que buscamos analizar, es decir, para encontrar el rango lineal, la respuesta a cada analito debe ser medida con estándares. Una gráfica de la respuesta de detección (absorbancia, altura de pico, área de pico, etc.) en función de la concentración del analito (o alguna función linealizada que permita encontrar dicha concentración) se llama una curva de calibración.</p>\n",
    "<p style=\"text-align: justify;\">Estas curvas tan útiles se construyen ajustando la gráfica a una ecuación matemática aceptable, generalmente una ecuación de una recta dada por el método de los mínimos cuadrados. Una vez que se obtiene esta ecuación, se puede predecir la concentración del analito Cx vía interpolación (o en algunos casos extrapolación).</p>\n",
    "\n",
    "<img src=\"https://bl3301files.storage.live.com/y4mB-xxNLvH4wWuNQnrxE5QHDJtFRzhE0f_ac-FtBbyJ3W_nSaCK-0G3_rTT6gLY4EMOVpe1CC7uGE7OjmIZb49n7-v4EbR177ZIpoI0rqIPf-ovB_pvoMTPbiBOhYcKPjueyRqXc0M8obyBO6gxHvABXR1gOnPmyabfHne2ypig_UgGFOq5YCWvjQQ9ri3AOAk?width=424&height=582&cropmode=none\" width=\"212\" height=\"291\" />\n",
    "<p style=\"text-align: center;\"><cite>Figura 1. Curva de calibración para determinar isooctano en una muestra de hidrocarburo.<a href=\"#b8\"><sup>[8]</sup></a></cite></p>\n",
    "<p style=\"text-align: justify;\">Para justificar utilizar un patrón externo, se debe asumir que la respuesta para una misma concentración será igual en el analito y en el patrón. Esto es sumamente difícil (o a veces imposible) de afirmar, generalmente por el efecto matriz. Por esto, en una determinación no se suele utilizar la respuesta original dada por el instrumento, sino que se corrige con la medición de un blanco – una solución idealmente idéntica a la muestra. Aún con la corrección por el blanco, existen una gran cantidad de errores sistemáticos y aleatorios que influyen sobre la veracidad de la curva de calibración construida. Un patrón isoméricamente distinto al analito; un estado de oxidación diferente; acomplejación (o falta de); patrones que cambian post-preparación por descomposición, volatilización, o adsorción a las paredes del recipiente; sesgos en el modelo de calibración, y muchos más. Todo esto se debe tener en cuenta en la construcción de una curva de calibración, independientemente de la técnica a utilizar.</p>\n",
    "\n",
    "### Metodología \n",
    "<h3><center> Curva de calibración</center></h3>\n",
    "<img src=\"https://bl3301files.storage.live.com/y4myyu80uMLVRyvETiNr9fYPXFGOjPQlbSMFdT3n5Zm4x8IlUrxnFSApuqzJxAg-AnPnuyUS4QkH0xiEetUBswZMcnTi_p38ObGxEPx5JaVpGOxv1p-MoFTnkIGgczKEjAZCmzz9WNl3XfjZMowKfCqHipjEQRoivueBnZxg_YaUuc0Y7T2sNBYlmIvZ2v8EjTl?width=3075&height=1286&cropmode=none\" width=\"614\" height=\"256\" />\n",
    "<h3><center>Preparación de la muestra</center></h3>\n",
    "<img src=\"https://bl3301files.storage.live.com/y4meCzgMYXsEdTqWaagx7WRBFZhfWO8iv4JrXocFwDURj2wMYHltgmhBIbIEeRMsOjoTbYJfcQV4-6yMlTtINchRrgal0ygMt7ktkzdFIEHqcLh9KPhhRM4EkccaPbj58Hm5JuCW41GYD4Am93pmhDlJuloET8uFdwcQaKIkJpcRWybKGKa-NDAFLSccQC55j4_?width=3075&height=1283&cropmode=none\" width=\"614\" height=\"256\" />\n"
   ]
  },
  {
   "cell_type": "markdown",
   "metadata": {},
   "source": [
    "<a href= \"#indice\" ><img src=\"https://bl3301files.storage.live.com/y4m-c96T5uHYCy5gRYmjxh9GAKLct1CTOz-IAhMfv-5-yf3kkDICnUTqD7h8CtGTWc5N8tGnzP1JGiTIgCQYQQusiQE6qmZUnNXw16aj5CeS2H-V0DWechdQ-nXMOuPwzGCO_qrHuG3eUNU2_AjktluOM9bW8NXvKAoF1Ba3jqv3Z9EuuEHJfFrig7uhjuC8eMe?width=250&height=83&cropmode=none\" width=\"125\" height=\"41\" /></a>"
   ]
  },
  {
   "cell_type": "code",
   "execution_count": null,
   "metadata": {},
   "outputs": [],
   "source": []
  },
  {
   "cell_type": "markdown",
   "metadata": {},
   "source": [
    "# Toxicología <a id=\"tox\"></a>\n",
    "|Compuesto|Precuaciones|Primeros Auxilios|\n",
    "|:------:|:--------:|:--------------:|\n",
    "|<b>NaOH</b><img src=\"https://bl3301files.storage.live.com/y4mO4tNXJmfL9-v7OS5W4dmucocg142fh3u-ZgYDOTuHQNjD3XFlOpYqQYFaVsuMpNRXCdLKfdBxvVxD5rGRRIrwcPyyc66cQXkn1uNYKSbTycsz_6shZS0yuFu-nwBWdCkmX6lMfgxx3rOd-lqduwtpwsvFefT-eqDAUYVFHgyL0EhNKMMAJLi2qyY97yI1FZp?width=281&height=364&cropmode=none\" width=\"80\" height=\"100\" />|Puede ser corrosivo a metales. Causa quemaduras severas a la piel y daño serio a los ojos.<a name=\"t1\"></a></li>|<p><b>Inhalación:</b> Buscar aire fresco, consultar ayuda médica de ser necesario.</p><p> <b>Contacto dérmico: </b>Lavar con agua y jabón por 15 minutos. Quitar ropa y zapatos contaminados inmediatamente.<p><b> Contacto ocular:</b> Lavar con agua abundante manteniendo los p·rpados abiertos.</p> <p><b> Ingestión: </b> Enjuagar la boca con agua. No inducir al vómito. </p> |\n",
    "|<b>Ftalato ácido de potasio</b><img src=\"https://bl3301files.storage.live.com/y4mVQwflRFzMwKMSwGcLeLQvUYjHdgg89WOPSfALX-TCUp016Y4Awt-k_-H-dCzeN8fOH2uNGQi7Z_S0cajUIG3lChycGAeoHg0jqgov2cP4qh5oZez8tDAzmRwg4Vz5vqEL5WLc0aaFdMqFG3VbQVqeF58nQ8CCA7w9xYYBgYHNKi_0MdM9nAWTfxU7qGJ5FkN?width=281&height=364&cropmode=none\" width=\"80\" height=\"100\" />| Sustancia clasificada como NO PELIGROSA.  <a name=\"t2\"></a></li>|<p><b>Inhalación:</b> Buscar aire fresco, consultar ayuda médica de ser necesario.</p><p> <b>Contacto dérmico:</b>Lavar abundantemente con agua<p><b> Contacto ocular</b>Lavar con agua abundante manteniendo los párpados abiertos.</p> <p><b> Ingestión: </b> Beber agua abundante. Provocar el vómito. Pedir atención médica </p>|\n",
    "\n",
    "\n",
    " \n",
    "<!-- |<p><b>NaOH</b></p>|   dfdfdf|<p><b>Inhalación:</b></p><p> <b>Contacto dérmico:</b><p><b> Contacto ocular</b>: Enjuagar</p> <p><b> Ingestión: </b> </p>| -->\n",
    "\n"
   ]
  },
  {
   "cell_type": "markdown",
   "metadata": {},
   "source": [
    "## Referencias\n",
    "<ol>\n",
    "    <li>Mendham,   J.   and   Vogel,   A.,   1989.Vogel's textbook  of  quantitative  chemical  analysis.  5th ed. John Wiley: Longman Scientific & Technical, pp.72-78.<a name=\"b1\"></a></li>\n",
    "    <li>Norma Oficial  Mexicana:NOM-001-SAG/GAN-2015, Sistema Nacional de Identificación Animal para Bovinos y Colmenas, de 29/05/2015.</li><a name=\"b2\"></a>\n",
    "    <li>2012. Vocabulario Internacional de Metrología. 3rd  ed.  Madrid:  Centro  Español  de Metrología, pp.57-58.<a name=\"b3\"></a></li>\n",
    "    <li>Norma Oficial  Mexicana:NOM-038-SCFI-2000, Pesas de clases exactitud E1, E2, F1, F2, M1, M2 Y M3 <a name=\"b4\"></a></li>\n",
    "    <li>C. Harris, D., 2007. Quantitative chemical analysis. 8th ed. New York, NY: W.H. Freeman and Co., pp.80-100.<a name=\"b5\"></a></li>\n",
    "    <li>Skoog, D., Holler, F. and Crouch, S., 2018. Principles of instrumental analysis. 7th ed. Australia: CENGAGE Learning, pp.60-90.<a name=\"b6\"></a></li>\n",
    "    <li>The International Pharmacopoeia. 2019. Acetylsalicylic acid (Acidum acetylsalicylicum). [online] Available at: <https://apps.who.int/phint/pdf/b/6.1.5.Acetylsalicylic-acid-(Acidum-acetylsalicylicum).pdf> [Accessed 15 February 2021].<a name=\"b7\"></a></li>\n",
    "   \n",
    "    \n",
    "</ol>"
   ]
  },
  {
   "cell_type": "code",
   "execution_count": null,
   "metadata": {},
   "outputs": [],
   "source": []
  },
  {
   "cell_type": "code",
   "execution_count": null,
   "metadata": {
    "scrolled": true
   },
   "outputs": [],
   "source": []
  },
  {
   "cell_type": "markdown",
   "metadata": {},
   "source": []
  },
  {
   "cell_type": "code",
   "execution_count": null,
   "metadata": {},
   "outputs": [],
   "source": []
  },
  {
   "cell_type": "code",
   "execution_count": null,
   "metadata": {},
   "outputs": [],
   "source": []
  }
 ],
 "metadata": {
  "hide_input": true,
  "kernelspec": {
   "display_name": "Python 3",
   "language": "python",
   "name": "python3"
  },
  "language_info": {
   "codemirror_mode": {
    "name": "ipython",
    "version": 3
   },
   "file_extension": ".py",
   "mimetype": "text/x-python",
   "name": "python",
   "nbconvert_exporter": "python",
   "pygments_lexer": "ipython3",
   "version": "3.9.1"
  }
 },
 "nbformat": 4,
 "nbformat_minor": 4
}
