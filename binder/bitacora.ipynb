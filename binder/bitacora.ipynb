{
 "cells": [
  {
   "cell_type": "markdown",
   "metadata": {},
   "source": [
    "<a id=\"indice\"></a>\n",
    "# Índice\n",
    "\n",
    "- [Rombo de seguridad](#rombo)\n",
    "- [Código de colores](#codigo_colores)\n",
    "- [Práctica 1: Verificación y Manejo de una Balanza Analítica](#p_1)\n",
    "- [Práctica 2: Determinación de aspirina en tabletas comerciales por Potenciometría](#p_2)\n",
    "- [Práctica 3: Práctica 3:Uso y aplicaciones de la espectrofotometría de ultravioleta visible en fármacos y en colorantes organometálicos](#p_3)\n",
    "- [Práctica 4: Preparación de la curva de calibración para determinar paracetamol en tabletas por UV](#p_4)\n",
    "- [Práctica 5: Determinación de hierro en un suplemento alimenticio por Absorción atómica](#p_5)\n",
    "- [Práctica 6: Determinación de plomo en un objeto de alfareria](#p_6)\n",
    "- [Práctica 7: Determinación de grupos funcionales de fármacos por espectrofotometría de luz infrarroja](#p_7)\n",
    "- [Toxicología](#tox)"
   ]
  },
  {
   "cell_type": "markdown",
   "metadata": {},
   "source": [
    "# Rombo de seguridad<a id=\"rombo\"></a>\n",
    "<img src=\"https://bl3301files.storage.live.com/y4mT07__XksCcGCRRTb0PFha_KeHdSQfDp9Pzcs5ty6oToxffxlxgxP7NZjf7mPOohjNfwB0ZVwdhiUXJneoaHwUpmWTLN6gosfH53d8CRLH-k3zvOqO1iEVFgDsUxmla3xDhFP4ZQj5F8b1jPqCAAeNKHiwE_KJM60ZI1HG7uQMXzRWUr_ztMmVzZrDRjhne-a?width=1000&height=1000&cropmode=none\" width=\"300\" height=\"300\" />\n"
   ]
  },
  {
   "cell_type": "markdown",
   "metadata": {},
   "source": [
    "# Disposición de residuos\n",
    "<a id=\"codigo_colores\"></a>\n",
    "\n",
    "\n",
    "|Código|Tipo de sustancia |Ejemplo|\n",
    "|:------:|:--------:|:--------------:|\n",
    "|A|Disolventes orgánicos y soluciones de sustancias orgánicas que no contengan halógenos.|Acetonas|\n",
    "|B|Disolventes orgánicos y soluciones de sustancias orgánicas que contengan halógenos.|Cloroformo|\n",
    "|C|Residuos sólidos orgánicos.|Ácido Acetil salicílico|\n",
    "|D|Soluciones salinas inorgánicas.|Sulfato de cobre|\n",
    "|E|Residuos inorgánicos tóxicos, así como las sales y sus soluciones de metales pesados.|Sales de plomo, talio y selenio|\n",
    "|F|Compuestos combustibles tóxicos.|Benceno|\n",
    "|G|Mercurio y sales de mercurio.|Sulfato de mercurio|\n",
    "|H|Sales metálicas regenerables.|Cloruro de plata|\n",
    "|I|Sólidos inorgánicos.|Carbonato de bario|\n",
    "|K|Residuos de vidrios, plásticos, metal, columnas y cartuchos para HPLC, capa fina y columnas, papel filtro, papel indicador.|Recipientes vacíos o rotos, papel|"
   ]
  },
  {
   "cell_type": "markdown",
   "metadata": {},
   "source": [
    "<a id=\"p_1\"></a>\n",
    "<h1><center> Práctica 1: Verificación y Manejo de una Balanza Analítica</center><a id=\"p_1\"></a></h1>"
   ]
  },
  {
   "cell_type": "markdown",
   "metadata": {},
   "source": [
    "### Objetivos\n",
    "Recordar el manejo correcto de la balanza analítica y realizar el procedimiento para llevar a cabo su calibración para determinar el error de la balanza.\n",
    "<p></p>"
   ]
  },
  {
   "cell_type": "markdown",
   "metadata": {},
   "source": [
    "### Hipótesis\n",
    "Se manejará la balanza de manera adecuada y se llevaráacabo su calibración pudiendo así determinar el error de esta.\n",
    "<p></p>"
   ]
  },
  {
   "cell_type": "markdown",
   "metadata": {},
   "source": [
    "### Introducción\n",
    "<p style=\"text-align: justify;\">Uno     de     los     procedimientos     utilizados     más comúnmenteen  el  laboratorio  es  la  medición  de masa.  Tal  es  suimportancia  que  existen  análisis químicos  basadosúnicamente  en  la  determinación precisa   de   la   masa   de   unamuestra,   o   en   la preparación  meticulosa  de  una  solución estándar. Por esto, la balanza ha sido y continuará siendouno de     los     instrumentos     más     importantes     del laboratorio</p>\n",
    "\n",
    "\n",
    "<p style=\"text-align: justify;\">A lo largo de los años, las balanzas se han vuelto más refinadas,  más  exactas,  y  como  consecuencia, más sensibles  a  influencia  externa  (como  humedad  o vibraciones). Sin embargo, se deben seguir una serie de    lineamientos    cuando    se    trata    con    ellas, independientemente  de  que  tipo  de  balanza  se trate<a href=\"#b1\"><sup>[1]</sup></a></p>\n",
    "\n",
    "#### Lineamientos para manejo de la balanza <a href=\"#b1\"><sup>[1]</sup></a>\n",
    "\n",
    "\n",
    "* Nunca exceder la carga máxima de la balanza.\n",
    "* Mantener  la  balanza  limpia.  Pre  y  post  uso  se debe  limpiar  tanto  polvo  como  residuos  del platillo y sus alrededores. \n",
    "* El  material  a  utilizar  nunca  debe  ser  manejado con  las  manos;  siempre  utilizar  pinzas  o  papel limpio.\n",
    "* Objetos   pesados   deben   estar   a   la   misma temperatura que la balanza.\n",
    "* La  balanza  debe  encontrarse  en  un  espacio cerrado,    con    factores    como    humedad    y temperatura adecuadamente controlados.\n",
    "* Ningún químico u objeto que pueda causar daño a  la  balanza  debe  ser  pesado  directamente sobre  ella.  Existenrecipientes  adecuados  para todo tipo de sustancias.\n",
    "* No  se  debe  recargar  sobre  la  mesa  donde  se encuentre  la  balanza,  ni  colocar  objetos  sobre ella. \n",
    "* Mientras  se  pesa  los  compartimientos  de  la balanza deben permanecer cerrados.\n",
    "\n",
    "\n",
    "\n",
    "#### Errores comunes en mediciones con la balanza<a href=\"#b1\"><sup>[1]</sup></a>\n",
    "\n",
    "* <p style=\"text-align: justify;\"><b>Cambio    de    condición    del    recipiente    y/o sustancia   entre   mediciones   sucesivas.</b>   Estos pueden absorber o perder humedad, electrificarse    por    fricción,    o    cambiar    su temperatura entre mediciones. La manera más fácil  de  evitar  estos  problemas  es  dejando  la muestra   reposar   unos   ~30min   cerca   de   la balanza para homogeneizar.</p>\n",
    "* <p style=\"text-align: justify;\"><b>Cuando una sustancia está inmersa en un fluido (como  el  aire),  su  peso  real  es  alterado  por  el peso  del  fluido  que  desplaza.</b>Este  error  se observa cuando la densidad de la muestra y de las   pesas   de   la   balanza   tienen   densidades distintas  (esto  se  cumple  casi  siempre).  Si  la sustancia tiene una densidad menor a las pesas, el peso medido será menor al real (y viceversa). Sin     embargo,     solo     es     necesario     hacer correcciones para estos errores en procedimientos como la calibración de material volumétrico; en el día a día no es necesario.</p>\n",
    "\n",
    "<p style=\"text-align: justify;\">Hay  una  gran  variedad  de  factores  que  afectan  el desempeño de las balanzas tales como temperatura ambiental,   humedad,  presión   barométrica,   etc. Debido  a  estos  factores  no  se  pueden  entregar certificaciones de calibración con la compra de estas balanzas  analíticas,  y  la  garantía  de  mediciones precisa  se  obtiene  solamente  tras  una  calibración local  (y  recurrente).  Existen  tanto  la  calibración externa (proceso manual que requiere utilizar masas aprobadas  como  estándares)  e  interna  (donde  el instrumento  se  calibra  solo,  usualmente  con  solo presionar un botón).</p>  \n",
    "<p></p>"
   ]
  },
  {
   "cell_type": "markdown",
   "metadata": {},
   "source": [
    "### Lista de reactivos materiales \n",
    "* Balanza analítica \n",
    "* Pesas patrón\n",
    "* Guantes\n",
    "* Pinzas de disección\n",
    "* Brocha\n",
    "<p></p>"
   ]
  },
  {
   "cell_type": "markdown",
   "metadata": {},
   "source": [
    "### Metodología \n",
    "\n",
    "<img src=\"https://bl3301files.storage.live.com/y4mRJCxrDW2bkdNlGN72BlaUuGmj32O3m53clExNvcueNCEQ3cnjShS-TB_ggKvZrfpw97eYoFL50Xhl9at9PBedCoDz_1ZY_LaiLPsWq_8a1iyTvShVMTgZKiGz_sIvhdlNIOwpVe5RU7netMxqa1InEMNzy8GSrQsnbaUxQHjT-0zApolYNcsVELNpP7nV9y8?width=2775&height=872&cropmode=none\" width=\"2775\" height=\"872\" />\n",
    "\n",
    "\n",
    "<p></p>"
   ]
  },
  {
   "cell_type": "markdown",
   "metadata": {},
   "source": [
    "### Actividades de investigación <a href=\"#b2\"><sup>[2]</sup></a><a href=\"#b3\"><sup>[3]</sup></a>\n",
    "\n",
    "<p style=\"text-align: justify;\"><b>Material de referencia:</b> Material homogéneo y estable de acuerdo consus propiedades especificada que lo establecen como apto para su uso en una medición o en un análisis cualitativo.</p>\n",
    "\n",
    "<p style=\"text-align: justify;\"><b>Material   de   referencia: </b>Certificado: Material   de referencia  que  tiene  un  documento emitido  por alguna organización autorizada, donde proporciona diferentes   valores de las   propiedades con   surespectiva     incertidumbre     y  trazabilidad,     los requisitos del certificado se encuentran en la normaNMX-CH-161-IMNC.</p>\n",
    "\n",
    "<p style=\"text-align: justify;\"><b>Patrón de medición:</b> Los  estándares  son  materiales  que  contienen  una concentración   precisamente   conocida   de   alguna sustancia  a  utilizar  en  análisis  cuantitativo.  Estos permiten  una  referencia  que  puede  ser  utilizada para  determinar  concentraciones  desconocidas  o para calibrar instrumentos. </p>\n",
    "\n",
    "<p style=\"text-align: justify;\"><b>Trazabilidad: </b>según     NOM-001-SAG/GAN-2015:“Serie   de   actividades   técnicas   y   administrativas sistematizadas  que  permiten  registrar  los  procesos relacionados  con  el  nacimiento,  crianza,  engorda, reproducción,  sacrificio   y   procesamiento   de   un animal, los bienes de origen animal, así como de los productos   químicos,   farmacéuticos,   biológicos   y alimenticios  para  uso  en  animales  o  consumo  por éstos, hasta su consumo final, identificando en cada etapa su ubicación espacial y en su caso, los factores de   riesgo   zoosanitario   y   de   contaminación   que pueden   estar   presentes   en   cada   una   de   las actividades\".</p>\n",
    "<p style=\"text-align: justify;\"> <b>Desviación estándar: </b>Es una medición de que tan cercanamente los datos están  agrupados  alrededor  de  la  media.  Entre  más pequeña sea esta desviación, más agrupados están los datos cerca de la media. La    ecuación    predeterminada    para    calcular    la desviación estándar en Excel es: <b>“=STDEV(VALORES)”</b></p>\n",
    "<p style=\"text-align: justify;\"> <b>Desviación estándar relativa: </b>Es una medición de que tan cercanamente los datos están  agrupados  alrededor  de  la  media.  Entre  más pequeña sea esta desviación, más agrupados están los datos cerca de la media. La    ecuación    predeterminada    para    calcular    la desviación estándar en Excel es: <b>“=STDEV(VALORES)”</b></p>\n",
    "\n",
    "<p></p>"
   ]
  },
  {
   "cell_type": "code",
   "execution_count": 61,
   "metadata": {},
   "outputs": [],
   "source": [
    "import pandas as pd\n",
    "import numpy as np\n",
    "\n",
    "#cálculos de las balanzas 1 y 4\n",
    "\n",
    "balance1 = pd.DataFrame(\n",
    "    {\n",
    "        'Pesa':[1,2,5,10,20,50,100],\n",
    "        'Repeticion 1':[1.0011,2.0038,5.0049,10.0005,20.0087,49.9987,100.0094],\n",
    "        'Repeticion 2':[1.0011,2.0038,5.0048,10.0001,20.0081,49.9984,100.0099],\n",
    "        'Repeticion 3':[1.0008,2.0033,5.0044,9.9994,20.0084,49.9986,100.0093]\n",
    "    }\n",
    ")\n",
    "balance1['Promedio'] = balance1[['Repeticion 1','Repeticion 2','Repeticion 3']].mean(axis=1).round(4)\n",
    "balance1['Desviación'] = balance1[['Repeticion 1','Repeticion 2','Repeticion 3']].std(axis=1).round(4)\n",
    "balance1['Error Absoluto'] = (balance1['Promedio'] - balance1['Pesa']).abs().round(4)\n",
    "balance1['Error Relativo (%)'] = (balance1['Error Absoluto'] / balance1['Pesa'] * 100).round(4)\n",
    "balance1.set_index('Pesa',inplace=True)\n",
    "\n",
    "balance4 = pd.DataFrame(\n",
    "    {\n",
    "        'Pesa':[1,2,5,10,20,50,100],\n",
    "        'Repeticion 1':[0.98340,1.96840,4.91680,9.82440,19.65680,49.12060,98.25420],\n",
    "        'Repeticion 2':[0.98340,1.96840,4.91690,9.82430,19.65680,49.12040,98.25410],\n",
    "        'Repeticion 3':[0.98340,1.96840,4.91690,9.82420,19.65690,49.12040,98.25400]\n",
    "    }\n",
    ")\n",
    "balance4['Promedio'] = balance4[['Repeticion 1','Repeticion 2','Repeticion 3']].mean(axis=1).round(4)\n",
    "balance4['Desviación'] = balance4[['Repeticion 1','Repeticion 2','Repeticion 3']].std(axis=1).round(4)\n",
    "balance4['Error Absoluto'] = (balance4['Promedio'] - balance4['Pesa']).abs().round(4)\n",
    "balance4['Error Relativo (%)'] = (balance4['Error Absoluto'] / balance4['Pesa'] * 100).round(4)\n",
    "balance4.set_index('Pesa',inplace=True)\n",
    "\n",
    "\n"
   ]
  },
  {
   "cell_type": "code",
   "execution_count": 62,
   "metadata": {},
   "outputs": [],
   "source": [
    "#calculos de las balanzas del lab 5\n",
    "\n",
    "balances_l5 = pd.DataFrame(\n",
    "    {\n",
    "        'Estandar':[2.0000,5.0000,10.0000,20.0000,50.0000,100.0000],\n",
    "        '1':[2.0050,5.0043,9.9997,20.0080,49.9980,100.0100],\n",
    "        '2':[2.0035,5.0051,10.0000,20.0090,49.9980,100.0100],\n",
    "        '3':[2.0037,5.0046,9.9996,20.0080,49.9970,100.0100,],\n",
    "        '4':[1.9702,4.9171,9.8247,19.6580,49.1220,98.2570],\n",
    "        '5':[2.0051,5.0045,9.9997,20.0080,49.9980,100.0100],\n",
    "        '6':[2.0039,5.0046,9.9998,20.0080,49.9970,100.0100],\n",
    "        '7':[2.0059,5.0045,9.9993,20.0070,49.9950,100.0000],\n",
    "        '8':[2.0036,5.0047,9.9995,20.0080,49.9980,100.0100]\n",
    "    }\n",
    ")\n",
    "\n",
    "balances_l5_abserr = pd.DataFrame(\n",
    "    {\n",
    "        'Masa (g)':balances_l5['Estandar']\n",
    "    }\n",
    ")\n",
    "\n",
    "for e in range(0,8):\n",
    "    a = []\n",
    "    for i in range(1,7):\n",
    "        a.append(abs(balances_l5.iloc[i-1][e+1] - balances_l5.iloc[i-1][0]))\n",
    "    balances_l5_abserr[e+1] = a\n",
    "\n",
    "balances_l5_relerr = pd.DataFrame(\n",
    "    {\n",
    "        'Masa (g)':balances_l5['Estandar']\n",
    "    }\n",
    ")\n",
    "\n",
    "for e in range(1,9):\n",
    "    a = []\n",
    "    for i in range(1,7):\n",
    "        a.append(balances_l5_abserr.iloc[i-1][e] / balances_l5.iloc[i-1][0] * 100)\n",
    "    balances_l5_relerr[e] = a\n",
    "    \n",
    "balances_l5_abserr.set_index('Masa (g)',inplace=True)    \n",
    "balances_l5_relerr.set_index('Masa (g)',inplace=True)\n"
   ]
  },
  {
   "cell_type": "code",
   "execution_count": 63,
   "metadata": {},
   "outputs": [],
   "source": [
    "#calculos de monedas individuales\n",
    "\n",
    "coins_individual = pd.DataFrame(\n",
    "    {\n",
    "        'Moneda y año':['1 (1998)','2 (2005)','3 (2015)','4 (2016)','5 (2017)'],\n",
    "        'Pesada 1':[3.8323,3.8893,3.8921,3.9004,3.9193],\n",
    "        'Pesada 2':[3.8322,3.8404,3.8935,3.9013,3.9307],\n",
    "        'Pesada 3':[3.8331,3.8905,3.8931,3.9004,3.9301]\n",
    "    }\n",
    ")\n",
    "coins_individual['Promedio'] = coins_individual[['Pesada 1','Pesada 2', 'Pesada 3']].mean(axis=1).round(4)\n",
    "coins_individual['Desviacion'] = coins_individual[['Pesada 1','Pesada 2', 'Pesada 3']].std(axis=1).round(4)\n",
    "\n",
    "templist = []\n",
    "\n",
    "for i in range(0,5):\n",
    "    a = []\n",
    "    for e in range(1,4):\n",
    "        a.append(abs(coins_individual.iloc[i][e] - coins_individual['Promedio'][i]))\n",
    "    templist.append(np.sum(a)/3)\n",
    "    \n",
    "coins_individual['Error Absoluto'] = templist\n",
    "coins_individual['Error Absoluto'] = coins_individual['Error Absoluto'].round(4)\n",
    "coins_individual['Error Relativo (%)'] = (coins_individual['Error Absoluto'] / coins_individual['Promedio'] * 100).round(3)\n",
    "coins_individual.set_index('Moneda y año',inplace=True)  \n"
   ]
  },
  {
   "cell_type": "code",
   "execution_count": 64,
   "metadata": {},
   "outputs": [],
   "source": [
    "#calculos de monedas por diferencias\n",
    "\n",
    "coins_multiple = pd.DataFrame(\n",
    "    {\n",
    "        '# Moneda':[1,2,3,4,5],\n",
    "        'Peso por diferencia':[3.9333,3.7905,3.8934,3.9009,3.9304],\n",
    "        'Masa promedio (g)':coins_individual['Promedio']\n",
    "    }\n",
    ")\n",
    "\n",
    "coins_multiple['Error Absoluto'] = (coins_multiple['Masa promedio (g)'] - coins_multiple['Peso por diferencia']).abs().round(4)\n",
    "coins_multiple['Error Relativo (%)'] = (coins_multiple['Error Absoluto'] / coins_multiple['Masa promedio (g)'] * 100).round(3)\n",
    "coins_multiple.set_index('# Moneda',inplace=True)  "
   ]
  },
  {
   "cell_type": "markdown",
   "metadata": {},
   "source": [
    "### Resultados"
   ]
  },
  {
   "cell_type": "markdown",
   "metadata": {},
   "source": [
    "\n",
    "\n",
    "### Balanza 1\n",
    "\n",
    "{{balance1[['Promedio','Desviación','Error Absoluto','Error Relativo (%)']]}}\n",
    "\n",
    "### Balanza 4\n",
    "\n",
    "{{balance4[['Promedio','Desviación','Error Absoluto','Error Relativo (%)']]}}"
   ]
  },
  {
   "cell_type": "markdown",
   "metadata": {},
   "source": [
    "### Errores absolutos balanzas lab 5\n",
    "\n",
    "{{balances_l5_abserr}}\n",
    "\n",
    "### Errores relativos (%) balanzas lab 5\n",
    "\n",
    "{{balances_l5_relerr}}"
   ]
  },
  {
   "cell_type": "markdown",
   "metadata": {},
   "source": [
    "### Monedas pesadas individualmente\n",
    "\n",
    "{{coins_individual}}"
   ]
  },
  {
   "cell_type": "markdown",
   "metadata": {},
   "source": [
    "### Monedas pesadas en grupo\n",
    "\n",
    "{{coins_multiple}}\n"
   ]
  },
  {
   "cell_type": "markdown",
   "metadata": {},
   "source": [
    "### Análisis y discusión de resultados  \n",
    "#### Resultados de la balanzas 1 y 4\n",
    "Las primeras dos reacciones fueron calibradas utilizando masas patron de 1g, 2g, 5g, 10g, 20g, 50g y 100g en ambas balanxas se realizo el pesado por triplicado y posteriormente determino el promedio, desviación estandar y se obtuvo el error absoluto y el error relativo de acuerdo a las siguientes ecuaciones:\n",
    "<a id=\"ea\"></a>\n",
    "<p></p>\n",
    "$$Promedio$$\n",
    "<p></p>\n",
    "$$\n",
    "\\bar{X}=\\frac{X_{i}}{n}\n",
    "$$\n",
    "<p></p>\n",
    "$$Error\\;absoluto$$\n",
    "<p></p>\n",
    "$$\n",
    "ε_{a}=\\left |X_{real}-\\bar{X}\\right|\n",
    "$$\n",
    "<p></p>\n",
    "\n",
    "$$Error\\;relativo$$\n",
    "<p></p>\n",
    "$$\n",
    "ε_{r}=\\frac{ε_{a}}{X_{real}}\n",
    "$$\n",
    "<p></p>\n",
    "$$Desviación\\;Estandar$$\n",
    "<p></p>\n",
    "$$\n",
    "s = \\sqrt{\\frac{\\sum{(\\bar{X}-X_{i})}}{n-1}}\n",
    "$$\n",
    "<p></p>\n",
    "<p style=\"text-align: justify;\">En la práctica no se indica el tipo de pesas patron utilizadas para la calibración, suponiendo se utilizaron pesas patrón de tipo E1  de acuerdo a la norma NOM-038-SCFI-2000 <a href=\"#b4\"><sup>[4]</sup></a>  los errores absolutos se encuentran dentro de los rangos permitidos para la balanza número 1 y la desviación estadar es muy pequeña del orden $10^{-4}$ lo que significa que no hay variaziones significativas en la medición, en la balanza 4 se puede observar una variación mas notoria y los errores absolutos sobrepasan a los permitidos en la norma por lo que es necesario llevar acabo el proceso de calibración de la balanza, la desviación estandar en esta balanza fue igual del orden de $10^{-4}$ incluso en unos casos no hubo variación en la lectura pero esto únicamente indica la repetibilidad en las mediciones no si estas son correctas o no. En esta balanza el error absoluto incrementa conforme aumenta el peso de los patrones, teniendo el error mas grande con la pesa de 100g.</p>\n",
    "\n",
    "Tambien se analizaron los datos de las balanzas del laboratorio 5 de los cuales  unicamente se tenia el reporte de los diferentes pesos de cada uno de los patrones en cada una de las balanzas lo cual unicamente nos permitio obtener  el  error absoluto y el error relativo calculado con las mismas [ecuaciones](#ea) mencionadas anteriormente utilizando el valor reportado en cada lectura.\n",
    "<p style=\"text-align: justify;\">Estos datos no son de utilidad para llevar acabo la calibración de las balanzas, pero nos permiten evualuar las condiciones de las balanzas en el laboratorio 5, observando que la balanza que presenta un mayor error es la balanza número 4, ya que presentaba un  error relativo  mayor entre (1.48 - 1.75%) en comparación al que presentaban las demás balanzas que tenian un rango de errores relativos entre (0.004 - 0.25% ). Por lo que en este laboratorio seria necesario llevar acabo el proceso de calibración de la balanza.</p>\n",
    "\n",
    "\n",
    "\n",
    "\n"
   ]
  },
  {
   "cell_type": "markdown",
   "metadata": {},
   "source": [
    "<p style=\"text-align: justify;\" >En el último experimento para determinar el peso por diferencia de diferentes monedas, primeramente se determino el peso por triplicado de 5 mondeas de 5 pesos las cuales se determinó su, promedio, error absoluto, error relativo y desviación estandar. El promedio del peso de cada moneda se considero como el valor real, el cual fue utilizado para comparar con el peso determinado por diferencia. Las ecuaciones para determinar el error absoluto fue la siguiente:</p>\n",
    "\n",
    "$$\n",
    "ε_{a}=\\frac{\\sum_{i=1}^{3}|\\bar{X}-X_{i}|}{3}\n",
    "$$\n",
    "Para determinar el error relativo se utilizó la [ecuación](#ea) anteriormente mencionada unicamente sustituyendo el valor real por el valor el peso promedio de la moneda.\n",
    "\n",
    "<p style=\"text-align: justify;\" > Al determinar el peso por diferencia en las primeras dos medidas se observa un error mucho mas grande (2.14-2.62%) en comparación a cuando se determinó el peso por diferencia de las tres monedas donde se observó un error mucho menor (0.005-0.09%). </p>\n",
    "\n",
    "\n",
    "\n",
    "\n"
   ]
  },
  {
   "cell_type": "markdown",
   "metadata": {},
   "source": [
    "### Conclusiones\n",
    "\n",
    "<p style=\"text-align: justify;\">Como tal el objetivo de la práctica no pudo ser completado debido a que la práctica no fue realizada de manera presencial unicamente analizamos los datos de otras personas y realizamos el análisis de datos que obtuvieron con los primeros datos se pudieron obtener los errores de la balanza y desviación estandar que nos permiten verificar si se encuentran dentro de los límites permitidos, respecto al análisis de las balanzas de laboratorio 5 nos permiten unicamente ver las condiciones en las que se encuentran las balanzas.</p>\n",
    " <p></p>\n",
    " \n",
    " \n",
    "\n"
   ]
  },
  {
   "cell_type": "markdown",
   "metadata": {},
   "source": [
    "<a href= \"#indice\" ><img src=\"https://bl3301files.storage.live.com/y4m-c96T5uHYCy5gRYmjxh9GAKLct1CTOz-IAhMfv-5-yf3kkDICnUTqD7h8CtGTWc5N8tGnzP1JGiTIgCQYQQusiQE6qmZUnNXw16aj5CeS2H-V0DWechdQ-nXMOuPwzGCO_qrHuG3eUNU2_AjktluOM9bW8NXvKAoF1Ba3jqv3Z9EuuEHJfFrig7uhjuC8eMe?width=250&height=83&cropmode=none\" width=\"125\" height=\"41\" /></a>"
   ]
  },
  {
   "cell_type": "markdown",
   "metadata": {},
   "source": [
    "<a id=\"p_2\"></a>\n",
    "<h1><center> Práctica 2: Determinación de Aspirina en Tabletas Comerciales por Potenciometría</center><a id=\"p_2\"></a></h1>"
   ]
  },
  {
   "cell_type": "markdown",
   "metadata": {},
   "source": [
    "### Objetivos\n",
    "Determinar la concentración de aspirina en una muestra de tableta comercial por medio de titulación Potenciométrica.\n",
    "<p></p>"
   ]
  },
  {
   "cell_type": "markdown",
   "metadata": {},
   "source": [
    "### Hipótesis\n",
    "Se determinará que todas las tabletas contienen la cantidad de principio activo indicado por los proveedores, dentro de los rangos aceptables según las farmacopeas.\n",
    "<p></p>"
   ]
  },
  {
   "cell_type": "markdown",
   "metadata": {},
   "source": [
    "### Método\n",
    "En este experimento se usará la técnica de titulación Potenciométrica usando NaOH como agente titulante.\n",
    "<p></p>"
   ]
  },
  {
   "cell_type": "markdown",
   "metadata": {},
   "source": [
    "### Introducción\n",
    "<p style=\"text-align: justify;\">Los métodos electroquímicos tienen una amplia gama de aplicaciones, aún dentro de la química analítica. Donde otros métodos solo podrían determinar, por ejemplo, la cantidad total de cobre en solución, con métodos EQs se podría distinguir entre la cantidad de Cu(I) y Cu(II).<a href=\"#b5\"><sup>[5]</sup></a> Adicionalmente, cuando se comparan con métodos espectrofotométricos o cromatográficos, por ejemplo, resultan mucho más baratos. </p>\n",
    "<p style=\"text-align: justify;\"> Una celda electroquímica generalmente cuenta con dos conductores eléctricos sumergidos en soluciones de electrolitos, a los cuales denominamos electrodos. Para que circule una corriente en una celda es necesario 1) que los electrodos se conecten externamente mediante un conductor metálico, 2) que las dos soluciones de electrolito estén en contacto para permitir el movimiento de iones de una a otra y 3) que pueda tener lugar una reacción de transferencia de electrones en cada uno de los electrodos<a href=\"#b6\"><sup>[6]</sup></a>. </p>\n",
    "\n",
    "<img src=\"https://bl3301files.storage.live.com/y4m2yO2Mf6QFsP-a1HrNN630GygbXmatA9gWhxMY7j6cFHKH4b1yt_GIJXp3RtNQbMmhATXvLqdCq2P4NAyl4gdORY1YX3-iBdsHbRyqp00Wq2Y7hj7RoHkcY_50g6cJCtFk3SbAurVbe073Dv7o8LiAZoIl9rQlq5mBmhu4mSS4Uc-jMEQqJ5nLB_iHmqWi3Aw?width=790&height=539&cropmode=none\" width=\"400\" height=\"250\" />\n",
    "<p style=\"text-align: center;\"><cite> <b>Figura I: Celda electroquímica galvánica con un circuito abierto<a href=\"#b6\"><sup>[6]</sup></a></cite></p>\n",
    "\n",
    "<p style=\"text-align: justify;\"> El potencial de una celda electroquímica es la diferencia entre el potencial de uno de los electrodos y el potencial del otro. Por esto, es útil pensar en la reacción de una celda EQ como si estuviese formada por dos semirreacciones de semicelda, cada una de las cuales posee un potencial de electrodo característico. Sin embargo, es importante notar que no existe método alguno para determinar el valor absoluto del potencial de un electrodo; esta incapacidad no es necesariamente una desventaja ya que los potenciales relativos medidos respecto a un electrodo de referencia son igual de útiles. Estos potenciales relativos pueden ser utilizados para calcular tanto potenciales de celda reales como constantes de equilibrio en procesos redox.</p> \n",
    "\n",
    "<p style=\"text-align: justify;\">La respuesta de un buen electrodo indicador a cambios de actividad debe ser 1) rápida y 2) una reproducible. Aunque existen errores que son imposibles de eliminar por completo, como el asociado al potencial líquido-líquido, y aunque no existe indicador perfectamente selectivo, hemos desarrollado excelentes opciones. Estos se dividen en dos categorías: electrodos metálicos y de membrana. Aquí se mencionarán principalmente los de membrana, y entre ellos los de vidrio, ya que son los más ocupados en análisis ácido-base. </p> \n",
    "\n",
    "<p style=\"text-align: center;\"><b>Tabla I: Tipos de electrodos de membrana selectiva de iones </b><a href=\"#b6\"><sup>[6]</sup></a></p>\n",
    "<img src=\"https://bl3301files.storage.live.com/y4mOywAcDNDfjvnhNs2edgTIVOKmSQIEU2xZcxc8uzc9sti2A-PcHZ2ZX8_XF5rWhvRRrBs12XYs7sJ_7DBN7eL3h8UyNLkxqfabPPa_TZqn94RB4-eLjguXVAMq9MbDF9HucpAblzyi4B5Nb2DVm7lifCEP4btI65gQEC9tx1pH372CJtTiqxz7ERRBr3hwe1Q?width=573&height=434&cropmode=none\" width=\"350\" height=\"250\" />\n",
    "\n",
    "\n",
    "<p style=\"text-align: justify;\">El electrodo de vidrio es el más antiguo de los electrodos de membrana, y aún sigue siendo el más utilizado<a href=\"#b6\"><sup>[6]</sup></a>. Desde los años 30´s la manera más adecuada de analizar pH ha sido midiendo la diferencia de potencial a través de una membrana de vidrio que separa la solución de analito de una solución de referencia de acidez fija. En la figura (II) se observa una celda característica para medición de pH. La figura (II.b) ilustra la configuración más común para medir el pH mediante un electrodo de vidrio En ella, el electrodo de vidrio y su electrodo de referencia interno Ag-AgCl se encuentran en el centro de una sonda cilíndrica. Un electrodo de referencia externo (generalmente de tipo Ag-AgCl) rodea al electrodo de vidrio; la presencia del electrodo de referencia externo no es tan obvia como en el diseño más anticuado (II.a). La membrana de vidrio sensible al pH está unida a la base de la sonda, y actúa como puente salino.</p>\n",
    "<img src=\"https://bl3301files.storage.live.com/y4mAAP70rYYqZt9Co4iU97iDbIT_dLtQhorgkkR-5YNiOP-AVd4MCzwCRkufSLqCgS1Y3LxUDAIu5e29-laqfAr3QoPSx_ZzIqAWXlm3vMfqNAyejEpn_WxFDHkWNDiILqvSqSiubn02Am124inaT-ofPr9f302MH_wXDC9RthU-cQULZYlsPki4lNTZsKeHSY2?width=636&height=449&cropmode=none\" width=\"400\" height=\"200\" />\n",
    "\n",
    "<p style=\"text-align: center;\"><cite> <b>Figura II:</b> Sistema de electrodos típico para medir el pH. a) Electrodo de vidrio (indicador) y electrodo de calomel saturado (de referencia) sumergidos en una solución de pH desconocido. b) Sonda de combinación que está constituida por un electrodo indicador de vidrio y un electrodo de referencia de Ag-AgCl. Un segundo electrodo de Ag-AgCl funciona como la referencia interna del electrodo de vidrio <a href=\"#b6\"><sup>[6]</sup></a></cite></p>\n",
    "\n",
    "<p style=\"text-align: justify;\">En este caso, se llevará a cabo una reacción simple ácido-base entre el ácido acetilsalicílico y el hidróxido de sodio para formar acetilsalicilato de sodio, según la reacción:</p>\n",
    "<img src=\"https://bl3301files.storage.live.com/y4mdAPSnKsHQzX596DmEiW3w6PNyXSBP-SoSUdkxWyH-S8ijgSGdTH0ADQ5wAZHjCR41v4LaEG9FF4fo9Png8SVPfzL3Cphtus_OSyJHupTxjMxWYnvaB5EexH5sOFORNlzYj7PkilKWzoZ8aqyvEHcp7wQ1JbZynip9WEStsWdqZJpa_cMy9jXlO4m0t8a4Chn?width=547&height=193&cropmode=none\" width=\"400\" height=\"90\" />\n",
    "\n",
    "<p style=\"text-align: center;\"><cite> <b>Figura III: </b>Reacción de hidróxido de sodio y ácido acetil salicílico</cite></p>\n",
    "\n",
    "<p style=\"text-align: justify;\">Este compuesto, el cual pertenece a la familia de las drogas antiinflamatorias no-esteroideas (NSAIDS) y es utilizada comúnmente para tratar dolores, fiebre, e inflamaciones, forma una parte importante de la industria farmacéutica, y por lo tanto su determinación precisa y exacta es indispensable. Según <a href=\"#b7\"><sup>[7]</sup></a> el estándar de la industria es que la pureza debe estar entre (99.5-100.5)%, y este rango levanta la necesidad de buenas técnicas de determinación. Entre estas existen titulaciones simples ácido-base, retrotitulaciones, y técnicas espectrofotométricas, entre otras. En esta práctica se realizará una determinación por potenciometría.</p>"
   ]
  },
  {
   "cell_type": "markdown",
   "metadata": {},
   "source": [
    "### Reactivos\n",
    "* NaOH 0.1 M </b><a href=\"#t1\"><sup>[tox]</sup></a></p>\n",
    "* Ftalato ácido de potasio.</b><a href=\"#t2\"><sup>[tox]</sup></a></p>\n",
    "* Indicador Fenolftaleína.\n",
    "* Tabletas con aspirina\n",
    "\n",
    "### Equipo\n",
    "\n",
    "<ul>\n",
    "     <li>Potenciómetro</li>\n",
    "     <li>Un Matraz aforado de 250 mL </li>\n",
    "     <li>Un soporte universal </li>\n",
    "     <li>Una parrilla con agitación</li>\n",
    "     <li>Una pinza para bureta</li>\n",
    "     <li>Una bureta de 50 mL</li>\n",
    "     <li>Un agitador magnético (Tamaño arroz)</li>\n",
    "     <li>3 vasos de precipitados de 250 mL</li>\n",
    "     <li>3 vasos de precipitados de 50 mL</li>\n",
    "     <li>1 pipeta volumétrica de 10 mL</li>\t\n",
    "     <li>1 pipeta volumétrica de 25 mL</li>\n",
    "     <li>1 mortero</li>\t\t\t\t\n",
    "     <li>Una pizeta</li>\n",
    "     <li>Papel para limpiar los electrodos</li>\n",
    "     <li>Una perilla</li>\n",
    "     <li>Espátula</li>\n",
    "</ul>\n"
   ]
  },
  {
   "cell_type": "markdown",
   "metadata": {},
   "source": [
    "### Metodología \n",
    "<img src=\"https://bl3301files.storage.live.com/y4mjiWfhYc1pO9J1O6Zb483g-a8Iog7KoYLnPG3rZfIGQnhaEKpLeF66DuO9vTjf9GAV6cSxBhY8jXty2Y1dYVPTpwBvzQuZVPx_iVKXPpkOSj1Mado5vfMsWxWWClKtFbWEXon2Y2G_Hb6wzpKdo72sVlU3IJp4ENy9cBsblgjmmy8obHG8CvsGcyjZ4S4tngr?width=2625&height=1298&cropmode=none\" width=\"600\" height=\"300\" />"
   ]
  },
  {
   "cell_type": "code",
   "execution_count": 65,
   "metadata": {},
   "outputs": [],
   "source": [
    "KHP_MM = 204.22\n",
    "\n",
    "NAOH_TIT = pd.DataFrame(\n",
    "    {\n",
    "        'Ensayo':[1,2,3],\n",
    "        'Masa KHP (g)':[0.7064,0.7077,0.7026],\n",
    "        'Volumen Final (ml)':[0.0354,0.0346,0.0339]\n",
    "    }\n",
    ")\n",
    "NAOH_TIT['Concentración (M)'] = (NAOH_TIT['Masa KHP (g)'] / KHP_MM / NAOH_TIT['Volumen Final (ml)'])\n",
    "NAOH_TIT.set_index('Ensayo',inplace=True)\n",
    "\n",
    "M_AVG = NAOH_TIT[['Concentración (M)']].mean()\n",
    "\n"
   ]
  },
  {
   "cell_type": "code",
   "execution_count": 66,
   "metadata": {},
   "outputs": [],
   "source": [
    "NAOH_ERR_AVGREAL = pd.DataFrame(\n",
    "    {\n",
    "        'Ensayo':[1,2,3],\n",
    "        'Concentración (M)':NAOH_TIT['Concentración (M)']\n",
    "    }\n",
    ")\n",
    "NAOH_ERR_AVGREAL['Error Absoluto'] = (NAOH_ERR_AVGREAL['Concentración (M)'] - M_AVG[0]).abs()\n",
    "NAOH_ERR_AVGREAL['Error Relativo'] = (NAOH_ERR_AVGREAL['Error Absoluto'] / M_AVG[0] * 100).abs()\n",
    "NAOH_ERR_AVGREAL.set_index('Ensayo',inplace=True)\n"
   ]
  },
  {
   "cell_type": "code",
   "execution_count": 67,
   "metadata": {},
   "outputs": [],
   "source": [
    "VALREAL = 0.1\n",
    "\n",
    "NAOH_ERR_VALREAL = pd.DataFrame(\n",
    "    {\n",
    "        'Ensayo':[1,2,3],\n",
    "        'Concentración (M)':NAOH_TIT['Concentración (M)']\n",
    "    }\n",
    ")\n",
    "NAOH_ERR_VALREAL['Error Absoluto'] = (NAOH_ERR_VALREAL['Concentración (M)'] - VALREAL).abs()\n",
    "NAOH_ERR_VALREAL['Error Relativo'] = (NAOH_ERR_VALREAL['Error Absoluto'] / VALREAL * 100).abs()\n",
    "NAOH_ERR_VALREAL.set_index('Ensayo',inplace=True)\n"
   ]
  },
  {
   "cell_type": "code",
   "execution_count": 68,
   "metadata": {},
   "outputs": [],
   "source": [
    "#titulaciones\n",
    "import matplotlib.pyplot as plt\n",
    "import pandas as pd\n",
    "\n",
    "tit_1 = pd.DataFrame(\n",
    "    {\n",
    "        'Volumen (ml)':[0,1,2,3,3.5,4,4.5,5,5.5,6,6.5,7,7.5,8,8.5,9,9.5,10,10.5,\n",
    "                        11,11.5,12,12.5,13,13.5,14,14.5,15,15.5,16,16.5,17,17.5,\n",
    "                        18,18.5,19,19.5,20,20.5,21,21.5,22,22.5,22.7,22.9,23,23.5,\n",
    "                        23.7,24.5,25.5,26.5,27.5,28.5,29.5,30.5,31.5],\n",
    "        'pH': [2.58,2.82,3.04,3.21,3.29,3.36,3.4,3.45,3.5,3.55,3.59,3.63,\n",
    "                           3.67,3.7,3.74,3.78,3.82,3.86,3.88,3.92,3.96,3.99,4.03,4.07,\n",
    "                           4.11,4.15,4.19,4.23,4.28,4.32,4.37,4.43,4.49,4.56,4.63,4.7,\n",
    "                           4.81,4.92,5.03,5.23,5.49,6.02,6.12,6.33,6.44,6.63,6.82,6.94,\n",
    "                           11.5,12.05,12.27,12.36,12.44,12.48,12.52,12.53]\n",
    "    }\n",
    ")\n",
    "\n",
    "pH_list = []\n",
    "Vol_list = [[],[]]\n",
    "for i in range(0,55):\n",
    "    pH_list.append(tit_1['pH'][i+1] - tit_1['pH'][i])\n",
    "    Vol_list[0].append(tit_1['Volumen (ml)'][i+1] - tit_1['Volumen (ml)'][i])\n",
    "    Vol_list[1].append((tit_1['Volumen (ml)'][i+1] + tit_1['Volumen (ml)'][i]) / 2)\n",
    "    \n",
    "FIRST_DERIV_tit1 = pd.DataFrame(\n",
    "    {\n",
    "        'ΔpH':pH_list,\n",
    "        'ΔV':Vol_list[0],\n",
    "        'Volumen (ml)':Vol_list[1]\n",
    "    }\n",
    ")\n",
    "\n",
    "tit_2 = pd.DataFrame(\n",
    "    {\n",
    "        'Volumen (ml)':[0,5,10,15,20,21.5,23,23.5,23.7,24,24.2,25,26,27.1,28,29,30],\n",
    "        'pH':[2.68,3.43,3.83,4.16,4.66,4.93,5.45,5.91,6.11,6.48,6.85,11.6,12.04,12.24,12.33,12.42,12.47]\n",
    "    }\n",
    ")\n",
    "\n",
    "pH_list = []\n",
    "Vol_list = [[],[]]\n",
    "\n",
    "for i in range(0,16):\n",
    "    pH_list.append(tit_2['pH'][i+1] - tit_2['pH'][i])\n",
    "    Vol_list[0].append(tit_2['Volumen (ml)'][i+1] - tit_2['Volumen (ml)'][i])\n",
    "    Vol_list[1].append((tit_2['Volumen (ml)'][i+1] + tit_2['Volumen (ml)'][i]) / 2)\n",
    "\n",
    "FIRST_DERIV_tit2 = pd.DataFrame(\n",
    "    {\n",
    "        'ΔpH':pH_list,\n",
    "        'ΔV':Vol_list[0],\n",
    "        'Volumen (ml)':Vol_list[1]\n",
    "    }\n",
    ")\n",
    "\n",
    "tit_3 = pd.DataFrame(\n",
    "    {\n",
    "        'Volumen (ml)':[0,5,10,15,20,21.5,23,23.5,23.7,24,25,26,27.1,28,29,30],\n",
    "        'pH':[2.62,3.41,3.82,4.22,4.94,5.69,6.29,6.55,6.82,10.57,11.87,12.14,12.28,12.37,12.43,12.44]\n",
    "    }\n",
    ")\n",
    "\n",
    "pH_list = []\n",
    "Vol_list = [[],[]]\n",
    "\n",
    "for i in range(0,15):\n",
    "    pH_list.append(tit_3['pH'][i+1] - tit_3['pH'][i])\n",
    "    Vol_list[0].append(tit_3['Volumen (ml)'][i+1] - tit_3['Volumen (ml)'][i])\n",
    "    Vol_list[1].append((tit_3['Volumen (ml)'][i+1] + tit_3['Volumen (ml)'][i]) / 2)\n",
    "\n",
    "FIRST_DERIV_tit3 = pd.DataFrame(\n",
    "    {\n",
    "        'ΔpH':pH_list,\n",
    "        'ΔV':Vol_list[0],\n",
    "        'Volumen (ml)':Vol_list[1]\n",
    "    }\n",
    ")\n",
    "\n",
    "FIRST_DERIV_tit1['ΔpH/ΔV'] = FIRST_DERIV_tit1['ΔpH'] / FIRST_DERIV_tit1['ΔV']\n",
    "FIRST_DERIV_tit2['ΔpH/ΔV'] = FIRST_DERIV_tit2['ΔpH'] / FIRST_DERIV_tit2['ΔV']\n",
    "FIRST_DERIV_tit3['ΔpH/ΔV'] = FIRST_DERIV_tit3['ΔpH'] / FIRST_DERIV_tit3['ΔV']\n"
   ]
  },
  {
   "cell_type": "code",
   "execution_count": 69,
   "metadata": {},
   "outputs": [],
   "source": [
    "MM_AcSal = 180.158\n",
    "REPORTED_VAL = 500\n",
    "\n",
    "aspirin = pd.DataFrame(\n",
    "    {\n",
    "        'Veq (ml)':[FIRST_DERIV_tit1['Volumen (ml)'].loc[FIRST_DERIV_tit1['ΔpH/ΔV'].idxmax()],\n",
    "                   FIRST_DERIV_tit2['Volumen (ml)'].loc[FIRST_DERIV_tit2['ΔpH/ΔV'].idxmax()],\n",
    "                   FIRST_DERIV_tit3['Volumen (ml)'].loc[FIRST_DERIV_tit3['ΔpH/ΔV'].idxmax()]],\n",
    "        'Masa Pastilla':[594.1,595.3,586]\n",
    "    }\n",
    ")\n",
    "\n",
    "aspirin['Masa (mg AcSal)'] = aspirin['Veq (ml)'] * M_AVG[0] * MM_AcSal\n",
    "aspirin['Error Absoluto'] = (aspirin['Masa (mg AcSal)'] - REPORTED_VAL).abs()\n",
    "aspirin['Error Relativo (%))'] = aspirin['Error Absoluto'] / REPORTED_VAL * 100\n",
    "aspirin['% p/p (respecto a 500mg)'] = aspirin['Masa (mg AcSal)'] / 500 * 100\n",
    "aspirin['% p/p (respecto a total)'] = aspirin['Masa (mg AcSal)'] / aspirin['Masa Pastilla'] * 100\n",
    "\n",
    "def confidence(std, t = 4.303, n = 3):\n",
    "    return t * std / np.sqrt(n) \n",
    "\n",
    "AcSal_avg = aspirin['Masa (mg AcSal)'].mean()\n",
    "AcSal_std = aspirin['Masa (mg AcSal)'].std()\n"
   ]
  },
  {
   "cell_type": "code",
   "execution_count": 70,
   "metadata": {},
   "outputs": [],
   "source": [
    "x1, y1, x2 , y2 , x3, y3 = tit_1['Volumen (ml)'], tit_1['pH'], tit_2['Volumen (ml)'], tit_2['pH'], tit_3['Volumen (ml)'], tit_3['pH']\n",
    "\n",
    "def plot_all():\n",
    "    fig, axs = plt.subplots(2, 2)\n",
    "    axs[0][0].plot(x1, y1)\n",
    "    axs[0][0].plot(x2, y2)\n",
    "    axs[0][0].plot(x3, y3)\n",
    "    axs[0][0].set_xlabel('Volumen (ml)')\n",
    "    axs[0][0].set_ylabel('pH')\n",
    "    axs[0][0].set_title('Estandarizaciones')\n",
    "    axs[0][0].legend([\"Titulación 1\", \"Titulación 2\", \"Titulación 3\"])\n",
    "    \n",
    "    axs[0][1].plot(FIRST_DERIV_tit1['Volumen (ml)'] , FIRST_DERIV_tit1['ΔpH/ΔV'])\n",
    "    axs[0][1].plot(x1, y1)\n",
    "    axs[0][1].set_xlabel('Volumen (ml)')\n",
    "    axs[0][1].set_ylabel('ΔpH/ΔV')\n",
    "    axs[0][1].set_title('Tit 1 - Primera Derivada')\n",
    "    \n",
    "    axs[1][0].plot(FIRST_DERIV_tit2['Volumen (ml)'] , FIRST_DERIV_tit2['ΔpH/ΔV'])\n",
    "    axs[1][0].plot(x1, y1)\n",
    "    axs[1][0].set_xlabel('Volumen (ml)')\n",
    "    axs[1][0].set_ylabel('ΔpH/ΔV')\n",
    "    axs[1][0].set_title('Tit 2 - Primera Derivada')\n",
    "    \n",
    "    axs[1][1].plot(FIRST_DERIV_tit3['Volumen (ml)'] , FIRST_DERIV_tit3['ΔpH/ΔV'])\n",
    "    axs[1][1].plot(x1, y1)\n",
    "    axs[1][1].set_xlabel('Volumen (ml)')\n",
    "    axs[1][1].set_ylabel('ΔpH/ΔV')\n",
    "    axs[1][1].set_title('Tit 3 - Primera Derivada')\n",
    "    plt.tight_layout()\n"
   ]
  },
  {
   "cell_type": "code",
   "execution_count": null,
   "metadata": {},
   "outputs": [],
   "source": []
  },
  {
   "cell_type": "markdown",
   "metadata": {},
   "source": [
    "### Resultados"
   ]
  },
  {
   "cell_type": "markdown",
   "metadata": {},
   "source": [
    "### Estandarización de NaOH\n",
    "\n",
    "{{NAOH_TIT}}\n",
    "\n",
    "\n",
    "### Errores de la estandarización considerando el promedio M = {{M_AVG[0].round(4)}} como valor real\n",
    "\n",
    "{{NAOH_ERR_AVGREAL.round(4)}}\n",
    "\n",
    "\n",
    "### Errores de la estandarización considerando el promedio M = {{VALREAL}} como valor real\n",
    "\n",
    "{{NAOH_ERR_VALREAL.round(4)}}\n",
    "\n"
   ]
  },
  {
   "cell_type": "markdown",
   "metadata": {},
   "source": [
    "### Gráfica de titulaciones\n",
    "\n",
    "{{plot_all()}}\n",
    "\n",
    "\n",
    "\n",
    "\n",
    "{{aspirin.round(4)}}\n",
    "\n",
    "\n",
    "#### Cantidad de aspirina en pastilla con intervalo de confianza al 95%\n",
    "###### Intervalo de confianza t-student\n",
    "<p><center>{{AcSal_avg.round(4)}} ± {{confidence(AcSal_std).round(3)}} mg de ácido acetilsalicílico por pastilla<center></p>"
   ]
  },
  {
   "cell_type": "markdown",
   "metadata": {},
   "source": [
    "### Análisis y discusión de resultados\n",
    "\n"
   ]
  },
  {
   "cell_type": "markdown",
   "metadata": {},
   "source": [
    "<p style=\"text-align: justify;\">Las pastillas utilizadas en este experimento contenían de acuerdo a la etiqueta 500mg de ácido acetilsalicílico, se pesaron y se registró el peso de la pastilla, posteriormente fueron disueltas y tituladas por potenciometría con una solución de hidróxido de sodio la cual fue estandarizada con Biftalato de potasio dando una concentración {{M_AVG[0].round(4)}}M con una desviación estándar de σ = {{}}, se realizó por triplicado y se determinó el <a href= \"#ep2\">punto de equivalencia</a> por medio de la primera derivada, se determinó los mg de aspirina por tableta con una confianza del 95% y se comparó con el valor reportado en la etiqueta comercial el intervalo de confianza de acuerdo a la distribución de <a href= \"#tstudent\">t-student</a> la pastilla contenía {{AcSal_avg.round(4)}} ± {{confidence(AcSal_std).round(3)}}mg que está por debajo de los valores reportados en la etiqueta.  </p>\n",
    "\n",
    "<p></p>\n",
    "$$Intervalo\\;de\\;confianza\\;t-student$$ \n",
    "<a name= \"tstudent\"> </a>\n",
    "$$\n",
    "\\mu =\\bar{x}\\;\\pm\\;\\frac{ts}{\\sqrt{n}}\n",
    "$$\n",
    "<p></p>\n",
    "<a name= \"tstudent\"> </a>\n",
    "\n",
    "\n",
    "<p style=\"text-align: justify;\">También se determinaron los errores absolutos y relativos  de acuerdo a la masa promedio obtenida con la reportada en la etiqueta comercial, también se determinó el porcentaje que contienen de ácido acetilsalicílico considerando el 100% los 500mg de lo que debería tener cada pastilla. Estando por debajo de los limites que solicita la farmacopea de la organización mundial de la salud donde el intervalo debe de ser de (99 – 100.5)% </p>\n",
    "\n",
    "El error es esta práctica es bastante alto lo cual puede deberse a errores en la metodología o técnica:\n",
    "-\tPosible pérdida de masa al moler las pastillas y al traspasar miligramos de aspirina del mortero al matraz donde se llevará acabo la estandarización.\n",
    "-\tNo dejar estabilizar la lectura del electrodo el tiempo necesario para registrar la lectura\n",
    "-\tFalta de calibración de la balanza analítica.\n",
    "\n",
    "La cantidad de Ácido acetilsalicílico fue menor a la reportada en la pastilla la cual puede deberse a lo mencionado anteriormente de no dejar estabilizar la lectura del potenciómetro el tiempo adecuado para que llegue al equilibrio por lo que el volumen de hidróxido de sodio es menor al que debería ser y por consiguiente la cantidad de ácido acetilsalicílico."
   ]
  },
  {
   "cell_type": "markdown",
   "metadata": {},
   "source": [
    "### Conclusiones \n",
    "Se pudo llevar a cabo la titulación potenciométrica y reportar un resultado de la concentración de ácido acetil salicílico, aunque no se pudo hacer la práctica de manera experimental de acuerdo con prácticas que hemos hecho anteriormente y al análisis de la técnica pudimos detectar posibles fuentes de error por las que el resultado que obtuvimos fue menor al que debía de contener la pastilla de ácido acetil salicílico."
   ]
  },
  {
   "cell_type": "markdown",
   "metadata": {},
   "source": [
    "<a href= \"#indice\" ><img src=\"https://bl3301files.storage.live.com/y4m-c96T5uHYCy5gRYmjxh9GAKLct1CTOz-IAhMfv-5-yf3kkDICnUTqD7h8CtGTWc5N8tGnzP1JGiTIgCQYQQusiQE6qmZUnNXw16aj5CeS2H-V0DWechdQ-nXMOuPwzGCO_qrHuG3eUNU2_AjktluOM9bW8NXvKAoF1Ba3jqv3Z9EuuEHJfFrig7uhjuC8eMe?width=250&height=83&cropmode=none\" width=\"125\" height=\"41\" /></a>"
   ]
  },
  {
   "cell_type": "markdown",
   "metadata": {},
   "source": [
    "<a id=\"p_3\"></a>\n",
    "<h1><center> Práctica 3: Uso y aplicaciones de la espectrofotometría de ultravioleta visible en fármacos y en colorantes organometálicos</center></h1>"
   ]
  },
  {
   "cell_type": "markdown",
   "metadata": {},
   "source": [
    "### Objetivos\n",
    "<p style=\"text-align: justify;\">El alumno aprenderá a utilizar el equipo de ultravioleta-visible para analizar la pureza de fármacos y colorantes por medio del modo de barrido. \n",
    "Aprenderá a identificar los parámetros de medición en el espectro y a sacar conclusiones a través de la lectura de esos parámetros.\n",
    "</p>"
   ]
  },
  {
   "cell_type": "markdown",
   "metadata": {},
   "source": [
    "### Hipótesis\n",
    "<p style=\"text-align: justify;\"></p>\n",
    "\n",
    "Se identificarán los errores cometidos por otros ejecutando metodologías similares, y se interpretarán correctamente varios espectros dados."
   ]
  },
  {
   "cell_type": "markdown",
   "metadata": {},
   "source": [
    "\n",
    "### Materiales \n",
    "<ul>\n",
    "    <li>Balanza analítica </li>\n",
    "    <li>Espectrofotómetro\t</li>\n",
    "    <li>Matraz volumétrico de 100 mL (2)</li>\n",
    "    <li>Vaso de precipitado de 30 mL (2)</li>\n",
    "    <li>Vaso de precipitado de 500 mL</li>\n",
    "    <li>Pipeta graduada de 1mL.</li>\n",
    "    <li>Celdas de Cuarzo y Plástico</li>\n",
    "</ul>\n",
    "\n",
    "### Reactivos  \n",
    "<ul>\n",
    "  <li>Colorantes</li>\n",
    "  <li>Fármacos: Diclofenaco, naproxeno y Paracetamol.</li>\n",
    "  <li>Agua destilada</li>\n",
    "  <li>Metanol grado HPLC<a href=\"#t3\"><sup>[tox]</sup></a></li>\n",
    "</ul>\n",
    "\n"
   ]
  },
  {
   "cell_type": "markdown",
   "metadata": {},
   "source": [
    "### Metodología \n",
    "<h4><center> Fármacos</center></h4>\n",
    "<img src=\"https://bl3301files.storage.live.com/y4miLKvBhgtep7nkQepV65kKC6ekehtOCD98ZosUSDJThahKZOJNyCv3WNDiCM0yeK-FB0jssUjEKs3t62hMUk7KA9dfm6BiBCs3Pbgl1v1NQWY4bpMOhqqj11nDY0qY4oe3PKzHwVkDY0DN1PF1yEBnzDEGYnuhfNyPgFSHt0-iBRoq0vNgYGlZaELmZMaigC6?width=3075&height=1388&cropmode=none\" width=\"450\" height=\"200\" />\n",
    "<h4><center>Colorantes</center></h4>\n",
    "<img src=\"https://bl3301files.storage.live.com/y4mTz2REjyt0wDq4a4UdAWm5fgnp7HvYRmlqp66NYfKBDv_1R3eTQU12KhOK34EINEOrA-_OeZAnC6V6a3mgp6IvurtFcMWmKOqrwJwNUEOYDs4tDTaRyO-IgGD2IGHfGAlqN9ToMo1kL8axs_bQ7yDoYnzpIxZMt_sJ_jOW6_ltNNbEuQ91NmnZCn8JVlA2UBn?width=2162&height=1088&cropmode=none\" width=\"450\" height=\"200\" />"
   ]
  },
  {
   "cell_type": "markdown",
   "metadata": {},
   "source": [
    "### Introducción  "
   ]
  },
  {
   "cell_type": "markdown",
   "metadata": {},
   "source": [
    "<p style=\"text-align: justify;\"> Un espectrómetro óptico es un instrumento que posee un sistema óptico que puede producir la dispersión de la radiación electromagnética incidente, y con el cual se pueden realizar mediciones de la cantidad de radiación transmitida en longitudes de onda elegidas. Un fotómetro es un dispositivo para medir la intensidad de la radiación transmitida (o una función de esta cantidad). Cuando se combinan en el espectrofotómetro, el espectrómetro y el fotómetro se emplean conjuntamente para producir una señal correspondiente a la diferencia entre el radiación transmitida de un material de referencia y la de una muestra problema a longitudes de onda seleccionadas. La ventaja principal de los métodos colorimétricos y espectrofotométricos es que proporcionan un medio sencillo para determinar cantidades diminutas de sustancias.</p>\n",
    "\n",
    "<p style=\"text-align: justify;\">Cuando la luz (ya sea hetero o monocromática) cae sobre un medio homogéneo, una porción de esa luz incidente es reflejada por el recipiente de vidrio, un poco puede ser dispersada por partículas grandes, otra porción es absorbida por el medio, ocasionalmente se absorbe por las paredes del recipiente, y lo que resta es transmitida, como se ve en la figura (I). </p>\n",
    "\n",
    "<p style=\"text-align: center;\"><cite>Ilustración 1 Pérdidas por reflexión y dispersión con una solución que está en un recipiente típico de vidrio</cite></p>\n",
    "\n",
    "<p style=\"text-align: justify;\"> Para poder despreciar todos estos efectos y solo tomar en cuenta la absorción de la muestra problema, generalmente se compara la potencia del haz transmitido con una celda control, la cual es idéntica a la solución que contiene la muestra problema, pero sin ésta. \n",
    "Lambert generalmente recibe el crédito por haber evaluado el cambio en absorción lumínica en función del grosor del medio a través del cual viaja, aunque realmente extendió sobre conceptos originalmente desarrollados por Bouguer. Sus experimentos encontraron que cuando la luz monocromática pasa a través de un medio transparente, la tasa de disminución en intensidad con el grosor del medio es proporcional al a intensidad de la luz. </p>\n",
    "\n",
    "<p style=\"text-align: justify;\">Luego, Beer aplicó experimentos similares a soluciones de concentraciones diferentes. Él encontró que la relación entre la transmisión y la concentración era la misma que Lambert había encontrado entre transmisión y grosor. Las dos leyes separadas que encontraron, las cuales gobiernan el fenómeno de absorción, se denominan Ley de Lambert & Ley de Beer; en su forma combinada, es conocida como la ley de Lambert-Beer:</p>\n",
    "\n",
    "$$\n",
    "log \\frac{I_o}{I_t} = acl\n",
    "$$\n",
    "\n",
    "<p style=\"text-align: justify;\">Esta es la ecuación fundamental de la colorimetría y espectrofotometría, donde el valor de a dependerá en el método de expresión de concentración. Si c se expresa como molaridad y  l como centímetros, a recibe el símbolo ε y se denomina coeficiente de absorción molar o absortividad molar (antes era conocido como el coeficiente de extinción molar). \n",
    "Las escalas de los espectrofotómetros generalmente se calibran para leer directamente en absorbancias, y muchas veces en porcentaje de transmitancia, aprovechando la relación entre estas dos unidades y el coeficiente molar de absorción, según:\n",
    "</p>\n",
    "<p></p>\n",
    " $$\n",
    " A = εcl = log \\frac{I_o}{I_t} = log \\frac{1}{T} =-log(T)\n",
    " $$\n",
    "<p style=\"text-align: justify;\"> La ley de Beer generalmente se cumplirá a concentraciones menores a 0.01M, aunque puede cumplirse a rangos más grandes si la estructura del ion colorido o no-electrolito disuelto no cambia con la concentración. Aunque cantidades pequeñas de electrolitos no suelen afectar la absorción de la solución, grandes cantidades pueden desplazar el máximo de absorción, y puede cambiar el valor del coeficiente de extinción. También se deja de cumplir esta ley cuando el soluto colorado se ioniza, disocia, o asocia en solución, además de cuando forma complejos en solución. Por último, el comportamiento se aleja del de esta ley cuando no se utiliza luz monocromática. Siempre es posible evaluar el comportamiento de las condiciones de soluto graficando I0/It, o log1/T vs la concentración: una línea recta que pasa por el origen indica conformidad a la ley de Beer.</p>"
   ]
  },
  {
   "cell_type": "code",
   "execution_count": 71,
   "metadata": {
    "scrolled": true
   },
   "outputs": [],
   "source": [
    "#calculos\n",
    "import pandas as pd\n",
    "import matplotlib.pyplot as plt\n",
    "\n",
    "azul1_spectrum = pd.DataFrame(\n",
    "    {\n",
    "        'λ (nm)':[400,405,410,415,420,425,430,435,440,445,450,455,460,465,470,475,\n",
    "                  480,485,490,495,500,505,510,515,520,525,530,535,540,545,550,555,\n",
    "                  560,565,570,575,580,585,590,595,600,605,610,615,620,625,630,635,\n",
    "                  640,645,650,655,660,665,670,675,680,685,690,695,700],\n",
    "        'A':[1.391,1.636,1.697,1.454,1.06,0.68,0.404,0.224,0.124,0.076,0.056,0.049,\n",
    "             0.05,0.054,0.061,0.071,0.084,0.101,0.121,0.147,0.18,0.221,0.272,0.333,\n",
    "             0.41,0.51,0.624,0.763,0.939,1.127,1.372,1.674,2.055,2.506,2.987,3.37,\n",
    "             3.557,3.654,3.675,3.835,3.809,3.799,3.598,3.863,3.956,3.986,4.082,4.154,\n",
    "             4.186,4.317,4.337,3.88,3.244,2.17,1.402,0.902,0.569,0.361,0.227,0.144,0.092]\n",
    "    }\n",
    ")\n",
    "\n",
    "amarillo5_spectrum = pd.DataFrame(\n",
    "    {\n",
    "        'λ (nm)':[400,405,410,415,420,425,430,435,440,445,450,455,460,465,470,475,\n",
    "                  480,485,490,495,500,505,510,515,520,525,530,535,540,545,550,555,\n",
    "                  560,565,570,575,580,585,590,595,600,605,610,615,620,625,630,635,\n",
    "                  640,645,650,655,660,665,670,675,680,685,690,695,700],\n",
    "        'A':[2.349,2.419,2.481,2.536,2.592,2.665,2.78,2.965,3.24,3.525,3.554,3.796,\n",
    "             4.031,4.179,4.2,4.293,4.216,4.353,4.204,4.039,4.346,4.157,4.106,3.788,\n",
    "             3.136,2.199,1.409,0.834,0.479,0.402,0.307,0.248,0.212,0.189,0.173,0.162,\n",
    "             0.152,0.145,0.138,0.134,0.012,0.012,0.012,0.013,0.012,0.013,0.012,0.013,\n",
    "             0.011,0.01,0.009,0.009,0.008,0.009,0.009,0.008,0.007,0.008,0.008,0.007,0.007]\n",
    "    }\n",
    ")\n",
    "\n",
    "rojo40_spectrum = pd.DataFrame(\n",
    "    {\n",
    "        'λ (nm)':[400,405,410,415,420,425,430,435,440,445,450,455,460,465,470,475,\n",
    "                  480,485,490,495,500,505,510,515,520,525,530,535,540,545,550,555,\n",
    "                  560,565,570,575,580,585,590,595,600,605,610,615,620,625,630,635,\n",
    "                  640,645,650,655,660,665,670,675,680,685,690,695,700],\n",
    "        'A':[1.662,1.53,1.411,1.332,1.324,1.395,1.542,1.76,2.032,2.356,2.79,3.769,\n",
    "             4.34,4.69,5.387,4.896,4.528,4.378,4.287,4.21,4.195,4.191,4.269,4.241,\n",
    "             4.179,4.253,4.068,3.956,3.728,3.283,3.167,2.976,2.568,2.19,1.785,1.56,\n",
    "             1.265,0.954,0.59,0.287,0.041,0.031,0.025,0.023,0.02,0.019,0.018,0.018,\n",
    "             0.017,0.017,0.017,0.016,0.016,0.016,0.015,0.015,0.015,0.014,0.014,0.014,0.013]\n",
    "    }\n",
    ")\n",
    "\n",
    "diclofenac_spectrum = pd.DataFrame(\n",
    "    {\n",
    "        'λ (nm)':[200,205,210,215,220,225,230,235,240,245,250,255,260,265,270,275,\n",
    "                  280,285,290,295,300,305,310,315,320,325,330,335,340,345,350,355,\n",
    "                  360,365,370,375,380,385,390,395,400],\n",
    "        'A':[0.0009,0.045,0.055,0.086,0.116,0.167,0.195,0.167,0.145,0.127,0.102,0.065,\n",
    "             0.071,0.058,0.103,0.089,0.104,0.282,1.219,1.909,2.025,1.375,0.781,0.419,\n",
    "             0.218,0.118,0.066,0.041,0.027,0.02,0.016,0.014,0.013,0.012,0.012,0.012,\n",
    "             0.012,0.012,0.013,0.013,0.012]\n",
    "    }\n",
    ")\n",
    "\n",
    "def plot_all_abs():\n",
    "    fig, axs = plt.subplots(2, 2)\n",
    "    axs[0][0].plot(azul1_spectrum['λ (nm)'], azul1_spectrum['A'], color = 'blue')\n",
    "    axs[0][0].set_xlabel('λ (nm)')\n",
    "    axs[0][0].set_ylabel('A')\n",
    "    axs[0][0].set_title('Espectro de Azul-1')\n",
    "    \n",
    "    axs[0][1].plot(amarillo5_spectrum['λ (nm)'], amarillo5_spectrum['A'], color = '#d6e34b')\n",
    "    axs[0][1].set_xlabel('λ (nm)')\n",
    "    axs[0][1].set_ylabel('A')\n",
    "    axs[0][1].set_title('Espectro de Amarillo-5')\n",
    "    \n",
    "    axs[1][0].plot(rojo40_spectrum['λ (nm)'], rojo40_spectrum['A'], color = 'red')\n",
    "    axs[1][0].set_xlabel('λ (nm)')\n",
    "    axs[1][0].set_ylabel('A')\n",
    "    axs[1][0].set_title('Espectro de Rojo-40')\n",
    "    \n",
    "    axs[1][1].plot(diclofenac_spectrum['λ (nm)'], diclofenac_spectrum['A'], color = 'black')\n",
    "    axs[1][1].set_xlabel('λ (nm)')\n",
    "    axs[1][1].set_ylabel('A')\n",
    "    axs[1][1].set_title('Espectro de Diclofenac')\n",
    "    plt.tight_layout()\n",
    "    \n",
    "datos = pd.DataFrame(\n",
    "    {\n",
    "        'Compuesto':['Azul-1','Amarillo-5','Rojo-40','Diclofenac'],\n",
    "        'λ max (nm)':[azul1_spectrum['λ (nm)'][azul1_spectrum['A'].idxmax()],\n",
    "                    amarillo5_spectrum['λ (nm)'][amarillo5_spectrum['A'].idxmax()],\n",
    "                    rojo40_spectrum['λ (nm)'][rojo40_spectrum['A'].idxmax()],\n",
    "                    diclofenac_spectrum['λ (nm)'][diclofenac_spectrum['A'].idxmax()]],\n",
    "        'A max':[azul1_spectrum['A'].max(), amarillo5_spectrum['A'].max(), rojo40_spectrum['A'].max(),\n",
    "                 diclofenac_spectrum['A'].max()],\n",
    "        'Concentración (g/L)':[1,1,1,100]\n",
    "    }\n",
    ")\n",
    "\n",
    "az1ε = azul1_spectrum['A'].max() / datos['Concentración (g/L)'][0]\n",
    "am5ε = amarillo5_spectrum['A'].max() / datos['Concentración (g/L)'][1]\n",
    "r40ε = rojo40_spectrum['A'].max() / datos['Concentración (g/L)'][2]\n",
    "diclε = diclofenac_spectrum['A'].max() / datos['Concentración (g/L)'][3]\n",
    "\n",
    "datos['ε (L/gcm)'] = [az1ε, am5ε, r40ε, diclε]\n"
   ]
  },
  {
   "cell_type": "markdown",
   "metadata": {},
   "source": [
    "### Resultados\n",
    "\n",
    "{{datos}}\n",
    "\n",
    "\n",
    "\n",
    "<img src=\"https://bl3301files.storage.live.com/y4m6zU3vOa-YDiUsjmCZCaLTj2vOownpR-k8Akkn5oydH6STDkGnYD-Ft6RAf7CwCFLqc5kv1Jz7lViA9dgTLswl2zKEKPqD2ul_o6qrqSbY2zaXwQ5slVvRnBRSYQGKUNTzuBf4heepP5xSQhfMLw0pA2sLSfxanZFVpu-K410wm8woDElDYJVzfRl-Kka4TlO?width=779&height=419&cropmode=none\" width=\"779\" height=\"419\" />\n",
    "\n",
    "|Compuesto|λ max|A max|Concentración g/L|ε L/gcm|\n",
    "|:------:|:--------:|:--------------:|:--------------:|:--------------:|\n",
    "|AMARILLO 6|480.34|0.572|0.084|5.72|\n",
    "|AZUL 1|628.26|1.77|0.1|17.7|\n",
    "|AMARILLO 6|480.34|0.678|0.1|6.78|\n",
    "|ROJO 40|504.34|0.325|0.1|3.25|\n",
    "\n",
    "### Discusión de resultados \n",
    "\n",
    "<p style=\"text-align: justify;\">Se pudo determinar los máximos de absorción a partir de los datos proporcionados en los colorantes encontrando la máxima absorción y se registró su longitud de onda y valor de absorbancia y a partir de la concentración conocida y el camino óptico se determinó el coeficiente de absortividad tanto para los colorantes como para el fármaco (Diclofenaco). Esta información es útil cuando deseamos caracterizar algún compuesto y hacer análisis posteriores con estos. </p>\n",
    "<p style=\"text-align: justify;\">Con la gráfica proporcionada del análisis del espectro de absorción de 4 colorantes se determinaron las longitudes de máxima absorción y a partir de la absorbancia y considerando la misma concentración que las muestras que se prepararon en la práctica de 0.1 g/L y un camino óptico de un 1cm, se determinaron los coeficientes de absortividad. para cada colorante</p>\n",
    "<p style=\"text-align: justify;\">Para los datos de la gráfica se contaban con dos bandas del amarillo 6 esto a que eran dos concentraciones, se consideró que la que tenía mayor absorbancia era la solución de concentración 0.1 g/L y se determinó la concentración  de la segunda  muestra de amarillo 6 que tenía una menor absorbancia, con la ley de Lambert Beer.</p>\n",
    "\n",
    "### Conclusiones\n",
    "\n",
    "<p style=\"text-align: justify;\">Con esta práctica pudimos aprender como construir un espectro de absorción UV-vis a partir de los datos obtenidos del espectrofotómetro y a partir de estos espectros podemos obtener los máximos de absorción y determinar los coeficientes de absortividad de los colorantes utilizados y del fármaco. .</p>\n",
    "<p style=\"text-align: justify;\">Este método puede ser utilizado para caracterizar cualquier compuestos orgánicos que presenten dobles enlaces en su estructura. Los datos obtenidos en esta práctica pueden ser utilizados posteriormente para la construcción de una curva de calibración para cuantificar un compuesto orgánico o compuestos con dobles enlaces en su estructura ya que es debido a estos que tienen la capacidad de absorber en la región ultravioleta del espectro electromagnético.</p>\n",
    "\n",
    "<a href= \"#indice\" ><img src=\"https://bl3301files.storage.live.com/y4m-c96T5uHYCy5gRYmjxh9GAKLct1CTOz-IAhMfv-5-yf3kkDICnUTqD7h8CtGTWc5N8tGnzP1JGiTIgCQYQQusiQE6qmZUnNXw16aj5CeS2H-V0DWechdQ-nXMOuPwzGCO_qrHuG3eUNU2_AjktluOM9bW8NXvKAoF1Ba3jqv3Z9EuuEHJfFrig7uhjuC8eMe?width=250&height=83&cropmode=none\" width=\"125\" height=\"41\" /></a>\n",
    "\n",
    "\n"
   ]
  },
  {
   "cell_type": "markdown",
   "metadata": {},
   "source": [
    "<a id=\"p_4\"></a>\n",
    "<h1><center> Práctica 4: Preparación de la curva de calibración para determinar paracetamol en tabletas por UV</center></h1>\n",
    "\n"
   ]
  },
  {
   "cell_type": "code",
   "execution_count": 74,
   "metadata": {},
   "outputs": [],
   "source": [
    "#cálculos de curva de calibración\n",
    "import pandas as pd\n",
    "import matplotlib.pyplot as plt\n",
    "import numpy as np\n",
    "\n",
    "equation, rsquared = None, None\n",
    "\n",
    "calibration_data_p4 = pd.DataFrame(\n",
    "    {\n",
    "        'Alícuota':[0.02, 0.04, 0.06, 0.08, 0.1],\n",
    "        'Concentración (ppm)':[0.2, 0.4, 0.6, 0.8, 1],\n",
    "        'Absorbancia' :[0.237, 0.353, 0.403, 0.448, 0.48]\n",
    "    }\n",
    ")\n",
    "\n",
    "\n",
    "def plot_calibration(x, y, xlabel, ylabel, title):\n",
    "    global equation, rsquared\n",
    "    m, b = np.polyfit(x, y, 1)\n",
    "    equation = 'y = ' + str(m.round(4)) + 'x' + ' + ' + str(b.round(4))\n",
    "    rsquared = np.corrcoef(x,y)[0,1]**2\n",
    "    fig, axs = plt.subplots()  \n",
    "    axs.plot(x, y, 'o')\n",
    "    axs.plot(x, x*m + b)\n",
    "    axs.set_xlabel(xlabel)\n",
    "    axs.set_ylabel(ylabel)\n",
    "    axs.set_title(title)"
   ]
  },
  {
   "cell_type": "markdown",
   "metadata": {},
   "source": [
    "### Objetivos \n",
    "\n",
    "<p style=\"text-align: justify;\">Que el alumno aplique los conocimientos adquiridos acerca de la espectrofotometría ultravioleta en la elaboración de una curva de calibración con el fin de realizar un análisis cuantitativo de muestras problema.</p>\n",
    "\n"
   ]
  },
  {
   "cell_type": "markdown",
   "metadata": {},
   "source": [
    "### Hipótesis\n",
    "\n",
    "El porcentaje másico de la muestra de paracetamol se encontrará dentro de los rangos aceptables.\n"
   ]
  },
  {
   "cell_type": "markdown",
   "metadata": {},
   "source": [
    "\n",
    "### Materiales\n",
    "\n",
    "- 8 matraces aforados de 10 mL.\n",
    "- 1 matraces aforados de 25 mL\n",
    "- 8 frasco color ámbar de 10 a 20 mL\n",
    "- 1 micropipeta de volumen variable de 10 a 100 µL.\n",
    "- 1 micropipeta de volumen fijo de 100 µL\n",
    "\n",
    "### Reactivos\n",
    "\n",
    "- Estándar de paracetamol\n",
    "- Metanol grado HPLC\n",
    "- Agua destilada\n",
    "- 4 pastillas de paracetamol\n",
    "\n"
   ]
  },
  {
   "cell_type": "markdown",
   "metadata": {},
   "source": [
    "### Introducción\n",
    "\n",
    "<p style=\"text-align: justify;\">En el análisis químico es muy común comparar alguna propiedad de un analito (o de una reacción con dicho analito) con estándares tales que la propiedad que se busca identificar concuerda de manera muy cercana con la del estándar. Esto que conocemos como estándar o patrón externo se caracteriza por ser preparado aparte de la muestra. En contraste, también existen estándares internos, los cuales, a diferencia de los anteriores, se añaden a la muestra. Estos se utilizan para calibrar instrumentos y/o procedimientos cuando el efecto de interferencia de la matriz del analito es negligible. En este caso se preparan una serie de disoluciones que contienen al analito en concentraciones conocidas.</p>\n",
    "<p style=\"text-align: justify;\">Independientemente del método que se adecúe mejor al análisis, en general los analitos con concentraciones iguales dan diferentes respuestas de detección. Para asegurar que la respuesta del instrumento es lineal (o linealizable) en el rango de concentraciones que buscamos analizar, es decir, para encontrar el rango lineal, la respuesta a cada analito debe ser medida con estándares. Una gráfica de la respuesta de detección (absorbancia, altura de pico, área de pico, etc.) en función de la concentración del analito (o alguna función linealizada que permita encontrar dicha concentración) se llama una curva de calibración.</p>\n",
    "<p style=\"text-align: justify;\">Estas curvas tan útiles se construyen ajustando la gráfica a una ecuación matemática aceptable, generalmente una ecuación de una recta dada por el método de los mínimos cuadrados. Una vez que se obtiene esta ecuación, se puede predecir la concentración del analito Cx vía interpolación (o en algunos casos extrapolación).</p>\n",
    "\n",
    "<img src=\"https://bl3301files.storage.live.com/y4mB-xxNLvH4wWuNQnrxE5QHDJtFRzhE0f_ac-FtBbyJ3W_nSaCK-0G3_rTT6gLY4EMOVpe1CC7uGE7OjmIZb49n7-v4EbR177ZIpoI0rqIPf-ovB_pvoMTPbiBOhYcKPjueyRqXc0M8obyBO6gxHvABXR1gOnPmyabfHne2ypig_UgGFOq5YCWvjQQ9ri3AOAk?width=424&height=582&cropmode=none\" width=\"212\" height=\"291\" />\n",
    "<p style=\"text-align: center;\"><cite>Figura 1. Curva de calibración para determinar isooctano en una muestra de hidrocarburo.<a href=\"#b8\"><sup>[8]</sup></a></cite></p>\n",
    "<p style=\"text-align: justify;\">Para justificar utilizar un patrón externo, se debe asumir que la respuesta para una misma concentración será igual en el analito y en el patrón. Esto es sumamente difícil (o a veces imposible) de afirmar, generalmente por el efecto matriz. Por esto, en una determinación no se suele utilizar la respuesta original dada por el instrumento, sino que se corrige con la medición de un blanco – una solución idealmente idéntica a la muestra. Aún con la corrección por el blanco, existen una gran cantidad de errores sistemáticos y aleatorios que influyen sobre la veracidad de la curva de calibración construida. Un patrón isoméricamente distinto al analito; un estado de oxidación diferente; acomplejación (o falta de); patrones que cambian post-preparación por descomposición, volatilización, o adsorción a las paredes del recipiente; sesgos en el modelo de calibración, y muchos más. Todo esto se debe tener en cuenta en la construcción de una curva de calibración, independientemente de la técnica a utilizar.</p>\n"
   ]
  },
  {
   "cell_type": "markdown",
   "metadata": {},
   "source": [
    "\n",
    "### Metodología \n",
    "<h3><center> Curva de calibración</center></h3>\n",
    "<img src=\"https://bl3301files.storage.live.com/y4myyu80uMLVRyvETiNr9fYPXFGOjPQlbSMFdT3n5Zm4x8IlUrxnFSApuqzJxAg-AnPnuyUS4QkH0xiEetUBswZMcnTi_p38ObGxEPx5JaVpGOxv1p-MoFTnkIGgczKEjAZCmzz9WNl3XfjZMowKfCqHipjEQRoivueBnZxg_YaUuc0Y7T2sNBYlmIvZ2v8EjTl?width=3075&height=1286&cropmode=none\" width=\"614\" height=\"256\" />\n",
    "<h3><center>Preparación de la muestra</center></h3>\n",
    "<img src=\"https://bl3301files.storage.live.com/y4meCzgMYXsEdTqWaagx7WRBFZhfWO8iv4JrXocFwDURj2wMYHltgmhBIbIEeRMsOjoTbYJfcQV4-6yMlTtINchRrgal0ygMt7ktkzdFIEHqcLh9KPhhRM4EkccaPbj58Hm5JuCW41GYD4Am93pmhDlJuloET8uFdwcQaKIkJpcRWybKGKa-NDAFLSccQC55j4_?width=3075&height=1283&cropmode=none\" width=\"614\" height=\"256\" />"
   ]
  },
  {
   "cell_type": "markdown",
   "metadata": {},
   "source": [
    "### Resultados\n",
    "\n",
    "{{calibration_data_p4}}\n",
    "\n",
    "{{plot_calibration(calibration_data_p4['Concentración (ppm)'], calibration_data_p4['Absorbancia'], 'Concentración (ppm)', 'Absorbancia', 'Curva de calibración')}}\n",
    "\n",
    "Ecuación: {{print(equation)}}\n",
    "<br> R^2: {{rsquared.round(4)}}"
   ]
  },
  {
   "cell_type": "markdown",
   "metadata": {},
   "source": [
    "Ecuación de la recta en un rango de concentración de [1-0.2] mg/L\n",
    "$$\n",
    "A=0.2905[Co] +0.2099\n",
    "$$\n",
    "Coeficiente de correlación\n",
    "$$\n",
    "r^2=0.9314\n",
    "$$"
   ]
  },
  {
   "cell_type": "markdown",
   "metadata": {},
   "source": [
    "|Pastilla|Absorbancia alícuota|Concentración en alícuota|mg de Paracetamol en Pastilla|\n",
    "|:---:|:---:|:---:|:---:|\n",
    "|1|\t2.538|8.014113597|108.062|\n",
    "2|2.79|8.881583477|121.9344|\n",
    "3|2.2338|6.966953528|94.96335|"
   ]
  },
  {
   "cell_type": "markdown",
   "metadata": {},
   "source": [
    "### Discusión de resultados\n",
    "\n",
    "<p style=\"text-align: justify;\">La curva de calibración que se determino a partir de correlación no es la adecuada ya que presenta un coeficiente de correlación lineal de 0.9314 y debería de ser mas cercano a un valor de 0.99, por lo que seria de utilidad repetir la curva de calibración nuevamente.</p>\n",
    "\n",
    "<p style=\"text-align: justify;\">Para la determinación de concentración de la pastilla no es válido utilizar la curva obtenida ya que no está dentro del rango de concentración bajo el cual se obtuvo la curva ya que la alícuota tiene una concentración casi 8 veces mayor. Lo ideal para no consumir mas reactivo seria diluir las alícuotas 10 veces para obtener concentraciones dentro del rango de concentración de la curva y posteriormente analizar nuevamente la muestra para poder asi determinar la concentración.</p>\n",
    "\n",
    "<p style=\"text-align: justify;\">La concentración obtenida de paracetamol en la pastilla es notoriamente menor a la esperada y evidentemente no concuerda con los datos reportados en la etiqueta en la del medicamento por lo anteriormente mencionado en donde la concentración obtenida fue hecha por extrapolación lo cual no es válido. </p>\n",
    "\n",
    "<p style=\"text-align: justify;\"> Tambien se debe realizar por triplicado y obtener la desviación estandar la cual debe de presentarse en el gráfico para ver la variación de los datos.</p>"
   ]
  },
  {
   "cell_type": "markdown",
   "metadata": {},
   "source": [
    "### Conclusiones \n",
    "\n",
    "<p style=\"text-align: justify;\">Para la determinación de una muestra por espectroscopia ultravioleta debe de prepararse una curva de calibración en función de la alicuota que se va analizar, si se conoce un estimado de la concentración de la muestra la curva de caliración debe de estar dentro de ese intervalo de concentraciones.</p>\n",
    "\n",
    "<p style=\"text-align: justify;\">Si no se conoce la concentración del analito se debe de hacer un barrido de concentraciones generalmente se hace desde 0.2mg/L a 1mg/L aunque esto depende del analito.</p>"
   ]
  },
  {
   "cell_type": "markdown",
   "metadata": {},
   "source": [
    "<a href= \"#indice\" ><img src=\"https://bl3301files.storage.live.com/y4m-c96T5uHYCy5gRYmjxh9GAKLct1CTOz-IAhMfv-5-yf3kkDICnUTqD7h8CtGTWc5N8tGnzP1JGiTIgCQYQQusiQE6qmZUnNXw16aj5CeS2H-V0DWechdQ-nXMOuPwzGCO_qrHuG3eUNU2_AjktluOM9bW8NXvKAoF1Ba3jqv3Z9EuuEHJfFrig7uhjuC8eMe?width=250&height=83&cropmode=none\" width=\"125\" height=\"41\" /></a>"
   ]
  },
  {
   "cell_type": "markdown",
   "metadata": {},
   "source": [
    "<a id=\"p_5\"></a>\n",
    "<h1><center> Práctica 5: Determinación de hierro en un suplemento alimenticio por Absorción atómica </center><a id=\"p_2\"></a></h1>"
   ]
  },
  {
   "cell_type": "code",
   "execution_count": 78,
   "metadata": {},
   "outputs": [],
   "source": [
    "#práctica 5 cálculos\n",
    "import pandas as pd\n",
    "import numpy as np\n",
    "\n",
    "calibration_data_p5 = pd.DataFrame(\n",
    "    {\n",
    "        'Concentración (ppm)':[60, 70, 80, 90, 100],\n",
    "        'Abs Curva 1':[0.424, 0.437, 0.45, 0.458, 0.465],\n",
    "        'Abs Curva 2':[0.442, 0.451, 0.467, 0.476, 0.485],\n",
    "        'Abs Curva 3':[0.458, 0.48, 0.494, 0.51, 0.52]\n",
    "    }\n",
    ")\n",
    "\n",
    "avglist = np.zeros(shape = (5,1))\n",
    "stdevlist = np.zeros(shape = (5,1))\n",
    "\n",
    "for i in range(0,5):\n",
    "    avglist[i] = (calibration_data_p5[['Abs Curva 1', 'Abs Curva 2', 'Abs Curva 3']].iloc[i].mean())\n",
    "    stdevlist[i] = (calibration_data_p5[['Abs Curva 1', 'Abs Curva 2', 'Abs Curva 3']].iloc[i].std())\n",
    "\n",
    "calibration_data_p5['Promedio'] = avglist\n",
    "calibration_data_p5['Desviación Estándar'] = stdevlist\n"
   ]
  },
  {
   "cell_type": "code",
   "execution_count": null,
   "metadata": {},
   "outputs": [],
   "source": []
  },
  {
   "cell_type": "markdown",
   "metadata": {},
   "source": [
    "### Objetivo\n",
    "\n",
    "<p style=\"text-align: justify;\">Que el alumno aplique los conocimientos adquiridos acerca de la espectrofotometría ultravioleta en la elaboración de una curva de calibración con el fin de realizar un análisis cuantitativo de muestras problema.</p>"
   ]
  },
  {
   "cell_type": "markdown",
   "metadata": {},
   "source": [
    "### Hipótesis\n",
    "\n",
    "\n",
    "Se construirá una curva de calibración a partir de patrones estándar, y esta se utilizará para determinar el contenido de una muestra problema de hierro."
   ]
  },
  {
   "cell_type": "markdown",
   "metadata": {},
   "source": [
    "### Introducción\n",
    "<p style=\"text-align: justify;\"> Históricamente, la absorción por átomos se ha documentado durante un largo período de tiempo. Por ejemplo, Fraunhofer observó líneas oscuras en la radiación del sol. Posteriormente se identificaron como las líneas de absorción de los átomos metálicos y se encontró que coincidían con las líneas de emisión de esos mismos átomos. Durante muchos años la observación tuvo poco más que interés académico y ese interés residió en el físico atómico. No fue hasta 1955 que Alan Walsh, que trabajaba en Australia, publicó el primer artículo que demostraba el uso de la espectrometría de absorción atómica (AAS) como herramienta analítica. Previó la amplia utilidad analítica del fenómeno y en sus primeros trabajos hizo importantes contribuciones que resolvieron problemas que podrían haber impedido su uso en trabajos cuantitativos.</p>\n",
    "\n",
    "<p style=\"text-align: justify;\">Como su nombre lo indica, AAS es la medida de la absorción de radiación por átomos libres. La cantidad total de absorción depende del número de átomos libres presentes y del grado en que los átomos libres absorben la radiación. La clave para comprender la aplicación de la espectrometría de absorción atómica a la química analítica radica en comprender los factores que afectan <a href=\"#b8\"><sup>[8]</sup></a>la capacidad de los átomos para absorber y <a href=\"#b8\"><sup>[9]</sup></a> los factores que afectan la generación y pérdida de átomos libres de una población de átomos en particular.</p>\n",
    "<p style=\"text-align: justify;\">Si la radiación de una fuente de luz continua, como una lámpara de hidrógeno, pasa a través de una población de átomos libres y luego a través de un monocromador a un sistema de detección, se podría medir el espectro de absorción de los átomos en la trayectoria de la luz. Para todos los elementos, el espectro consta de unas pocas líneas de absorción muy estrechas. La gran mayoría de la luz que atraviesa la población de átomos no se absorbe y pasa al monocromador. La energía de esta luz no absorbida está en la longitud de onda incorrecta para la absorción y, por lo tanto, no se registra en la medición de absorción. Dos esquemas de instrumentación común se encuentran en la figura (I). </p>\n",
    "\n",
    "<img src=\"https://bl3301files.storage.live.com/y4mtuRvKS987xM0409nXZ4j55koQrSIVAS7sri8yuU8FYoP3LtkKiL-s6Gm9SBL0LWuEhlaCasAZCKiL7noEcnlQEFDjLj4JiYZE4E-BK6HLtgSmENJ3Zl--oZGTvSgODLoRL7pYdM3eahTudDJlR5z09ioqEIQNYFkKfae73489uF8A2ktv0tsyty73rzuNkkd?width=324&height=325&cropmode=none\" width=\"324\" height=\"325\" />\n",
    "\n",
    "<p style=\"text-align: center;\"><cite>Figura I. Espectrómetros de llama típicos: a) diseño de un solo haz y b) diseño de doble haz<a href=\"#b8\"><sup>[8]</sup></a></cite></p>\n",
    "<p style=\"text-align: justify;\"></p>\n",
    "\n",
    "<p style=\"text-align: justify;\">Para medir la absorción por átomos libres, primero es necesario elegir la longitud de onda correcta a la que se puede medir esta absorción. Esa longitud de onda es una propiedad crítica de los átomos y viene dada por la ecuación:</p>\n",
    "\n",
    "$$\n",
    "E = E_1-E_2 = hv = \\frac{hc}{λ}\n",
    "$$\n",
    "\n",
    "<p style=\"text-align: justify;\">donde E1 es la energía del estado de energía superior, o la energía después de la absorción; E2 es la energía del estado de menor energía o la energía antes de la absorción. Esta relación se deriva directamente de la teoría cuántica. Puede decirse simplemente: la energía de la radiación que el átomo puede absorber debe ser igual a la diferencia de energía entre el estado de energía en el que existe el átomo antes de la absorción y el estado de energía en el que existe el átomo después de la absorción.</p>\n",
    "\n",
    "<p style=\"text-align: justify;\">En una primera aproximación, la absorción por átomos libres es similar a la absorción por moléculas y existe una relación lineal entre la absorbancia y la “concentración” de la muestra. Esta relación está dada por la Ley de Beer-Lambert. En la absorción atómica, esta relación es cierta en el sentido de que si tenemos dos muestras, una con una concentración dos veces la otra, entonces la absorbancia de la primera será aproximadamente el doble de la segunda dentro de los límites de la ley de Beer. Sin embargo, en la práctica se encuentra que esta relación no se puede mantener porque los atomizadores de llama se utilizan generalmente como \"celda de muestra\" y la población de átomos libres en una llama está lejos de ser homogénea. La homogeneidad de la muestra es un requisito básico para la aplicación de la Ley de Beer.</p>\n",
    "\n",
    "<p style=\"text-align: justify;\">Por ahora nos interesa entender las bases de esta técnica, por lo que en este estudio se buscará utilizar los instrumentos correctamente más que un análisis impecable de una muestra desconocida.</p>"
   ]
  },
  {
   "cell_type": "markdown",
   "metadata": {},
   "source": [
    "### Materiales Reactivos \n",
    "- 8 matraces aforados de 10 mL.\n",
    "- 1 matraces aforados de 25 mL\n",
    "- 8 frasco color ámbar de 10 a 20 mL\n",
    "- 1 micropipeta de volumen variable de 10 a 100 µL.\n",
    "- 1 micropipeta de volumen fijo de 100 µL\n",
    "\n",
    "### Reactivos\n",
    "- Metanol grado HPLC\n",
    "- Agua destilada\n",
    "- 4 pastillas de paracetamol"
   ]
  },
  {
   "cell_type": "markdown",
   "metadata": {},
   "source": [
    "### Metodología \n",
    "\n",
    "<img src=\"https://bl3301files.storage.live.com/y4mmJpO49kg9rWO-9KYuwoitqdGC5bpfs6FwyPcb_1mrrcVNLXfagFlrsUy3Enr6HZ7lGxGWiU_EpDC3ErmNODaNQM18QmAPKhFXQsYrGhkZUqkyZgXQOgEaxeBxG4qoz7EJs-7Jag3Gy22rbEsSmFs7d2I21x6UF0Aq4dD37f8MfKGI5jgnFAjMp5o2M7Va77p?width=906&height=580&cropmode=none\" width=\"700\" height=\"400\" />"
   ]
  },
  {
   "cell_type": "markdown",
   "metadata": {},
   "source": [
    "### Resultados\n",
    "\n",
    "{{calibration_data_p5.round(3)}}\n",
    "\n",
    "{{plot_calibration(calibration_data_p5['Concentración (ppm)'], calibration_data_p5['Promedio'], 'Concentración (ppm)', 'Absorbancia', 'Curva de calibración')}}\n",
    "\n",
    "Ecuación: {{print(equation)}}\n",
    "<br> R^2: {{rsquared.round(4)}}\n",
    "\n",
    "Muestra: {{round(((0.569-0.3697)/0.0012),4)}}"
   ]
  },
  {
   "cell_type": "markdown",
   "metadata": {},
   "source": [
    "<img src=\"https://bl3301files.storage.live.com/y4mivzSTEkhN7GiuWg3VF_FuJ0rIm6ztgGYUw23Xnqs8gxEQS_8XXsZXQ3E10WmwpM92WSwYyFozu2I7js-Y596nhnspHqCsBYX3HtpbKyNikl5IURuGhJ6MtjZL8BlyZF4KmgIqeZzHIMHJuvopf-WApQ77HiMsxXEUr3tCxC0O8wpvCGu_Er1XIFznR5j3h05?width=420&height=252&cropmode=none\" width=\"420\" height=\"252\" />"
   ]
  },
  {
   "cell_type": "markdown",
   "metadata": {},
   "source": [
    "Ecuación de la recta en un rango de concentración de [60-100] mg/L\n",
    "$$\n",
    "A=0.0012[Co] +0.3697\n",
    "$$\n",
    "Coeficiente de correlación\n",
    "$$\n",
    "r^2=0.0.9886\n",
    "$$"
   ]
  },
  {
   "cell_type": "markdown",
   "metadata": {},
   "source": [
    "|Datos de|Muestra|\n",
    "|--:|:--|\n",
    "|absorbancia|0.569|\n",
    "|concentración|166.083 mg/L|\n",
    "|100mg de suplemento|4.15208mg|\n",
    "\n",
    "La cantidad de hierro en el supplemento alimenticio es de <b>4.1520 mg por cada 100mg </b> de suplemento."
   ]
  },
  {
   "cell_type": "markdown",
   "metadata": {},
   "source": [
    "### Discusión de resultados \n",
    "\n",
    "la curva de calibración se realizó en un intervalo de 60-100mg de la concentración de hierro en el suplemento. El dato de concentración obtenido del suplemento esta fuera de los límites de la curva de la calibración es decir es una concentración obtenida por extrapolación. Se realizo la medida de cada lectura por triplicado graficando la curva de calibración con su correpondiente desviación estandar en donde podemos ver una gran variación en los datos lo cual puede deberse por errores durante la preparación de la muestra y el manejo del equipo No se presenta lectura del blanco lo cual pudo ser una de las posibles fuentes de error durante la determinación.\n",
    "\n",
    "Lo recomendable seria repetir el análisis diluyendo el ánalito para que este dentro del rango de concentración y repetir nuevamente la curva de calibración buscando obtener un mejor coeficiente de correlación y una menor desviación estandar. "
   ]
  },
  {
   "cell_type": "markdown",
   "metadata": {},
   "source": [
    "<a id=\"p_6\"></a>\n",
    "<h1><center> Práctica 6: Determinación de plomo en un objeto de alfarería </center><a id=\"p_2\"></a></h1>"
   ]
  },
  {
   "cell_type": "markdown",
   "metadata": {},
   "source": [
    "### Objetivo\n",
    "Determinar la cantidad de plomo que libera un objeto de alfarería empleado para el uso humano, empleando la técnica de absorción atómica.\n",
    "\n",
    "### Hipótesis\n",
    "\n",
    "El análisis de plomo de una olla de barro tendrá una concentración de plomo dentro de los límites permitidos\n",
    "\n",
    "### Introducción .\n",
    "<p style=\"text-align: justify;\">La espectrometría de absorción atómica (AAS) es un método prácticamente universal para la determinación de la mayoría de elementos metálicos y metaloides tanto en trazas como en concentraciones principales. La forma de las muestras originales no es importante siempre que se pueda introducir en una solución acuosa o no acuosa. Esta situación ha sido provocada por mejoras considerables en la instrumentación y también, quizás en parte como resultado de esto, una mejor comprensión entre los analistas de los tipos de efecto de interferencia que pueden modificar la respuesta esperada de un elemento dado.</p>\n",
    "\n",
    "<p style=\"text-align: justify;\">Los métodos de absorción atómica combinan la especificidad de otros métodos espectrales atómicos con la adaptabilidad de los métodos químicos húmedos. Alta especificidad significa que los elementos se pueden determinar en presencia unos de otros. Las separaciones, que son necesarias con casi todas las otras formas de análisis húmedo, se reducen al mínimo y, a menudo, se evitan por completo, lo que hace que un procedimiento analítico de absorción atómica típico sea atractivo y simple. Este hecho, combinado con la facilidad de manejo de un espectrómetro de absorción atómica moderno, hace posible que los análisis de rutina se lleven a cabo de manera rápida y económica por personal de laboratorio relativamente joven.</p>\n",
    "    \n",
    "<p style=\"text-align: justify;\">Por lo general, las separaciones se requieren solo por una de dos razones, para eliminar una causa principal de interferencia o para concentrar los elementos a determinar en caso de que estén presentes en cantidades inferiores a su límite de detección. Si bien los procedimientos de separación deben, por tanto, ser cuantitativos para los elementos en cuestión, no necesariamente tienen que ser específicos, ya que es posible determinar varios elementos juntos en una solución. Este concepto conduce a la separación de grupos de elementos en lugar de individuos y, de hecho, a una filosofía general de preparación química y muestras para absorción atómica en la que se reúnen tantos elementos como sea posible para su determinación en la solución de análisis final. Este debe ser siempre el objetivo en el desarrollo de métodos.</p>\n",
    "    \n",
    "<p style=\"text-align: justify;\">Una muestra recibida en el laboratorio puede clasificarse en una de las siguientes categorías: Soluciones acuosas, soluciones orgánicas, sólidos inorgánicos, sólidos orgánicos, y gases; cada uno posee criterios específicos a considerar en AAS. Si se van a aspirar estos materiales, los sólidos deben solubilizarse, las corrientes de gas deben filtrarse y las muestras líquidas deben satisfacer ciertos criterios:</p>\n",
    "    \n",
    "1.\tLa viscosidad y el contenido de sólidos de la solución deben ser tales que permitan la nebulización sin dar lugar a problemas asociados con el bloqueo del quemador.\n",
    "2.\tLas partículas sólidas deben eliminarse, preferiblemente por centrifugación, particularmente en determinaciones de niveles de trazas donde la contaminación será más significativa.\n",
    "3.\tLa concentración de ácido debe ser lo más baja posible.\n",
    "4.\tLos disolventes orgánicos deben elegirse con cuidado.\n",
    "5.\tLas interferencias deben eliminarse o compensarse\n",
    "6.\tLa concentración de metal no debe ser tan alta como para caer en una parte curva del gráfico de calibración. La ley de Beer se obedece para la mayoría de los elementos hasta una absorbancia de aproximadamente 0,4.\n",
    "\n",
    "<p style=\"text-align: justify;\">Siendo la segunda vez que utilizamos esta técnica, esta vez ya esperamos conocer los fundamentos y buscamos trabajar con una muestra más compleja: una muestra sólida. Así, podremos prepararnos adecuadamente para utilizar esta técnica en un laboratorio de trabajo.</p>\n"
   ]
  },
  {
   "cell_type": "markdown",
   "metadata": {},
   "source": [
    "### Materiales \n",
    "\n",
    "- Espectrofotómetro de absorción atómica.\n",
    "- Lámpara de cátodo hueco de plomo\n",
    "- Parrilla eléctrica Balanza analítica\n",
    "- Matraz Kitasato\n",
    "- Tanque de aire o compresor de aire\n",
    "- Vidrio de reloj\n",
    "- Matraces volumétricos de 100 mL\n",
    "- Papel Whatman No. 40\n",
    "- Pipetas de 1.5 y 10 mL\n",
    "- Embudo\n",
    "- Vaso de precipitado de 150 mL\n",
    "\n",
    "### Reactivos\n",
    "\n",
    "- Tanque de acetileno de alta pureza\n",
    "- Ácido clorhídrico 1 N.\n",
    "- Solución patrón de plomo de 50 ppm\n",
    "- Ácido clorhídrico concentrado\n",
    "- Agua destilada\n"
   ]
  },
  {
   "cell_type": "markdown",
   "metadata": {},
   "source": [
    "### Metodología \n",
    "<img src=\"https://bl3301files.storage.live.com/y4m3T07Yzj-Ys_h2bR1I0CEXYdRnkTMECxhnFktecLI6i81RMQ0CfsNrnO8UQxufBOxYeFglH6DvxKaRIwfP-IvpW2oh5GWne2zXccVPCtfNStUbWUPynH8lK4nMNjmXPvgC7aqPtRiA0h3PP514b-e2oBUL0d2zJfN5_RYmnGjsgWacwqecA5M7MTgl_GRoqjw?width=901&height=498&cropmode=none\" width=\"901\" height=\"498\" />"
   ]
  },
  {
   "cell_type": "markdown",
   "metadata": {},
   "source": [
    "### Resultados curva de calibración\n",
    "\n",
    "|Concentración|Absorbancia |Desviación estandar|\n",
    "|:---:|:---:|:---:|\n",
    "|1|0.0122|0.009444|\n",
    "|5|0.034|0.016401|\n",
    "|10|0.067|0.008671|\n",
    "|20|0.121|0.007382|\n",
    "|40|0.244|0.051384|\n",
    "|60|0.299|0.003785|\n",
    "|80|0.36738|0.004041|\n",
    "|100|0.424|0|\n"
   ]
  },
  {
   "cell_type": "markdown",
   "metadata": {},
   "source": [
    "<img src=\"https://bl3301files.storage.live.com/y4mioGCBo7kRCj9NMTsmH6Loe_MHS5hQGa0ja4iGJ3uGQFnHbS5QE1ys9--mKzxP1HqbgKSwzBox1hNPOK7zZoZYT86IbYlzOR7VlKjrGIGs9uxhwflycrI3741C7MlurMLgyBC6VGWRY3DaDkB8jPbhMpycoiO8bq3O3CUaZ_DlHusMYMg0LG9BO249TL90JKI?width=670&height=539&cropmode=none\" width=\"400\" height=\"350\" />"
   ]
  },
  {
   "cell_type": "markdown",
   "metadata": {},
   "source": [
    "### Resultados  de muestra\n",
    "\n",
    "$$\n",
    "A=0.004231[Pb]+0.028952\n",
    "$$\n",
    "$$\n",
    "r^2 =0.977\n",
    "$$\n"
   ]
  },
  {
   "cell_type": "markdown",
   "metadata": {},
   "source": [
    "Si eliminamos el valor de 40 ppm de la curva obtenermos un mejor coeficiente de correlación\n",
    "$$\n",
    "A=0.0042[Pb]+0.0225\n",
    "$$\n",
    "$$\n",
    "r^2 =0.9913\n",
    "$$\n"
   ]
  },
  {
   "cell_type": "markdown",
   "metadata": {},
   "source": [
    "\n",
    "De acuerdo con los siguientes datos se obtuvieron las siguientes concentraciones de la muestra.\n",
    "\n",
    "|A muestra |[Pb], ppm |\n",
    "|:---:|:---:|\n",
    "|0.042|4.60926|\n",
    "|0.325|71.5395|\n",
    "|0.273|59.2414|\n"
   ]
  },
  {
   "cell_type": "markdown",
   "metadata": {},
   "source": [
    "La curva de calibración presenta un valor de $r^2$ de 0.97 el cual se observa que no sigue una tendencia completamente lineal lo que se puede hacer es eliminar el dato de 40 ppm que es el que contiene el mayor valor de desviación estándar y con esto construir la curva de calibración y se puede repetir la curva de calibración en ese punto y obtener así las concentraciones de la muestra ya que eliminando ese dato observamos un mayor coeficiente de correlación.\n",
    "\n",
    "Se logro ver que las ollas contienen una cantidad de plomo, en la actualidad el uso de plomo  ya no está permitido para llevar a cabo el proceso vidriado del con oxido de plomo, esto es de vital importancia ya que la intoxicación por plomo ocasiona daños permanentes en el desarrollo intelectual de los niños expuestos a este metal. A pesar de esto en las ollas analizadas se encontraron cantidades de plomo lo cual nos indica que no todos los productores de objetos de alfarería no cumplen las normas.\n"
   ]
  },
  {
   "cell_type": "markdown",
   "metadata": {},
   "source": [
    "<a id=\"p_7\"></a>\n",
    "<h1><center> Práctica 7: Determinación de grupos funcionales de fármacos por espectrofotometría de luz infrarroja</center><a id=\"p_2\"></a></h1>\n"
   ]
  },
  {
   "cell_type": "markdown",
   "metadata": {},
   "source": [
    "### Introducción\n",
    "\n",
    "<p style=\"text-align: justify;\">Los estudios analíticos de infrarrojos se basan en la absorción (o reflexión) de la radiación electromagnética que se encuentra entre 1 y 1000μm. Esta es una de las técnicas espectroscópicas más comunes que se utilizan para la identificación de compuestos y la medición de concentraciones en muchas muestras. Este rango espectral se subdivide en tres áreas más pequeñas, el infrarrojo cercano (infrarrojo cercano, 1–2,5 μm), el infrarrojo medio (IR medio, 2,5–50 μm) y el infrarrojo lejano (más allá de 25 μm). Aunque el IR cercano es pobre en absorciones específicas, los laboratorios de control de calidad lo consideran un método importante para aplicaciones cuantitativas. Por el contrario, la región del IR medio proporciona más información sobre las estructuras de los compuestos y, en consecuencia, se utiliza mucho como procedimiento para identificar compuestos orgánicos para los que sigue siendo una forma de identificación de grupos funcionales. El IR lejano requiere el uso de fuentes y materiales ópticos especializados. Para realizar estos análisis existe una gama completa de instrumentos, desde espectrómetros de transformada de Fourier hasta una multiplicidad de analizadores de tipo dispersivo o no dispersivo, especializados en la medición de compuestos predefinidos (por ejemplo, análisis de gases y vapores) o que permiten análisis continuos. en líneas de producción. La espectrometría infrarroja por transformada de Fourier ofrece numerosas posibilidades para el tratamiento de espectros y tiene aplicaciones para el análisis de micromuestras estructuradas (microanálisis infrarrojo).</p>\n",
    "\n",
    "<p style=\"text-align: justify;\">En el infrarrojo cercano y medio, la absorción de luz por la materia se origina en la interacción entre la radiación de una fuente de luz y los enlaces químicos de la muestra. Más precisamente, si los átomos situados en los dos extremos de un enlace son diferentes, forman un dipolo eléctrico que oscila con una frecuencia determinada. Si un enlace no simétrico de este tipo es irradiado por una fuente de luz monocromática cuya frecuencia es la misma que la del dipolo, se producirá una interacción con el enlace. Por lo tanto, el componente eléctrico de la onda puede transferir su energía al enlace con la condición de que la frecuencia mecánica del enlace y la frecuencia electromagnética de la radiación sean las mismas (Ver siguiente Fig.).</p>\n",
    "\n",
    "<img src=\"https://bl3301files.storage.live.com/y4mMfTaUY4w8bUMgns_FmcMVK5EauX9ECCHHyS8S5pSlaFdW8pOzuvOApOnPJMzy9tcEuXFkzD8f5ADzTOchiUZbyBWOU01IPJqPZrX1JXML9i_Ddv3sS4Qt0GBzObqA5ERSTVBLI4f7uvMNyiRnK1nouRy15tNaxYtPqdhS5WH8SHZjw6e90eCOF0gCIhGcDN0?width=624&height=201&cropmode=none\" width=\"624\" height=\"201\" />\n",
    "\n",
    "<p style=\"text-align: centeer;\"><b>Figura 1. Interpretación mecánica de la interacción entre una onda de luz y un enlace polar.</b></p>\n",
    "\n",
    "<p style=\"text-align: justify;\">La información de absorción de infrarrojos, que varía con las longitudes de onda de radiación seleccionadas, se presenta generalmente en forma de espectro, que es el documento básico emitido por el espectrómetro. La ordenada del gráfico registra la relación de las intensidades transmitidas, es decir con y sin muestra, calculada para cada longitud de onda marcada en la abscisa. Esta relación se llama transmitancia (T). En el gráfico, a menudo se reemplaza por el porcentaje de transmitancia (porcentaje de T) o por la absorbancia (A), el logaritmo en base 10 del recíproco de la transmitancia: A = log (1 / T). Si el estudio se ha realizado utilizando luz reflejada o difusa, se habrán utilizado unidades de pseudoabsorbancia. Finalmente, se ha vuelto apropiado sustituir los valores de las longitudes de onda por su equivalente expresado en números de onda ν cuyas unidades están en cm − 1 o kaysers.</p>\n",
    "<p style=\"text-align: justify;\">El surgimiento, en la última década, de espectrómetros de transformada de Fourier relativamente baratos aumentó en forma notable el número y tipo de aplicaciones de la radiación del infrarrojo medio. La razón de este incremento radica en que los instrumentos interferométricos mejoran la magnitud de la relación señal-ruido y de los límites de detección en comparación con los instrumentos dispersivos. Antes de la aparición de estos instrumentos, la región espectral del infrarrojo medio se utilizaba en su mayor parte para el análisis orgánico cualitativo y la determinación estructural con base en los espectros de absorción. Ahora, en cambio, la espectrometría del infrarrojo medio se está comenzando a utilizar además en el análisis cuantitativo de muestras complejas, mediante espectrometría de absorción y emisión. También han empezado a aparecer aplicaciones de esta región espectral en los estudios microscópicos de superficies, análisis de sólidos mediante reflectancia total atenuada y reflectancia difusa, medidas fotoacústicas y otras.</p>\n",
    "<p style=\"text-align: justify;\"></p>\n",
    "<p style=\"text-align: justify;\"></p>\n"
   ]
  },
  {
   "cell_type": "markdown",
   "metadata": {},
   "source": [
    "### Hipótesis\n",
    "Se aprenderá a utilizar correctamente el espectrofotómetro e interpretar los espectros correspondientes."
   ]
  },
  {
   "cell_type": "markdown",
   "metadata": {},
   "source": [
    "### Materiales y reactivos\n",
    "1. Espectrofotómetro de Luz Infrarroja Nicolet\n",
    "2. Espátula\n",
    "3. Mortero de ágata con pistilo de ágata\n",
    "4. Ventanas par IR de NaCl\n",
    "5. Prensa\n",
    "6. Dado para pastillas de IR\n",
    "7. Soporte para pastilla\n",
    "Las sustancias que a continuación se mencionan deben ser grado espectro, a menos que se indique lo contrario.\n",
    "- KBr\n",
    "- Estándar de Fármacos\n",
    "\n",
    "\n",
    "\n"
   ]
  },
  {
   "cell_type": "markdown",
   "metadata": {},
   "source": [
    "### Metodología"
   ]
  },
  {
   "cell_type": "markdown",
   "metadata": {},
   "source": [
    "<img src=\"https://bl3301files.storage.live.com/y4mJP7rNMobstSCG-Mk0wnbigv_RoV6gRP-Tu3phxmmVrX0292VnwElSneZBaZd6Cy4es7tzLbhcrTJj3EJARN7ROVcqdSx2JrhMeT3jjBjCkACdZm3W6EBZbXEbMHSi1FP9z2ta0GaG8dGqKbdJmoSfZNSukU6xzsmOHF-GEdsrDVGP7eiJ16m0EmNWAtZlhBy?width=713&height=358&cropmode=none\" width=\"713\" height=\"358\" />"
   ]
  },
  {
   "cell_type": "markdown",
   "metadata": {},
   "source": [
    "### Interpretación espectro infrarojo de Metamizol sodio\n",
    "\n",
    "<img src=\"https://bl3301files.storage.live.com/y4m3SAx1FCh_J97m-_T7BkJJgRnXawXHkew41oP_kyiZ0j-SsOHvbGRqBrzFcAiP_1ZcxVUHHZE5h8Esar0mMMwe1wS49Pkvobm4Oe4FioIo8PewjAbadI7haMWdw2Vtf2aSF7OcZ1DHP66kHLuCiGaUTs7vW7fx4o0T6VwyZHMKKFPzudftZcYZLiz8_ZHGk8h?width=683&height=475&cropmode=none\" width=\"683\" height=\"475\" />\n",
    "\n",
    "<img src=\"https://bl3301files.storage.live.com/y4mEV8j1LhPgZhSrr1ztQU2erUwZ58eFg3PxqgPf5gE25azNS6bBnjoMqLFJvGyLWzsISly4CLMwC41RCHkkDGfmhX-k7WzIkPFiD6SLxu-Wz_qI0bbkfKZqsJesUMJiwxTJD0KMNCxckWbZrOGm0kwvu9vAStK_uQT4ClQjBjrvrSWf4-xDX3liEHPF-AkFgH_?width=548&height=212&cropmode=none\" width=\"548\" height=\"212\" />\n",
    "\n",
    "<img src=\"https://bl3301files.storage.live.com/y4mbf3m6q5m8E5JQqQ61oitr7tc1omkOtGI3g6PiHzLbfJXd28nBEzHsTZ2a-Jj-qok5aGmixV-q9f0KvhlzUkcaTKOWxsj_sCH4om5Yu2mXn4-hIoxe9JRG7NVqytBgbj_FG8BuTrMXBPcfJGtnc8s06UN0ccOstwPbCg5hQLgBeElEHoneDjXqGF8WMWtsBSu?width=641&height=329&cropmode=none\" width=\"641\" height=\"329\" />\n"
   ]
  },
  {
   "cell_type": "markdown",
   "metadata": {},
   "source": [
    "### Interpretación espectro infrarojo de Ceftriazona disódica\n",
    "\n",
    "<img src=\"https://bl3301files.storage.live.com/y4mOKyv6TQ4EKQ7bqCpcRi8_0o7h6QTkB_JPn6rF8x7YuuNx9lN66Rdth6PH_SqaUFw89Uobnzzcq4zt1EJFA2sl6_2IhPkmRD4LFgY1wrm-lpjaycA9qLRov3IiwTAv19wiyOf8tHbnqsUH_5Zka4Q_A-ewNec3VZzSYwU5VvQV5ydszfqaIgty7icF_RY0SCC?width=651&height=769&cropmode=none\" width=\"651\" height=\"769\" />\n",
    "\n",
    "<img src=\"https://bl3301files.storage.live.com/y4mUhPufT5ZIRsdkdGgHvmR-spwc4gfBPxbSmtQKWsoaAIHtLc-oXMg6fd4VJHFchJGNVg_c0G_yFjeOjz5gdQJx2gnwRThmoL1R5Vr90jaNFAlXWtcBadXaamyRp3ZPJ72G2zv83vlyRZwVwxuaGW_rAX3AZbwdkwvsnzJDicyRRyZQc-G0igMwl5xbx7yMxdI?width=594&height=273&cropmode=none\" width=\"594\" height=\"273\" />"
   ]
  },
  {
   "cell_type": "markdown",
   "metadata": {},
   "source": [
    "### Conclusiones de resultados\n",
    "\n",
    "La determinación de los espectros nos permiten para analizar los fármacos ya que podemos comparar los espectros reportados y comparar los distintos grupos funcionales que se observan, si ambas muestras son puras se deben observar los mismos picos e los espectros.\n",
    "\n",
    "Es importante mencionar que esta técnica unicamente nos sirve como comparativo para analizar, la pureza o cambios en una molécula por modificación en su estructura, con la estructura y espectros reportados, con esta técnica no podemos predecir la estructura de un compuesto."
   ]
  },
  {
   "cell_type": "markdown",
   "metadata": {},
   "source": [
    "<a href= \"#indice\" ><img src=\"https://bl3301files.storage.live.com/y4m-c96T5uHYCy5gRYmjxh9GAKLct1CTOz-IAhMfv-5-yf3kkDICnUTqD7h8CtGTWc5N8tGnzP1JGiTIgCQYQQusiQE6qmZUnNXw16aj5CeS2H-V0DWechdQ-nXMOuPwzGCO_qrHuG3eUNU2_AjktluOM9bW8NXvKAoF1Ba3jqv3Z9EuuEHJfFrig7uhjuC8eMe?width=250&height=83&cropmode=none\" width=\"125\" height=\"41\" /></a>"
   ]
  },
  {
   "cell_type": "code",
   "execution_count": null,
   "metadata": {},
   "outputs": [],
   "source": []
  },
  {
   "cell_type": "markdown",
   "metadata": {},
   "source": [
    "# Toxicología <a id=\"tox\"></a>\n",
    "|Compuesto|Precuaciones|Primeros Auxilios|\n",
    "|:------:|:--------:|:--------------:|\n",
    "|<b>NaOH</b><img src=\"https://bl3301files.storage.live.com/y4mO4tNXJmfL9-v7OS5W4dmucocg142fh3u-ZgYDOTuHQNjD3XFlOpYqQYFaVsuMpNRXCdLKfdBxvVxD5rGRRIrwcPyyc66cQXkn1uNYKSbTycsz_6shZS0yuFu-nwBWdCkmX6lMfgxx3rOd-lqduwtpwsvFefT-eqDAUYVFHgyL0EhNKMMAJLi2qyY97yI1FZp?width=281&height=364&cropmode=none\" width=\"80\" height=\"100\" />|Puede ser corrosivo a metales. Causa quemaduras severas a la piel y daño serio a los ojos.<a name=\"t1\"></a></li>|<p><b>Inhalación:</b> Buscar aire fresco, consultar ayuda médica de ser necesario.</p><p> <b>Contacto dérmico: </b>Lavar con agua y jabón por 15 minutos. Quitar ropa y zapatos contaminados inmediatamente.<p><b> Contacto ocular:</b> Lavar con agua abundante manteniendo los p·rpados abiertos.</p> <p><b> Ingestión: </b> Enjuagar la boca con agua. No inducir al vómito. </p> |\n",
    "|<b>Ftalato ácido de potasio</b><img src=\"https://bl3301files.storage.live.com/y4mVQwflRFzMwKMSwGcLeLQvUYjHdgg89WOPSfALX-TCUp016Y4Awt-k_-H-dCzeN8fOH2uNGQi7Z_S0cajUIG3lChycGAeoHg0jqgov2cP4qh5oZez8tDAzmRwg4Vz5vqEL5WLc0aaFdMqFG3VbQVqeF58nQ8CCA7w9xYYBgYHNKi_0MdM9nAWTfxU7qGJ5FkN?width=281&height=364&cropmode=none\" width=\"80\" height=\"100\" />| Sustancia clasificada como NO PELIGROSA.  <a name=\"t2\"></a></li>|<p><b>Inhalación:</b> Buscar aire fresco, consultar ayuda médica de ser necesario.</p><p> <b>Contacto dérmico:</b>Lavar abundantemente con agua<p><b> Contacto ocular</b>Lavar con agua abundante manteniendo los párpados abiertos.</p> <p><b> Ingestión: </b> Beber agua abundante. Provocar el vómito. Pedir atención médica </p>|\n",
    "\n",
    "\n",
    " \n",
    "<!-- |<p><b>NaOH</b></p>|   dfdfdf|<p><b>Inhalación:</b></p><p> <b>Contacto dérmico:</b><p><b> Contacto ocular</b>: Enjuagar</p> <p><b> Ingestión: </b> </p>| -->\n",
    "\n"
   ]
  },
  {
   "cell_type": "markdown",
   "metadata": {},
   "source": [
    "## Referencias\n",
    "<ol>\n",
    "    <li>Mendham,   J.   and   Vogel,   A.,   1989.Vogel's textbook  of  quantitative  chemical  analysis.  5th ed. John Wiley: Longman Scientific & Technical, pp.72-78.<a name=\"b1\"></a></li>\n",
    "    <li>Norma Oficial  Mexicana:NOM-001-SAG/GAN-2015, Sistema Nacional de Identificación Animal para Bovinos y Colmenas, de 29/05/2015.</li><a name=\"b2\"></a>\n",
    "    <li>2012. Vocabulario Internacional de Metrología. 3rd  ed.  Madrid:  Centro  Español  de Metrología, pp.57-58.<a name=\"b3\"></a></li>\n",
    "    <li>Norma Oficial  Mexicana:NOM-038-SCFI-2000, Pesas de clases exactitud E1, E2, F1, F2, M1, M2 Y M3 <a name=\"b4\"></a></li>\n",
    "    <li>C. Harris, D., 2007. Quantitative chemical analysis. 8th ed. New York, NY: W.H. Freeman and Co., pp.80-100.<a name=\"b5\"></a></li>\n",
    "    <li>Skoog, D., Holler, F. and Crouch, S., 2018. Principles of instrumental analysis. 7th ed. Australia: CENGAGE Learning, pp.60-90.<a name=\"b6\"></a></li>\n",
    "    <li>The International Pharmacopoeia. 2019. Acetylsalicylic acid (Acidum acetylsalicylicum). [online] Available at: <https://apps.who.int/phint/pdf/b/6.1.5.Acetylsalicylic-acid-(Acidum-acetylsalicylicum).pdf> [Accessed 15 February 2021].<a name=\"b7\"></a></li>\n",
    "    <li>Lajunen, L. and Perämäki, P., 2004. Spectrochemical analysis by atomic absorption and emission. Cambridge: Royal Society of Chemistry.<a name=\"b7\"></a></li>\n",
    "    <li>Cantle, J., 1982. Atomic absorption spectrometry. Amsterdam: Elsevier scientific.<a name=\"b5\"></a></li>\n",
    "   \n",
    "    \n",
    "</ol>"
   ]
  },
  {
   "cell_type": "code",
   "execution_count": null,
   "metadata": {},
   "outputs": [],
   "source": []
  },
  {
   "cell_type": "code",
   "execution_count": null,
   "metadata": {
    "scrolled": true
   },
   "outputs": [],
   "source": []
  },
  {
   "cell_type": "markdown",
   "metadata": {},
   "source": []
  },
  {
   "cell_type": "code",
   "execution_count": null,
   "metadata": {},
   "outputs": [],
   "source": []
  },
  {
   "cell_type": "code",
   "execution_count": null,
   "metadata": {},
   "outputs": [],
   "source": []
  }
 ],
 "metadata": {
  "hide_input": true,
  "kernelspec": {
   "display_name": "Python 3",
   "language": "python",
   "name": "python3"
  },
  "language_info": {
   "codemirror_mode": {
    "name": "ipython",
    "version": 3
   },
   "file_extension": ".py",
   "mimetype": "text/x-python",
   "name": "python",
   "nbconvert_exporter": "python",
   "pygments_lexer": "ipython3",
   "version": "3.7.10"
  }
 },
 "nbformat": 4,
 "nbformat_minor": 4
}
