{
 "cells": [
  {
   "cell_type": "markdown",
   "metadata": {},
   "source": [
    "<a id=\"indice\"></a>\n",
    "# Índice\n",
    "\n",
    "- [Rombo de seguridad](#rombo)\n",
    "- [Código de colores](#codigo_colores)\n",
    "- [Práctica 1: Verificación y Manejo de una Balanza Analítica](#p_1)\n",
    "- [Práctica 2: Determinación de aspirina en tabletas comerciales por Potenciometría](#p_2)\n",
    "- [Práctica 3: Práctica 3:Uso y aplicaciones de la espectrofotometría de ultravioleta visible en fármacos y en colorantes organometálicos](#p_3)\n",
    "- [Práctica 4: Preparación de la curva de calibración para determinar paracetamol en tabletas por UV](#p_4)\n",
    "- [Práctica 5: Determinación de hierro en un suplemento alimenticio por Absorción atómica](#p_5)\n",
    "- [Práctica 6: Determinación de plomo en un objeto de alfareria](#p_6)\n",
    "- [Toxicología](#tox)"
   ]
  },
  {
   "cell_type": "markdown",
   "metadata": {},
   "source": [
    "# Rombo de seguridad<a id=\"rombo\"></a>\n",
    "<img src=\"https://bl3301files.storage.live.com/y4mT07__XksCcGCRRTb0PFha_KeHdSQfDp9Pzcs5ty6oToxffxlxgxP7NZjf7mPOohjNfwB0ZVwdhiUXJneoaHwUpmWTLN6gosfH53d8CRLH-k3zvOqO1iEVFgDsUxmla3xDhFP4ZQj5F8b1jPqCAAeNKHiwE_KJM60ZI1HG7uQMXzRWUr_ztMmVzZrDRjhne-a?width=1000&height=1000&cropmode=none\" width=\"300\" height=\"300\" />\n"
   ]
  },
  {
   "cell_type": "markdown",
   "metadata": {},
   "source": [
    "# Disposición de residuos\n",
    "<a id=\"codigo_colores\"></a>\n",
    "\n",
    "\n",
    "|Código|Tipo de sustancia |Ejemplo|\n",
    "|:------:|:--------:|:--------------:|\n",
    "|A|Disolventes orgánicos y soluciones de sustancias orgánicas que no contengan halógenos.|Acetonas|\n",
    "|B|Disolventes orgánicos y soluciones de sustancias orgánicas que contengan halógenos.|Cloroformo|\n",
    "|C|Residuos sólidos orgánicos.|Ácido Acetil salicílico|\n",
    "|D|Soluciones salinas inorgánicas.|Sulfato de cobre|\n",
    "|E|Residuos inorgánicos tóxicos, así como las sales y sus soluciones de metales pesados.|Sales de plomo, talio y selenio|\n",
    "|F|Compuestos combustibles tóxicos.|Benceno|\n",
    "|G|Mercurio y sales de mercurio.|Sulfato de mercurio|\n",
    "|H|Sales metálicas regenerables.|Cloruro de plata|\n",
    "|I|Sólidos inorgánicos.|Carbonato de bario|\n",
    "|K|Residuos de vidrios, plásticos, metal, columnas y cartuchos para HPLC, capa fina y columnas, papel filtro, papel indicador.|Recipientes vacíos o rotos, papel|"
   ]
  },
  {
   "cell_type": "markdown",
   "metadata": {},
   "source": [
    "<a id=\"p_1\"></a>\n",
    "<h1><center> Práctica 1: Verificación y Manejo de una Balanza Analítica</center><a id=\"p_1\"></a></h1>"
   ]
  },
  {
   "cell_type": "markdown",
   "metadata": {},
   "source": [
    "### Objetivos\n",
    "Recordar el manejo correcto de la balanza analítica y realizar el procedimiento para llevar a cabo su calibración para determinar el error de la balanza.\n",
    "<p></p>"
   ]
  },
  {
   "cell_type": "markdown",
   "metadata": {},
   "source": [
    "### Hipótesis\n",
    "Se manejará la balanza de manera adecuada y se llevaráacabo su calibración pudiendo así determinar el error de esta.\n",
    "<p></p>"
   ]
  },
  {
   "cell_type": "markdown",
   "metadata": {},
   "source": [
    "### Introducción\n",
    "<p style=\"text-align: justify;\">Uno     de     los     procedimientos     utilizados     más comúnmenteen  el  laboratorio  es  la  medición  de masa.  Tal  es  suimportancia  que  existen  análisis químicos  basadosúnicamente  en  la  determinación precisa   de   la   masa   de   unamuestra,   o   en   la preparación  meticulosa  de  una  solución estándar. Por esto, la balanza ha sido y continuará siendouno de     los     instrumentos     más     importantes     del laboratorio</p>\n",
    "\n",
    "\n",
    "<p style=\"text-align: justify;\">A lo largo de los años, las balanzas se han vuelto más refinadas,  más  exactas,  y  como  consecuencia, más sensibles  a  influencia  externa  (como  humedad  o vibraciones). Sin embargo, se deben seguir una serie de    lineamientos    cuando    se    trata    con    ellas, independientemente  de  que  tipo  de  balanza  se trate<a href=\"#b1\"><sup>[1]</sup></a></p>\n",
    "\n",
    "#### Lineamientos para manejo de la balanza <a href=\"#b1\"><sup>[1]</sup></a>\n",
    "\n",
    "\n",
    "* Nunca exceder la carga máxima de la balanza.\n",
    "* Mantener  la  balanza  limpia.  Pre  y  post  uso  se debe  limpiar  tanto  polvo  como  residuos  del platillo y sus alrededores. \n",
    "* El  material  a  utilizar  nunca  debe  ser  manejado con  las  manos;  siempre  utilizar  pinzas  o  papel limpio.\n",
    "* Objetos   pesados   deben   estar   a   la   misma temperatura que la balanza.\n",
    "* La  balanza  debe  encontrarse  en  un  espacio cerrado,    con    factores    como    humedad    y temperatura adecuadamente controlados.\n",
    "* Ningún químico u objeto que pueda causar daño a  la  balanza  debe  ser  pesado  directamente sobre  ella.  Existenrecipientes  adecuados  para todo tipo de sustancias.\n",
    "* No  se  debe  recargar  sobre  la  mesa  donde  se encuentre  la  balanza,  ni  colocar  objetos  sobre ella. \n",
    "* Mientras  se  pesa  los  compartimientos  de  la balanza deben permanecer cerrados.\n",
    "\n",
    "\n",
    "\n",
    "#### Errores comunes en mediciones con la balanza<a href=\"#b1\"><sup>[1]</sup></a>\n",
    "\n",
    "* <p style=\"text-align: justify;\"><b>Cambio    de    condición    del    recipiente    y/o sustancia   entre   mediciones   sucesivas.</b>   Estos pueden absorber o perder humedad, electrificarse    por    fricción,    o    cambiar    su temperatura entre mediciones. La manera más fácil  de  evitar  estos  problemas  es  dejando  la muestra   reposar   unos   ~30min   cerca   de   la balanza para homogeneizar.</p>\n",
    "* <p style=\"text-align: justify;\"><b>Cuando una sustancia está inmersa en un fluido (como  el  aire),  su  peso  real  es  alterado  por  el peso  del  fluido  que  desplaza.</b>Este  error  se observa cuando la densidad de la muestra y de las   pesas   de   la   balanza   tienen   densidades distintas  (esto  se  cumple  casi  siempre).  Si  la sustancia tiene una densidad menor a las pesas, el peso medido será menor al real (y viceversa). Sin     embargo,     solo     es     necesario     hacer correcciones para estos errores en procedimientos como la calibración de material volumétrico; en el día a día no es necesario.</p>\n",
    "\n",
    "<p style=\"text-align: justify;\">Hay  una  gran  variedad  de  factores  que  afectan  el desempeño de las balanzas tales como temperatura ambiental,   humedad,  presión   barométrica,   etc. Debido  a  estos  factores  no  se  pueden  entregar certificaciones de calibración con la compra de estas balanzas  analíticas,  y  la  garantía  de  mediciones precisa  se  obtiene  solamente  tras  una  calibración local  (y  recurrente).  Existen  tanto  la  calibración externa (proceso manual que requiere utilizar masas aprobadas  como  estándares)  e  interna  (donde  el instrumento  se  calibra  solo,  usualmente  con  solo presionar un botón).</p>  \n",
    "<p></p>"
   ]
  },
  {
   "cell_type": "markdown",
   "metadata": {},
   "source": [
    "### Lista de reactivos materiales \n",
    "* Balanza analítica \n",
    "* Pesas patrón\n",
    "* Guantes\n",
    "* Pinzas de disección\n",
    "* Brocha\n",
    "<p></p>"
   ]
  },
  {
   "cell_type": "markdown",
   "metadata": {},
   "source": [
    "### Metodología \n",
    "\n",
    "<img src=\"https://bl3301files.storage.live.com/y4mRJCxrDW2bkdNlGN72BlaUuGmj32O3m53clExNvcueNCEQ3cnjShS-TB_ggKvZrfpw97eYoFL50Xhl9at9PBedCoDz_1ZY_LaiLPsWq_8a1iyTvShVMTgZKiGz_sIvhdlNIOwpVe5RU7netMxqa1InEMNzy8GSrQsnbaUxQHjT-0zApolYNcsVELNpP7nV9y8?width=2775&height=872&cropmode=none\" width=\"2775\" height=\"872\" />\n",
    "\n",
    "\n",
    "<p></p>"
   ]
  },
  {
   "cell_type": "markdown",
   "metadata": {},
   "source": [
    "### Actividades de investigación <a href=\"#b2\"><sup>[2]</sup></a><a href=\"#b3\"><sup>[3]</sup></a>\n",
    "\n",
    "<p style=\"text-align: justify;\"><b>Material de referencia:</b> Material homogéneo y estable de acuerdo consus propiedades especificada que lo establecen como apto para su uso en una medición o en un análisis cualitativo.</p>\n",
    "\n",
    "<p style=\"text-align: justify;\"><b>Material   de   referencia: </b>Certificado: Material   de referencia  que  tiene  un  documento emitido  por alguna organización autorizada, donde proporciona diferentes   valores de las   propiedades con   surespectiva     incertidumbre     y  trazabilidad,     los requisitos del certificado se encuentran en la normaNMX-CH-161-IMNC.</p>\n",
    "\n",
    "<p style=\"text-align: justify;\"><b>Patrón de medición:</b> Los  estándares  son  materiales  que  contienen  una concentración   precisamente   conocida   de   alguna sustancia  a  utilizar  en  análisis  cuantitativo.  Estos permiten  una  referencia  que  puede  ser  utilizada para  determinar  concentraciones  desconocidas  o para calibrar instrumentos. </p>\n",
    "\n",
    "<p style=\"text-align: justify;\"><b>Trazabilidad: </b>según     NOM-001-SAG/GAN-2015:“Serie   de   actividades   técnicas   y   administrativas sistematizadas  que  permiten  registrar  los  procesos relacionados  con  el  nacimiento,  crianza,  engorda, reproducción,  sacrificio   y   procesamiento   de   un animal, los bienes de origen animal, así como de los productos   químicos,   farmacéuticos,   biológicos   y alimenticios  para  uso  en  animales  o  consumo  por éstos, hasta su consumo final, identificando en cada etapa su ubicación espacial y en su caso, los factores de   riesgo   zoosanitario   y   de   contaminación   que pueden   estar   presentes   en   cada   una   de   las actividades\".</p>\n",
    "<p style=\"text-align: justify;\"> <b>Desviación estándar: </b>Es una medición de que tan cercanamente los datos están  agrupados  alrededor  de  la  media.  Entre  más pequeña sea esta desviación, más agrupados están los datos cerca de la media. La    ecuación    predeterminada    para    calcular    la desviación estándar en Excel es: <b>“=STDEV(VALORES)”</b></p>\n",
    "<p style=\"text-align: justify;\"> <b>Desviación estándar relativa: </b>Es una medición de que tan cercanamente los datos están  agrupados  alrededor  de  la  media.  Entre  más pequeña sea esta desviación, más agrupados están los datos cerca de la media. La    ecuación    predeterminada    para    calcular    la desviación estándar en Excel es: <b>“=STDEV(VALORES)”</b></p>\n",
    "\n",
    "<p></p>"
   ]
  },
  {
   "cell_type": "code",
   "execution_count": 61,
   "metadata": {},
   "outputs": [],
   "source": [
    "import pandas as pd\n",
    "import numpy as np\n",
    "\n",
    "#cálculos de las balanzas 1 y 4\n",
    "\n",
    "balance1 = pd.DataFrame(\n",
    "    {\n",
    "        'Pesa':[1,2,5,10,20,50,100],\n",
    "        'Repeticion 1':[1.0011,2.0038,5.0049,10.0005,20.0087,49.9987,100.0094],\n",
    "        'Repeticion 2':[1.0011,2.0038,5.0048,10.0001,20.0081,49.9984,100.0099],\n",
    "        'Repeticion 3':[1.0008,2.0033,5.0044,9.9994,20.0084,49.9986,100.0093]\n",
    "    }\n",
    ")\n",
    "balance1['Promedio'] = balance1[['Repeticion 1','Repeticion 2','Repeticion 3']].mean(axis=1).round(4)\n",
    "balance1['Desviación'] = balance1[['Repeticion 1','Repeticion 2','Repeticion 3']].std(axis=1).round(4)\n",
    "balance1['Error Absoluto'] = (balance1['Promedio'] - balance1['Pesa']).abs().round(4)\n",
    "balance1['Error Relativo (%)'] = (balance1['Error Absoluto'] / balance1['Pesa'] * 100).round(4)\n",
    "balance1.set_index('Pesa',inplace=True)\n",
    "\n",
    "balance4 = pd.DataFrame(\n",
    "    {\n",
    "        'Pesa':[1,2,5,10,20,50,100],\n",
    "        'Repeticion 1':[0.98340,1.96840,4.91680,9.82440,19.65680,49.12060,98.25420],\n",
    "        'Repeticion 2':[0.98340,1.96840,4.91690,9.82430,19.65680,49.12040,98.25410],\n",
    "        'Repeticion 3':[0.98340,1.96840,4.91690,9.82420,19.65690,49.12040,98.25400]\n",
    "    }\n",
    ")\n",
    "balance4['Promedio'] = balance4[['Repeticion 1','Repeticion 2','Repeticion 3']].mean(axis=1).round(4)\n",
    "balance4['Desviación'] = balance4[['Repeticion 1','Repeticion 2','Repeticion 3']].std(axis=1).round(4)\n",
    "balance4['Error Absoluto'] = (balance4['Promedio'] - balance4['Pesa']).abs().round(4)\n",
    "balance4['Error Relativo (%)'] = (balance4['Error Absoluto'] / balance4['Pesa'] * 100).round(4)\n",
    "balance4.set_index('Pesa',inplace=True)\n",
    "\n",
    "\n"
   ]
  },
  {
   "cell_type": "code",
   "execution_count": 62,
   "metadata": {},
   "outputs": [],
   "source": [
    "#calculos de las balanzas del lab 5\n",
    "\n",
    "balances_l5 = pd.DataFrame(\n",
    "    {\n",
    "        'Estandar':[2.0000,5.0000,10.0000,20.0000,50.0000,100.0000],\n",
    "        '1':[2.0050,5.0043,9.9997,20.0080,49.9980,100.0100],\n",
    "        '2':[2.0035,5.0051,10.0000,20.0090,49.9980,100.0100],\n",
    "        '3':[2.0037,5.0046,9.9996,20.0080,49.9970,100.0100,],\n",
    "        '4':[1.9702,4.9171,9.8247,19.6580,49.1220,98.2570],\n",
    "        '5':[2.0051,5.0045,9.9997,20.0080,49.9980,100.0100],\n",
    "        '6':[2.0039,5.0046,9.9998,20.0080,49.9970,100.0100],\n",
    "        '7':[2.0059,5.0045,9.9993,20.0070,49.9950,100.0000],\n",
    "        '8':[2.0036,5.0047,9.9995,20.0080,49.9980,100.0100]\n",
    "    }\n",
    ")\n",
    "\n",
    "balances_l5_abserr = pd.DataFrame(\n",
    "    {\n",
    "        'Masa (g)':balances_l5['Estandar']\n",
    "    }\n",
    ")\n",
    "\n",
    "for e in range(0,8):\n",
    "    a = []\n",
    "    for i in range(1,7):\n",
    "        a.append(abs(balances_l5.iloc[i-1][e+1] - balances_l5.iloc[i-1][0]))\n",
    "    balances_l5_abserr[e+1] = a\n",
    "\n",
    "balances_l5_relerr = pd.DataFrame(\n",
    "    {\n",
    "        'Masa (g)':balances_l5['Estandar']\n",
    "    }\n",
    ")\n",
    "\n",
    "for e in range(1,9):\n",
    "    a = []\n",
    "    for i in range(1,7):\n",
    "        a.append(balances_l5_abserr.iloc[i-1][e] / balances_l5.iloc[i-1][0] * 100)\n",
    "    balances_l5_relerr[e] = a\n",
    "    \n",
    "balances_l5_abserr.set_index('Masa (g)',inplace=True)    \n",
    "balances_l5_relerr.set_index('Masa (g)',inplace=True)\n"
   ]
  },
  {
   "cell_type": "code",
   "execution_count": 63,
   "metadata": {},
   "outputs": [],
   "source": [
    "#calculos de monedas individuales\n",
    "\n",
    "coins_individual = pd.DataFrame(\n",
    "    {\n",
    "        'Moneda y año':['1 (1998)','2 (2005)','3 (2015)','4 (2016)','5 (2017)'],\n",
    "        'Pesada 1':[3.8323,3.8893,3.8921,3.9004,3.9193],\n",
    "        'Pesada 2':[3.8322,3.8404,3.8935,3.9013,3.9307],\n",
    "        'Pesada 3':[3.8331,3.8905,3.8931,3.9004,3.9301]\n",
    "    }\n",
    ")\n",
    "coins_individual['Promedio'] = coins_individual[['Pesada 1','Pesada 2', 'Pesada 3']].mean(axis=1).round(4)\n",
    "coins_individual['Desviacion'] = coins_individual[['Pesada 1','Pesada 2', 'Pesada 3']].std(axis=1).round(4)\n",
    "\n",
    "templist = []\n",
    "\n",
    "for i in range(0,5):\n",
    "    a = []\n",
    "    for e in range(1,4):\n",
    "        a.append(abs(coins_individual.iloc[i][e] - coins_individual['Promedio'][i]))\n",
    "    templist.append(np.sum(a)/3)\n",
    "    \n",
    "coins_individual['Error Absoluto'] = templist\n",
    "coins_individual['Error Absoluto'] = coins_individual['Error Absoluto'].round(4)\n",
    "coins_individual['Error Relativo (%)'] = (coins_individual['Error Absoluto'] / coins_individual['Promedio'] * 100).round(3)\n",
    "coins_individual.set_index('Moneda y año',inplace=True)  \n"
   ]
  },
  {
   "cell_type": "code",
   "execution_count": 64,
   "metadata": {},
   "outputs": [],
   "source": [
    "#calculos de monedas por diferencias\n",
    "\n",
    "coins_multiple = pd.DataFrame(\n",
    "    {\n",
    "        '# Moneda':[1,2,3,4,5],\n",
    "        'Peso por diferencia':[3.9333,3.7905,3.8934,3.9009,3.9304],\n",
    "        'Masa promedio (g)':coins_individual['Promedio']\n",
    "    }\n",
    ")\n",
    "\n",
    "coins_multiple['Error Absoluto'] = (coins_multiple['Masa promedio (g)'] - coins_multiple['Peso por diferencia']).abs().round(4)\n",
    "coins_multiple['Error Relativo (%)'] = (coins_multiple['Error Absoluto'] / coins_multiple['Masa promedio (g)'] * 100).round(3)\n",
    "coins_multiple.set_index('# Moneda',inplace=True)  "
   ]
  },
  {
   "cell_type": "markdown",
   "metadata": {},
   "source": [
    "### Resultados"
   ]
  },
  {
   "cell_type": "markdown",
   "metadata": {
    "variables": {
     "balance1[['Promedio','Desviación','Error Absoluto','Error Relativo (%)']]": "<div>\n<style scoped>\n    .dataframe tbody tr th:only-of-type {\n        vertical-align: middle;\n    }\n\n    .dataframe tbody tr th {\n        vertical-align: top;\n    }\n\n    .dataframe thead th {\n        text-align: right;\n    }\n</style>\n<table border=\"1\" class=\"dataframe\">\n  <thead>\n    <tr style=\"text-align: right;\">\n      <th></th>\n      <th>Promedio</th>\n      <th>Desviación</th>\n      <th>Error Absoluto</th>\n      <th>Error Relativo (%)</th>\n    </tr>\n    <tr>\n      <th>Pesa</th>\n      <th></th>\n      <th></th>\n      <th></th>\n      <th></th>\n    </tr>\n  </thead>\n  <tbody>\n    <tr>\n      <th>1</th>\n      <td>1.0010</td>\n      <td>0.0002</td>\n      <td>0.0010</td>\n      <td>0.1000</td>\n    </tr>\n    <tr>\n      <th>2</th>\n      <td>2.0036</td>\n      <td>0.0003</td>\n      <td>0.0036</td>\n      <td>0.1800</td>\n    </tr>\n    <tr>\n      <th>5</th>\n      <td>5.0047</td>\n      <td>0.0003</td>\n      <td>0.0047</td>\n      <td>0.0940</td>\n    </tr>\n    <tr>\n      <th>10</th>\n      <td>10.0000</td>\n      <td>0.0006</td>\n      <td>0.0000</td>\n      <td>0.0000</td>\n    </tr>\n    <tr>\n      <th>20</th>\n      <td>20.0084</td>\n      <td>0.0003</td>\n      <td>0.0084</td>\n      <td>0.0420</td>\n    </tr>\n    <tr>\n      <th>50</th>\n      <td>49.9986</td>\n      <td>0.0002</td>\n      <td>0.0014</td>\n      <td>0.0028</td>\n    </tr>\n    <tr>\n      <th>100</th>\n      <td>100.0095</td>\n      <td>0.0003</td>\n      <td>0.0095</td>\n      <td>0.0095</td>\n    </tr>\n  </tbody>\n</table>\n</div>",
     "balance4[['Promedio','Desviación','Error Absoluto','Error Relativo (%)']]": "<div>\n<style scoped>\n    .dataframe tbody tr th:only-of-type {\n        vertical-align: middle;\n    }\n\n    .dataframe tbody tr th {\n        vertical-align: top;\n    }\n\n    .dataframe thead th {\n        text-align: right;\n    }\n</style>\n<table border=\"1\" class=\"dataframe\">\n  <thead>\n    <tr style=\"text-align: right;\">\n      <th></th>\n      <th>Promedio</th>\n      <th>Desviación</th>\n      <th>Error Absoluto</th>\n      <th>Error Relativo (%)</th>\n    </tr>\n    <tr>\n      <th>Pesa</th>\n      <th></th>\n      <th></th>\n      <th></th>\n      <th></th>\n    </tr>\n  </thead>\n  <tbody>\n    <tr>\n      <th>1</th>\n      <td>0.9834</td>\n      <td>0.0000</td>\n      <td>0.0166</td>\n      <td>1.6600</td>\n    </tr>\n    <tr>\n      <th>2</th>\n      <td>1.9684</td>\n      <td>0.0000</td>\n      <td>0.0316</td>\n      <td>1.5800</td>\n    </tr>\n    <tr>\n      <th>5</th>\n      <td>4.9169</td>\n      <td>0.0001</td>\n      <td>0.0831</td>\n      <td>1.6620</td>\n    </tr>\n    <tr>\n      <th>10</th>\n      <td>9.8243</td>\n      <td>0.0001</td>\n      <td>0.1757</td>\n      <td>1.7570</td>\n    </tr>\n    <tr>\n      <th>20</th>\n      <td>19.6568</td>\n      <td>0.0001</td>\n      <td>0.3432</td>\n      <td>1.7160</td>\n    </tr>\n    <tr>\n      <th>50</th>\n      <td>49.1205</td>\n      <td>0.0001</td>\n      <td>0.8795</td>\n      <td>1.7590</td>\n    </tr>\n    <tr>\n      <th>100</th>\n      <td>98.2541</td>\n      <td>0.0001</td>\n      <td>1.7459</td>\n      <td>1.7459</td>\n    </tr>\n  </tbody>\n</table>\n</div>"
    }
   },
   "source": [
    "\n",
    "\n",
    "### Balanza 1\n",
    "\n",
    "{{balance1[['Promedio','Desviación','Error Absoluto','Error Relativo (%)']]}}\n",
    "\n",
    "### Balanza 4\n",
    "\n",
    "{{balance4[['Promedio','Desviación','Error Absoluto','Error Relativo (%)']]}}"
   ]
  },
  {
   "cell_type": "markdown",
   "metadata": {
    "variables": {
     "balances_l5_abserr": "<div>\n<style scoped>\n    .dataframe tbody tr th:only-of-type {\n        vertical-align: middle;\n    }\n\n    .dataframe tbody tr th {\n        vertical-align: top;\n    }\n\n    .dataframe thead th {\n        text-align: right;\n    }\n</style>\n<table border=\"1\" class=\"dataframe\">\n  <thead>\n    <tr style=\"text-align: right;\">\n      <th></th>\n      <th>1</th>\n      <th>2</th>\n      <th>3</th>\n      <th>4</th>\n      <th>5</th>\n      <th>6</th>\n      <th>7</th>\n      <th>8</th>\n    </tr>\n    <tr>\n      <th>Masa (g)</th>\n      <th></th>\n      <th></th>\n      <th></th>\n      <th></th>\n      <th></th>\n      <th></th>\n      <th></th>\n      <th></th>\n    </tr>\n  </thead>\n  <tbody>\n    <tr>\n      <th>2.0</th>\n      <td>0.0050</td>\n      <td>0.0035</td>\n      <td>0.0037</td>\n      <td>0.0298</td>\n      <td>0.0051</td>\n      <td>0.0039</td>\n      <td>0.0059</td>\n      <td>0.0036</td>\n    </tr>\n    <tr>\n      <th>5.0</th>\n      <td>0.0043</td>\n      <td>0.0051</td>\n      <td>0.0046</td>\n      <td>0.0829</td>\n      <td>0.0045</td>\n      <td>0.0046</td>\n      <td>0.0045</td>\n      <td>0.0047</td>\n    </tr>\n    <tr>\n      <th>10.0</th>\n      <td>0.0003</td>\n      <td>0.0000</td>\n      <td>0.0004</td>\n      <td>0.1753</td>\n      <td>0.0003</td>\n      <td>0.0002</td>\n      <td>0.0007</td>\n      <td>0.0005</td>\n    </tr>\n    <tr>\n      <th>20.0</th>\n      <td>0.0080</td>\n      <td>0.0090</td>\n      <td>0.0080</td>\n      <td>0.3420</td>\n      <td>0.0080</td>\n      <td>0.0080</td>\n      <td>0.0070</td>\n      <td>0.0080</td>\n    </tr>\n    <tr>\n      <th>50.0</th>\n      <td>0.0020</td>\n      <td>0.0020</td>\n      <td>0.0030</td>\n      <td>0.8780</td>\n      <td>0.0020</td>\n      <td>0.0030</td>\n      <td>0.0050</td>\n      <td>0.0020</td>\n    </tr>\n    <tr>\n      <th>100.0</th>\n      <td>0.0100</td>\n      <td>0.0100</td>\n      <td>0.0100</td>\n      <td>1.7430</td>\n      <td>0.0100</td>\n      <td>0.0100</td>\n      <td>0.0000</td>\n      <td>0.0100</td>\n    </tr>\n  </tbody>\n</table>\n</div>",
     "balances_l5_relerr": "<div>\n<style scoped>\n    .dataframe tbody tr th:only-of-type {\n        vertical-align: middle;\n    }\n\n    .dataframe tbody tr th {\n        vertical-align: top;\n    }\n\n    .dataframe thead th {\n        text-align: right;\n    }\n</style>\n<table border=\"1\" class=\"dataframe\">\n  <thead>\n    <tr style=\"text-align: right;\">\n      <th></th>\n      <th>1</th>\n      <th>2</th>\n      <th>3</th>\n      <th>4</th>\n      <th>5</th>\n      <th>6</th>\n      <th>7</th>\n      <th>8</th>\n    </tr>\n    <tr>\n      <th>Masa (g)</th>\n      <th></th>\n      <th></th>\n      <th></th>\n      <th></th>\n      <th></th>\n      <th></th>\n      <th></th>\n      <th></th>\n    </tr>\n  </thead>\n  <tbody>\n    <tr>\n      <th>2.0</th>\n      <td>0.250</td>\n      <td>0.175</td>\n      <td>0.185</td>\n      <td>1.490</td>\n      <td>0.255</td>\n      <td>0.195</td>\n      <td>0.295</td>\n      <td>0.180</td>\n    </tr>\n    <tr>\n      <th>5.0</th>\n      <td>0.086</td>\n      <td>0.102</td>\n      <td>0.092</td>\n      <td>1.658</td>\n      <td>0.090</td>\n      <td>0.092</td>\n      <td>0.090</td>\n      <td>0.094</td>\n    </tr>\n    <tr>\n      <th>10.0</th>\n      <td>0.003</td>\n      <td>0.000</td>\n      <td>0.004</td>\n      <td>1.753</td>\n      <td>0.003</td>\n      <td>0.002</td>\n      <td>0.007</td>\n      <td>0.005</td>\n    </tr>\n    <tr>\n      <th>20.0</th>\n      <td>0.040</td>\n      <td>0.045</td>\n      <td>0.040</td>\n      <td>1.710</td>\n      <td>0.040</td>\n      <td>0.040</td>\n      <td>0.035</td>\n      <td>0.040</td>\n    </tr>\n    <tr>\n      <th>50.0</th>\n      <td>0.004</td>\n      <td>0.004</td>\n      <td>0.006</td>\n      <td>1.756</td>\n      <td>0.004</td>\n      <td>0.006</td>\n      <td>0.010</td>\n      <td>0.004</td>\n    </tr>\n    <tr>\n      <th>100.0</th>\n      <td>0.010</td>\n      <td>0.010</td>\n      <td>0.010</td>\n      <td>1.743</td>\n      <td>0.010</td>\n      <td>0.010</td>\n      <td>0.000</td>\n      <td>0.010</td>\n    </tr>\n  </tbody>\n</table>\n</div>"
    }
   },
   "source": [
    "### Errores absolutos balanzas lab 5\n",
    "\n",
    "{{balances_l5_abserr}}\n",
    "\n",
    "### Errores relativos (%) balanzas lab 5\n",
    "\n",
    "{{balances_l5_relerr}}"
   ]
  },
  {
   "cell_type": "markdown",
   "metadata": {
    "variables": {
     "coins_individual": "<div>\n<style scoped>\n    .dataframe tbody tr th:only-of-type {\n        vertical-align: middle;\n    }\n\n    .dataframe tbody tr th {\n        vertical-align: top;\n    }\n\n    .dataframe thead th {\n        text-align: right;\n    }\n</style>\n<table border=\"1\" class=\"dataframe\">\n  <thead>\n    <tr style=\"text-align: right;\">\n      <th></th>\n      <th>Pesada 1</th>\n      <th>Pesada 2</th>\n      <th>Pesada 3</th>\n      <th>Promedio</th>\n      <th>Desviacion</th>\n      <th>Error Absoluto</th>\n      <th>Error Relativo (%)</th>\n    </tr>\n    <tr>\n      <th>Moneda y año</th>\n      <th></th>\n      <th></th>\n      <th></th>\n      <th></th>\n      <th></th>\n      <th></th>\n      <th></th>\n    </tr>\n  </thead>\n  <tbody>\n    <tr>\n      <th>1 (1998)</th>\n      <td>3.8323</td>\n      <td>3.8322</td>\n      <td>3.8331</td>\n      <td>3.8325</td>\n      <td>0.0005</td>\n      <td>0.0004</td>\n      <td>0.010</td>\n    </tr>\n    <tr>\n      <th>2 (2005)</th>\n      <td>3.8893</td>\n      <td>3.8404</td>\n      <td>3.8905</td>\n      <td>3.8734</td>\n      <td>0.0286</td>\n      <td>0.0220</td>\n      <td>0.568</td>\n    </tr>\n    <tr>\n      <th>3 (2015)</th>\n      <td>3.8921</td>\n      <td>3.8935</td>\n      <td>3.8931</td>\n      <td>3.8929</td>\n      <td>0.0007</td>\n      <td>0.0005</td>\n      <td>0.013</td>\n    </tr>\n    <tr>\n      <th>4 (2016)</th>\n      <td>3.9004</td>\n      <td>3.9013</td>\n      <td>3.9004</td>\n      <td>3.9007</td>\n      <td>0.0005</td>\n      <td>0.0004</td>\n      <td>0.010</td>\n    </tr>\n    <tr>\n      <th>5 (2017)</th>\n      <td>3.9193</td>\n      <td>3.9307</td>\n      <td>3.9301</td>\n      <td>3.9267</td>\n      <td>0.0064</td>\n      <td>0.0049</td>\n      <td>0.125</td>\n    </tr>\n  </tbody>\n</table>\n</div>"
    }
   },
   "source": [
    "### Monedas pesadas individualmente\n",
    "\n",
    "{{coins_individual}}"
   ]
  },
  {
   "cell_type": "markdown",
   "metadata": {
    "variables": {
     "coins_multiple": "<div>\n<style scoped>\n    .dataframe tbody tr th:only-of-type {\n        vertical-align: middle;\n    }\n\n    .dataframe tbody tr th {\n        vertical-align: top;\n    }\n\n    .dataframe thead th {\n        text-align: right;\n    }\n</style>\n<table border=\"1\" class=\"dataframe\">\n  <thead>\n    <tr style=\"text-align: right;\">\n      <th></th>\n      <th>Peso por diferencia</th>\n      <th>Masa promedio (g)</th>\n      <th>Error Absoluto</th>\n      <th>Error Relativo (%)</th>\n    </tr>\n    <tr>\n      <th># Moneda</th>\n      <th></th>\n      <th></th>\n      <th></th>\n      <th></th>\n    </tr>\n  </thead>\n  <tbody>\n    <tr>\n      <th>1</th>\n      <td>3.9333</td>\n      <td>3.8325</td>\n      <td>0.1008</td>\n      <td>2.630</td>\n    </tr>\n    <tr>\n      <th>2</th>\n      <td>3.7905</td>\n      <td>3.8734</td>\n      <td>0.0829</td>\n      <td>2.140</td>\n    </tr>\n    <tr>\n      <th>3</th>\n      <td>3.8934</td>\n      <td>3.8929</td>\n      <td>0.0005</td>\n      <td>0.013</td>\n    </tr>\n    <tr>\n      <th>4</th>\n      <td>3.9009</td>\n      <td>3.9007</td>\n      <td>0.0002</td>\n      <td>0.005</td>\n    </tr>\n    <tr>\n      <th>5</th>\n      <td>3.9304</td>\n      <td>3.9267</td>\n      <td>0.0037</td>\n      <td>0.094</td>\n    </tr>\n  </tbody>\n</table>\n</div>"
    }
   },
   "source": [
    "### Monedas pesadas en grupo\n",
    "\n",
    "{{coins_multiple}}\n"
   ]
  },
  {
   "cell_type": "markdown",
   "metadata": {},
   "source": [
    "### Análisis y discusión de resultados  \n",
    "#### Resultados de la balanzas 1 y 4\n",
    "Las primeras dos reacciones fueron calibradas utilizando masas patron de 1g, 2g, 5g, 10g, 20g, 50g y 100g en ambas balanxas se realizo el pesado por triplicado y posteriormente determino el promedio, desviación estandar y se obtuvo el error absoluto y el error relativo de acuerdo a las siguientes ecuaciones:\n",
    "<a id=\"ea\"></a>\n",
    "<p></p>\n",
    "$$Promedio$$\n",
    "<p></p>\n",
    "$$\n",
    "\\bar{X}=\\frac{X_{i}}{n}\n",
    "$$\n",
    "<p></p>\n",
    "$$Error\\;absoluto$$\n",
    "<p></p>\n",
    "$$\n",
    "ε_{a}=\\left |X_{real}-\\bar{X}\\right|\n",
    "$$\n",
    "<p></p>\n",
    "\n",
    "$$Error\\;relativo$$\n",
    "<p></p>\n",
    "$$\n",
    "ε_{r}=\\frac{ε_{a}}{X_{real}}\n",
    "$$\n",
    "<p></p>\n",
    "$$Desviación\\;Estandar$$\n",
    "<p></p>\n",
    "$$\n",
    "s = \\sqrt{\\frac{\\sum{(\\bar{X}-X_{i})}}{n-1}}\n",
    "$$\n",
    "<p></p>\n",
    "<p style=\"text-align: justify;\">En la práctica no se indica el tipo de pesas patron utilizadas para la calibración, suponiendo se utilizaron pesas patrón de tipo E1  de acuerdo a la norma NOM-038-SCFI-2000 <a href=\"#b4\"><sup>[4]</sup></a>  los errores absolutos se encuentran dentro de los rangos permitidos para la balanza número 1 y la desviación estadar es muy pequeña del orden $10^{-4}$ lo que significa que no hay variaziones significativas en la medición, en la balanza 4 se puede observar una variación mas notoria y los errores absolutos sobrepasan a los permitidos en la norma por lo que es necesario llevar acabo el proceso de calibración de la balanza, la desviación estandar en esta balanza fue igual del orden de $10^{-4}$ incluso en unos casos no hubo variación en la lectura pero esto únicamente indica la repetibilidad en las mediciones no si estas son correctas o no. En esta balanza el error absoluto incrementa conforme aumenta el peso de los patrones, teniendo el error mas grande con la pesa de 100g.</p>\n",
    "\n",
    "Tambien se analizaron los datos de las balanzas del laboratorio 5 de los cuales  unicamente se tenia el reporte de los diferentes pesos de cada uno de los patrones en cada una de las balanzas lo cual unicamente nos permitio obtener  el  error absoluto y el error relativo calculado con las mismas [ecuaciones](#ea) mencionadas anteriormente utilizando el valor reportado en cada lectura.\n",
    "<p style=\"text-align: justify;\">Estos datos no son de utilidad para llevar acabo la calibración de las balanzas, pero nos permiten evualuar las condiciones de las balanzas en el laboratorio 5, observando que la balanza que presenta un mayor error es la balanza número 4, ya que presentaba un  error relativo  mayor entre (1.48 - 1.75%) en comparación al que presentaban las demás balanzas que tenian un rango de errores relativos entre (0.004 - 0.25% ). Por lo que en este laboratorio seria necesario llevar acabo el proceso de calibración de la balanza.</p>\n",
    "\n",
    "\n",
    "\n",
    "\n"
   ]
  },
  {
   "cell_type": "markdown",
   "metadata": {},
   "source": [
    "<p style=\"text-align: justify;\" >En el último experimento para determinar el peso por diferencia de diferentes monedas, primeramente se determino el peso por triplicado de 5 mondeas de 5 pesos las cuales se determinó su, promedio, error absoluto, error relativo y desviación estandar. El promedio del peso de cada moneda se considero como el valor real, el cual fue utilizado para comparar con el peso determinado por diferencia. Las ecuaciones para determinar el error absoluto fue la siguiente:</p>\n",
    "\n",
    "$$\n",
    "ε_{a}=\\frac{\\sum_{i=1}^{3}|\\bar{X}-X_{i}|}{3}\n",
    "$$\n",
    "Para determinar el error relativo se utilizó la [ecuación](#ea) anteriormente mencionada unicamente sustituyendo el valor real por el valor el peso promedio de la moneda.\n",
    "\n",
    "<p style=\"text-align: justify;\" > Al determinar el peso por diferencia en las primeras dos medidas se observa un error mucho mas grande (2.14-2.62%) en comparación a cuando se determinó el peso por diferencia de las tres monedas donde se observó un error mucho menor (0.005-0.09%). </p>\n",
    "\n",
    "\n",
    "\n",
    "\n"
   ]
  },
  {
   "cell_type": "markdown",
   "metadata": {},
   "source": [
    "### Conclusiones\n",
    "\n",
    "<p style=\"text-align: justify;\">Como tal el objetivo de la práctica no pudo ser completado debido a que la práctica no fue realizada de manera presencial unicamente analizamos los datos de otras personas y realizamos el análisis de datos que obtuvieron con los primeros datos se pudieron obtener los errores de la balanza y desviación estandar que nos permiten verificar si se encuentran dentro de los límites permitidos, respecto al análisis de las balanzas de laboratorio 5 nos permiten unicamente ver las condiciones en las que se encuentran las balanzas.</p>\n",
    " <p></p>\n",
    " \n",
    " \n",
    "\n"
   ]
  },
  {
   "cell_type": "markdown",
   "metadata": {},
   "source": [
    "<a href= \"#indice\" ><img src=\"https://bl3301files.storage.live.com/y4m-c96T5uHYCy5gRYmjxh9GAKLct1CTOz-IAhMfv-5-yf3kkDICnUTqD7h8CtGTWc5N8tGnzP1JGiTIgCQYQQusiQE6qmZUnNXw16aj5CeS2H-V0DWechdQ-nXMOuPwzGCO_qrHuG3eUNU2_AjktluOM9bW8NXvKAoF1Ba3jqv3Z9EuuEHJfFrig7uhjuC8eMe?width=250&height=83&cropmode=none\" width=\"125\" height=\"41\" /></a>"
   ]
  },
  {
   "cell_type": "markdown",
   "metadata": {},
   "source": [
    "<a id=\"p_2\"></a>\n",
    "<h1><center> Práctica 2: Determinación de Aspirina en Tabletas Comerciales por Potenciometría</center><a id=\"p_2\"></a></h1>"
   ]
  },
  {
   "cell_type": "markdown",
   "metadata": {},
   "source": [
    "### Objetivos\n",
    "Determinar la concentración de aspirina en una muestra de tableta comercial por medio de titulación Potenciométrica.\n",
    "<p></p>"
   ]
  },
  {
   "cell_type": "markdown",
   "metadata": {},
   "source": [
    "### Hipótesis\n",
    "Se determinará que todas las tabletas contienen la cantidad de principio activo indicado por los proveedores, dentro de los rangos aceptables según las farmacopeas.\n",
    "<p></p>"
   ]
  },
  {
   "cell_type": "markdown",
   "metadata": {},
   "source": [
    "### Método\n",
    "En este experimento se usará la técnica de titulación Potenciométrica usando NaOH como agente titulante.\n",
    "<p></p>"
   ]
  },
  {
   "cell_type": "markdown",
   "metadata": {},
   "source": [
    "### Introducción\n",
    "<p style=\"text-align: justify;\">Los métodos electroquímicos tienen una amplia gama de aplicaciones, aún dentro de la química analítica. Donde otros métodos solo podrían determinar, por ejemplo, la cantidad total de cobre en solución, con métodos EQs se podría distinguir entre la cantidad de Cu(I) y Cu(II).<a href=\"#b5\"><sup>[5]</sup></a> Adicionalmente, cuando se comparan con métodos espectrofotométricos o cromatográficos, por ejemplo, resultan mucho más baratos. </p>\n",
    "<p style=\"text-align: justify;\"> Una celda electroquímica generalmente cuenta con dos conductores eléctricos sumergidos en soluciones de electrolitos, a los cuales denominamos electrodos. Para que circule una corriente en una celda es necesario 1) que los electrodos se conecten externamente mediante un conductor metálico, 2) que las dos soluciones de electrolito estén en contacto para permitir el movimiento de iones de una a otra y 3) que pueda tener lugar una reacción de transferencia de electrones en cada uno de los electrodos<a href=\"#b6\"><sup>[6]</sup></a>. </p>\n",
    "\n",
    "<img src=\"https://bl3301files.storage.live.com/y4m2yO2Mf6QFsP-a1HrNN630GygbXmatA9gWhxMY7j6cFHKH4b1yt_GIJXp3RtNQbMmhATXvLqdCq2P4NAyl4gdORY1YX3-iBdsHbRyqp00Wq2Y7hj7RoHkcY_50g6cJCtFk3SbAurVbe073Dv7o8LiAZoIl9rQlq5mBmhu4mSS4Uc-jMEQqJ5nLB_iHmqWi3Aw?width=790&height=539&cropmode=none\" width=\"400\" height=\"250\" />\n",
    "<p style=\"text-align: center;\"><cite> <b>Figura I: Celda electroquímica galvánica con un circuito abierto<a href=\"#b6\"><sup>[6]</sup></a></cite></p>\n",
    "\n",
    "<p style=\"text-align: justify;\"> El potencial de una celda electroquímica es la diferencia entre el potencial de uno de los electrodos y el potencial del otro. Por esto, es útil pensar en la reacción de una celda EQ como si estuviese formada por dos semirreacciones de semicelda, cada una de las cuales posee un potencial de electrodo característico. Sin embargo, es importante notar que no existe método alguno para determinar el valor absoluto del potencial de un electrodo; esta incapacidad no es necesariamente una desventaja ya que los potenciales relativos medidos respecto a un electrodo de referencia son igual de útiles. Estos potenciales relativos pueden ser utilizados para calcular tanto potenciales de celda reales como constantes de equilibrio en procesos redox.</p> \n",
    "\n",
    "<p style=\"text-align: justify;\">La respuesta de un buen electrodo indicador a cambios de actividad debe ser 1) rápida y 2) una reproducible. Aunque existen errores que son imposibles de eliminar por completo, como el asociado al potencial líquido-líquido, y aunque no existe indicador perfectamente selectivo, hemos desarrollado excelentes opciones. Estos se dividen en dos categorías: electrodos metálicos y de membrana. Aquí se mencionarán principalmente los de membrana, y entre ellos los de vidrio, ya que son los más ocupados en análisis ácido-base. </p> \n",
    "\n",
    "<p style=\"text-align: center;\"><b>Tabla I: Tipos de electrodos de membrana selectiva de iones </b><a href=\"#b6\"><sup>[6]</sup></a></p>\n",
    "<img src=\"https://bl3301files.storage.live.com/y4mOywAcDNDfjvnhNs2edgTIVOKmSQIEU2xZcxc8uzc9sti2A-PcHZ2ZX8_XF5rWhvRRrBs12XYs7sJ_7DBN7eL3h8UyNLkxqfabPPa_TZqn94RB4-eLjguXVAMq9MbDF9HucpAblzyi4B5Nb2DVm7lifCEP4btI65gQEC9tx1pH372CJtTiqxz7ERRBr3hwe1Q?width=573&height=434&cropmode=none\" width=\"350\" height=\"250\" />\n",
    "\n",
    "\n",
    "<p style=\"text-align: justify;\">El electrodo de vidrio es el más antiguo de los electrodos de membrana, y aún sigue siendo el más utilizado<a href=\"#b6\"><sup>[6]</sup></a>. Desde los años 30´s la manera más adecuada de analizar pH ha sido midiendo la diferencia de potencial a través de una membrana de vidrio que separa la solución de analito de una solución de referencia de acidez fija. En la figura (II) se observa una celda característica para medición de pH. La figura (II.b) ilustra la configuración más común para medir el pH mediante un electrodo de vidrio En ella, el electrodo de vidrio y su electrodo de referencia interno Ag-AgCl se encuentran en el centro de una sonda cilíndrica. Un electrodo de referencia externo (generalmente de tipo Ag-AgCl) rodea al electrodo de vidrio; la presencia del electrodo de referencia externo no es tan obvia como en el diseño más anticuado (II.a). La membrana de vidrio sensible al pH está unida a la base de la sonda, y actúa como puente salino.</p>\n",
    "<img src=\"https://bl3301files.storage.live.com/y4mAAP70rYYqZt9Co4iU97iDbIT_dLtQhorgkkR-5YNiOP-AVd4MCzwCRkufSLqCgS1Y3LxUDAIu5e29-laqfAr3QoPSx_ZzIqAWXlm3vMfqNAyejEpn_WxFDHkWNDiILqvSqSiubn02Am124inaT-ofPr9f302MH_wXDC9RthU-cQULZYlsPki4lNTZsKeHSY2?width=636&height=449&cropmode=none\" width=\"400\" height=\"200\" />\n",
    "\n",
    "<p style=\"text-align: center;\"><cite> <b>Figura II:</b> Sistema de electrodos típico para medir el pH. a) Electrodo de vidrio (indicador) y electrodo de calomel saturado (de referencia) sumergidos en una solución de pH desconocido. b) Sonda de combinación que está constituida por un electrodo indicador de vidrio y un electrodo de referencia de Ag-AgCl. Un segundo electrodo de Ag-AgCl funciona como la referencia interna del electrodo de vidrio <a href=\"#b6\"><sup>[6]</sup></a></cite></p>\n",
    "\n",
    "<p style=\"text-align: justify;\">En este caso, se llevará a cabo una reacción simple ácido-base entre el ácido acetilsalicílico y el hidróxido de sodio para formar acetilsalicilato de sodio, según la reacción:</p>\n",
    "<img src=\"https://bl3301files.storage.live.com/y4mdAPSnKsHQzX596DmEiW3w6PNyXSBP-SoSUdkxWyH-S8ijgSGdTH0ADQ5wAZHjCR41v4LaEG9FF4fo9Png8SVPfzL3Cphtus_OSyJHupTxjMxWYnvaB5EexH5sOFORNlzYj7PkilKWzoZ8aqyvEHcp7wQ1JbZynip9WEStsWdqZJpa_cMy9jXlO4m0t8a4Chn?width=547&height=193&cropmode=none\" width=\"400\" height=\"90\" />\n",
    "\n",
    "<p style=\"text-align: center;\"><cite> <b>Figura III: </b>Reacción de hidróxido de sodio y ácido acetil salicílico</cite></p>\n",
    "\n",
    "<p style=\"text-align: justify;\">Este compuesto, el cual pertenece a la familia de las drogas antiinflamatorias no-esteroideas (NSAIDS) y es utilizada comúnmente para tratar dolores, fiebre, e inflamaciones, forma una parte importante de la industria farmacéutica, y por lo tanto su determinación precisa y exacta es indispensable. Según <a href=\"#b7\"><sup>[7]</sup></a> el estándar de la industria es que la pureza debe estar entre (99.5-100.5)%, y este rango levanta la necesidad de buenas técnicas de determinación. Entre estas existen titulaciones simples ácido-base, retrotitulaciones, y técnicas espectrofotométricas, entre otras. En esta práctica se realizará una determinación por potenciometría.</p>"
   ]
  },
  {
   "cell_type": "markdown",
   "metadata": {},
   "source": [
    "### Reactivos\n",
    "* NaOH 0.1 M </b><a href=\"#t1\"><sup>[tox]</sup></a></p>\n",
    "* Ftalato ácido de potasio.</b><a href=\"#t2\"><sup>[tox]</sup></a></p>\n",
    "* Indicador Fenolftaleína.\n",
    "* Tabletas con aspirina\n",
    "\n",
    "### Equipo\n",
    "\n",
    "<ul>\n",
    "     <li>Potenciómetro</li>\n",
    "     <li>Un Matraz aforado de 250 mL </li>\n",
    "     <li>Un soporte universal </li>\n",
    "     <li>Una parrilla con agitación</li>\n",
    "     <li>Una pinza para bureta</li>\n",
    "     <li>Una bureta de 50 mL</li>\n",
    "     <li>Un agitador magnético (Tamaño arroz)</li>\n",
    "     <li>3 vasos de precipitados de 250 mL</li>\n",
    "     <li>3 vasos de precipitados de 50 mL</li>\n",
    "     <li>1 pipeta volumétrica de 10 mL</li>\t\n",
    "     <li>1 pipeta volumétrica de 25 mL</li>\n",
    "     <li>1 mortero</li>\t\t\t\t\n",
    "     <li>Una pizeta</li>\n",
    "     <li>Papel para limpiar los electrodos</li>\n",
    "     <li>Una perilla</li>\n",
    "     <li>Espátula</li>\n",
    "</ul>\n"
   ]
  },
  {
   "cell_type": "markdown",
   "metadata": {},
   "source": [
    "### Metodología \n",
    "<img src=\"https://bl3301files.storage.live.com/y4mjiWfhYc1pO9J1O6Zb483g-a8Iog7KoYLnPG3rZfIGQnhaEKpLeF66DuO9vTjf9GAV6cSxBhY8jXty2Y1dYVPTpwBvzQuZVPx_iVKXPpkOSj1Mado5vfMsWxWWClKtFbWEXon2Y2G_Hb6wzpKdo72sVlU3IJp4ENy9cBsblgjmmy8obHG8CvsGcyjZ4S4tngr?width=2625&height=1298&cropmode=none\" width=\"600\" height=\"300\" />"
   ]
  },
  {
   "cell_type": "code",
   "execution_count": 65,
   "metadata": {},
   "outputs": [],
   "source": [
    "KHP_MM = 204.22\n",
    "\n",
    "NAOH_TIT = pd.DataFrame(\n",
    "    {\n",
    "        'Ensayo':[1,2,3],\n",
    "        'Masa KHP (g)':[0.7064,0.7077,0.7026],\n",
    "        'Volumen Final (ml)':[0.0354,0.0346,0.0339]\n",
    "    }\n",
    ")\n",
    "NAOH_TIT['Concentración (M)'] = (NAOH_TIT['Masa KHP (g)'] / KHP_MM / NAOH_TIT['Volumen Final (ml)'])\n",
    "NAOH_TIT.set_index('Ensayo',inplace=True)\n",
    "\n",
    "M_AVG = NAOH_TIT[['Concentración (M)']].mean()\n",
    "\n"
   ]
  },
  {
   "cell_type": "code",
   "execution_count": 66,
   "metadata": {},
   "outputs": [],
   "source": [
    "NAOH_ERR_AVGREAL = pd.DataFrame(\n",
    "    {\n",
    "        'Ensayo':[1,2,3],\n",
    "        'Concentración (M)':NAOH_TIT['Concentración (M)']\n",
    "    }\n",
    ")\n",
    "NAOH_ERR_AVGREAL['Error Absoluto'] = (NAOH_ERR_AVGREAL['Concentración (M)'] - M_AVG[0]).abs()\n",
    "NAOH_ERR_AVGREAL['Error Relativo'] = (NAOH_ERR_AVGREAL['Error Absoluto'] / M_AVG[0] * 100).abs()\n",
    "NAOH_ERR_AVGREAL.set_index('Ensayo',inplace=True)\n"
   ]
  },
  {
   "cell_type": "code",
   "execution_count": 67,
   "metadata": {},
   "outputs": [],
   "source": [
    "VALREAL = 0.1\n",
    "\n",
    "NAOH_ERR_VALREAL = pd.DataFrame(\n",
    "    {\n",
    "        'Ensayo':[1,2,3],\n",
    "        'Concentración (M)':NAOH_TIT['Concentración (M)']\n",
    "    }\n",
    ")\n",
    "NAOH_ERR_VALREAL['Error Absoluto'] = (NAOH_ERR_VALREAL['Concentración (M)'] - VALREAL).abs()\n",
    "NAOH_ERR_VALREAL['Error Relativo'] = (NAOH_ERR_VALREAL['Error Absoluto'] / VALREAL * 100).abs()\n",
    "NAOH_ERR_VALREAL.set_index('Ensayo',inplace=True)\n"
   ]
  },
  {
   "cell_type": "code",
   "execution_count": 68,
   "metadata": {},
   "outputs": [],
   "source": [
    "#titulaciones\n",
    "import matplotlib.pyplot as plt\n",
    "import pandas as pd\n",
    "\n",
    "tit_1 = pd.DataFrame(\n",
    "    {\n",
    "        'Volumen (ml)':[0,1,2,3,3.5,4,4.5,5,5.5,6,6.5,7,7.5,8,8.5,9,9.5,10,10.5,\n",
    "                        11,11.5,12,12.5,13,13.5,14,14.5,15,15.5,16,16.5,17,17.5,\n",
    "                        18,18.5,19,19.5,20,20.5,21,21.5,22,22.5,22.7,22.9,23,23.5,\n",
    "                        23.7,24.5,25.5,26.5,27.5,28.5,29.5,30.5,31.5],\n",
    "        'pH': [2.58,2.82,3.04,3.21,3.29,3.36,3.4,3.45,3.5,3.55,3.59,3.63,\n",
    "                           3.67,3.7,3.74,3.78,3.82,3.86,3.88,3.92,3.96,3.99,4.03,4.07,\n",
    "                           4.11,4.15,4.19,4.23,4.28,4.32,4.37,4.43,4.49,4.56,4.63,4.7,\n",
    "                           4.81,4.92,5.03,5.23,5.49,6.02,6.12,6.33,6.44,6.63,6.82,6.94,\n",
    "                           11.5,12.05,12.27,12.36,12.44,12.48,12.52,12.53]\n",
    "    }\n",
    ")\n",
    "\n",
    "pH_list = []\n",
    "Vol_list = [[],[]]\n",
    "for i in range(0,55):\n",
    "    pH_list.append(tit_1['pH'][i+1] - tit_1['pH'][i])\n",
    "    Vol_list[0].append(tit_1['Volumen (ml)'][i+1] - tit_1['Volumen (ml)'][i])\n",
    "    Vol_list[1].append((tit_1['Volumen (ml)'][i+1] + tit_1['Volumen (ml)'][i]) / 2)\n",
    "    \n",
    "FIRST_DERIV_tit1 = pd.DataFrame(\n",
    "    {\n",
    "        'ΔpH':pH_list,\n",
    "        'ΔV':Vol_list[0],\n",
    "        'Volumen (ml)':Vol_list[1]\n",
    "    }\n",
    ")\n",
    "\n",
    "tit_2 = pd.DataFrame(\n",
    "    {\n",
    "        'Volumen (ml)':[0,5,10,15,20,21.5,23,23.5,23.7,24,24.2,25,26,27.1,28,29,30],\n",
    "        'pH':[2.68,3.43,3.83,4.16,4.66,4.93,5.45,5.91,6.11,6.48,6.85,11.6,12.04,12.24,12.33,12.42,12.47]\n",
    "    }\n",
    ")\n",
    "\n",
    "pH_list = []\n",
    "Vol_list = [[],[]]\n",
    "\n",
    "for i in range(0,16):\n",
    "    pH_list.append(tit_2['pH'][i+1] - tit_2['pH'][i])\n",
    "    Vol_list[0].append(tit_2['Volumen (ml)'][i+1] - tit_2['Volumen (ml)'][i])\n",
    "    Vol_list[1].append((tit_2['Volumen (ml)'][i+1] + tit_2['Volumen (ml)'][i]) / 2)\n",
    "\n",
    "FIRST_DERIV_tit2 = pd.DataFrame(\n",
    "    {\n",
    "        'ΔpH':pH_list,\n",
    "        'ΔV':Vol_list[0],\n",
    "        'Volumen (ml)':Vol_list[1]\n",
    "    }\n",
    ")\n",
    "\n",
    "tit_3 = pd.DataFrame(\n",
    "    {\n",
    "        'Volumen (ml)':[0,5,10,15,20,21.5,23,23.5,23.7,24,25,26,27.1,28,29,30],\n",
    "        'pH':[2.62,3.41,3.82,4.22,4.94,5.69,6.29,6.55,6.82,10.57,11.87,12.14,12.28,12.37,12.43,12.44]\n",
    "    }\n",
    ")\n",
    "\n",
    "pH_list = []\n",
    "Vol_list = [[],[]]\n",
    "\n",
    "for i in range(0,15):\n",
    "    pH_list.append(tit_3['pH'][i+1] - tit_3['pH'][i])\n",
    "    Vol_list[0].append(tit_3['Volumen (ml)'][i+1] - tit_3['Volumen (ml)'][i])\n",
    "    Vol_list[1].append((tit_3['Volumen (ml)'][i+1] + tit_3['Volumen (ml)'][i]) / 2)\n",
    "\n",
    "FIRST_DERIV_tit3 = pd.DataFrame(\n",
    "    {\n",
    "        'ΔpH':pH_list,\n",
    "        'ΔV':Vol_list[0],\n",
    "        'Volumen (ml)':Vol_list[1]\n",
    "    }\n",
    ")\n",
    "\n",
    "FIRST_DERIV_tit1['ΔpH/ΔV'] = FIRST_DERIV_tit1['ΔpH'] / FIRST_DERIV_tit1['ΔV']\n",
    "FIRST_DERIV_tit2['ΔpH/ΔV'] = FIRST_DERIV_tit2['ΔpH'] / FIRST_DERIV_tit2['ΔV']\n",
    "FIRST_DERIV_tit3['ΔpH/ΔV'] = FIRST_DERIV_tit3['ΔpH'] / FIRST_DERIV_tit3['ΔV']\n"
   ]
  },
  {
   "cell_type": "code",
   "execution_count": 69,
   "metadata": {},
   "outputs": [],
   "source": [
    "MM_AcSal = 180.158\n",
    "REPORTED_VAL = 500\n",
    "\n",
    "aspirin = pd.DataFrame(\n",
    "    {\n",
    "        'Veq (ml)':[FIRST_DERIV_tit1['Volumen (ml)'].loc[FIRST_DERIV_tit1['ΔpH/ΔV'].idxmax()],\n",
    "                   FIRST_DERIV_tit2['Volumen (ml)'].loc[FIRST_DERIV_tit2['ΔpH/ΔV'].idxmax()],\n",
    "                   FIRST_DERIV_tit3['Volumen (ml)'].loc[FIRST_DERIV_tit3['ΔpH/ΔV'].idxmax()]],\n",
    "        'Masa Pastilla':[594.1,595.3,586]\n",
    "    }\n",
    ")\n",
    "\n",
    "aspirin['Masa (mg AcSal)'] = aspirin['Veq (ml)'] * M_AVG[0] * MM_AcSal\n",
    "aspirin['Error Absoluto'] = (aspirin['Masa (mg AcSal)'] - REPORTED_VAL).abs()\n",
    "aspirin['Error Relativo (%))'] = aspirin['Error Absoluto'] / REPORTED_VAL * 100\n",
    "aspirin['% p/p (respecto a 500mg)'] = aspirin['Masa (mg AcSal)'] / 500 * 100\n",
    "aspirin['% p/p (respecto a total)'] = aspirin['Masa (mg AcSal)'] / aspirin['Masa Pastilla'] * 100\n",
    "\n",
    "def confidence(std, t = 4.303, n = 3):\n",
    "    return t * std / np.sqrt(n) \n",
    "\n",
    "AcSal_avg = aspirin['Masa (mg AcSal)'].mean()\n",
    "AcSal_std = aspirin['Masa (mg AcSal)'].std()\n"
   ]
  },
  {
   "cell_type": "code",
   "execution_count": 70,
   "metadata": {},
   "outputs": [],
   "source": [
    "x1, y1, x2 , y2 , x3, y3 = tit_1['Volumen (ml)'], tit_1['pH'], tit_2['Volumen (ml)'], tit_2['pH'], tit_3['Volumen (ml)'], tit_3['pH']\n",
    "\n",
    "def plot_all():\n",
    "    fig, axs = plt.subplots(2, 2)\n",
    "    axs[0][0].plot(x1, y1)\n",
    "    axs[0][0].plot(x2, y2)\n",
    "    axs[0][0].plot(x3, y3)\n",
    "    axs[0][0].set_xlabel('Volumen (ml)')\n",
    "    axs[0][0].set_ylabel('pH')\n",
    "    axs[0][0].set_title('Estandarizaciones')\n",
    "    axs[0][0].legend([\"Titulación 1\", \"Titulación 2\", \"Titulación 3\"])\n",
    "    \n",
    "    axs[0][1].plot(FIRST_DERIV_tit1['Volumen (ml)'] , FIRST_DERIV_tit1['ΔpH/ΔV'])\n",
    "    axs[0][1].plot(x1, y1)\n",
    "    axs[0][1].set_xlabel('Volumen (ml)')\n",
    "    axs[0][1].set_ylabel('ΔpH/ΔV')\n",
    "    axs[0][1].set_title('Tit 1 - Primera Derivada')\n",
    "    \n",
    "    axs[1][0].plot(FIRST_DERIV_tit2['Volumen (ml)'] , FIRST_DERIV_tit2['ΔpH/ΔV'])\n",
    "    axs[1][0].plot(x1, y1)\n",
    "    axs[1][0].set_xlabel('Volumen (ml)')\n",
    "    axs[1][0].set_ylabel('ΔpH/ΔV')\n",
    "    axs[1][0].set_title('Tit 2 - Primera Derivada')\n",
    "    \n",
    "    axs[1][1].plot(FIRST_DERIV_tit3['Volumen (ml)'] , FIRST_DERIV_tit3['ΔpH/ΔV'])\n",
    "    axs[1][1].plot(x1, y1)\n",
    "    axs[1][1].set_xlabel('Volumen (ml)')\n",
    "    axs[1][1].set_ylabel('ΔpH/ΔV')\n",
    "    axs[1][1].set_title('Tit 3 - Primera Derivada')\n",
    "    plt.tight_layout()\n"
   ]
  },
  {
   "cell_type": "code",
   "execution_count": null,
   "metadata": {},
   "outputs": [],
   "source": []
  },
  {
   "cell_type": "markdown",
   "metadata": {},
   "source": [
    "### Resultados"
   ]
  },
  {
   "cell_type": "markdown",
   "metadata": {
    "variables": {
     "M_AVG[0].round(4)": "0.0998",
     "NAOH_ERR_AVGREAL.round(4)": "<div>\n<style scoped>\n    .dataframe tbody tr th:only-of-type {\n        vertical-align: middle;\n    }\n\n    .dataframe tbody tr th {\n        vertical-align: top;\n    }\n\n    .dataframe thead th {\n        text-align: right;\n    }\n</style>\n<table border=\"1\" class=\"dataframe\">\n  <thead>\n    <tr style=\"text-align: right;\">\n      <th></th>\n      <th>Concentración (M)</th>\n      <th>Error Absoluto</th>\n      <th>Error Relativo</th>\n    </tr>\n    <tr>\n      <th>Ensayo</th>\n      <th></th>\n      <th></th>\n      <th></th>\n    </tr>\n  </thead>\n  <tbody>\n    <tr>\n      <th>1</th>\n      <td>0.0977</td>\n      <td>0.0021</td>\n      <td>2.0771</td>\n    </tr>\n    <tr>\n      <th>2</th>\n      <td>0.1002</td>\n      <td>0.0004</td>\n      <td>0.3714</td>\n    </tr>\n    <tr>\n      <th>3</th>\n      <td>0.1015</td>\n      <td>0.0017</td>\n      <td>1.7057</td>\n    </tr>\n  </tbody>\n</table>\n</div>",
     "NAOH_ERR_VALREAL.round(4)": "<div>\n<style scoped>\n    .dataframe tbody tr th:only-of-type {\n        vertical-align: middle;\n    }\n\n    .dataframe tbody tr th {\n        vertical-align: top;\n    }\n\n    .dataframe thead th {\n        text-align: right;\n    }\n</style>\n<table border=\"1\" class=\"dataframe\">\n  <thead>\n    <tr style=\"text-align: right;\">\n      <th></th>\n      <th>Concentración (M)</th>\n      <th>Error Absoluto</th>\n      <th>Error Relativo</th>\n    </tr>\n    <tr>\n      <th>Ensayo</th>\n      <th></th>\n      <th></th>\n      <th></th>\n    </tr>\n  </thead>\n  <tbody>\n    <tr>\n      <th>1</th>\n      <td>0.0977</td>\n      <td>0.0023</td>\n      <td>2.2877</td>\n    </tr>\n    <tr>\n      <th>2</th>\n      <td>0.1002</td>\n      <td>0.0002</td>\n      <td>0.1555</td>\n    </tr>\n    <tr>\n      <th>3</th>\n      <td>0.1015</td>\n      <td>0.0015</td>\n      <td>1.4869</td>\n    </tr>\n  </tbody>\n</table>\n</div>",
     "NAOH_TIT": "<div>\n<style scoped>\n    .dataframe tbody tr th:only-of-type {\n        vertical-align: middle;\n    }\n\n    .dataframe tbody tr th {\n        vertical-align: top;\n    }\n\n    .dataframe thead th {\n        text-align: right;\n    }\n</style>\n<table border=\"1\" class=\"dataframe\">\n  <thead>\n    <tr style=\"text-align: right;\">\n      <th></th>\n      <th>Masa KHP (g)</th>\n      <th>Volumen Final (ml)</th>\n      <th>Concentración (M)</th>\n    </tr>\n    <tr>\n      <th>Ensayo</th>\n      <th></th>\n      <th></th>\n      <th></th>\n    </tr>\n  </thead>\n  <tbody>\n    <tr>\n      <th>1</th>\n      <td>0.7064</td>\n      <td>0.0354</td>\n      <td>0.097712</td>\n    </tr>\n    <tr>\n      <th>2</th>\n      <td>0.7077</td>\n      <td>0.0346</td>\n      <td>0.100156</td>\n    </tr>\n    <tr>\n      <th>3</th>\n      <td>0.7026</td>\n      <td>0.0339</td>\n      <td>0.101487</td>\n    </tr>\n  </tbody>\n</table>\n</div>",
     "VALREAL": "0.1"
    }
   },
   "source": [
    "### Estandarización de NaOH\n",
    "\n",
    "{{NAOH_TIT}}\n",
    "\n",
    "\n",
    "### Errores de la estandarización considerando el promedio M = {{M_AVG[0].round(4)}} como valor real\n",
    "\n",
    "{{NAOH_ERR_AVGREAL.round(4)}}\n",
    "\n",
    "\n",
    "### Errores de la estandarización considerando el promedio M = {{VALREAL}} como valor real\n",
    "\n",
    "{{NAOH_ERR_VALREAL.round(4)}}\n",
    "\n"
   ]
  },
  {
   "cell_type": "markdown",
   "metadata": {
    "variables": {
     "AcSal_avg.round(4)": "434.745",
     "aspirin.round(4)": "<div>\n<style scoped>\n    .dataframe tbody tr th:only-of-type {\n        vertical-align: middle;\n    }\n\n    .dataframe tbody tr th {\n        vertical-align: top;\n    }\n\n    .dataframe thead th {\n        text-align: right;\n    }\n</style>\n<table border=\"1\" class=\"dataframe\">\n  <thead>\n    <tr style=\"text-align: right;\">\n      <th></th>\n      <th>Veq (ml)</th>\n      <th>Masa Pastilla</th>\n      <th>Masa (mg AcSal)</th>\n      <th>Error Absoluto</th>\n      <th>Error Relativo (%))</th>\n      <th>% p/p (respecto a 500mg)</th>\n      <th>% p/p (respecto a total)</th>\n    </tr>\n  </thead>\n  <tbody>\n    <tr>\n      <th>0</th>\n      <td>24.10</td>\n      <td>594.1</td>\n      <td>433.2469</td>\n      <td>66.7531</td>\n      <td>13.3506</td>\n      <td>86.6494</td>\n      <td>72.9249</td>\n    </tr>\n    <tr>\n      <th>1</th>\n      <td>24.60</td>\n      <td>595.3</td>\n      <td>442.2354</td>\n      <td>57.7646</td>\n      <td>11.5529</td>\n      <td>88.4471</td>\n      <td>74.2878</td>\n    </tr>\n    <tr>\n      <th>2</th>\n      <td>23.85</td>\n      <td>586.0</td>\n      <td>428.7526</td>\n      <td>71.2474</td>\n      <td>14.2495</td>\n      <td>85.7505</td>\n      <td>73.1660</td>\n    </tr>\n  </tbody>\n</table>\n</div>",
     "confidence(AcSal_std).round(3)": "17.055",
     "plot_all()": "<img src=\"data:image/png;base64,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\n\"/>"
    }
   },
   "source": [
    "### Gráfica de titulaciones\n",
    "\n",
    "{{plot_all()}}\n",
    "\n",
    "\n",
    "\n",
    "\n",
    "{{aspirin.round(4)}}\n",
    "\n",
    "\n",
    "#### Cantidad de aspirina en pastilla con intervalo de confianza al 95%\n",
    "###### Intervalo de confianza t-student\n",
    "<p><center>{{AcSal_avg.round(4)}} ± {{confidence(AcSal_std).round(3)}} mg de ácido acetilsalicílico por pastilla<center></p>"
   ]
  },
  {
   "cell_type": "markdown",
   "metadata": {},
   "source": [
    "### Análisis y discusión de resultados\n",
    "\n"
   ]
  },
  {
   "cell_type": "markdown",
   "metadata": {
    "variables": {
     "AcSal_avg.round(4)": "434.745",
     "M_AVG[0].round(4)": "0.0998",
     "confidence(AcSal_std).round(3)": "17.055"
    }
   },
   "source": [
    "<p style=\"text-align: justify;\">Las pastillas utilizadas en este experimento contenían de acuerdo a la etiqueta 500mg de ácido acetilsalicílico, se pesaron y se registró el peso de la pastilla, posteriormente fueron disueltas y tituladas por potenciometría con una solución de hidróxido de sodio la cual fue estandarizada con Biftalato de potasio dando una concentración {{M_AVG[0].round(4)}}M con una desviación estándar de σ = {{}}, se realizó por triplicado y se determinó el <a href= \"#ep2\">punto de equivalencia</a> por medio de la primera derivada, se determinó los mg de aspirina por tableta con una confianza del 95% y se comparó con el valor reportado en la etiqueta comercial el intervalo de confianza de acuerdo a la distribución de <a href= \"#tstudent\">t-student</a> la pastilla contenía {{AcSal_avg.round(4)}} ± {{confidence(AcSal_std).round(3)}}mg que está por debajo de los valores reportados en la etiqueta.  </p>\n",
    "\n",
    "<p></p>\n",
    "$$Intervalo\\;de\\;confianza\\;t-student$$ \n",
    "<a name= \"tstudent\"> </a>\n",
    "$$\n",
    "\\mu =\\bar{x}\\;\\pm\\;\\frac{ts}{\\sqrt{n}}\n",
    "$$\n",
    "<p></p>\n",
    "<a name= \"tstudent\"> </a>\n",
    "\n",
    "\n",
    "<p style=\"text-align: justify;\">También se determinaron los errores absolutos y relativos  de acuerdo a la masa promedio obtenida con la reportada en la etiqueta comercial, también se determinó el porcentaje que contienen de ácido acetilsalicílico considerando el 100% los 500mg de lo que debería tener cada pastilla. Estando por debajo de los limites que solicita la farmacopea de la organización mundial de la salud donde el intervalo debe de ser de (99 – 100.5)% </p>\n",
    "\n",
    "El error es esta práctica es bastante alto lo cual puede deberse a errores en la metodología o técnica:\n",
    "-\tPosible pérdida de masa al moler las pastillas y al traspasar miligramos de aspirina del mortero al matraz donde se llevará acabo la estandarización.\n",
    "-\tNo dejar estabilizar la lectura del electrodo el tiempo necesario para registrar la lectura\n",
    "-\tFalta de calibración de la balanza analítica.\n",
    "\n",
    "La cantidad de Ácido acetilsalicílico fue menor a la reportada en la pastilla la cual puede deberse a lo mencionado anteriormente de no dejar estabilizar la lectura del potenciómetro el tiempo adecuado para que llegue al equilibrio por lo que el volumen de hidróxido de sodio es menor al que debería ser y por consiguiente la cantidad de ácido acetilsalicílico."
   ]
  },
  {
   "cell_type": "markdown",
   "metadata": {},
   "source": [
    "### Conclusiones \n",
    "Se pudo llevar a cabo la titulación potenciométrica y reportar un resultado de la concentración de ácido acetil salicílico, aunque no se pudo hacer la práctica de manera experimental de acuerdo con prácticas que hemos hecho anteriormente y al análisis de la técnica pudimos detectar posibles fuentes de error por las que el resultado que obtuvimos fue menor al que debía de contener la pastilla de ácido acetil salicílico."
   ]
  },
  {
   "cell_type": "markdown",
   "metadata": {},
   "source": [
    "<a href= \"#indice\" ><img src=\"https://bl3301files.storage.live.com/y4m-c96T5uHYCy5gRYmjxh9GAKLct1CTOz-IAhMfv-5-yf3kkDICnUTqD7h8CtGTWc5N8tGnzP1JGiTIgCQYQQusiQE6qmZUnNXw16aj5CeS2H-V0DWechdQ-nXMOuPwzGCO_qrHuG3eUNU2_AjktluOM9bW8NXvKAoF1Ba3jqv3Z9EuuEHJfFrig7uhjuC8eMe?width=250&height=83&cropmode=none\" width=\"125\" height=\"41\" /></a>"
   ]
  },
  {
   "cell_type": "markdown",
   "metadata": {},
   "source": [
    "<a id=\"p_3\"></a>\n",
    "<h1><center> Práctica 3: Uso y aplicaciones de la espectrofotometría de ultravioleta visible en fármacos y en colorantes organometálicos</center></h1>"
   ]
  },
  {
   "cell_type": "markdown",
   "metadata": {},
   "source": [
    "### Objetivos\n",
    "<p style=\"text-align: justify;\">El alumno aprenderá a utilizar el equipo de ultravioleta-visible para analizar la pureza de fármacos y colorantes por medio del modo de barrido. \n",
    "Aprenderá a identificar los parámetros de medición en el espectro y a sacar conclusiones a través de la lectura de esos parámetros.\n",
    "</p>"
   ]
  },
  {
   "cell_type": "markdown",
   "metadata": {},
   "source": [
    "### Hipótesis\n",
    "<p style=\"text-align: justify;\"></p>\n",
    "\n",
    "Se identificarán los errores cometidos por otros ejecutando metodologías similares, y se interpretarán correctamente varios espectros dados."
   ]
  },
  {
   "cell_type": "markdown",
   "metadata": {},
   "source": [
    "\n",
    "### Materiales \n",
    "<ul>\n",
    "    <li>Balanza analítica </li>\n",
    "    <li>Espectrofotómetro\t</li>\n",
    "    <li>Matraz volumétrico de 100 mL (2)</li>\n",
    "    <li>Vaso de precipitado de 30 mL (2)</li>\n",
    "    <li>Vaso de precipitado de 500 mL</li>\n",
    "    <li>Pipeta graduada de 1mL.</li>\n",
    "    <li>Celdas de Cuarzo y Plástico</li>\n",
    "</ul>\n",
    "\n",
    "### Reactivos  \n",
    "<ul>\n",
    "  <li>Colorantes</li>\n",
    "  <li>Fármacos: Diclofenaco, naproxeno y Paracetamol.</li>\n",
    "  <li>Agua destilada</li>\n",
    "  <li>Metanol grado HPLC<a href=\"#t3\"><sup>[tox]</sup></a></li>\n",
    "</ul>\n",
    "\n"
   ]
  },
  {
   "cell_type": "markdown",
   "metadata": {},
   "source": [
    "### Metodología \n",
    "<h4><center> Fármacos</center></h4>\n",
    "<img src=\"https://bl3301files.storage.live.com/y4miLKvBhgtep7nkQepV65kKC6ekehtOCD98ZosUSDJThahKZOJNyCv3WNDiCM0yeK-FB0jssUjEKs3t62hMUk7KA9dfm6BiBCs3Pbgl1v1NQWY4bpMOhqqj11nDY0qY4oe3PKzHwVkDY0DN1PF1yEBnzDEGYnuhfNyPgFSHt0-iBRoq0vNgYGlZaELmZMaigC6?width=3075&height=1388&cropmode=none\" width=\"450\" height=\"200\" />\n",
    "<h4><center>Colorantes</center></h4>\n",
    "<img src=\"https://bl3301files.storage.live.com/y4mTz2REjyt0wDq4a4UdAWm5fgnp7HvYRmlqp66NYfKBDv_1R3eTQU12KhOK34EINEOrA-_OeZAnC6V6a3mgp6IvurtFcMWmKOqrwJwNUEOYDs4tDTaRyO-IgGD2IGHfGAlqN9ToMo1kL8axs_bQ7yDoYnzpIxZMt_sJ_jOW6_ltNNbEuQ91NmnZCn8JVlA2UBn?width=2162&height=1088&cropmode=none\" width=\"450\" height=\"200\" />"
   ]
  },
  {
   "cell_type": "markdown",
   "metadata": {},
   "source": [
    "### Introducción  "
   ]
  },
  {
   "cell_type": "markdown",
   "metadata": {},
   "source": [
    "<p style=\"text-align: justify;\"> Un espectrómetro óptico es un instrumento que posee un sistema óptico que puede producir la dispersión de la radiación electromagnética incidente, y con el cual se pueden realizar mediciones de la cantidad de radiación transmitida en longitudes de onda elegidas. Un fotómetro es un dispositivo para medir la intensidad de la radiación transmitida (o una función de esta cantidad). Cuando se combinan en el espectrofotómetro, el espectrómetro y el fotómetro se emplean conjuntamente para producir una señal correspondiente a la diferencia entre el radiación transmitida de un material de referencia y la de una muestra problema a longitudes de onda seleccionadas. La ventaja principal de los métodos colorimétricos y espectrofotométricos es que proporcionan un medio sencillo para determinar cantidades diminutas de sustancias.</p>\n",
    "\n",
    "<p style=\"text-align: justify;\">Cuando la luz (ya sea hetero o monocromática) cae sobre un medio homogéneo, una porción de esa luz incidente es reflejada por el recipiente de vidrio, un poco puede ser dispersada por partículas grandes, otra porción es absorbida por el medio, ocasionalmente se absorbe por las paredes del recipiente, y lo que resta es transmitida, como se ve en la figura (I). </p>\n",
    "\n",
    "<p style=\"text-align: center;\"><cite>Ilustración 1 Pérdidas por reflexión y dispersión con una solución que está en un recipiente típico de vidrio</cite></p>\n",
    "\n",
    "<p style=\"text-align: justify;\"> Para poder despreciar todos estos efectos y solo tomar en cuenta la absorción de la muestra problema, generalmente se compara la potencia del haz transmitido con una celda control, la cual es idéntica a la solución que contiene la muestra problema, pero sin ésta. \n",
    "Lambert generalmente recibe el crédito por haber evaluado el cambio en absorción lumínica en función del grosor del medio a través del cual viaja, aunque realmente extendió sobre conceptos originalmente desarrollados por Bouguer. Sus experimentos encontraron que cuando la luz monocromática pasa a través de un medio transparente, la tasa de disminución en intensidad con el grosor del medio es proporcional al a intensidad de la luz. </p>\n",
    "\n",
    "<p style=\"text-align: justify;\">Luego, Beer aplicó experimentos similares a soluciones de concentraciones diferentes. Él encontró que la relación entre la transmisión y la concentración era la misma que Lambert había encontrado entre transmisión y grosor. Las dos leyes separadas que encontraron, las cuales gobiernan el fenómeno de absorción, se denominan Ley de Lambert & Ley de Beer; en su forma combinada, es conocida como la ley de Lambert-Beer:</p>\n",
    "\n",
    "$$\n",
    "log \\frac{I_o}{I_t} = acl\n",
    "$$\n",
    "\n",
    "<p style=\"text-align: justify;\">Esta es la ecuación fundamental de la colorimetría y espectrofotometría, donde el valor de a dependerá en el método de expresión de concentración. Si c se expresa como molaridad y  l como centímetros, a recibe el símbolo ε y se denomina coeficiente de absorción molar o absortividad molar (antes era conocido como el coeficiente de extinción molar). \n",
    "Las escalas de los espectrofotómetros generalmente se calibran para leer directamente en absorbancias, y muchas veces en porcentaje de transmitancia, aprovechando la relación entre estas dos unidades y el coeficiente molar de absorción, según:\n",
    "</p>\n",
    "<p></p>\n",
    " $$\n",
    " A = εcl = log \\frac{I_o}{I_t} = log \\frac{1}{T} =-log(T)\n",
    " $$\n",
    "<p style=\"text-align: justify;\"> La ley de Beer generalmente se cumplirá a concentraciones menores a 0.01M, aunque puede cumplirse a rangos más grandes si la estructura del ion colorido o no-electrolito disuelto no cambia con la concentración. Aunque cantidades pequeñas de electrolitos no suelen afectar la absorción de la solución, grandes cantidades pueden desplazar el máximo de absorción, y puede cambiar el valor del coeficiente de extinción. También se deja de cumplir esta ley cuando el soluto colorado se ioniza, disocia, o asocia en solución, además de cuando forma complejos en solución. Por último, el comportamiento se aleja del de esta ley cuando no se utiliza luz monocromática. Siempre es posible evaluar el comportamiento de las condiciones de soluto graficando I0/It, o log1/T vs la concentración: una línea recta que pasa por el origen indica conformidad a la ley de Beer.</p>"
   ]
  },
  {
   "cell_type": "code",
   "execution_count": 71,
   "metadata": {
    "scrolled": true
   },
   "outputs": [],
   "source": [
    "#calculos\n",
    "import pandas as pd\n",
    "import matplotlib.pyplot as plt\n",
    "\n",
    "azul1_spectrum = pd.DataFrame(\n",
    "    {\n",
    "        'λ (nm)':[400,405,410,415,420,425,430,435,440,445,450,455,460,465,470,475,\n",
    "                  480,485,490,495,500,505,510,515,520,525,530,535,540,545,550,555,\n",
    "                  560,565,570,575,580,585,590,595,600,605,610,615,620,625,630,635,\n",
    "                  640,645,650,655,660,665,670,675,680,685,690,695,700],\n",
    "        'A':[1.391,1.636,1.697,1.454,1.06,0.68,0.404,0.224,0.124,0.076,0.056,0.049,\n",
    "             0.05,0.054,0.061,0.071,0.084,0.101,0.121,0.147,0.18,0.221,0.272,0.333,\n",
    "             0.41,0.51,0.624,0.763,0.939,1.127,1.372,1.674,2.055,2.506,2.987,3.37,\n",
    "             3.557,3.654,3.675,3.835,3.809,3.799,3.598,3.863,3.956,3.986,4.082,4.154,\n",
    "             4.186,4.317,4.337,3.88,3.244,2.17,1.402,0.902,0.569,0.361,0.227,0.144,0.092]\n",
    "    }\n",
    ")\n",
    "\n",
    "amarillo5_spectrum = pd.DataFrame(\n",
    "    {\n",
    "        'λ (nm)':[400,405,410,415,420,425,430,435,440,445,450,455,460,465,470,475,\n",
    "                  480,485,490,495,500,505,510,515,520,525,530,535,540,545,550,555,\n",
    "                  560,565,570,575,580,585,590,595,600,605,610,615,620,625,630,635,\n",
    "                  640,645,650,655,660,665,670,675,680,685,690,695,700],\n",
    "        'A':[2.349,2.419,2.481,2.536,2.592,2.665,2.78,2.965,3.24,3.525,3.554,3.796,\n",
    "             4.031,4.179,4.2,4.293,4.216,4.353,4.204,4.039,4.346,4.157,4.106,3.788,\n",
    "             3.136,2.199,1.409,0.834,0.479,0.402,0.307,0.248,0.212,0.189,0.173,0.162,\n",
    "             0.152,0.145,0.138,0.134,0.012,0.012,0.012,0.013,0.012,0.013,0.012,0.013,\n",
    "             0.011,0.01,0.009,0.009,0.008,0.009,0.009,0.008,0.007,0.008,0.008,0.007,0.007]\n",
    "    }\n",
    ")\n",
    "\n",
    "rojo40_spectrum = pd.DataFrame(\n",
    "    {\n",
    "        'λ (nm)':[400,405,410,415,420,425,430,435,440,445,450,455,460,465,470,475,\n",
    "                  480,485,490,495,500,505,510,515,520,525,530,535,540,545,550,555,\n",
    "                  560,565,570,575,580,585,590,595,600,605,610,615,620,625,630,635,\n",
    "                  640,645,650,655,660,665,670,675,680,685,690,695,700],\n",
    "        'A':[1.662,1.53,1.411,1.332,1.324,1.395,1.542,1.76,2.032,2.356,2.79,3.769,\n",
    "             4.34,4.69,5.387,4.896,4.528,4.378,4.287,4.21,4.195,4.191,4.269,4.241,\n",
    "             4.179,4.253,4.068,3.956,3.728,3.283,3.167,2.976,2.568,2.19,1.785,1.56,\n",
    "             1.265,0.954,0.59,0.287,0.041,0.031,0.025,0.023,0.02,0.019,0.018,0.018,\n",
    "             0.017,0.017,0.017,0.016,0.016,0.016,0.015,0.015,0.015,0.014,0.014,0.014,0.013]\n",
    "    }\n",
    ")\n",
    "\n",
    "diclofenac_spectrum = pd.DataFrame(\n",
    "    {\n",
    "        'λ (nm)':[200,205,210,215,220,225,230,235,240,245,250,255,260,265,270,275,\n",
    "                  280,285,290,295,300,305,310,315,320,325,330,335,340,345,350,355,\n",
    "                  360,365,370,375,380,385,390,395,400],\n",
    "        'A':[0.0009,0.045,0.055,0.086,0.116,0.167,0.195,0.167,0.145,0.127,0.102,0.065,\n",
    "             0.071,0.058,0.103,0.089,0.104,0.282,1.219,1.909,2.025,1.375,0.781,0.419,\n",
    "             0.218,0.118,0.066,0.041,0.027,0.02,0.016,0.014,0.013,0.012,0.012,0.012,\n",
    "             0.012,0.012,0.013,0.013,0.012]\n",
    "    }\n",
    ")\n",
    "\n",
    "def plot_all_abs():\n",
    "    fig, axs = plt.subplots(2, 2)\n",
    "    axs[0][0].plot(azul1_spectrum['λ (nm)'], azul1_spectrum['A'], color = 'blue')\n",
    "    axs[0][0].set_xlabel('λ (nm)')\n",
    "    axs[0][0].set_ylabel('A')\n",
    "    axs[0][0].set_title('Espectro de Azul-1')\n",
    "    \n",
    "    axs[0][1].plot(amarillo5_spectrum['λ (nm)'], amarillo5_spectrum['A'], color = '#d6e34b')\n",
    "    axs[0][1].set_xlabel('λ (nm)')\n",
    "    axs[0][1].set_ylabel('A')\n",
    "    axs[0][1].set_title('Espectro de Amarillo-5')\n",
    "    \n",
    "    axs[1][0].plot(rojo40_spectrum['λ (nm)'], rojo40_spectrum['A'], color = 'red')\n",
    "    axs[1][0].set_xlabel('λ (nm)')\n",
    "    axs[1][0].set_ylabel('A')\n",
    "    axs[1][0].set_title('Espectro de Rojo-40')\n",
    "    \n",
    "    axs[1][1].plot(diclofenac_spectrum['λ (nm)'], diclofenac_spectrum['A'], color = 'black')\n",
    "    axs[1][1].set_xlabel('λ (nm)')\n",
    "    axs[1][1].set_ylabel('A')\n",
    "    axs[1][1].set_title('Espectro de Diclofenac')\n",
    "    plt.tight_layout()\n",
    "    \n",
    "datos = pd.DataFrame(\n",
    "    {\n",
    "        'Compuesto':['Azul-1','Amarillo-5','Rojo-40','Diclofenac'],\n",
    "        'λ max (nm)':[azul1_spectrum['λ (nm)'][azul1_spectrum['A'].idxmax()],\n",
    "                    amarillo5_spectrum['λ (nm)'][amarillo5_spectrum['A'].idxmax()],\n",
    "                    rojo40_spectrum['λ (nm)'][rojo40_spectrum['A'].idxmax()],\n",
    "                    diclofenac_spectrum['λ (nm)'][diclofenac_spectrum['A'].idxmax()]],\n",
    "        'A max':[azul1_spectrum['A'].max(), amarillo5_spectrum['A'].max(), rojo40_spectrum['A'].max(),\n",
    "                 diclofenac_spectrum['A'].max()],\n",
    "        'Concentración (g/L)':[1,1,1,100]\n",
    "    }\n",
    ")\n",
    "\n",
    "az1ε = azul1_spectrum['A'].max() / datos['Concentración (g/L)'][0]\n",
    "am5ε = amarillo5_spectrum['A'].max() / datos['Concentración (g/L)'][1]\n",
    "r40ε = rojo40_spectrum['A'].max() / datos['Concentración (g/L)'][2]\n",
    "diclε = diclofenac_spectrum['A'].max() / datos['Concentración (g/L)'][3]\n",
    "\n",
    "datos['ε (L/gcm)'] = [az1ε, am5ε, r40ε, diclε]\n"
   ]
  },
  {
   "cell_type": "markdown",
   "metadata": {
    "variables": {
     "datos": "<div>\n<style scoped>\n    .dataframe tbody tr th:only-of-type {\n        vertical-align: middle;\n    }\n\n    .dataframe tbody tr th {\n        vertical-align: top;\n    }\n\n    .dataframe thead th {\n        text-align: right;\n    }\n</style>\n<table border=\"1\" class=\"dataframe\">\n  <thead>\n    <tr style=\"text-align: right;\">\n      <th></th>\n      <th>Compuesto</th>\n      <th>λ max (nm)</th>\n      <th>A max</th>\n      <th>Concentración (g/L)</th>\n      <th>ε (L/gcm)</th>\n    </tr>\n  </thead>\n  <tbody>\n    <tr>\n      <th>0</th>\n      <td>Azul-1</td>\n      <td>650</td>\n      <td>4.337</td>\n      <td>1</td>\n      <td>4.33700</td>\n    </tr>\n    <tr>\n      <th>1</th>\n      <td>Amarillo-5</td>\n      <td>485</td>\n      <td>4.353</td>\n      <td>1</td>\n      <td>4.35300</td>\n    </tr>\n    <tr>\n      <th>2</th>\n      <td>Rojo-40</td>\n      <td>470</td>\n      <td>5.387</td>\n      <td>1</td>\n      <td>5.38700</td>\n    </tr>\n    <tr>\n      <th>3</th>\n      <td>Diclofenac</td>\n      <td>300</td>\n      <td>2.025</td>\n      <td>100</td>\n      <td>0.02025</td>\n    </tr>\n  </tbody>\n</table>\n</div>"
    }
   },
   "source": [
    "### Resultados\n",
    "\n",
    "{{datos}}\n",
    "\n",
    "\n",
    "\n",
    "<img src=\"https://bl3301files.storage.live.com/y4m6zU3vOa-YDiUsjmCZCaLTj2vOownpR-k8Akkn5oydH6STDkGnYD-Ft6RAf7CwCFLqc5kv1Jz7lViA9dgTLswl2zKEKPqD2ul_o6qrqSbY2zaXwQ5slVvRnBRSYQGKUNTzuBf4heepP5xSQhfMLw0pA2sLSfxanZFVpu-K410wm8woDElDYJVzfRl-Kka4TlO?width=779&height=419&cropmode=none\" width=\"779\" height=\"419\" />\n",
    "\n",
    "|Compuesto|λ max|A max|Concentración g/L|ε L/gcm|\n",
    "|:------:|:--------:|:--------------:|:--------------:|:--------------:|\n",
    "|AMARILLO 6|480.34|0.572|0.084|5.72|\n",
    "|AZUL 1|628.26|1.77|0.1|17.7|\n",
    "|AMARILLO 6|480.34|0.678|0.1|6.78|\n",
    "|ROJO 40|504.34|0.325|0.1|3.25|\n",
    "\n",
    "### Discusión de resultados \n",
    "\n",
    "<p style=\"text-align: justify;\">Se pudo determinar los máximos de absorción a partir de los datos proporcionados en los colorantes encontrando la máxima absorción y se registró su longitud de onda y valor de absorbancia y a partir de la concentración conocida y el camino óptico se determinó el coeficiente de absortividad tanto para los colorantes como para el fármaco (Diclofenaco). Esta información es útil cuando deseamos caracterizar algún compuesto y hacer análisis posteriores con estos. </p>\n",
    "<p style=\"text-align: justify;\">Con la gráfica proporcionada del análisis del espectro de absorción de 4 colorantes se determinaron las longitudes de máxima absorción y a partir de la absorbancia y considerando la misma concentración que las muestras que se prepararon en la práctica de 0.1 g/L y un camino óptico de un 1cm, se determinaron los coeficientes de absortividad. para cada colorante</p>\n",
    "<p style=\"text-align: justify;\">Para los datos de la gráfica se contaban con dos bandas del amarillo 6 esto a que eran dos concentraciones, se consideró que la que tenía mayor absorbancia era la solución de concentración 0.1 g/L y se determinó la concentración  de la segunda  muestra de amarillo 6 que tenía una menor absorbancia, con la ley de Lambert Beer.</p>\n",
    "\n",
    "### Conclusiones\n",
    "\n",
    "<p style=\"text-align: justify;\">Con esta práctica pudimos aprender como construir un espectro de absorción UV-vis a partir de los datos obtenidos del espectrofotómetro y a partir de estos espectros podemos obtener los máximos de absorción y determinar los coeficientes de absortividad de los colorantes utilizados y del fármaco. .</p>\n",
    "<p style=\"text-align: justify;\">Este método puede ser utilizado para caracterizar cualquier compuestos orgánicos que presenten dobles enlaces en su estructura. Los datos obtenidos en esta práctica pueden ser utilizados posteriormente para la construcción de una curva de calibración para cuantificar un compuesto orgánico o compuestos con dobles enlaces en su estructura ya que es debido a estos que tienen la capacidad de absorber en la región ultravioleta del espectro electromagnético.</p>\n",
    "\n",
    "<a href= \"#indice\" ><img src=\"https://bl3301files.storage.live.com/y4m-c96T5uHYCy5gRYmjxh9GAKLct1CTOz-IAhMfv-5-yf3kkDICnUTqD7h8CtGTWc5N8tGnzP1JGiTIgCQYQQusiQE6qmZUnNXw16aj5CeS2H-V0DWechdQ-nXMOuPwzGCO_qrHuG3eUNU2_AjktluOM9bW8NXvKAoF1Ba3jqv3Z9EuuEHJfFrig7uhjuC8eMe?width=250&height=83&cropmode=none\" width=\"125\" height=\"41\" /></a>\n",
    "\n",
    "\n"
   ]
  },
  {
   "cell_type": "markdown",
   "metadata": {},
   "source": [
    "<a id=\"p_4\"></a>\n",
    "<h1><center> Práctica 4: Preparación de la curva de calibración para determinar paracetamol en tabletas por UV</center></h1>\n",
    "\n"
   ]
  },
  {
   "cell_type": "code",
   "execution_count": 74,
   "metadata": {},
   "outputs": [],
   "source": [
    "#cálculos de curva de calibración\n",
    "import pandas as pd\n",
    "import matplotlib.pyplot as plt\n",
    "import numpy as np\n",
    "\n",
    "equation, rsquared = None, None\n",
    "\n",
    "calibration_data_p4 = pd.DataFrame(\n",
    "    {\n",
    "        'Alícuota':[0.02, 0.04, 0.06, 0.08, 0.1],\n",
    "        'Concentración (ppm)':[0.2, 0.4, 0.6, 0.8, 1],\n",
    "        'Absorbancia' :[0.237, 0.353, 0.403, 0.448, 0.48]\n",
    "    }\n",
    ")\n",
    "\n",
    "\n",
    "def plot_calibration(x, y, xlabel, ylabel, title):\n",
    "    global equation, rsquared\n",
    "    m, b = np.polyfit(x, y, 1)\n",
    "    equation = 'y = ' + str(m.round(4)) + 'x' + ' + ' + str(b.round(4))\n",
    "    rsquared = np.corrcoef(x,y)[0,1]**2\n",
    "    fig, axs = plt.subplots()  \n",
    "    axs.plot(x, y, 'o')\n",
    "    axs.plot(x, x*m + b)\n",
    "    axs.set_xlabel(xlabel)\n",
    "    axs.set_ylabel(ylabel)\n",
    "    axs.set_title(title)"
   ]
  },
  {
   "cell_type": "markdown",
   "metadata": {},
   "source": [
    "### Objetivos \n",
    "\n",
    "<p style=\"text-align: justify;\">Que el alumno aplique los conocimientos adquiridos acerca de la espectrofotometría ultravioleta en la elaboración de una curva de calibración con el fin de realizar un análisis cuantitativo de muestras problema.</p>\n",
    "\n"
   ]
  },
  {
   "cell_type": "markdown",
   "metadata": {},
   "source": [
    "### Hipótesis\n",
    "\n",
    "El porcentaje másico de la muestra de paracetamol se encontrará dentro de los rangos aceptables.\n"
   ]
  },
  {
   "cell_type": "markdown",
   "metadata": {},
   "source": [
    "\n",
    "### Materiales\n",
    "\n",
    "- 8 matraces aforados de 10 mL.\n",
    "- 1 matraces aforados de 25 mL\n",
    "- 8 frasco color ámbar de 10 a 20 mL\n",
    "- 1 micropipeta de volumen variable de 10 a 100 µL.\n",
    "- 1 micropipeta de volumen fijo de 100 µL\n",
    "\n",
    "### Reactivos\n",
    "\n",
    "- Estándar de paracetamol\n",
    "- Metanol grado HPLC\n",
    "- Agua destilada\n",
    "- 4 pastillas de paracetamol\n",
    "\n"
   ]
  },
  {
   "cell_type": "markdown",
   "metadata": {},
   "source": [
    "### Introducción\n",
    "\n",
    "<p style=\"text-align: justify;\">En el análisis químico es muy común comparar alguna propiedad de un analito (o de una reacción con dicho analito) con estándares tales que la propiedad que se busca identificar concuerda de manera muy cercana con la del estándar. Esto que conocemos como estándar o patrón externo se caracteriza por ser preparado aparte de la muestra. En contraste, también existen estándares internos, los cuales, a diferencia de los anteriores, se añaden a la muestra. Estos se utilizan para calibrar instrumentos y/o procedimientos cuando el efecto de interferencia de la matriz del analito es negligible. En este caso se preparan una serie de disoluciones que contienen al analito en concentraciones conocidas.</p>\n",
    "<p style=\"text-align: justify;\">Independientemente del método que se adecúe mejor al análisis, en general los analitos con concentraciones iguales dan diferentes respuestas de detección. Para asegurar que la respuesta del instrumento es lineal (o linealizable) en el rango de concentraciones que buscamos analizar, es decir, para encontrar el rango lineal, la respuesta a cada analito debe ser medida con estándares. Una gráfica de la respuesta de detección (absorbancia, altura de pico, área de pico, etc.) en función de la concentración del analito (o alguna función linealizada que permita encontrar dicha concentración) se llama una curva de calibración.</p>\n",
    "<p style=\"text-align: justify;\">Estas curvas tan útiles se construyen ajustando la gráfica a una ecuación matemática aceptable, generalmente una ecuación de una recta dada por el método de los mínimos cuadrados. Una vez que se obtiene esta ecuación, se puede predecir la concentración del analito Cx vía interpolación (o en algunos casos extrapolación).</p>\n",
    "\n",
    "<img src=\"https://bl3301files.storage.live.com/y4mB-xxNLvH4wWuNQnrxE5QHDJtFRzhE0f_ac-FtBbyJ3W_nSaCK-0G3_rTT6gLY4EMOVpe1CC7uGE7OjmIZb49n7-v4EbR177ZIpoI0rqIPf-ovB_pvoMTPbiBOhYcKPjueyRqXc0M8obyBO6gxHvABXR1gOnPmyabfHne2ypig_UgGFOq5YCWvjQQ9ri3AOAk?width=424&height=582&cropmode=none\" width=\"212\" height=\"291\" />\n",
    "<p style=\"text-align: center;\"><cite>Figura 1. Curva de calibración para determinar isooctano en una muestra de hidrocarburo.<a href=\"#b8\"><sup>[8]</sup></a></cite></p>\n",
    "<p style=\"text-align: justify;\">Para justificar utilizar un patrón externo, se debe asumir que la respuesta para una misma concentración será igual en el analito y en el patrón. Esto es sumamente difícil (o a veces imposible) de afirmar, generalmente por el efecto matriz. Por esto, en una determinación no se suele utilizar la respuesta original dada por el instrumento, sino que se corrige con la medición de un blanco – una solución idealmente idéntica a la muestra. Aún con la corrección por el blanco, existen una gran cantidad de errores sistemáticos y aleatorios que influyen sobre la veracidad de la curva de calibración construida. Un patrón isoméricamente distinto al analito; un estado de oxidación diferente; acomplejación (o falta de); patrones que cambian post-preparación por descomposición, volatilización, o adsorción a las paredes del recipiente; sesgos en el modelo de calibración, y muchos más. Todo esto se debe tener en cuenta en la construcción de una curva de calibración, independientemente de la técnica a utilizar.</p>\n"
   ]
  },
  {
   "cell_type": "markdown",
   "metadata": {},
   "source": [
    "\n",
    "### Metodología \n",
    "<h3><center> Curva de calibración</center></h3>\n",
    "<img src=\"https://bl3301files.storage.live.com/y4myyu80uMLVRyvETiNr9fYPXFGOjPQlbSMFdT3n5Zm4x8IlUrxnFSApuqzJxAg-AnPnuyUS4QkH0xiEetUBswZMcnTi_p38ObGxEPx5JaVpGOxv1p-MoFTnkIGgczKEjAZCmzz9WNl3XfjZMowKfCqHipjEQRoivueBnZxg_YaUuc0Y7T2sNBYlmIvZ2v8EjTl?width=3075&height=1286&cropmode=none\" width=\"614\" height=\"256\" />\n",
    "<h3><center>Preparación de la muestra</center></h3>\n",
    "<img src=\"https://bl3301files.storage.live.com/y4meCzgMYXsEdTqWaagx7WRBFZhfWO8iv4JrXocFwDURj2wMYHltgmhBIbIEeRMsOjoTbYJfcQV4-6yMlTtINchRrgal0ygMt7ktkzdFIEHqcLh9KPhhRM4EkccaPbj58Hm5JuCW41GYD4Am93pmhDlJuloET8uFdwcQaKIkJpcRWybKGKa-NDAFLSccQC55j4_?width=3075&height=1283&cropmode=none\" width=\"614\" height=\"256\" />"
   ]
  },
  {
   "cell_type": "markdown",
   "metadata": {
    "variables": {
     "calibration_data_p4": "<div>\n<style scoped>\n    .dataframe tbody tr th:only-of-type {\n        vertical-align: middle;\n    }\n\n    .dataframe tbody tr th {\n        vertical-align: top;\n    }\n\n    .dataframe thead th {\n        text-align: right;\n    }\n</style>\n<table border=\"1\" class=\"dataframe\">\n  <thead>\n    <tr style=\"text-align: right;\">\n      <th></th>\n      <th>Alícuota</th>\n      <th>Concentración (ppm)</th>\n      <th>Absorbancia</th>\n    </tr>\n  </thead>\n  <tbody>\n    <tr>\n      <th>0</th>\n      <td>0.02</td>\n      <td>0.2</td>\n      <td>0.237</td>\n    </tr>\n    <tr>\n      <th>1</th>\n      <td>0.04</td>\n      <td>0.4</td>\n      <td>0.353</td>\n    </tr>\n    <tr>\n      <th>2</th>\n      <td>0.06</td>\n      <td>0.6</td>\n      <td>0.403</td>\n    </tr>\n    <tr>\n      <th>3</th>\n      <td>0.08</td>\n      <td>0.8</td>\n      <td>0.448</td>\n    </tr>\n    <tr>\n      <th>4</th>\n      <td>0.10</td>\n      <td>1.0</td>\n      <td>0.480</td>\n    </tr>\n  </tbody>\n</table>\n</div>",
     "plot_calibration(calibration_data_p4['Concentración (ppm)'], calibration_data_p4['Absorbancia'], 'Concentración (ppm)', 'Absorbancia', 'Curva de calibración')": "<img src=\"data:image/png;base64,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\n\"/>",
     "print(equation)": "y = 0.2905x + 0.2099",
     "rsquared.round(4)": "0.9314"
    }
   },
   "source": [
    "### Resultados\n",
    "\n",
    "{{calibration_data_p4}}\n",
    "\n",
    "{{plot_calibration(calibration_data_p4['Concentración (ppm)'], calibration_data_p4['Absorbancia'], 'Concentración (ppm)', 'Absorbancia', 'Curva de calibración')}}\n",
    "\n",
    "Ecuación: {{print(equation)}}\n",
    "<br> R^2: {{rsquared.round(4)}}"
   ]
  },
  {
   "cell_type": "markdown",
   "metadata": {},
   "source": [
    "Ecuación de la recta en un rango de concentración de [1-0.2] mg/L\n",
    "$$\n",
    "A=0.2905[Co] +0.2099\n",
    "$$\n",
    "Coeficiente de correlación\n",
    "$$\n",
    "r^2=0.9314\n",
    "$$"
   ]
  },
  {
   "cell_type": "markdown",
   "metadata": {},
   "source": [
    "|Pastilla|Absorbancia alícuota|Concentración en alícuota|mg de Paracetamol en Pastilla|\n",
    "|:---:|:---:|:---:|:---:|\n",
    "|1|\t2.538|8.014113597|108.062|\n",
    "2|2.79|8.881583477|121.9344|\n",
    "3|2.2338|6.966953528|94.96335|"
   ]
  },
  {
   "cell_type": "markdown",
   "metadata": {},
   "source": [
    "### Discusión de resultados\n",
    "\n",
    "<p style=\"text-align: justify;\">La curva de calibración que se determino a partir de correlación no es la adecuada ya que presenta un coeficiente de correlación lineal de 0.9314 y debería de ser mas cercano a un valor de 0.99, por lo que seria de utilidad repetir la curva de calibración nuevamente.</p>\n",
    "\n",
    "<p style=\"text-align: justify;\">Para la determinación de concentración de la pastilla no es válido utilizar la curva obtenida ya que no está dentro del rango de concentración bajo el cual se obtuvo la curva ya que la alícuota tiene una concentración casi 8 veces mayor. Lo ideal para no consumir mas reactivo seria diluir las alícuotas 10 veces para obtener concentraciones dentro del rango de concentración de la curva y posteriormente analizar nuevamente la muestra para poder asi determinar la concentración.</p>\n",
    "\n",
    "<p style=\"text-align: justify;\">La concentración obtenida de paracetamol en la pastilla es notoriamente menor a la esperada y evidentemente no concuerda con los datos reportados en la etiqueta en la del medicamento por lo anteriormente mencionado en donde la concentración obtenida fue hecha por extrapolación lo cual no es válido. </p>\n",
    "\n",
    "<p style=\"text-align: justify;\"> Tambien se debe realizar por triplicado y obtener la desviación estandar la cual debe de presentarse en el gráfico para ver la variación de los datos.</p>"
   ]
  },
  {
   "cell_type": "markdown",
   "metadata": {},
   "source": [
    "### Conclusiones \n",
    "\n",
    "<p style=\"text-align: justify;\">Para la determinación de una muestra por espectroscopia ultravioleta debe de prepararse una curva de calibración en función de la alicuota que se va analizar, si se conoce un estimado de la concentración de la muestra la curva de caliración debe de estar dentro de ese intervalo de concentraciones.</p>\n",
    "\n",
    "<p style=\"text-align: justify;\">Si no se conoce la concentración del analito se debe de hacer un barrido de concentraciones generalmente se hace desde 0.2mg/L a 1mg/L aunque esto depende del analito.</p>"
   ]
  },
  {
   "cell_type": "markdown",
   "metadata": {},
   "source": [
    "<a href= \"#indice\" ><img src=\"https://bl3301files.storage.live.com/y4m-c96T5uHYCy5gRYmjxh9GAKLct1CTOz-IAhMfv-5-yf3kkDICnUTqD7h8CtGTWc5N8tGnzP1JGiTIgCQYQQusiQE6qmZUnNXw16aj5CeS2H-V0DWechdQ-nXMOuPwzGCO_qrHuG3eUNU2_AjktluOM9bW8NXvKAoF1Ba3jqv3Z9EuuEHJfFrig7uhjuC8eMe?width=250&height=83&cropmode=none\" width=\"125\" height=\"41\" /></a>"
   ]
  },
  {
   "cell_type": "markdown",
   "metadata": {},
   "source": [
    "<a id=\"p_5\"></a>\n",
    "<h1><center> Práctica 5: Determinación de hierro en un suplemento alimenticio por Absorción atómica </center><a id=\"p_2\"></a></h1>"
   ]
  },
  {
   "cell_type": "code",
   "execution_count": 78,
   "metadata": {},
   "outputs": [],
   "source": [
    "#práctica 5 cálculos\n",
    "import pandas as pd\n",
    "import numpy as np\n",
    "\n",
    "calibration_data_p5 = pd.DataFrame(\n",
    "    {\n",
    "        'Concentración (ppm)':[60, 70, 80, 90, 100],\n",
    "        'Abs Curva 1':[0.424, 0.437, 0.45, 0.458, 0.465],\n",
    "        'Abs Curva 2':[0.442, 0.451, 0.467, 0.476, 0.485],\n",
    "        'Abs Curva 3':[0.458, 0.48, 0.494, 0.51, 0.52]\n",
    "    }\n",
    ")\n",
    "\n",
    "avglist = np.zeros(shape = (5,1))\n",
    "stdevlist = np.zeros(shape = (5,1))\n",
    "\n",
    "for i in range(0,5):\n",
    "    avglist[i] = (calibration_data_p5[['Abs Curva 1', 'Abs Curva 2', 'Abs Curva 3']].iloc[i].mean())\n",
    "    stdevlist[i] = (calibration_data_p5[['Abs Curva 1', 'Abs Curva 2', 'Abs Curva 3']].iloc[i].std())\n",
    "\n",
    "calibration_data_p5['Promedio'] = avglist\n",
    "calibration_data_p5['Desviación Estándar'] = stdevlist\n"
   ]
  },
  {
   "cell_type": "code",
   "execution_count": null,
   "metadata": {},
   "outputs": [],
   "source": []
  },
  {
   "cell_type": "markdown",
   "metadata": {},
   "source": [
    "### Objetivo\n",
    "\n",
    "<p style=\"text-align: justify;\">Que el alumno aplique los conocimientos adquiridos acerca de la espectrofotometría ultravioleta en la elaboración de una curva de calibración con el fin de realizar un análisis cuantitativo de muestras problema.</p>"
   ]
  },
  {
   "cell_type": "markdown",
   "metadata": {},
   "source": [
    "### Hipótesis\n",
    "\n",
    "\n",
    "Se construirá una curva de calibración a partir de patrones estándar, y esta se utilizará para determinar el contenido de una muestra problema de hierro."
   ]
  },
  {
   "cell_type": "markdown",
   "metadata": {},
   "source": [
    "### Introducción\n",
    "<p style=\"text-align: justify;\"> Históricamente, la absorción por átomos se ha documentado durante un largo período de tiempo. Por ejemplo, Fraunhofer observó líneas oscuras en la radiación del sol. Posteriormente se identificaron como las líneas de absorción de los átomos metálicos y se encontró que coincidían con las líneas de emisión de esos mismos átomos. Durante muchos años la observación tuvo poco más que interés académico y ese interés residió en el físico atómico. No fue hasta 1955 que Alan Walsh, que trabajaba en Australia, publicó el primer artículo que demostraba el uso de la espectrometría de absorción atómica (AAS) como herramienta analítica. Previó la amplia utilidad analítica del fenómeno y en sus primeros trabajos hizo importantes contribuciones que resolvieron problemas que podrían haber impedido su uso en trabajos cuantitativos.</p>\n",
    "\n",
    "<p style=\"text-align: justify;\">Como su nombre lo indica, AAS es la medida de la absorción de radiación por átomos libres. La cantidad total de absorción depende del número de átomos libres presentes y del grado en que los átomos libres absorben la radiación. La clave para comprender la aplicación de la espectrometría de absorción atómica a la química analítica radica en comprender los factores que afectan <a href=\"#b8\"><sup>[8]</sup></a>la capacidad de los átomos para absorber y <a href=\"#b8\"><sup>[9]</sup></a> los factores que afectan la generación y pérdida de átomos libres de una población de átomos en particular.</p>\n",
    "<p style=\"text-align: justify;\">Si la radiación de una fuente de luz continua, como una lámpara de hidrógeno, pasa a través de una población de átomos libres y luego a través de un monocromador a un sistema de detección, se podría medir el espectro de absorción de los átomos en la trayectoria de la luz. Para todos los elementos, el espectro consta de unas pocas líneas de absorción muy estrechas. La gran mayoría de la luz que atraviesa la población de átomos no se absorbe y pasa al monocromador. La energía de esta luz no absorbida está en la longitud de onda incorrecta para la absorción y, por lo tanto, no se registra en la medición de absorción. Dos esquemas de instrumentación común se encuentran en la figura (I). </p>\n",
    "\n",
    "<img src=\"https://bl3301files.storage.live.com/y4mtuRvKS987xM0409nXZ4j55koQrSIVAS7sri8yuU8FYoP3LtkKiL-s6Gm9SBL0LWuEhlaCasAZCKiL7noEcnlQEFDjLj4JiYZE4E-BK6HLtgSmENJ3Zl--oZGTvSgODLoRL7pYdM3eahTudDJlR5z09ioqEIQNYFkKfae73489uF8A2ktv0tsyty73rzuNkkd?width=324&height=325&cropmode=none\" width=\"324\" height=\"325\" />\n",
    "\n",
    "<p style=\"text-align: center;\"><cite>Figura I. Espectrómetros de llama típicos: a) diseño de un solo haz y b) diseño de doble haz<a href=\"#b8\"><sup>[8]</sup></a></cite></p>\n",
    "<p style=\"text-align: justify;\"></p>\n",
    "\n",
    "<p style=\"text-align: justify;\">Para medir la absorción por átomos libres, primero es necesario elegir la longitud de onda correcta a la que se puede medir esta absorción. Esa longitud de onda es una propiedad crítica de los átomos y viene dada por la ecuación:</p>\n",
    "\n",
    "$$\n",
    "E = E_1-E_2 = hv = \\frac{hc}{λ}\n",
    "$$\n",
    "\n",
    "<p style=\"text-align: justify;\">donde E1 es la energía del estado de energía superior, o la energía después de la absorción; E2 es la energía del estado de menor energía o la energía antes de la absorción. Esta relación se deriva directamente de la teoría cuántica. Puede decirse simplemente: la energía de la radiación que el átomo puede absorber debe ser igual a la diferencia de energía entre el estado de energía en el que existe el átomo antes de la absorción y el estado de energía en el que existe el átomo después de la absorción.</p>\n",
    "\n",
    "<p style=\"text-align: justify;\">En una primera aproximación, la absorción por átomos libres es similar a la absorción por moléculas y existe una relación lineal entre la absorbancia y la “concentración” de la muestra. Esta relación está dada por la Ley de Beer-Lambert. En la absorción atómica, esta relación es cierta en el sentido de que si tenemos dos muestras, una con una concentración dos veces la otra, entonces la absorbancia de la primera será aproximadamente el doble de la segunda dentro de los límites de la ley de Beer. Sin embargo, en la práctica se encuentra que esta relación no se puede mantener porque los atomizadores de llama se utilizan generalmente como \"celda de muestra\" y la población de átomos libres en una llama está lejos de ser homogénea. La homogeneidad de la muestra es un requisito básico para la aplicación de la Ley de Beer.</p>\n",
    "\n",
    "<p style=\"text-align: justify;\">Por ahora nos interesa entender las bases de esta técnica, por lo que en este estudio se buscará utilizar los instrumentos correctamente más que un análisis impecable de una muestra desconocida.</p>"
   ]
  },
  {
   "cell_type": "markdown",
   "metadata": {},
   "source": [
    "### Materiales Reactivos \n",
    "- 8 matraces aforados de 10 mL.\n",
    "- 1 matraces aforados de 25 mL\n",
    "- 8 frasco color ámbar de 10 a 20 mL\n",
    "- 1 micropipeta de volumen variable de 10 a 100 µL.\n",
    "- 1 micropipeta de volumen fijo de 100 µL\n",
    "\n",
    "### Reactivos\n",
    "- Metanol grado HPLC\n",
    "- Agua destilada\n",
    "- 4 pastillas de paracetamol"
   ]
  },
  {
   "cell_type": "markdown",
   "metadata": {},
   "source": [
    "### Metodología \n",
    "\n",
    "<img src=\"https://bl3301files.storage.live.com/y4mmJpO49kg9rWO-9KYuwoitqdGC5bpfs6FwyPcb_1mrrcVNLXfagFlrsUy3Enr6HZ7lGxGWiU_EpDC3ErmNODaNQM18QmAPKhFXQsYrGhkZUqkyZgXQOgEaxeBxG4qoz7EJs-7Jag3Gy22rbEsSmFs7d2I21x6UF0Aq4dD37f8MfKGI5jgnFAjMp5o2M7Va77p?width=906&height=580&cropmode=none\" width=\"700\" height=\"400\" />"
   ]
  },
  {
   "cell_type": "markdown",
   "metadata": {
    "variables": {
     "calibration_data_p5.round(3)": "<div>\n<style scoped>\n    .dataframe tbody tr th:only-of-type {\n        vertical-align: middle;\n    }\n\n    .dataframe tbody tr th {\n        vertical-align: top;\n    }\n\n    .dataframe thead th {\n        text-align: right;\n    }\n</style>\n<table border=\"1\" class=\"dataframe\">\n  <thead>\n    <tr style=\"text-align: right;\">\n      <th></th>\n      <th>Concentración (ppm)</th>\n      <th>Abs Curva 1</th>\n      <th>Abs Curva 2</th>\n      <th>Abs Curva 3</th>\n      <th>Promedio</th>\n      <th>Desviación Estándar</th>\n    </tr>\n  </thead>\n  <tbody>\n    <tr>\n      <th>0</th>\n      <td>60</td>\n      <td>0.424</td>\n      <td>0.442</td>\n      <td>0.458</td>\n      <td>0.441</td>\n      <td>0.017</td>\n    </tr>\n    <tr>\n      <th>1</th>\n      <td>70</td>\n      <td>0.437</td>\n      <td>0.451</td>\n      <td>0.480</td>\n      <td>0.456</td>\n      <td>0.022</td>\n    </tr>\n    <tr>\n      <th>2</th>\n      <td>80</td>\n      <td>0.450</td>\n      <td>0.467</td>\n      <td>0.494</td>\n      <td>0.470</td>\n      <td>0.022</td>\n    </tr>\n    <tr>\n      <th>3</th>\n      <td>90</td>\n      <td>0.458</td>\n      <td>0.476</td>\n      <td>0.510</td>\n      <td>0.481</td>\n      <td>0.026</td>\n    </tr>\n    <tr>\n      <th>4</th>\n      <td>100</td>\n      <td>0.465</td>\n      <td>0.485</td>\n      <td>0.520</td>\n      <td>0.490</td>\n      <td>0.028</td>\n    </tr>\n  </tbody>\n</table>\n</div>",
     "plot_calibration(calibration_data_p5['Concentración (ppm)'], calibration_data_p5['Promedio'], 'Concentración (ppm)', 'Absorbancia', 'Curva de calibración')": "<img src=\"data:image/png;base64,iVBORw0KGgoAAAANSUhEUgAAAYgAAAEXCAYAAAC3c9OwAAAAOXRFWHRTb2Z0d2FyZQBNYXRwbG90bGliIHZlcnNpb24zLjMuNCwgaHR0cHM6Ly9tYXRwbG90bGliLm9yZy8QVMy6AAAACXBIWXMAAAsTAAALEwEAmpwYAAAoZ0lEQVR4nO3deZxVBd3H8c/XEWUwFZW0QBFUotQnpQZbxC0XzFywLNdMW8yeXNAiJct8yhbDFEvLKLc0xUQkxHLQFkVNBQRFVBJxgUERVFxghBn4PX+cM3i53Jm5A3Pm3pn7fb9e85p7lnvOb454f/ec71kUEZiZmeXbqNQFmJlZeXKDMDOzgtwgzMysIDcIMzMryA3CzMwKcoMwM7OC3CDMWiCpn6SQtHEHrvMiSTelr/tKekdSVTr8b0lf74Aa1lpvzvhqSQ9KOjTrGqz03CCsJCSdIGla+iH0sqS/SxpS6rrKTUS8FBHvi4hVZbLe3wOXRsTdHVmPlUaHfSsyayLpXOB84HSgFlgJHAocBTzQxmVtHBGN7V5kF5DFtomIk9tzeVbevAdhHUrSlsCPgW9HxPiIWBYRDRFxZ0SMSOe5XtLFOe/ZX9KCnOEXJJ0n6QlgmaQfSBqXt54rJP06fX2qpKclvS1pnqRvtlBflaRLJS2RNA/4XH79kq5J93rqJF2cfxgmb1nfl/Rcuu7pknbIqW++pLfS8fs0s4xCh7h2lvSopDcl/VXS1nnzfk3SS8A/0/G3SXolnf9+SbvlLL9a0q8kvZhOfyAdt9Z6JfWWNFHS65LmSvpGzjIukvQXSX9K/87Zkmqa28bWebhBWEf7FNAduGMDl3M8yYd3T+BG4DBJW0DywQx8Cbg5nfdV4HBgC+BU4HJJH2tmud9I5x0E1ADH5E2/AWgEdknnOQRoLhM4N63zsHTdXwWWp9OmAnsCW6d13iape6t/deLkdFm901p+nTd9P+AjwNB0+O/AAGBb4DHgzznzXgp8HPh0Wsv3gNUF1nkLsCBd5zHAzyQdmDP9SGAsyX+PicCVRf4tVs4iwj/+6bAf4ETglVbmuR64OGd4f2BBzvALwFfz3vMAcHL6+mDguRaWPwE4u5lp/wROzxk+BAiSw7HbASuA6pzpxwP/amZZc4CjitwubwB7pK8vAm5KX/drWn86/G/gFznv25XkEF1Vzrw7tbCenuk8W5J8QaxvWm/efGvWC+wArAI2z5n+c+D6nHrvzaupvtT/1vyz4T/eg7CO9hrQqx3OCpqfN3wzyYc1wAm8t/eApM9Kejg9PLKU5Bt9r2aW2ztv2S/mvN4R6Aa8LGlpuqzfk3wzL2QH4LlCEyR9Jz3s9Wa6nC1bqClffn3d8t67Znp6mOsX6WGut0iaK+n8vUj25grWmKM38HpEvJ233j45w6/kvF4OdO/IM78sG24Q1tH+A7wLDGthnmVAj5zhDxSYJ/82xLcB+0vaHjiatEFI2hS4neRQynYR0RP4G6Bm1v0yyQd7k745r+eT7EH0ioie6c8WEbEbhc0Hds4fmeYN55EcBtsqrenNFmrKl19fA7AkZ1zutjmBJPw/iKQJ9WsqI33Pu4VqzLMQ2FrS5nnrrSuyXuuk3CCsQ0XEm8CFwFWShknqIalb+i3/l+lsM0kyha0lfQAYXsRyF5McfrkOeD4ink4nbQJsCiwGGiV9luSwUXP+ApwlaXtJW5GcbdW0jpeBycCvJG0haSNJO0var5ll/RH4iaQBSnxU0jbA5iTZwWJgY0kXkmQUxTpJ0q6SepAE/uOi+dNgNydpaq+RNN2f5fw9q4FrgcvSELpK0qfSpkrOfPOBh4CfS+ou6aPA11g7y7AuyA3COlxEXEYS4P6A5ENyPnAGSTYASej8OMnhkMnArUUu+maSb8prDi+lh0XOIvngf4PkG/XEFpbxB5JTbx8nCXTH500/maTpPJUubxzwwWaWdVm63snAW8A1QHW6/L8D/yU5VPMu6x4ya8mNJDnNKySHiM5qYd4/peuoS2t+OG/6d4FZJKH568AlFP5cOJ5k72MhyQkGP4qIe9pQs3VCivADg8zMbF3egzAzs4LcIMzMrCA3CDMzK8gNwszMCnKDMDOzgrrUlY69evWKfv36lboMM7NOY/r06Usi4v2FpnWpBtGvXz+mTZtW6jLMzDoNSS82N82HmMzMrCA3CDMzK8gNwszMCnKDMDOzgtwgzMysIDcIMzMryA3CzKwzi4C3F2WyaDcIM7PO6rXn4E9HwbVDoaG+3RffpS6UMzOrCI0r4cEr4P5RsPGmcNCPoGrT1t/XRm4QZmadyYsPwZ3DYckc2O1oOPQXsHmhx7ZvODcIM7POYPnrcM+FMONG6NkXThwHAw7OdJVuEGZm5SwCnvgL1H4f6t+Avc+G/c6HTXpkvmo3CDOzcvXaczDpHHj+PuhTAyf/FT6we4etPtOzmCQdKmmOpLmSzm9hvsGSVkk6Jmfc2ZKelDRb0vAs6zQzKyuNK+C+UfDbT8HCmfC5y+Br93Roc4AM9yAkVQFXAQcDC4CpkiZGxFMF5rsEqM0ZtzvwDWAvYCVwt6S7IuLZrOo1MysLLzyY7DUUEUJPmFHHqNo5LFxaT++e1YwYOpBhg/q0WylZ7kHsBcyNiHkRsRIYCxxVYL4zgduBV3PGfQR4OCKWR0QjcB9wdIa1mpmV1vLX4a9nwPWHQWN9EkJ/8foWm8PI8bOoW1pPAHVL6xk5fhYTZtS1W0lZNog+wPyc4QXpuDUk9SH54L86771PAvtK2kZSD+AwYIcMazUzK40IePxWuHIwzLwZ9h4O//tIq2cojaqdQ33DqrXG1TesYlTtnHYrLcuQWgXGRd7waOC8iFglvTd7RDwt6RLgHuAd4HGgseBKpNOA0wD69u274VWbmXWU3BB6+8FwePEh9MKlha+cbm78+siyQSxg7W/92wML8+apAcamzaEXcJikxoiYEBHXANcASPpZurx1RMQYYAxATU1NfgMyMys/jSvSK6EvhY27JyH0x0+FjYo/qNO7ZzV1BZpB757V7VZmloeYpgIDJPWXtAlwHDAxd4aI6B8R/SKiHzAO+N+ImAAgadv0d1/g88AtGdZqZtYxXngQrt4H/vVT+PDn4IxHYfDX2tQcAEYMHUh1t6q1xlV3q2LE0IHtVmpmexAR0SjpDJKzk6qAayNitqTT0+n5uUO+2yVtAzQA346IN7Kq1cwsc8tfh3t+CDNuapcroZvOVsryLCZFdJ2jMjU1NTFt2rRSl2Fm9p4IeOLW9EropfDpM2G/8zrkSuhiSJoeETWFpvlKajOzrLz2HEwaDs/fn4bQozv8YrcN4QZhZtbe2iGELgduEGZm7emFB5O9hiX/hd0+D4f+PLPbcWfNDcLMrD20cwhdDtwgzMw2RH4IvffwsgqhN4QbhJnZ+loyF+46p9OG0K1xgzAza6suEkK3xg3CzKwtulAI3Ro3CDOzYnTBELo1bhBmZi2JgMfHwuQL4N03u1QI3Ro3CDOz5uSH0EdcAdvtVuqqOowbhJlZvgoJoVvjBmFmluuFB+DO4fDas10+hG6NG4SZGSQh9OQfwszKCaFb4wZhZpWtgkPo1rhBmFnlWiuE3guOGF1RIXRr3CDMrPI0roAHRsOUS2Hj6ooNoVvjBmFmlcUhdNHcIMysMqwVQu8IJ94OAw4qdVVlzQ3CzLq2/BB6yDmw7/ccQhfBDcLMuq4lc5Mb670wxSH0enCDMLOuJz+EPvxy+NgpDqHbyA3CzLqW3BB69y/A0J/D5tuVuqpOyQ3CzLqGZa8lt+Oe+WeH0O3EDcLMOrcIePwWqL0AVrzlELoduUGYWdmYMKOOUbVzWLi0nt49qxkxdCDDBvVp/g0OoTPlBmFmZWHCjDpGjp9FfcMqAOqW1jNy/CyAdZtE4wp44HKY8iuH0BlygzCzsjCqds6a5tCkvmEVo2rnrN0gnp8Ck85xCN0B3CDMrCwsXFrf8niH0B3ODcLMykLvntXUFWgSvbfsDjNvdghdApkesJN0qKQ5kuZKOr+F+QZLWiXpmJxx50iaLelJSbdI6p5lrWZWWiOGDqS6W9Va4z7SbRETNv8FTPgWbLMLfPN+OOgiN4cOktkehKQq4CrgYGABMFXSxIh4qsB8lwC1OeP6AGcBu0ZEvaS/AMcB12dVr5mVVlPOMKp2DkuWvsWI9/2dU1ffTtXbPRxCl0iWh5j2AuZGxDwASWOBo4Cn8uY7E7gdGFygtmpJDUAPYGGGtZpZGRg2qA/Des6DSRc7hC4DWTaIPsD8nOEFwCdyZ0j3FI4GPkNOg4iIOkmXAi8B9cDkiJicYa1mVmoOoctOlvtrKjAu8oZHA+dFxFrntknaimRvoz/QG9hM0kkFVyKdJmmapGmLFy/e8KrNrGNFJCH0lTXwxK0w5Fz434fdHMpAlnsQC4Adcoa3Z93DRDXAWEkAvYDDJDUC3YDnI2IxgKTxwKeBm/JXEhFjgDEANTU1+Q3IzMrZkmeTaxpemAI7fAIOHw3b7VrqqiyVZYOYCgyQ1B+oIwmZT8idISL6N72WdD0wKSImSPoE8ElJPUgOMR0ITMuwVjPrSL4SulPIrEFERKOkM0jOTqoCro2I2ZJOT6df3cJ7H5E0DngMaARmkO4lmFkn9/yU5P5Jr82F3Y+BoT9zCF2mFNF1jsrU1NTEtGne0TArS8teg8k/gMdvTkLowy+DXZwzlJqk6RFRU2iar6Q2s2ytczvuc2HfEb7YrRNwgzCz7DiE7tTcIMys/TWugCmXwQOXQbfqpDF87CsOoTsZNwgza18OobsMNwgzax/5IfRJtzuE7uTcIMxswzRdCT35Bw6huxg3CDNbf0uehTuHw4sPOITugtwgzKztGt5NroR2CN2luUGYWds8f3/6TGiH0F2dG4SZFSc3hN6qH5w0HnY5sNRVWYbcIMysZfkh9D7fSULobtWlrswy5gZhZs1b/N/kcFJTCH3EFbDtR0pdlXUQNwgzW1d+CH3EFTDoZIfQFcYNwszWlhtC/88XkxD6fduWuiorATcIM0s4hLY8bhBmlS4CZv45DaHfdghta7hBmFWytULoT8IRox1C2xpuEGaVqOHdJIB+4HKH0NasVhuEpAHAz4Fdge5N4yNipwzrMrOszLsv2Wt4/Tn4ny/B0J86hLaCitmDuA74EXA5cABwKqAsizKzDCxbkobQt8BW/eHLd8DOnyl1VVbGimkQ1RHxD0mKiBeBiyRNIWkaZlbuHELbeiqmQbwraSPgWUlnAHWA90fNOgOH0LYBimkQw4EewFnAT4DPAF/JsCYz21BNIfSUy5IH9xzxaxj0ZYfQ1iatNoiImJq+fIckfzCzcuYQ2tpJsw1C0uiIGC7pTiDyp0fEkZlWZmZt4xDa2llLexA3pr8v7YhCzGw9rRVCvwP7fBf2/a5DaNtgzTaIiJievpwG1EfEagBJVcCmHVCbmbVm8X9h0nB48UGH0Nbuigmp/wEcRJJBAFQDk4FPZ1WUmbXCIbR1gGIaRPeIaGoORMQ7knpkWJOZtcQhtHWQYhrEMkkfi4jHACR9HKjPtiyzrmHCjDpG1c5h4dJ6evesZsTQgQwb1Gf9FrZsCdReAE+MdQhtHaLY6yBuk7QwHf4gcGwxC5d0KHAFUAX8MSJ+0cx8g4GHgWMjYpykgcCtObPsBFwYEaOLWa9ZOZgwo46R42dR37AKgLql9YwcPwugbU0iAmbcBPf80CG0daiiroOQ9GFgIMk9mJ6JiIbW3peG2VcBBwMLgKmSJkbEUwXmuwSozVnnHGDPnOl1wB1F/k1mZWFU7Zw1zaFJfcMqRtXOKb5BLJ6TXgn9IPT9FBx+uUNo6zDF3u57MNAvnX+QJCLiT628Zy9gbkTMA5A0FjgKeCpvvjOB29N1FHIg8Fx6HyizTmPh0sJHYpsbv5aGd2HKr5LbcW+yGRz5G9jzJIfQ1qGKud33jcDOwEyg6etQAK01iD7A/JzhBcAn8pbdBzia5PYdzTWI44BbWqjvNOA0gL59+7ZSklnH6d2zmroCzaB3z1YODc37N0w6NwmhP3osHPJTeN/7synSrAXF7EHUALtGxDpXU7ei0C3B85cxGjgvIlZJ684uaRPgSGBkcyuJiDHAGICampq21miWmRFDB66VQQBUd6tixNCBhd+wTgg9AXY+oGOKNSugmAbxJPAB4OU2LnsBsEPO8PbAwrx5aoCxaXPoBRwmqTEiJqTTPws8FhGL2rhus5JryhlaPYspP4Ted0RyS26H0FZixTSIXsBTkh4FVjSNLOJeTFOBAZL6k4TMxwEn5M4QEf2bXku6HpiU0xwAjqeFw0tm5W7YoD4tB9LrhNCjYdsPd1h9Zi0ppkFctD4LjojG9PkRtSSnuV4bEbMlnZ5Ov7ql96cX4x0MfHN91m9W1hxCWyegtkcL5aumpiamTZtW6jLMWuYQ2sqIpOkRUVNoWjFnMX0S+A3wEWATkr2BZRGxRbtWadbV5YbQW+/kENrKXjGHmK4kyQ9uIwmVTwYGZFmUWZfiENo6qaIulIuIuZKqImIVcJ2khzKuy6xrcAhtnVgxDWJ5ej3CTEm/JDnddbNsyzLr5PJDaN+O2zqhYhrEl4GNgDOAc0iubfhClkWZdWrP/QvuOhden+cQ2jq1Ym7W92K6B9EPGA/MiYiVWRdm1uksWwK134cnbnUIbV1CMWcxfQ64GniO5PYZ/SV9MyL+nnVxZp3C6tUw8ya458I0hP5eGkJ3L3VlZhukmENMvwIOiIi5AJJ2Bu4C3CDMXn0mCaFfegj6fjp5JvT7m7nXklknU0yDeLWpOaTmAa9mVI9Z59DwLky5FB4YnV4JfSXseaJDaOtSmm0Qkj6fvpwt6W/AX0juxvpFkvssmVWmtULo4+CQix1CW5fU0h7EETmvFwH7pa8XA1tlVpFZuXpnMUy+wCG0VYxmG0REnJo+7vOsiLi8A2syKy9NIfTkH8LKZQ6hrWK0mEGkD/I5EnCDsMrkENoqWDEh9UOSrgRuBZY1jYyIxzKryqzUGurTK6FHO4S2ilVMg/h0+vvHOeOC5DnSZl2PQ2gzoLgrqZ3CWWXID6FP/ivstH+pqzIrmWKupN4S+BGwbzrqPuDHEfFmloWZdRiH0GYFFXOI6VrgSeBL6fCXgeuAzzf7DrPOwiG0WbOKaRA7R0Tu3Vv/T9LMjOox6xgOoc1aVUyDqJc0JCIeAJC0N1CfbVlmGXIIbVaUYhrEt4Ab0ixCwOvAKVkWZZYJh9BmbVLMWUwzgT0kbZEOv5V1UWbtyiG02Xpp9YCrpLPT5vA2cJmkxyQdkn1pZu3g1Wfg+s/BxDNh213hWw/CZy5wczArQjGJ3FfTvYZDgG2BU4FfZFqV2YZqqId/XgxXD4HFTych9Cl3+QwlszYoJoNQ+vsw4LqIeFySWnqDWUnlh9BDfwqb9Sp1VWadTjENYrqkyUB/YKSkzYHV2ZZlth7eWZw8E3rWXxxCm7WDYhrE14A9gXkRsVzSNiSHmczKw+rVMOPG5JnQK5fBfufBkHOdM5htoGLOYlotqR9wkqQAHoiIOzKvzKwYuVdC77g3HH65cwazdlLMvZh+C+wC3JKO+qakgyLi25lWZtaShnq4/1J48ArY9H2+EtosA8UcYtoP2D0iAkDSDcCsYhYu6VDgCqAK+GNEFDz7SdJg4GHg2IgYl47rCfwR2J3k9uJfjYj/FLNe6+Ke+ydMOhfeeB72OD65EtohtFm7K6ZBzAH6Ai+mwzsAT7T2pvRxpVcBBwMLgKmSJkbEUwXmuwSozVvEFcDdEXGMpE2AHkXUal3ZWiH0znDyRNhpv9bfZ2brpdkGIelOkm/uWwJPS3o0nTQYKOab/F7A3IiYly5vLHAU8FTefGcCt6fLbVr3FiS3Fz8FICJWAiuLWKd1RQ6hzUqipT2ISwuMEzAEOL6IZfcB5ucMLwA+sdbCpD7A0SRPpxucM2knYDFwnaQ9gOnA2RGxDKssrz4Dk4bDS/9xCG3WwZptEBFxX9NrSXsCJ5A8E+J54Ooill3oYrrIGx4NnBcRq/KuvdsY+BhwZkQ8IukK4Hzgh+usRDoNOA2gb9++RZRlnUJ+CH3UVUkI7Ws0zTpMS4eYPgQcR7K38BpwK6A2PIJ0AUle0WR7YGHePDXA2LQ59AIOk9RIElgviIhH0vnGkTSIdUTEGGAMQE1NTX4Dss7IIbRZWWjpENMzwBTgiIiYCyDpnDYseyowQFJ/oI6k2ZyQO0NE9G96Lel6YFJETEiH50saGBFzgANZN7uwrsYhtFlZaalBfIHkQ/1fku4GxlL4sFFBEdEo6QySs5OqgGsjYrak09PprR2mOhP4c3oG0zx89XbX5RDarCwpvbyh+RmkzYBhJIeaPgPcANwREZMzr66NampqYtq0aaUuw9pinRB6NLz/Q6WuyqxiSJoeETWFphVzq41lwJ9Jvs1vDXyRJA8ouwZhnYhDaLOyV8yFcmtExOvA79Mfs/XjENqsU2hTgzDbIA6hzToVNwjLnkNos07JDcKy5RDarNNyg7BsOIQ26/TcIKz9OYQ26xLcIKz9vLMYakfCrNscQpt1AW4Q1iYTZtQxqnYOC5fW07tnNSOGDmTYHh90CG3WBblBWNEmzKhj5PhZ1DesAqBuaT3XjP8b+0y5mW1ef8whtFkX4wZhRRtVO2dNc9iUlZy58R18c6NJLH+9Go76Lex5gkNosy7EDcKKtnBpPQBDNprFxRtfS7+NFjFu1b78vOEEpg8q5hlSZtaZuEFY0XbbcgVfX/4HhlU9xLzVH+D4lRfwn9W70adndalLM7MMuEFY61avhhl/YvzqH8JGyxnd+Hl+13gkK9iE6m5VjBjqR4CadUVuENayV5+GO4fD/IfZZMch3Lvz+dz2UAMrl9bTp+kspkF9Sl2lmWXADcIKa6iH+0elV0JvviaEPkjioH1LXZyZdQQ3CFvX3H/AXefCGy/AHifAIT/xldBmFcgNwt7zzqvp7bhvg212ga/cCf29u2BWqdwgbE0IzT0XJoeW9jsfhpzjK6HNKpwbRKXLCaHZcQgcfrmvhDYzwA2icjXUw32/hId+DZtu4SuhzWwdbhCVaJ0Q+mLYbJtSV2VmZcYNopI4hDazNnCDqASrV8NjN8C9P3IIbWZFc4Po6hY9lTwTev4j0G+fJITuNaDUVZlZJ+AG0VXlh9DDfpc8/tMhtJkVyQ2iK5p7L9z1nSSE3vNEOPgnDqHNrM3cILqStxclIfST4xxCm9kGc4PoCvJD6P1HJiH0xpuWujIz68TcIDo7h9BmlpGNsly4pEMlzZE0V9L5Lcw3WNIqScfkjHtB0ixJMyVNy7LOTmnlcrj3/+D3+8CSZ5MQ+it3ujmYWbvJbA9CUhVwFXAwsACYKmliRDxVYL5LgNoCizkgIpZkVWOn5RDazDpAloeY9gLmRsQ8AEljgaOAp/LmOxO4HRicYS1dwzoh9CTov0+pqzKzLirLBtEHmJ8zvAD4RO4MkvoARwOfYd0GEcBkSQH8PiLGZFhreXMIbWYlkGWDKHRFVuQNjwbOi4hVWvcCrr0jYqGkbYF7JD0TEfevsxLpNOA0gL59+2541eXGIbSZlUiWDWIBsEPO8PbAwrx5aoCxaXPoBRwmqTEiJkTEQoCIeFXSHSSHrNZpEOmexRiAmpqa/AbUea1cDvf/Eh76ja+ENrOSyLJBTAUGSOoP1AHHASfkzhAR/ZteS7oemBQREyRtBmwUEW+nrw8BfpxhreVl7r0w6VxY+qJDaDMrmcwaREQ0SjqD5OykKuDaiJgt6fR0+tUtvH074I50z2Jj4OaIuDurWsvG24ugdiQ8eTtsM8AhtJmVlCK6zlGZmpqamDatE14ysXo1PHY93HMRNNbDPt+FIcMdQptZ5iRNj4iaQtN8JXWpLZqdPBN6waMOoc2srLhBlMo6IfTVsMdxDqHNrGy4QZTCs/cmz4Re+iLseRIc/GOH0GZWdtwgOpJDaDPrRNwgOkJ+CL3/9x1Cm1nZc4PImkNoM+uk3CCy4hDazDo5N4gsOIQ2sy7ADaI9vb0I7j4fZo93CG1mnZ4bRHtYvRqmX5c84c0htJl1EW4QG2qdEHo09Nql1FWZmW0wN4j1tXI53HcJ/OdKh9Bm1iW5QayPZ++Fu86BpS85hDazLssNoi3efgXuHvleCH3KXdBvSKmrMjPLhBtEMRxCm1kFcoNozaLZcOfZsGAq9N8XPne5Q2gzqwhuEM3JDaG7bwlH/x4+eqxDaDOrGG4QhTx7T3ol9Esw6KTkmdA9ti51VWZmHcoNItfbr6RXQt8BvT7kENrMKpobBKQh9LVpCL0CDrgA9j7bIbSZVTQ3iPo34M9fdAhtZpbHDaJ7T+jZFwZ/3SG0mVkONwgJjrm21FWYmZWdjUpdgJmZlSc3CDMzK6jiDzFNmFHHqNo5LFxaT++e1YwYOpBhg/qUuiwzs5Kr6AYxYUYdI8fPor5hFQB1S+sZOX4WgJuEmVW8ij7ENKp2zprm0KS+YRWjaueUqCIzs/JR0Q1i4dL6No03M6skFd0gevesbtN4M7NKkmmDkHSopDmS5ko6v4X5BktaJemYvPFVkmZImpRFfSOGDqS6W9Va46q7VTFi6MAsVmdm1qlkFlJLqgKuAg4GFgBTJU2MiKcKzHcJUFtgMWcDTwNbZFFjUxDts5jMzNaV5VlMewFzI2IegKSxwFHAU3nznQncDgzOHSlpe+BzwE+Bc7MqctigPm4IZmYFZHmIqQ8wP2d4QTpuDUl9gKOBqwu8fzTwPWB1RvWZmVkLsmwQhe56F3nDo4HzImKtc00lHQ68GhHTW12JdJqkaZKmLV68eL2LNTOztWV5iGkBsEPO8PbAwrx5aoCxSu6g2gs4TFIj8AngSEmHAd2BLSTdFBEn5a8kIsYAYwBqamryG5CZma2nLBvEVGCApP5AHXAccELuDBHRv+m1pOuBSRExAZgAjEzH7w98t1BzMDOz7GTWICKiUdIZJGcnVQHXRsRsSaen0wvlDmZmViYU0XWOykhaDLy4nm/vBSxpx3Lai+tqG9fVNq6rbbpiXTtGxPsLTehSDWJDSJoWETWlriOf62ob19U2rqttKq2uir7VhpmZNc8NwszMCnKDeM+YUhfQDNfVNq6rbVxX21RUXc4gzMysIO9BmJlZQW4QZmZWUEU2CEk9JY2T9IykpyV9StLWku6R9Gz6e6syqesiSXWSZqY/h3VwTQNz1j1T0luShpd6e7VQV0m3V1rbOZJmS3pS0i2Supd6e7VQVzlsr7PTmmZLGp6OK4ftVaiukmwvSddKelXSkznjmt1Gkkamz+GZI2noeq+3EjMISTcAUyLij5I2AXoA3wdej4hfKHm40VYRcV4Z1DUceCciLu3IWgpJn91RR3KvrG9T4u3VTF2nUsLtld6h+AFg14iol/QX4G/ArpRwe7VQVz9Ku712B8aSPB5gJXA38C3gG5R2ezVX14mUYHtJ2hd4B/hTROyejvslBbaRpF2BW9LaewP3Ah/KvylqMSpuD0LSFsC+wDUAEbEyIpaSPKvihnS2G4BhZVJXOTkQeC4iXqTE2ytPbl3lYGOgWtLGJE1+IeWxvQrVVWofAR6OiOUR0QjcR/IIgFJvr+bqKomIuB94PW90c9voKGBsRKyIiOeBuSTNos0qrkEAOwGLgeuUPM70j5I2A7aLiJcB0t/blkldAGdIeiLdzezwXe0cx5F8M4HSb69cuXVBCbdXRNQBlwIvAS8Db0bEZEq8vVqoC0r77+tJYF9J20jqARxGchfoUv/7aq4uKJ//H5vbRq0+i6dYldggNgY+BvwuIgYBy4Bmn5fdgZqr63fAzsCeJP9j/6oUxaWHvI4EbivF+ptToK6Sbq/0A+MooD/J7v1mkkp+J+IW6irp9oqIp0keOXwPyWGcx4HGjqyhkBbqKov/H1tRzLN4ilKJDWIBsCAiHkmHx5F8MC+S9EGA9Per5VBXRCyKiFURsRr4A+u5q9gOPgs8FhGL0uFSb6+CdZXB9joIeD4iFkdEAzAe+DSl314F6yqD7UVEXBMRH4uIfUkOozxL6bdXwbrKYXvlaG4bFfMsnqJUXIOIiFeA+ZIGpqMOJHlO9kTgK+m4rwB/LYe6mv4BpI4m2fUtheNZ+zBOSbdXjrXqKoPt9RLwSUk9JInkv+PTlH57FayrDLYXkrZNf/cFPk/y37PU26tgXeWwvXI0t40mAsdJ2lTJ83gGAI+u1xoiouJ+SHYPpwFPkDycaCtgG+AfJN9e/gFsXSZ13QjMSsdNBD5Ygrp6AK8BW+aMK4ftVaiucthe/wc8Q/LhcSOwaZlsr0J1lcP2mkLyJe1x4MAy+vdVqK6SbC+Spvky0ECyh/C1lrYRcAHwHDAH+Oz6rrciT3M1M7PWVdwhJjMzK44bhJmZFeQGYWZmBblBmJlZQW4QZmVE0tclbV3qOszADcLKlKQPSBor6TlJT0n6m6QPlbim4eltF9pjWb0ljcsbdz5QHxH599wpZnnjJO3UHrW1sI6xkgZkuQ4rLz7N1cpOeiHXQ8ANEXF1Om5PYPOImFLCul4AaiJiSYFpVbEed8tsD5J2Ay6OiExvJidpP+CkiPhGluux8uE9CCtHBwANTc0BICJmRsQUJUYpuU//LEnHAkjaX9K/9d7zNP6cNhokDZb0kKTHJT0qaXNJVelypqY3XvtmS8uRdBbJPYz+Jelf6bzvSPqxpEeAT0m6MF3ek5LG5Kx/F0n3put/TNLOkvopvbe/kucyXJf+PTMkHZCOP0XSeEl3K7nn/y+b2V4nknOlcVrXr9J1/UPS+9Px/5Y0Ot0WT0raKx1/kaQbJE2W9IKkz0v6ZVrP3ZK6pYueAhyk5G6wVgk6+upE//intR/gLODyZqZ9geQGalXAdiS3kPggsD/wJsl9ZzYC/gMMATYB5gGD0/dvQXJjxNOAH6TjNiW5gr1/c8tJ53sB6JVTSwBfyhnOvZL1RuCI9PUjwNHp6+4kV4D3A55Mx30HuC59/eH0b+oOnJLWvmU6/CKwQ4Ftch/wP3l1nZi+vhC4Mn39b+AP6et9c9Z/EcmzIroBewDLSa++Be4AhuUs+x7g46X+N+KfjvnxHoR1NkOAWyK5Ydoikg/Hwem0RyNiQSQ3UptJ8iE8EHg5IqYCRMRbkdzf/xDgZEkzST7AtyG5Z01zyylkFXB7zvABkh6RNAv4DLCbpM2BPhFxR7r+dyNieYG/6cZ0+jMkjaApb/lHRLwZEe+S3PZhxwJ1fJDkVvFNVgO3pq9vSpff5JZ0PfcDW0jqmY7/eyQ38ZtF0nzvTsfPyvv7XyXZk7IK4F1FK0ezgWOamVboVsZNVuS8XkXy71sUvtWxgDMjonatkdL+zSynkHcjzR0kdQd+S5JRzJd0Ecm3/pbqza2lOcXUUp+uqznRzOvc4RUAEbFaUkNENI1fnbfO7un6rAJ4D8LK0T+BTSWtCUPTHGE/4H7g2DRDeD/JoZKW7lT5DNBb0uB0OZunx9BrgW81HV+X9CG994Cm5rwNbN7MtKYP6CWS3kfa4CLiLWCBpGHpejYtcCbU/SQ5AumZWn1JbrJWrKeBXXKGN+K9BnsCyeGjJk2ZzRCShwa92Yb1QLJnM7uN77FOynsQVnYiIiQdDYxOT/18l+T4/3CSD9NPkdxhM4DvRcQrkj7czLJWpkH2byRVk3z7PQj4I8mhk8fSMHkxrT/Wcgzwd0kvR8QBeetZKukPJIdkXgCm5kz+MvB7ST8muRvnF0m+mTf5LXB1emiqETglIlakGXcx7iLJTu5Nh5eRHN6aTpKnHJsz7xuSHiLJYr5a7AoAJG1Hchruy215n3VePs3VrJNLG9+/gL0jYpWkdyLifQXm+zfw3YiYtp7rOQd4KyKu2aCCrdPwISazTi4i6oEfsZ7PHW6DpcANGa/Dyoj3IMzMrCDvQZiZWUFuEGZmVpAbhJmZFeQGYWZmBblBmJlZQW4QZmZW0P8DmAxVQM0X3i4AAAAASUVORK5CYII=\n\"/>",
     "print(equation)": "y = 0.0012x + 0.3697",
     "round(((0.569-0.3697)/0.0012),4)": "166.0833",
     "rsquared.round(4)": "0.9886"
    }
   },
   "source": [
    "### Resultados\n",
    "\n",
    "{{calibration_data_p5.round(3)}}\n",
    "\n",
    "{{plot_calibration(calibration_data_p5['Concentración (ppm)'], calibration_data_p5['Promedio'], 'Concentración (ppm)', 'Absorbancia', 'Curva de calibración')}}\n",
    "\n",
    "Ecuación: {{print(equation)}}\n",
    "<br> R^2: {{rsquared.round(4)}}\n",
    "\n",
    "Muestra: {{round(((0.569-0.3697)/0.0012),4)}}"
   ]
  },
  {
   "cell_type": "markdown",
   "metadata": {},
   "source": [
    "<img src=\"https://bl3301files.storage.live.com/y4mivzSTEkhN7GiuWg3VF_FuJ0rIm6ztgGYUw23Xnqs8gxEQS_8XXsZXQ3E10WmwpM92WSwYyFozu2I7js-Y596nhnspHqCsBYX3HtpbKyNikl5IURuGhJ6MtjZL8BlyZF4KmgIqeZzHIMHJuvopf-WApQ77HiMsxXEUr3tCxC0O8wpvCGu_Er1XIFznR5j3h05?width=420&height=252&cropmode=none\" width=\"420\" height=\"252\" />"
   ]
  },
  {
   "cell_type": "markdown",
   "metadata": {},
   "source": [
    "Ecuación de la recta en un rango de concentración de [60-100] mg/L\n",
    "$$\n",
    "A=0.0012[Co] +0.3697\n",
    "$$\n",
    "Coeficiente de correlación\n",
    "$$\n",
    "r^2=0.0.9886\n",
    "$$"
   ]
  },
  {
   "cell_type": "markdown",
   "metadata": {},
   "source": [
    "|Datos de|Muestra|\n",
    "|--:|:--|\n",
    "|absorbancia|0.569|\n",
    "|concentración|166.083 mg/L|\n",
    "|100mg de suplemento|4.15208mg|\n",
    "\n",
    "La cantidad de hierro en el supplemento alimenticio es de <b>4.1520 mg por cada 100mg </b> de suplemento."
   ]
  },
  {
   "cell_type": "markdown",
   "metadata": {},
   "source": [
    "### Discusión de resultados \n",
    "\n",
    "la curva de calibración se realizó en un intervalo de 60-100mg de la concentración de hierro en el suplemento. El dato de concentración obtenido del suplemento esta fuera de los límites de la curva de la calibración es decir es una concentración obtenida por extrapolación. Se realizo la medida de cada lectura por triplicado graficando la curva de calibración con su correpondiente desviación estandar en donde podemos ver una gran variación en los datos lo cual puede deberse por errores durante la preparación de la muestra y el manejo del equipo No se presenta lectura del blanco lo cual pudo ser una de las posibles fuentes de error durante la determinación.\n",
    "\n",
    "Lo recomendable seria repetir el análisis diluyendo el ánalito para que este dentro del rango de concentración y repetir nuevamente la curva de calibración buscando obtener un mejor coeficiente de correlación y una menor desviación estandar. "
   ]
  },
  {
   "cell_type": "markdown",
   "metadata": {},
   "source": [
    "<a id=\"p_6\"></a>\n",
    "<h1><center> Práctica 6: Determinación de plomo en un objeto de alfarería </center><a id=\"p_2\"></a></h1>"
   ]
  },
  {
   "cell_type": "markdown",
   "metadata": {},
   "source": [
    "### Objetivo\n",
    "Determinar la cantidad de plomo que libera un objeto de alfarería empleado para el uso humano, empleando la técnica de absorción atómica.\n",
    "\n",
    "### Hipótesis\n",
    "\n",
    "El análisis de plomo de una olla de barro tendrá una concentración de plomo dentro de los límites permitidos\n",
    "\n",
    "### Introducción .\n",
    "<p style=\"text-align: justify;\">La espectrometría de absorción atómica (AAS) es un método prácticamente universal para la determinación de la mayoría de elementos metálicos y metaloides tanto en trazas como en concentraciones principales. La forma de las muestras originales no es importante siempre que se pueda introducir en una solución acuosa o no acuosa. Esta situación ha sido provocada por mejoras considerables en la instrumentación y también, quizás en parte como resultado de esto, una mejor comprensión entre los analistas de los tipos de efecto de interferencia que pueden modificar la respuesta esperada de un elemento dado.</p>\n",
    "\n",
    "<p style=\"text-align: justify;\">Los métodos de absorción atómica combinan la especificidad de otros métodos espectrales atómicos con la adaptabilidad de los métodos químicos húmedos. Alta especificidad significa que los elementos se pueden determinar en presencia unos de otros. Las separaciones, que son necesarias con casi todas las otras formas de análisis húmedo, se reducen al mínimo y, a menudo, se evitan por completo, lo que hace que un procedimiento analítico de absorción atómica típico sea atractivo y simple. Este hecho, combinado con la facilidad de manejo de un espectrómetro de absorción atómica moderno, hace posible que los análisis de rutina se lleven a cabo de manera rápida y económica por personal de laboratorio relativamente joven.</p>\n",
    "    \n",
    "<p style=\"text-align: justify;\">Por lo general, las separaciones se requieren solo por una de dos razones, para eliminar una causa principal de interferencia o para concentrar los elementos a determinar en caso de que estén presentes en cantidades inferiores a su límite de detección. Si bien los procedimientos de separación deben, por tanto, ser cuantitativos para los elementos en cuestión, no necesariamente tienen que ser específicos, ya que es posible determinar varios elementos juntos en una solución. Este concepto conduce a la separación de grupos de elementos en lugar de individuos y, de hecho, a una filosofía general de preparación química y muestras para absorción atómica en la que se reúnen tantos elementos como sea posible para su determinación en la solución de análisis final. Este debe ser siempre el objetivo en el desarrollo de métodos.</p>\n",
    "    \n",
    "<p style=\"text-align: justify;\">Una muestra recibida en el laboratorio puede clasificarse en una de las siguientes categorías: Soluciones acuosas, soluciones orgánicas, sólidos inorgánicos, sólidos orgánicos, y gases; cada uno posee criterios específicos a considerar en AAS. Si se van a aspirar estos materiales, los sólidos deben solubilizarse, las corrientes de gas deben filtrarse y las muestras líquidas deben satisfacer ciertos criterios:</p>\n",
    "    \n",
    "1.\tLa viscosidad y el contenido de sólidos de la solución deben ser tales que permitan la nebulización sin dar lugar a problemas asociados con el bloqueo del quemador.\n",
    "2.\tLas partículas sólidas deben eliminarse, preferiblemente por centrifugación, particularmente en determinaciones de niveles de trazas donde la contaminación será más significativa.\n",
    "3.\tLa concentración de ácido debe ser lo más baja posible.\n",
    "4.\tLos disolventes orgánicos deben elegirse con cuidado.\n",
    "5.\tLas interferencias deben eliminarse o compensarse\n",
    "6.\tLa concentración de metal no debe ser tan alta como para caer en una parte curva del gráfico de calibración. La ley de Beer se obedece para la mayoría de los elementos hasta una absorbancia de aproximadamente 0,4.\n",
    "\n",
    "<p style=\"text-align: justify;\">Siendo la segunda vez que utilizamos esta técnica, esta vez ya esperamos conocer los fundamentos y buscamos trabajar con una muestra más compleja: una muestra sólida. Así, podremos prepararnos adecuadamente para utilizar esta técnica en un laboratorio de trabajo.</p>\n"
   ]
  },
  {
   "cell_type": "markdown",
   "metadata": {},
   "source": [
    "### Materiales \n",
    "\n",
    "- Espectrofotómetro de absorción atómica.\n",
    "- Lámpara de cátodo hueco de plomo\n",
    "- Parrilla eléctrica Balanza analítica\n",
    "- Matraz Kitasato\n",
    "- Tanque de aire o compresor de aire\n",
    "- Vidrio de reloj\n",
    "- Matraces volumétricos de 100 mL\n",
    "- Papel Whatman No. 40\n",
    "- Pipetas de 1.5 y 10 mL\n",
    "- Embudo\n",
    "- Vaso de precipitado de 150 mL\n",
    "\n",
    "### Reactivos\n",
    "\n",
    "- Tanque de acetileno de alta pureza\n",
    "- Ácido clorhídrico 1 N.\n",
    "- Solución patrón de plomo de 50 ppm\n",
    "- Ácido clorhídrico concentrado\n",
    "- Agua destilada\n"
   ]
  },
  {
   "cell_type": "markdown",
   "metadata": {},
   "source": [
    "### Metodología \n",
    "<img src=\"https://bl3301files.storage.live.com/y4m3T07Yzj-Ys_h2bR1I0CEXYdRnkTMECxhnFktecLI6i81RMQ0CfsNrnO8UQxufBOxYeFglH6DvxKaRIwfP-IvpW2oh5GWne2zXccVPCtfNStUbWUPynH8lK4nMNjmXPvgC7aqPtRiA0h3PP514b-e2oBUL0d2zJfN5_RYmnGjsgWacwqecA5M7MTgl_GRoqjw?width=901&height=498&cropmode=none\" width=\"901\" height=\"498\" />"
   ]
  },
  {
   "cell_type": "markdown",
   "metadata": {},
   "source": [
    "<a href= \"#indice\" ><img src=\"https://bl3301files.storage.live.com/y4m-c96T5uHYCy5gRYmjxh9GAKLct1CTOz-IAhMfv-5-yf3kkDICnUTqD7h8CtGTWc5N8tGnzP1JGiTIgCQYQQusiQE6qmZUnNXw16aj5CeS2H-V0DWechdQ-nXMOuPwzGCO_qrHuG3eUNU2_AjktluOM9bW8NXvKAoF1Ba3jqv3Z9EuuEHJfFrig7uhjuC8eMe?width=250&height=83&cropmode=none\" width=\"125\" height=\"41\" /></a>"
   ]
  },
  {
   "cell_type": "markdown",
   "metadata": {},
   "source": [
    "<a id=\"p_7\"></a>\n",
    "<h1><center> Práctica 7: </center><a id=\"p_2\"></a></h1>"
   ]
  },
  {
   "cell_type": "markdown",
   "metadata": {},
   "source": [
    "<a href= \"#indice\" ><img src=\"https://bl3301files.storage.live.com/y4m-c96T5uHYCy5gRYmjxh9GAKLct1CTOz-IAhMfv-5-yf3kkDICnUTqD7h8CtGTWc5N8tGnzP1JGiTIgCQYQQusiQE6qmZUnNXw16aj5CeS2H-V0DWechdQ-nXMOuPwzGCO_qrHuG3eUNU2_AjktluOM9bW8NXvKAoF1Ba3jqv3Z9EuuEHJfFrig7uhjuC8eMe?width=250&height=83&cropmode=none\" width=\"125\" height=\"41\" /></a>"
   ]
  },
  {
   "cell_type": "code",
   "execution_count": null,
   "metadata": {},
   "outputs": [],
   "source": []
  },
  {
   "cell_type": "markdown",
   "metadata": {},
   "source": [
    "# Toxicología <a id=\"tox\"></a>\n",
    "|Compuesto|Precuaciones|Primeros Auxilios|\n",
    "|:------:|:--------:|:--------------:|\n",
    "|<b>NaOH</b><img src=\"https://bl3301files.storage.live.com/y4mO4tNXJmfL9-v7OS5W4dmucocg142fh3u-ZgYDOTuHQNjD3XFlOpYqQYFaVsuMpNRXCdLKfdBxvVxD5rGRRIrwcPyyc66cQXkn1uNYKSbTycsz_6shZS0yuFu-nwBWdCkmX6lMfgxx3rOd-lqduwtpwsvFefT-eqDAUYVFHgyL0EhNKMMAJLi2qyY97yI1FZp?width=281&height=364&cropmode=none\" width=\"80\" height=\"100\" />|Puede ser corrosivo a metales. Causa quemaduras severas a la piel y daño serio a los ojos.<a name=\"t1\"></a></li>|<p><b>Inhalación:</b> Buscar aire fresco, consultar ayuda médica de ser necesario.</p><p> <b>Contacto dérmico: </b>Lavar con agua y jabón por 15 minutos. Quitar ropa y zapatos contaminados inmediatamente.<p><b> Contacto ocular:</b> Lavar con agua abundante manteniendo los p·rpados abiertos.</p> <p><b> Ingestión: </b> Enjuagar la boca con agua. No inducir al vómito. </p> |\n",
    "|<b>Ftalato ácido de potasio</b><img src=\"https://bl3301files.storage.live.com/y4mVQwflRFzMwKMSwGcLeLQvUYjHdgg89WOPSfALX-TCUp016Y4Awt-k_-H-dCzeN8fOH2uNGQi7Z_S0cajUIG3lChycGAeoHg0jqgov2cP4qh5oZez8tDAzmRwg4Vz5vqEL5WLc0aaFdMqFG3VbQVqeF58nQ8CCA7w9xYYBgYHNKi_0MdM9nAWTfxU7qGJ5FkN?width=281&height=364&cropmode=none\" width=\"80\" height=\"100\" />| Sustancia clasificada como NO PELIGROSA.  <a name=\"t2\"></a></li>|<p><b>Inhalación:</b> Buscar aire fresco, consultar ayuda médica de ser necesario.</p><p> <b>Contacto dérmico:</b>Lavar abundantemente con agua<p><b> Contacto ocular</b>Lavar con agua abundante manteniendo los párpados abiertos.</p> <p><b> Ingestión: </b> Beber agua abundante. Provocar el vómito. Pedir atención médica </p>|\n",
    "\n",
    "\n",
    " \n",
    "<!-- |<p><b>NaOH</b></p>|   dfdfdf|<p><b>Inhalación:</b></p><p> <b>Contacto dérmico:</b><p><b> Contacto ocular</b>: Enjuagar</p> <p><b> Ingestión: </b> </p>| -->\n",
    "\n"
   ]
  },
  {
   "cell_type": "markdown",
   "metadata": {},
   "source": [
    "## Referencias\n",
    "<ol>\n",
    "    <li>Mendham,   J.   and   Vogel,   A.,   1989.Vogel's textbook  of  quantitative  chemical  analysis.  5th ed. John Wiley: Longman Scientific & Technical, pp.72-78.<a name=\"b1\"></a></li>\n",
    "    <li>Norma Oficial  Mexicana:NOM-001-SAG/GAN-2015, Sistema Nacional de Identificación Animal para Bovinos y Colmenas, de 29/05/2015.</li><a name=\"b2\"></a>\n",
    "    <li>2012. Vocabulario Internacional de Metrología. 3rd  ed.  Madrid:  Centro  Español  de Metrología, pp.57-58.<a name=\"b3\"></a></li>\n",
    "    <li>Norma Oficial  Mexicana:NOM-038-SCFI-2000, Pesas de clases exactitud E1, E2, F1, F2, M1, M2 Y M3 <a name=\"b4\"></a></li>\n",
    "    <li>C. Harris, D., 2007. Quantitative chemical analysis. 8th ed. New York, NY: W.H. Freeman and Co., pp.80-100.<a name=\"b5\"></a></li>\n",
    "    <li>Skoog, D., Holler, F. and Crouch, S., 2018. Principles of instrumental analysis. 7th ed. Australia: CENGAGE Learning, pp.60-90.<a name=\"b6\"></a></li>\n",
    "    <li>The International Pharmacopoeia. 2019. Acetylsalicylic acid (Acidum acetylsalicylicum). [online] Available at: <https://apps.who.int/phint/pdf/b/6.1.5.Acetylsalicylic-acid-(Acidum-acetylsalicylicum).pdf> [Accessed 15 February 2021].<a name=\"b7\"></a></li>\n",
    "    <li>Lajunen, L. and Perämäki, P., 2004. Spectrochemical analysis by atomic absorption and emission. Cambridge: Royal Society of Chemistry.<a name=\"b7\"></a></li>\n",
    "    <li>Cantle, J., 1982. Atomic absorption spectrometry. Amsterdam: Elsevier scientific.<a name=\"b5\"></a></li>\n",
    "   \n",
    "    \n",
    "</ol>"
   ]
  },
  {
   "cell_type": "code",
   "execution_count": null,
   "metadata": {},
   "outputs": [],
   "source": []
  },
  {
   "cell_type": "code",
   "execution_count": null,
   "metadata": {
    "scrolled": true
   },
   "outputs": [],
   "source": []
  },
  {
   "cell_type": "markdown",
   "metadata": {},
   "source": []
  },
  {
   "cell_type": "code",
   "execution_count": null,
   "metadata": {},
   "outputs": [],
   "source": []
  },
  {
   "cell_type": "code",
   "execution_count": null,
   "metadata": {},
   "outputs": [],
   "source": []
  }
 ],
 "metadata": {
  "hide_input": true,
  "kernelspec": {
   "display_name": "Python 3",
   "language": "python",
   "name": "python3"
  },
  "language_info": {
   "codemirror_mode": {
    "name": "ipython",
    "version": 3
   },
   "file_extension": ".py",
   "mimetype": "text/x-python",
   "name": "python",
   "nbconvert_exporter": "python",
   "pygments_lexer": "ipython3",
   "version": "3.9.1"
  }
 },
 "nbformat": 4,
 "nbformat_minor": 4
}
