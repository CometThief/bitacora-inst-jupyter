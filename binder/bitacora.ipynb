{
 "cells": [
  {
   "cell_type": "markdown",
   "metadata": {},
   "source": [
    "# Indice\n",
    "\n",
    "- [Rombo de seguridad](#rombo)\n",
    "- [Código de colores](#codigo_colores)\n",
    "- [Práctica 1: Verificación y Manejo de una Balanza Analítica](#p_1)\n",
    "- [Práctica 2: Determinación de aspirina en tabletas comerciales por Potenciometría](#p_2)\n",
    "- [Tóxicología](#tox)\n"
   ]
  },
  {
   "cell_type": "markdown",
   "metadata": {},
   "source": [
    "# Rombo de seguridad<a id=\"rombo\"></a>\n",
    "<img src=\"https://bl3301files.storage.live.com/y4mT07__XksCcGCRRTb0PFha_KeHdSQfDp9Pzcs5ty6oToxffxlxgxP7NZjf7mPOohjNfwB0ZVwdhiUXJneoaHwUpmWTLN6gosfH53d8CRLH-k3zvOqO1iEVFgDsUxmla3xDhFP4ZQj5F8b1jPqCAAeNKHiwE_KJM60ZI1HG7uQMXzRWUr_ztMmVzZrDRjhne-a?width=1000&height=1000&cropmode=none\" width=\"300\" height=\"300\" />\n"
   ]
  },
  {
   "cell_type": "markdown",
   "metadata": {},
   "source": [
    "# Disposición de residuos\n",
    "<a id=\"codigo_colores\"></a>\n",
    "\n",
    "\n",
    "|Código|Tipo de sustancia |Ejemplo|\n",
    "|:------:|:--------:|:--------------:|\n",
    "|A|Disolventes orgánicos y soluciones de sustancias orgánicas que no contengan halógenos.|Acetonas|\n",
    "|B|Disolventes orgánicos y soluciones de sustancias orgánicas que contengan halógenos.|Cloroformo|\n",
    "|C|Residuos sólidos orgánicos.|Ácido Acetil salicílico|\n",
    "|D|Soluciones salinas inorgánicas.|Sulfato de cobre|\n",
    "|E|Residuos inorgánicos tóxicos, así como las sales y sus soluciones de metales pesados.|Sales de plomo, talio y selenio|\n",
    "|F|Compuestos combustibles tóxicos.|Benceno|\n",
    "|G|Mercurio y sales de mercurio.|Sulfato de mercurio|\n",
    "|H|Sales metálicas regenerables.|Cloruro de plata|\n",
    "|I|Sólidos inorgánicos.|Carbonato de bario|\n",
    "|K|Residuos de vidrios, plásticos, metal, columnas y cartuchos para HPLC, capa fina y columnas, papel filtro, papel indicador.|Recipientes vacíos o rotos, papel|"
   ]
  },
  {
   "cell_type": "markdown",
   "metadata": {},
   "source": [
    "<a id=\"p_1\"></a>\n",
    "<h1><center> Práctica 1: Verificación y Manejo de una Balanza Analítica</center><a id=\"p_1\"></a></h1>"
   ]
  },
  {
   "cell_type": "markdown",
   "metadata": {},
   "source": [
    "### Objetivos\n",
    "Recordar el manejo correcto de la balanza analítica y realizar el procedimiento para llevar a cabo su calibración para determinar el error de la balanza.\n",
    "<p></p>"
   ]
  },
  {
   "cell_type": "markdown",
   "metadata": {},
   "source": [
    "### Hipótesis\n",
    "Se manejará la balanza de manera adecuada y se llevaráacabo su calibración pudiendo así determinar el error de esta.\n",
    "<p></p>"
   ]
  },
  {
   "cell_type": "markdown",
   "metadata": {},
   "source": [
    "### Introducción\n",
    "<p style=\"text-align: justify;\">Uno     de     los     procedimientos     utilizados     más comúnmenteen  el  laboratorio  es  la  medición  de masa.  Tal  es  suimportancia  que  existen  análisis químicos  basadosúnicamente  en  la  determinación precisa   de   la   masa   de   unamuestra,   o   en   la preparación  meticulosa  de  una  solución estándar. Por esto, la balanza ha sido y continuará siendouno de     los     instrumentos     más     importantes     del laboratorio</p>\n",
    "\n",
    "\n",
    "<p style=\"text-align: justify;\">A lo largo de los años, las balanzas se han vuelto más refinadas,  más  exactas,  y  como  consecuencia, más sensibles  a  influencia  externa  (como  humedad  o vibraciones). Sin embargo, se deben seguir una serie de    lineamientos    cuando    se    trata    con    ellas, independientemente  de  que  tipo  de  balanza  se trate<a href=\"#b1\"><sup>[1]</sup></a></p>\n",
    "\n",
    "#### Lineamientos para manejo de la balanza <a href=\"#b1\"><sup>[1]</sup></a>\n",
    "\n",
    "\n",
    "* Nunca exceder la carga máxima de la balanza.\n",
    "* Mantener  la  balanza  limpia.  Pre  y  post  uso  se debe  limpiar  tanto  polvo  como  residuos  del platillo y sus alrededores. \n",
    "* El  material  a  utilizar  nunca  debe  ser  manejado con  las  manos;  siempre  utilizar  pinzas  o  papel limpio.\n",
    "* Objetos   pesados   deben   estar   a   la   misma temperatura que la balanza.\n",
    "* La  balanza  debe  encontrarse  en  un  espacio cerrado,    con    factores    como    humedad    y temperatura adecuadamente controlados.\n",
    "* Ningún químico u objeto que pueda causar daño a  la  balanza  debe  ser  pesado  directamente sobre  ella.  Existenrecipientes  adecuados  para todo tipo de sustancias.\n",
    "* No  se  debe  recargar  sobre  la  mesa  donde  se encuentre  la  balanza,  ni  colocar  objetos  sobre ella. \n",
    "* Mientras  se  pesa  los  compartimientos  de  la balanza deben permanecer cerrados.\n",
    "\n",
    "\n",
    "\n",
    "#### Errores comunes en mediciones con la balanza<a href=\"#b1\"><sup>[1]</sup></a>\n",
    "\n",
    "* <p style=\"text-align: justify;\"><b>Cambio    de    condición    del    recipiente    y/o sustancia   entre   mediciones   sucesivas.</b>   Estos pueden absorber o perder humedad, electrificarse    por    fricción,    o    cambiar    su temperatura entre mediciones. La manera más fácil  de  evitar  estos  problemas  es  dejando  la muestra   reposar   unos   ~30min   cerca   de   la balanza para homogeneizar.</p>\n",
    "* <p style=\"text-align: justify;\"><b>Cuando una sustancia está inmersa en un fluido (como  el  aire),  su  peso  real  es  alterado  por  el peso  del  fluido  que  desplaza.</b>Este  error  se observa cuando la densidad de la muestra y de las   pesas   de   la   balanza   tienen   densidades distintas  (esto  se  cumple  casi  siempre).  Si  la sustancia tiene una densidad menor a las pesas, el peso medido será menor al real (y viceversa). Sin     embargo,     solo     es     necesario     hacer correcciones para estos errores en procedimientos como la calibración de material volumétrico; en el día a día no es necesario.</p>\n",
    "\n",
    "<p style=\"text-align: justify;\">Hay  una  gran  variedad  de  factores  que  afectan  el desempeño de las balanzas tales como temperatura ambiental,   humedad,  presión   barométrica,   etc. Debido  a  estos  factores  no  se  pueden  entregar certificaciones de calibración con la compra de estas balanzas  analíticas,  y  la  garantía  de  mediciones precisa  se  obtiene  solamente  tras  una  calibración local  (y  recurrente).  Existen  tanto  la  calibración externa (proceso manual que requiere utilizar masas aprobadas  como  estándares)  e  interna  (donde  el instrumento  se  calibra  solo,  usualmente  con  solo presionar un botón).</p>  \n",
    "<p></p>"
   ]
  },
  {
   "cell_type": "markdown",
   "metadata": {},
   "source": [
    "### Lista de reactivos materiales \n",
    "* Balanza analítica \n",
    "* Pesas patrón\n",
    "* Guantes\n",
    "* Pinzas de disección\n",
    "* Brocha\n",
    "<p></p>"
   ]
  },
  {
   "cell_type": "markdown",
   "metadata": {},
   "source": [
    "### Metodología \n",
    "\n",
    "<img src=\"https://bl3301files.storage.live.com/y4mRJCxrDW2bkdNlGN72BlaUuGmj32O3m53clExNvcueNCEQ3cnjShS-TB_ggKvZrfpw97eYoFL50Xhl9at9PBedCoDz_1ZY_LaiLPsWq_8a1iyTvShVMTgZKiGz_sIvhdlNIOwpVe5RU7netMxqa1InEMNzy8GSrQsnbaUxQHjT-0zApolYNcsVELNpP7nV9y8?width=2775&height=872&cropmode=none\" width=\"2775\" height=\"872\" />\n",
    "\n",
    "\n",
    "<p></p>"
   ]
  },
  {
   "cell_type": "markdown",
   "metadata": {},
   "source": [
    "### Actividades de investigación <a href=\"#b2\"><sup>[2]</sup></a><a href=\"#b3\"><sup>[3]</sup></a>\n",
    "\n",
    "<p style=\"text-align: justify;\"><b>Material de referencia:</b> Material homogéneo y estable de acuerdo consus propiedades especificada que lo establecen como apto para su uso en una medición o en un análisis cualitativo.</p>\n",
    "\n",
    "<p style=\"text-align: justify;\"><b>Material   de   referencia: </b>Certificado: Material   de referencia  que  tiene  un  documento emitido  por alguna organización autorizada, donde proporciona diferentes   valores de las   propiedades con   surespectiva     incertidumbre     y  trazabilidad,     los requisitos del certificado se encuentran en la normaNMX-CH-161-IMNC.</p>\n",
    "\n",
    "<p style=\"text-align: justify;\"><b>Patrón de medición:</b> Los  estándares  son  materiales  que  contienen  una concentración   precisamente   conocida   de   alguna sustancia  a  utilizar  en  análisis  cuantitativo.  Estos permiten  una  referencia  que  puede  ser  utilizada para  determinar  concentraciones  desconocidas  o para calibrar instrumentos. </p>\n",
    "\n",
    "<p style=\"text-align: justify;\"><b>Trazabilidad: </b>según     NOM-001-SAG/GAN-2015:“Serie   de   actividades   técnicas   y   administrativas sistematizadas  que  permiten  registrar  los  procesos relacionados  con  el  nacimiento,  crianza,  engorda, reproducción,  sacrificio   y   procesamiento   de   un animal, los bienes de origen animal, así como de los productos   químicos,   farmacéuticos,   biológicos   y alimenticios  para  uso  en  animales  o  consumo  por éstos, hasta su consumo final, identificando en cada etapa su ubicación espacial y en su caso, los factores de   riesgo   zoosanitario   y   de   contaminación   que pueden   estar   presentes   en   cada   una   de   las actividades\".</p>\n",
    "<p style=\"text-align: justify;\"> <b>Desviación estándar: </b>Es una medición de que tan cercanamente los datos están  agrupados  alrededor  de  la  media.  Entre  más pequeña sea esta desviación, más agrupados están los datos cerca de la media. La    ecuación    predeterminada    para    calcular    la desviación estándar en Excel es: <b>“=STDEV(VALORES)”</b></p>\n",
    "<p style=\"text-align: justify;\"> <b>Desviación estándar relativa: </b>Es una medición de que tan cercanamente los datos están  agrupados  alrededor  de  la  media.  Entre  más pequeña sea esta desviación, más agrupados están los datos cerca de la media. La    ecuación    predeterminada    para    calcular    la desviación estándar en Excel es: <b>“=STDEV(VALORES)”</b></p>\n",
    "\n",
    "<p></p>"
   ]
  },
  {
   "cell_type": "code",
   "execution_count": 3,
   "metadata": {},
   "outputs": [],
   "source": [
    "import pandas as pd\n",
    "import numpy as np\n",
    "\n",
    "balance1 = pd.DataFrame(\n",
    "    {\n",
    "        'Pesa':[1,2,5,10,20,50,100],\n",
    "        'Repeticion 1':[1.0011,2.0038,5.0049,10.0005,20.0087,49.9987,100.0094],\n",
    "        'Repeticion 2':[1.0011,2.0038,5.0048,10.0001,20.0081,49.9984,100.0099],\n",
    "        'Repeticion 3':[1.0008,2.0033,5.0044,9.9994,20.0084,49.9986,100.0093]\n",
    "    }\n",
    ")\n",
    "balance1['Promedio'] = balance1[['Repeticion 1','Repeticion 2','Repeticion 3']].mean(axis=1)\n",
    "balance1['Desviacion'] = balance1[['Repeticion 1','Repeticion 2','Repeticion 3']].std(axis=1)\n",
    "balance1['Error Absoluto'] = (balance1['Promedio'] - balance1['Pesa']).abs()\n",
    "balance1['Error Relativo (%)'] = (balance1['Error Absoluto'] / balance1['Pesa'] * 100)\n",
    "\n",
    "balance4 = pd.DataFrame(\n",
    "    {\n",
    "        'Pesa':[1,2,5,10,20,50,100],\n",
    "        'Repeticion 1':[0.98340,1.96840,4.91680,9.82440,19.65680,49.12060,98.25420],\n",
    "        'Repeticion 2':[0.98340,1.96840,4.91690,9.82430,19.65680,49.12040,98.25410],\n",
    "        'Repeticion 3':[0.98340,1.96840,4.91690,9.82420,19.65690,49.12040,98.25400]\n",
    "    }\n",
    ")\n",
    "balance4['Promedio'] = balance4[['Repeticion 1','Repeticion 2','Repeticion 3']].mean(axis=1)\n",
    "balance4['Desviacion'] = balance4[['Repeticion 1','Repeticion 2','Repeticion 3']].std(axis=1)\n",
    "balance4['Error Absoluto'] = (balance4['Promedio'] - balance4['Pesa']).abs()\n",
    "balance4['Error Relativo (%)'] = (balance4['Error Absoluto'] / balance4['Pesa'] * 100)\n"
   ]
  },
  {
   "cell_type": "code",
   "execution_count": 234,
   "metadata": {},
   "outputs": [],
   "source": [
    "#calculos de las balanzas del lab 5\n",
    "\n",
    "balances_l5 = pd.DataFrame(\n",
    "    {\n",
    "        'Estandar':[2.0000,5.0000,10.0000,20.0000,50.0000,100.0000],\n",
    "        '1':[2.0050,5.0043,9.9997,20.0080,49.9980,100.0100],\n",
    "        '2':[2.0035,5.0051,10.0000,20.0090,49.9980,100.0100],\n",
    "        '3':[2.0037,5.0046,9.9996,20.0080,49.9970,100.0100,],\n",
    "        '4':[1.9702,4.9171,9.8247,19.6580,49.1220,98.2570],\n",
    "        '5':[2.0051,5.0045,9.9997,20.0080,49.9980,100.0100],\n",
    "        '6':[2.0039,5.0046,9.9998,20.0080,49.9970,100.0100],\n",
    "        '7':[2.0059,5.0045,9.9993,20.0070,49.9950,100.0000],\n",
    "        '8':[2.0036,5.0047,9.9995,20.0080,49.9980,100.0100]\n",
    "    }\n",
    ")\n",
    "\n",
    "balances_l5_abserr = pd.DataFrame(\n",
    "    {\n",
    "        'Masa (g)':balances_l5['Estandar']\n",
    "    }\n",
    ")\n",
    "\n",
    "for e in range(0,8):\n",
    "    a = []\n",
    "    for i in range(1,7):\n",
    "        a.append(abs(balances_l5.iloc[i-1][e+1] - balances_l5.iloc[i-1][0]))\n",
    "    balances_l5_abserr[e+1] = a\n",
    "\n",
    "balances_l5_relerr = pd.DataFrame(\n",
    "    {\n",
    "        'Masa (g)':balances_l5['Estandar']\n",
    "    }\n",
    ")\n",
    "\n",
    "for e in range(1,9):\n",
    "    a = []\n",
    "    for i in range(1,7):\n",
    "        a.append(balances_l5_abserr.iloc[i-1][e] / balances_l5.iloc[i-1][0] * 100)\n",
    "    balances_l5_relerr[e] = a\n"
   ]
  },
  {
   "cell_type": "code",
   "execution_count": 264,
   "metadata": {},
   "outputs": [],
   "source": [
    "#calculos de monedas individuales\n",
    "\n",
    "coins_individual = pd.DataFrame(\n",
    "    {\n",
    "        'Moneda y año':['1 (1998)','2 (2005)','3 (2015)','4 (2016)','5 (2017)'],\n",
    "        'Pesada 1':[3.8323,3.8893,3.8921,3.9004,3.9193],\n",
    "        'Pesada 2':[3.8322,3.8404,3.8935,3.9013,3.9307],\n",
    "        'Pesada 3':[3.8331,3.8905,3.8931,3.9004,3.9301]\n",
    "    }\n",
    ")\n",
    "coins_individual['Promedio'] = coins_individual[['Pesada 1','Pesada 2', 'Pesada 3']].mean(axis=1)\n",
    "coins_individual['Desviacion'] = coins_individual[['Pesada 1','Pesada 2', 'Pesada 3']].std(axis=1)\n",
    "\n",
    "templist = []\n",
    "\n",
    "for i in range(0,5):\n",
    "    a = []\n",
    "    for e in range(1,4):\n",
    "        a.append(abs(coins_individual.iloc[i][e] - coins_individual['Promedio'][i]))\n",
    "    templist.append(np.sum(a)/3)\n",
    "    \n",
    "coins_individual['Error Absoluto'] = templist\n",
    "coins_individual['Error Relativo (%)'] = (coins_individual['Error Absoluto'] / coins_individual['Promedio'] * 100)\n"
   ]
  },
  {
   "cell_type": "code",
   "execution_count": 273,
   "metadata": {},
   "outputs": [],
   "source": [
    "#calculos de monedas por diferencias\n",
    "\n",
    "coins_multiple = pd.DataFrame(\n",
    "    {\n",
    "        '# Moneda':[1,2,3,4,5],\n",
    "        'Peso por diferencia':[3.9333,3.7905,3.8934,3.9009,3.9304],\n",
    "        'Masa promedio (g)':coins_individual['Promedio']\n",
    "    }\n",
    ")\n",
    "\n",
    "coins_multiple['Error Absoluto'] = (coins_multiple['Masa promedio (g)'] - coins_multiple['Peso por diferencia']).abs()\n",
    "coins_multiple['Error Relativo (%)'] = (coins_multiple['Error Absoluto'] / coins_multiple['Masa promedio (g)'] * 100)"
   ]
  },
  {
   "cell_type": "markdown",
   "metadata": {},
   "source": [
    "### Resultados"
   ]
  },
  {
   "cell_type": "markdown",
   "metadata": {
    "variables": {
     "balance1[['Pesa','Promedio','Desviacion','Error Absoluto','Error Relativo (%)']].style.hide_index()": "<style  type=\"text/css\" >\n</style><table id=\"T_ce329_\" ><thead>    <tr>        <th class=\"col_heading level0 col0\" >Pesa</th>        <th class=\"col_heading level0 col1\" >Promedio</th>        <th class=\"col_heading level0 col2\" >Desviacion</th>        <th class=\"col_heading level0 col3\" >Error Absoluto</th>        <th class=\"col_heading level0 col4\" >Error Relativo (%)</th>    </tr></thead><tbody>\n                <tr>\n                                <td id=\"T_ce329_row0_col0\" class=\"data row0 col0\" >1</td>\n                        <td id=\"T_ce329_row0_col1\" class=\"data row0 col1\" >1.001000</td>\n                        <td id=\"T_ce329_row0_col2\" class=\"data row0 col2\" >0.000173</td>\n                        <td id=\"T_ce329_row0_col3\" class=\"data row0 col3\" >0.001000</td>\n                        <td id=\"T_ce329_row0_col4\" class=\"data row0 col4\" >0.100000</td>\n            </tr>\n            <tr>\n                                <td id=\"T_ce329_row1_col0\" class=\"data row1 col0\" >2</td>\n                        <td id=\"T_ce329_row1_col1\" class=\"data row1 col1\" >2.003633</td>\n                        <td id=\"T_ce329_row1_col2\" class=\"data row1 col2\" >0.000289</td>\n                        <td id=\"T_ce329_row1_col3\" class=\"data row1 col3\" >0.003633</td>\n                        <td id=\"T_ce329_row1_col4\" class=\"data row1 col4\" >0.181667</td>\n            </tr>\n            <tr>\n                                <td id=\"T_ce329_row2_col0\" class=\"data row2 col0\" >5</td>\n                        <td id=\"T_ce329_row2_col1\" class=\"data row2 col1\" >5.004700</td>\n                        <td id=\"T_ce329_row2_col2\" class=\"data row2 col2\" >0.000265</td>\n                        <td id=\"T_ce329_row2_col3\" class=\"data row2 col3\" >0.004700</td>\n                        <td id=\"T_ce329_row2_col4\" class=\"data row2 col4\" >0.094000</td>\n            </tr>\n            <tr>\n                                <td id=\"T_ce329_row3_col0\" class=\"data row3 col0\" >10</td>\n                        <td id=\"T_ce329_row3_col1\" class=\"data row3 col1\" >10.000000</td>\n                        <td id=\"T_ce329_row3_col2\" class=\"data row3 col2\" >0.000557</td>\n                        <td id=\"T_ce329_row3_col3\" class=\"data row3 col3\" >0.000000</td>\n                        <td id=\"T_ce329_row3_col4\" class=\"data row3 col4\" >0.000000</td>\n            </tr>\n            <tr>\n                                <td id=\"T_ce329_row4_col0\" class=\"data row4 col0\" >20</td>\n                        <td id=\"T_ce329_row4_col1\" class=\"data row4 col1\" >20.008400</td>\n                        <td id=\"T_ce329_row4_col2\" class=\"data row4 col2\" >0.000300</td>\n                        <td id=\"T_ce329_row4_col3\" class=\"data row4 col3\" >0.008400</td>\n                        <td id=\"T_ce329_row4_col4\" class=\"data row4 col4\" >0.042000</td>\n            </tr>\n            <tr>\n                                <td id=\"T_ce329_row5_col0\" class=\"data row5 col0\" >50</td>\n                        <td id=\"T_ce329_row5_col1\" class=\"data row5 col1\" >49.998567</td>\n                        <td id=\"T_ce329_row5_col2\" class=\"data row5 col2\" >0.000153</td>\n                        <td id=\"T_ce329_row5_col3\" class=\"data row5 col3\" >0.001433</td>\n                        <td id=\"T_ce329_row5_col4\" class=\"data row5 col4\" >0.002867</td>\n            </tr>\n            <tr>\n                                <td id=\"T_ce329_row6_col0\" class=\"data row6 col0\" >100</td>\n                        <td id=\"T_ce329_row6_col1\" class=\"data row6 col1\" >100.009533</td>\n                        <td id=\"T_ce329_row6_col2\" class=\"data row6 col2\" >0.000321</td>\n                        <td id=\"T_ce329_row6_col3\" class=\"data row6 col3\" >0.009533</td>\n                        <td id=\"T_ce329_row6_col4\" class=\"data row6 col4\" >0.009533</td>\n            </tr>\n    </tbody></table>",
     "balance4[['Pesa','Promedio','Desviacion','Error Absoluto','Error Relativo (%)']].style.hide_index()": "<style  type=\"text/css\" >\n</style><table id=\"T_8bb7e_\" ><thead>    <tr>        <th class=\"col_heading level0 col0\" >Pesa</th>        <th class=\"col_heading level0 col1\" >Promedio</th>        <th class=\"col_heading level0 col2\" >Desviacion</th>        <th class=\"col_heading level0 col3\" >Error Absoluto</th>        <th class=\"col_heading level0 col4\" >Error Relativo (%)</th>    </tr></thead><tbody>\n                <tr>\n                                <td id=\"T_8bb7e_row0_col0\" class=\"data row0 col0\" >1</td>\n                        <td id=\"T_8bb7e_row0_col1\" class=\"data row0 col1\" >0.983400</td>\n                        <td id=\"T_8bb7e_row0_col2\" class=\"data row0 col2\" >0.000000</td>\n                        <td id=\"T_8bb7e_row0_col3\" class=\"data row0 col3\" >0.016600</td>\n                        <td id=\"T_8bb7e_row0_col4\" class=\"data row0 col4\" >1.660000</td>\n            </tr>\n            <tr>\n                                <td id=\"T_8bb7e_row1_col0\" class=\"data row1 col0\" >2</td>\n                        <td id=\"T_8bb7e_row1_col1\" class=\"data row1 col1\" >1.968400</td>\n                        <td id=\"T_8bb7e_row1_col2\" class=\"data row1 col2\" >0.000000</td>\n                        <td id=\"T_8bb7e_row1_col3\" class=\"data row1 col3\" >0.031600</td>\n                        <td id=\"T_8bb7e_row1_col4\" class=\"data row1 col4\" >1.580000</td>\n            </tr>\n            <tr>\n                                <td id=\"T_8bb7e_row2_col0\" class=\"data row2 col0\" >5</td>\n                        <td id=\"T_8bb7e_row2_col1\" class=\"data row2 col1\" >4.916867</td>\n                        <td id=\"T_8bb7e_row2_col2\" class=\"data row2 col2\" >0.000058</td>\n                        <td id=\"T_8bb7e_row2_col3\" class=\"data row2 col3\" >0.083133</td>\n                        <td id=\"T_8bb7e_row2_col4\" class=\"data row2 col4\" >1.662667</td>\n            </tr>\n            <tr>\n                                <td id=\"T_8bb7e_row3_col0\" class=\"data row3 col0\" >10</td>\n                        <td id=\"T_8bb7e_row3_col1\" class=\"data row3 col1\" >9.824300</td>\n                        <td id=\"T_8bb7e_row3_col2\" class=\"data row3 col2\" >0.000100</td>\n                        <td id=\"T_8bb7e_row3_col3\" class=\"data row3 col3\" >0.175700</td>\n                        <td id=\"T_8bb7e_row3_col4\" class=\"data row3 col4\" >1.757000</td>\n            </tr>\n            <tr>\n                                <td id=\"T_8bb7e_row4_col0\" class=\"data row4 col0\" >20</td>\n                        <td id=\"T_8bb7e_row4_col1\" class=\"data row4 col1\" >19.656833</td>\n                        <td id=\"T_8bb7e_row4_col2\" class=\"data row4 col2\" >0.000058</td>\n                        <td id=\"T_8bb7e_row4_col3\" class=\"data row4 col3\" >0.343167</td>\n                        <td id=\"T_8bb7e_row4_col4\" class=\"data row4 col4\" >1.715833</td>\n            </tr>\n            <tr>\n                                <td id=\"T_8bb7e_row5_col0\" class=\"data row5 col0\" >50</td>\n                        <td id=\"T_8bb7e_row5_col1\" class=\"data row5 col1\" >49.120467</td>\n                        <td id=\"T_8bb7e_row5_col2\" class=\"data row5 col2\" >0.000115</td>\n                        <td id=\"T_8bb7e_row5_col3\" class=\"data row5 col3\" >0.879533</td>\n                        <td id=\"T_8bb7e_row5_col4\" class=\"data row5 col4\" >1.759067</td>\n            </tr>\n            <tr>\n                                <td id=\"T_8bb7e_row6_col0\" class=\"data row6 col0\" >100</td>\n                        <td id=\"T_8bb7e_row6_col1\" class=\"data row6 col1\" >98.254100</td>\n                        <td id=\"T_8bb7e_row6_col2\" class=\"data row6 col2\" >0.000100</td>\n                        <td id=\"T_8bb7e_row6_col3\" class=\"data row6 col3\" >1.745900</td>\n                        <td id=\"T_8bb7e_row6_col4\" class=\"data row6 col4\" >1.745900</td>\n            </tr>\n    </tbody></table>"
    }
   },
   "source": [
    "\n",
    "\n",
    "### Balanza 1\n",
    "\n",
    "{{balance1[['Pesa','Promedio','Desviacion','Error Absoluto','Error Relativo (%)']].style.hide_index()}}\n",
    "\n",
    "### Balanza 4\n",
    "\n",
    "{{balance4[['Pesa','Promedio','Desviacion','Error Absoluto','Error Relativo (%)']].style.hide_index()}}"
   ]
  },
  {
   "cell_type": "markdown",
   "metadata": {
    "variables": {
     "balances_l5_abserr.style.hide_index()": "<style  type=\"text/css\" >\n</style><table id=\"T_6bd94_\" ><thead>    <tr>        <th class=\"col_heading level0 col0\" >Masa (g)</th>        <th class=\"col_heading level0 col1\" >1</th>        <th class=\"col_heading level0 col2\" >2</th>        <th class=\"col_heading level0 col3\" >3</th>        <th class=\"col_heading level0 col4\" >4</th>        <th class=\"col_heading level0 col5\" >5</th>        <th class=\"col_heading level0 col6\" >6</th>        <th class=\"col_heading level0 col7\" >7</th>        <th class=\"col_heading level0 col8\" >8</th>    </tr></thead><tbody>\n                <tr>\n                                <td id=\"T_6bd94_row0_col0\" class=\"data row0 col0\" >2.000000</td>\n                        <td id=\"T_6bd94_row0_col1\" class=\"data row0 col1\" >0.005000</td>\n                        <td id=\"T_6bd94_row0_col2\" class=\"data row0 col2\" >0.003500</td>\n                        <td id=\"T_6bd94_row0_col3\" class=\"data row0 col3\" >0.003700</td>\n                        <td id=\"T_6bd94_row0_col4\" class=\"data row0 col4\" >0.029800</td>\n                        <td id=\"T_6bd94_row0_col5\" class=\"data row0 col5\" >0.005100</td>\n                        <td id=\"T_6bd94_row0_col6\" class=\"data row0 col6\" >0.003900</td>\n                        <td id=\"T_6bd94_row0_col7\" class=\"data row0 col7\" >0.005900</td>\n                        <td id=\"T_6bd94_row0_col8\" class=\"data row0 col8\" >0.003600</td>\n            </tr>\n            <tr>\n                                <td id=\"T_6bd94_row1_col0\" class=\"data row1 col0\" >5.000000</td>\n                        <td id=\"T_6bd94_row1_col1\" class=\"data row1 col1\" >0.004300</td>\n                        <td id=\"T_6bd94_row1_col2\" class=\"data row1 col2\" >0.005100</td>\n                        <td id=\"T_6bd94_row1_col3\" class=\"data row1 col3\" >0.004600</td>\n                        <td id=\"T_6bd94_row1_col4\" class=\"data row1 col4\" >0.082900</td>\n                        <td id=\"T_6bd94_row1_col5\" class=\"data row1 col5\" >0.004500</td>\n                        <td id=\"T_6bd94_row1_col6\" class=\"data row1 col6\" >0.004600</td>\n                        <td id=\"T_6bd94_row1_col7\" class=\"data row1 col7\" >0.004500</td>\n                        <td id=\"T_6bd94_row1_col8\" class=\"data row1 col8\" >0.004700</td>\n            </tr>\n            <tr>\n                                <td id=\"T_6bd94_row2_col0\" class=\"data row2 col0\" >10.000000</td>\n                        <td id=\"T_6bd94_row2_col1\" class=\"data row2 col1\" >0.000300</td>\n                        <td id=\"T_6bd94_row2_col2\" class=\"data row2 col2\" >0.000000</td>\n                        <td id=\"T_6bd94_row2_col3\" class=\"data row2 col3\" >0.000400</td>\n                        <td id=\"T_6bd94_row2_col4\" class=\"data row2 col4\" >0.175300</td>\n                        <td id=\"T_6bd94_row2_col5\" class=\"data row2 col5\" >0.000300</td>\n                        <td id=\"T_6bd94_row2_col6\" class=\"data row2 col6\" >0.000200</td>\n                        <td id=\"T_6bd94_row2_col7\" class=\"data row2 col7\" >0.000700</td>\n                        <td id=\"T_6bd94_row2_col8\" class=\"data row2 col8\" >0.000500</td>\n            </tr>\n            <tr>\n                                <td id=\"T_6bd94_row3_col0\" class=\"data row3 col0\" >20.000000</td>\n                        <td id=\"T_6bd94_row3_col1\" class=\"data row3 col1\" >0.008000</td>\n                        <td id=\"T_6bd94_row3_col2\" class=\"data row3 col2\" >0.009000</td>\n                        <td id=\"T_6bd94_row3_col3\" class=\"data row3 col3\" >0.008000</td>\n                        <td id=\"T_6bd94_row3_col4\" class=\"data row3 col4\" >0.342000</td>\n                        <td id=\"T_6bd94_row3_col5\" class=\"data row3 col5\" >0.008000</td>\n                        <td id=\"T_6bd94_row3_col6\" class=\"data row3 col6\" >0.008000</td>\n                        <td id=\"T_6bd94_row3_col7\" class=\"data row3 col7\" >0.007000</td>\n                        <td id=\"T_6bd94_row3_col8\" class=\"data row3 col8\" >0.008000</td>\n            </tr>\n            <tr>\n                                <td id=\"T_6bd94_row4_col0\" class=\"data row4 col0\" >50.000000</td>\n                        <td id=\"T_6bd94_row4_col1\" class=\"data row4 col1\" >0.002000</td>\n                        <td id=\"T_6bd94_row4_col2\" class=\"data row4 col2\" >0.002000</td>\n                        <td id=\"T_6bd94_row4_col3\" class=\"data row4 col3\" >0.003000</td>\n                        <td id=\"T_6bd94_row4_col4\" class=\"data row4 col4\" >0.878000</td>\n                        <td id=\"T_6bd94_row4_col5\" class=\"data row4 col5\" >0.002000</td>\n                        <td id=\"T_6bd94_row4_col6\" class=\"data row4 col6\" >0.003000</td>\n                        <td id=\"T_6bd94_row4_col7\" class=\"data row4 col7\" >0.005000</td>\n                        <td id=\"T_6bd94_row4_col8\" class=\"data row4 col8\" >0.002000</td>\n            </tr>\n            <tr>\n                                <td id=\"T_6bd94_row5_col0\" class=\"data row5 col0\" >100.000000</td>\n                        <td id=\"T_6bd94_row5_col1\" class=\"data row5 col1\" >0.010000</td>\n                        <td id=\"T_6bd94_row5_col2\" class=\"data row5 col2\" >0.010000</td>\n                        <td id=\"T_6bd94_row5_col3\" class=\"data row5 col3\" >0.010000</td>\n                        <td id=\"T_6bd94_row5_col4\" class=\"data row5 col4\" >1.743000</td>\n                        <td id=\"T_6bd94_row5_col5\" class=\"data row5 col5\" >0.010000</td>\n                        <td id=\"T_6bd94_row5_col6\" class=\"data row5 col6\" >0.010000</td>\n                        <td id=\"T_6bd94_row5_col7\" class=\"data row5 col7\" >0.000000</td>\n                        <td id=\"T_6bd94_row5_col8\" class=\"data row5 col8\" >0.010000</td>\n            </tr>\n    </tbody></table>",
     "balances_l5_relerr.style.hide_index()": "<style  type=\"text/css\" >\n</style><table id=\"T_ff7d5_\" ><thead>    <tr>        <th class=\"col_heading level0 col0\" >Masa (g)</th>        <th class=\"col_heading level0 col1\" >1</th>        <th class=\"col_heading level0 col2\" >2</th>        <th class=\"col_heading level0 col3\" >3</th>        <th class=\"col_heading level0 col4\" >4</th>        <th class=\"col_heading level0 col5\" >5</th>        <th class=\"col_heading level0 col6\" >6</th>        <th class=\"col_heading level0 col7\" >7</th>        <th class=\"col_heading level0 col8\" >8</th>    </tr></thead><tbody>\n                <tr>\n                                <td id=\"T_ff7d5_row0_col0\" class=\"data row0 col0\" >2.000000</td>\n                        <td id=\"T_ff7d5_row0_col1\" class=\"data row0 col1\" >0.250000</td>\n                        <td id=\"T_ff7d5_row0_col2\" class=\"data row0 col2\" >0.175000</td>\n                        <td id=\"T_ff7d5_row0_col3\" class=\"data row0 col3\" >0.185000</td>\n                        <td id=\"T_ff7d5_row0_col4\" class=\"data row0 col4\" >1.490000</td>\n                        <td id=\"T_ff7d5_row0_col5\" class=\"data row0 col5\" >0.255000</td>\n                        <td id=\"T_ff7d5_row0_col6\" class=\"data row0 col6\" >0.195000</td>\n                        <td id=\"T_ff7d5_row0_col7\" class=\"data row0 col7\" >0.295000</td>\n                        <td id=\"T_ff7d5_row0_col8\" class=\"data row0 col8\" >0.180000</td>\n            </tr>\n            <tr>\n                                <td id=\"T_ff7d5_row1_col0\" class=\"data row1 col0\" >5.000000</td>\n                        <td id=\"T_ff7d5_row1_col1\" class=\"data row1 col1\" >0.086000</td>\n                        <td id=\"T_ff7d5_row1_col2\" class=\"data row1 col2\" >0.102000</td>\n                        <td id=\"T_ff7d5_row1_col3\" class=\"data row1 col3\" >0.092000</td>\n                        <td id=\"T_ff7d5_row1_col4\" class=\"data row1 col4\" >1.658000</td>\n                        <td id=\"T_ff7d5_row1_col5\" class=\"data row1 col5\" >0.090000</td>\n                        <td id=\"T_ff7d5_row1_col6\" class=\"data row1 col6\" >0.092000</td>\n                        <td id=\"T_ff7d5_row1_col7\" class=\"data row1 col7\" >0.090000</td>\n                        <td id=\"T_ff7d5_row1_col8\" class=\"data row1 col8\" >0.094000</td>\n            </tr>\n            <tr>\n                                <td id=\"T_ff7d5_row2_col0\" class=\"data row2 col0\" >10.000000</td>\n                        <td id=\"T_ff7d5_row2_col1\" class=\"data row2 col1\" >0.003000</td>\n                        <td id=\"T_ff7d5_row2_col2\" class=\"data row2 col2\" >0.000000</td>\n                        <td id=\"T_ff7d5_row2_col3\" class=\"data row2 col3\" >0.004000</td>\n                        <td id=\"T_ff7d5_row2_col4\" class=\"data row2 col4\" >1.753000</td>\n                        <td id=\"T_ff7d5_row2_col5\" class=\"data row2 col5\" >0.003000</td>\n                        <td id=\"T_ff7d5_row2_col6\" class=\"data row2 col6\" >0.002000</td>\n                        <td id=\"T_ff7d5_row2_col7\" class=\"data row2 col7\" >0.007000</td>\n                        <td id=\"T_ff7d5_row2_col8\" class=\"data row2 col8\" >0.005000</td>\n            </tr>\n            <tr>\n                                <td id=\"T_ff7d5_row3_col0\" class=\"data row3 col0\" >20.000000</td>\n                        <td id=\"T_ff7d5_row3_col1\" class=\"data row3 col1\" >0.040000</td>\n                        <td id=\"T_ff7d5_row3_col2\" class=\"data row3 col2\" >0.045000</td>\n                        <td id=\"T_ff7d5_row3_col3\" class=\"data row3 col3\" >0.040000</td>\n                        <td id=\"T_ff7d5_row3_col4\" class=\"data row3 col4\" >1.710000</td>\n                        <td id=\"T_ff7d5_row3_col5\" class=\"data row3 col5\" >0.040000</td>\n                        <td id=\"T_ff7d5_row3_col6\" class=\"data row3 col6\" >0.040000</td>\n                        <td id=\"T_ff7d5_row3_col7\" class=\"data row3 col7\" >0.035000</td>\n                        <td id=\"T_ff7d5_row3_col8\" class=\"data row3 col8\" >0.040000</td>\n            </tr>\n            <tr>\n                                <td id=\"T_ff7d5_row4_col0\" class=\"data row4 col0\" >50.000000</td>\n                        <td id=\"T_ff7d5_row4_col1\" class=\"data row4 col1\" >0.004000</td>\n                        <td id=\"T_ff7d5_row4_col2\" class=\"data row4 col2\" >0.004000</td>\n                        <td id=\"T_ff7d5_row4_col3\" class=\"data row4 col3\" >0.006000</td>\n                        <td id=\"T_ff7d5_row4_col4\" class=\"data row4 col4\" >1.756000</td>\n                        <td id=\"T_ff7d5_row4_col5\" class=\"data row4 col5\" >0.004000</td>\n                        <td id=\"T_ff7d5_row4_col6\" class=\"data row4 col6\" >0.006000</td>\n                        <td id=\"T_ff7d5_row4_col7\" class=\"data row4 col7\" >0.010000</td>\n                        <td id=\"T_ff7d5_row4_col8\" class=\"data row4 col8\" >0.004000</td>\n            </tr>\n            <tr>\n                                <td id=\"T_ff7d5_row5_col0\" class=\"data row5 col0\" >100.000000</td>\n                        <td id=\"T_ff7d5_row5_col1\" class=\"data row5 col1\" >0.010000</td>\n                        <td id=\"T_ff7d5_row5_col2\" class=\"data row5 col2\" >0.010000</td>\n                        <td id=\"T_ff7d5_row5_col3\" class=\"data row5 col3\" >0.010000</td>\n                        <td id=\"T_ff7d5_row5_col4\" class=\"data row5 col4\" >1.743000</td>\n                        <td id=\"T_ff7d5_row5_col5\" class=\"data row5 col5\" >0.010000</td>\n                        <td id=\"T_ff7d5_row5_col6\" class=\"data row5 col6\" >0.010000</td>\n                        <td id=\"T_ff7d5_row5_col7\" class=\"data row5 col7\" >0.000000</td>\n                        <td id=\"T_ff7d5_row5_col8\" class=\"data row5 col8\" >0.010000</td>\n            </tr>\n    </tbody></table>"
    }
   },
   "source": [
    "### Errores absolutos balanzas lab 5\n",
    "\n",
    "{{balances_l5_abserr.style.hide_index()}}\n",
    "\n",
    "### Errores relativos (%) balanzas lab 5\n",
    "\n",
    "{{balances_l5_relerr.style.hide_index()}}"
   ]
  },
  {
   "cell_type": "markdown",
   "metadata": {
    "variables": {
     "coins_individual.style.hide_index()": "<style  type=\"text/css\" >\n</style><table id=\"T_c216f_\" ><thead>    <tr>        <th class=\"col_heading level0 col0\" >Moneda y año</th>        <th class=\"col_heading level0 col1\" >Pesada 1</th>        <th class=\"col_heading level0 col2\" >Pesada 2</th>        <th class=\"col_heading level0 col3\" >Pesada 3</th>        <th class=\"col_heading level0 col4\" >Promedio</th>        <th class=\"col_heading level0 col5\" >Desviacion</th>        <th class=\"col_heading level0 col6\" >Error Absoluto</th>        <th class=\"col_heading level0 col7\" >Error Relativo (%)</th>    </tr></thead><tbody>\n                <tr>\n                                <td id=\"T_c216f_row0_col0\" class=\"data row0 col0\" >1 (1998)</td>\n                        <td id=\"T_c216f_row0_col1\" class=\"data row0 col1\" >3.832300</td>\n                        <td id=\"T_c216f_row0_col2\" class=\"data row0 col2\" >3.832200</td>\n                        <td id=\"T_c216f_row0_col3\" class=\"data row0 col3\" >3.833100</td>\n                        <td id=\"T_c216f_row0_col4\" class=\"data row0 col4\" >3.832533</td>\n                        <td id=\"T_c216f_row0_col5\" class=\"data row0 col5\" >0.000493</td>\n                        <td id=\"T_c216f_row0_col6\" class=\"data row0 col6\" >0.000378</td>\n                        <td id=\"T_c216f_row0_col7\" class=\"data row0 col7\" >0.009857</td>\n            </tr>\n            <tr>\n                                <td id=\"T_c216f_row1_col0\" class=\"data row1 col0\" >2 (2005)</td>\n                        <td id=\"T_c216f_row1_col1\" class=\"data row1 col1\" >3.889300</td>\n                        <td id=\"T_c216f_row1_col2\" class=\"data row1 col2\" >3.840400</td>\n                        <td id=\"T_c216f_row1_col3\" class=\"data row1 col3\" >3.890500</td>\n                        <td id=\"T_c216f_row1_col4\" class=\"data row1 col4\" >3.873400</td>\n                        <td id=\"T_c216f_row1_col5\" class=\"data row1 col5\" >0.028585</td>\n                        <td id=\"T_c216f_row1_col6\" class=\"data row1 col6\" >0.022000</td>\n                        <td id=\"T_c216f_row1_col7\" class=\"data row1 col7\" >0.567976</td>\n            </tr>\n            <tr>\n                                <td id=\"T_c216f_row2_col0\" class=\"data row2 col0\" >3 (2015)</td>\n                        <td id=\"T_c216f_row2_col1\" class=\"data row2 col1\" >3.892100</td>\n                        <td id=\"T_c216f_row2_col2\" class=\"data row2 col2\" >3.893500</td>\n                        <td id=\"T_c216f_row2_col3\" class=\"data row2 col3\" >3.893100</td>\n                        <td id=\"T_c216f_row2_col4\" class=\"data row2 col4\" >3.892900</td>\n                        <td id=\"T_c216f_row2_col5\" class=\"data row2 col5\" >0.000721</td>\n                        <td id=\"T_c216f_row2_col6\" class=\"data row2 col6\" >0.000533</td>\n                        <td id=\"T_c216f_row2_col7\" class=\"data row2 col7\" >0.013700</td>\n            </tr>\n            <tr>\n                                <td id=\"T_c216f_row3_col0\" class=\"data row3 col0\" >4 (2016)</td>\n                        <td id=\"T_c216f_row3_col1\" class=\"data row3 col1\" >3.900400</td>\n                        <td id=\"T_c216f_row3_col2\" class=\"data row3 col2\" >3.901300</td>\n                        <td id=\"T_c216f_row3_col3\" class=\"data row3 col3\" >3.900400</td>\n                        <td id=\"T_c216f_row3_col4\" class=\"data row3 col4\" >3.900700</td>\n                        <td id=\"T_c216f_row3_col5\" class=\"data row3 col5\" >0.000520</td>\n                        <td id=\"T_c216f_row3_col6\" class=\"data row3 col6\" >0.000400</td>\n                        <td id=\"T_c216f_row3_col7\" class=\"data row3 col7\" >0.010255</td>\n            </tr>\n            <tr>\n                                <td id=\"T_c216f_row4_col0\" class=\"data row4 col0\" >5 (2017)</td>\n                        <td id=\"T_c216f_row4_col1\" class=\"data row4 col1\" >3.919300</td>\n                        <td id=\"T_c216f_row4_col2\" class=\"data row4 col2\" >3.930700</td>\n                        <td id=\"T_c216f_row4_col3\" class=\"data row4 col3\" >3.930100</td>\n                        <td id=\"T_c216f_row4_col4\" class=\"data row4 col4\" >3.926700</td>\n                        <td id=\"T_c216f_row4_col5\" class=\"data row4 col5\" >0.006416</td>\n                        <td id=\"T_c216f_row4_col6\" class=\"data row4 col6\" >0.004933</td>\n                        <td id=\"T_c216f_row4_col7\" class=\"data row4 col7\" >0.125636</td>\n            </tr>\n    </tbody></table>"
    }
   },
   "source": [
    "### Monedas pesadas individualmente\n",
    "\n",
    "{{coins_individual.style.hide_index()}}"
   ]
  },
  {
   "cell_type": "markdown",
   "metadata": {
    "variables": {
     "coins_multiple.style.hide_index()": "<style  type=\"text/css\" >\n</style><table id=\"T_4689f_\" ><thead>    <tr>        <th class=\"col_heading level0 col0\" ># Moneda</th>        <th class=\"col_heading level0 col1\" >Peso por diferencia</th>        <th class=\"col_heading level0 col2\" >Masa promedio (g)</th>        <th class=\"col_heading level0 col3\" >Error Absoluto</th>        <th class=\"col_heading level0 col4\" >Error Relativo (%)</th>    </tr></thead><tbody>\n                <tr>\n                                <td id=\"T_4689f_row0_col0\" class=\"data row0 col0\" >1</td>\n                        <td id=\"T_4689f_row0_col1\" class=\"data row0 col1\" >3.933300</td>\n                        <td id=\"T_4689f_row0_col2\" class=\"data row0 col2\" >3.832533</td>\n                        <td id=\"T_4689f_row0_col3\" class=\"data row0 col3\" >0.100767</td>\n                        <td id=\"T_4689f_row0_col4\" class=\"data row0 col4\" >2.629244</td>\n            </tr>\n            <tr>\n                                <td id=\"T_4689f_row1_col0\" class=\"data row1 col0\" >2</td>\n                        <td id=\"T_4689f_row1_col1\" class=\"data row1 col1\" >3.790500</td>\n                        <td id=\"T_4689f_row1_col2\" class=\"data row1 col2\" >3.873400</td>\n                        <td id=\"T_4689f_row1_col3\" class=\"data row1 col3\" >0.082900</td>\n                        <td id=\"T_4689f_row1_col4\" class=\"data row1 col4\" >2.140239</td>\n            </tr>\n            <tr>\n                                <td id=\"T_4689f_row2_col0\" class=\"data row2 col0\" >3</td>\n                        <td id=\"T_4689f_row2_col1\" class=\"data row2 col1\" >3.893400</td>\n                        <td id=\"T_4689f_row2_col2\" class=\"data row2 col2\" >3.892900</td>\n                        <td id=\"T_4689f_row2_col3\" class=\"data row2 col3\" >0.000500</td>\n                        <td id=\"T_4689f_row2_col4\" class=\"data row2 col4\" >0.012844</td>\n            </tr>\n            <tr>\n                                <td id=\"T_4689f_row3_col0\" class=\"data row3 col0\" >4</td>\n                        <td id=\"T_4689f_row3_col1\" class=\"data row3 col1\" >3.900900</td>\n                        <td id=\"T_4689f_row3_col2\" class=\"data row3 col2\" >3.900700</td>\n                        <td id=\"T_4689f_row3_col3\" class=\"data row3 col3\" >0.000200</td>\n                        <td id=\"T_4689f_row3_col4\" class=\"data row3 col4\" >0.005127</td>\n            </tr>\n            <tr>\n                                <td id=\"T_4689f_row4_col0\" class=\"data row4 col0\" >5</td>\n                        <td id=\"T_4689f_row4_col1\" class=\"data row4 col1\" >3.930400</td>\n                        <td id=\"T_4689f_row4_col2\" class=\"data row4 col2\" >3.926700</td>\n                        <td id=\"T_4689f_row4_col3\" class=\"data row4 col3\" >0.003700</td>\n                        <td id=\"T_4689f_row4_col4\" class=\"data row4 col4\" >0.094227</td>\n            </tr>\n    </tbody></table>"
    }
   },
   "source": [
    "### Monedas pesadas en grupo\n",
    "\n",
    "{{coins_multiple.style.hide_index()}}\n"
   ]
  },
  {
   "cell_type": "markdown",
   "metadata": {},
   "source": [
    "### Análisis y discusión de resultados  \n",
    "#### Resultados de la balanzas 1 y 4\n",
    "Las primeras dos reacciones fueron calibradas utilizando masas patron de 1g, 2g, 5g, 10g, 20g, 50g y 100g en ambas balanxas se realizo el pesado por triplicado y posteriormente determino el promedio, desviación estandar y se obtuvo el error absoluto y el error relativo de acuerdo a las siguientes ecuaciones:\n",
    "<a id=\"ea\"></a>\n",
    "<p></p>\n",
    "$$Promedio$$\n",
    "<p></p>\n",
    "$$\n",
    "\\bar{X}=\\frac{X_{i}}{n}\n",
    "$$\n",
    "<p></p>\n",
    "$$Error\\;absoluto$$\n",
    "<p></p>\n",
    "$$\n",
    "ε_{a}=\\left |X_{real}-\\bar{X}\\right|\n",
    "$$\n",
    "<p></p>\n",
    "\n",
    "$$Error\\;relativo$$\n",
    "<p></p>\n",
    "$$\n",
    "ε_{r}=\\frac{ε_{a}}{X_{real}}\n",
    "$$\n",
    "<p></p>\n",
    "$$Desviación\\;Estandar$$\n",
    "<p></p>\n",
    "$$\n",
    "s = \\sqrt{\\frac{\\sum{(\\bar{X}-X_{i})}}{n-1}}\n",
    "$$\n",
    "<p></p>\n",
    "<p style=\"text-align: justify;\">En la práctica no se indica el tipo de pesas patron utilizadas para la calibración, suponiendo se utilizaron pesas patrón de tipo E1  de acuerdo a la norma NOM-038-SCFI-2000 <a href=\"#b4\"><sup>[4]</sup></a>  los errores absolutos se encuentran dentro de los rangos permitidos para la balanza número 1 y la desviación estadar es muy pequeña del orden $10^{-4}$ lo que significa que no hay variaziones significativas en la medición, en la balanza 4 se puede observar una variación mas notoria y los errores absolutos sobrepasan a los permitidos en la norma por lo que es necesario llevar acabo el proceso de calibración de la balanza, la desviación estandar en esta balanza fue igual del orden de $10^{-4}$ incluso en unos casos no hubo variación en la lectura pero esto únicamente indica la repetibilidad en las mediciones no si estas son correctas o no. En esta balanza el error absoluto incrementa conforme aumenta el peso de los patrones, teniendo el error mas grande con la pesa de 100g.</p>\n",
    "\n",
    "Tambien se analizaron los datos de las balanzas del laboratorio 5 de los cuales  unicamente se tenia el reporte de los diferentes pesos de cada uno de los patrones en cada una de las balanzas lo cual unicamente nos permitio obtener  el  error absoluto y el error relativo calculado con las mismas [ecuaciones](#ea) mencionadas anteriormente utilizando el valor reportado en cada lectura.\n",
    "<p style=\"text-align: justify;\">Estos datos no son de utilidad para llevar acabo la calibración de las balanzas, pero nos permiten evualuar las condiciones de las balanzas en el laboratorio 5, observando que la balanza que presenta un mayor error es la balanza número 4, ya que presentaba un  error relativo  mayor entre (1.48 - 1.75%) en comparación al que presentaban las demás balanzas que tenian un rango de errores relativos entre (0.004 - 0.25% ). Por lo que en este laboratorio seria necesario llevar acabo el proceso de calibración de la balanza.</p>\n",
    "\n",
    "\n",
    "\n",
    "\n"
   ]
  },
  {
   "cell_type": "markdown",
   "metadata": {},
   "source": [
    "<p style=\"text-align: justify;\" >En el último experimento para determinar el peso por diferencia de diferentes monedas, primeramente se determino el peso por triplicado de 5 mondeas de 5 pesos las cuales se determinó su, promedio, error absoluto, error relativo y desviación estandar. El promedio del peso de cada moneda se considero como el valor real, el cual fue utilizado para comparar con el peso determinado por diferencia. Las ecuaciones para determinar el error absoluto fue la siguiente:</p>\n",
    "\n",
    "$$\n",
    "ε_{a}=\\frac{\\sum_{i=1}^{3}|\\bar{X}-X_{i}|}{3}\n",
    "$$\n",
    "Para determinar el error relativo se utilizó la [ecuación](#ea) anteriormente mencionada unicamente sustituyendo el valor real por el valor el peso promedio de la moneda.\n",
    "\n",
    "<p style=\"text-align: justify;\" > Al determinar el peso por diferencia en las primeras dos medidas se observa un error mucho mas grande (2.14-2.62%) en comparación a cuando se determinó el peso por diferencia de las tres monedas donde se observó un error mucho menor (0.005-0.09%). </p>\n",
    "\n",
    "\n",
    "\n",
    "\n"
   ]
  },
  {
   "cell_type": "markdown",
   "metadata": {},
   "source": [
    "### Conclusiones\n",
    "\n",
    "<p style=\"text-align: justify;\">Como tal el objetivo de la práctica no pudo ser completado debido a que la práctica no fue realizada de manera presencial unicamente analizamos los datos de otras personas y realizamos el análisis de datos que obtuvieron con los primeros datos se pudieron obtener los errores de la balanza y desviación estandar que nos permiten verificar si se encuentran dentro de los límites permitidos, respecto al análisis de las balanzas de laboratorio 5 nos permiten unicamente ver las condiciones en las que se encuentran las balanzas.</p>\n",
    " <p></p>\n",
    " \n",
    " \n",
    "\n"
   ]
  },
  {
   "cell_type": "markdown",
   "metadata": {},
   "source": [
    "<a id=\"p_2\"></a>\n",
    "<h1><center> Práctica 2: Determinación de Aspirina en Tabletas Comerciales por Potenciometría</center><a id=\"p_2\"></a></h1>"
   ]
  },
  {
   "cell_type": "markdown",
   "metadata": {},
   "source": [
    "### Objetivos\n",
    "Determinar la concentración de aspirina en una muestra de tableta comercial por medio de titulación Potenciométrica.\n",
    "<p></p>"
   ]
  },
  {
   "cell_type": "markdown",
   "metadata": {},
   "source": [
    "### Hipótesis\n",
    "Se determinará que todas las tabletas contienen la cantidad de principio activo indicado por los proveedores, dentro de los rangos aceptables según las farmacopeas.\n",
    "<p></p>"
   ]
  },
  {
   "cell_type": "markdown",
   "metadata": {},
   "source": [
    "### Método\n",
    "En este experimento se usará la técnica de titulación Potenciométrica usando NaOH como agente titulante.\n",
    "<p></p>"
   ]
  },
  {
   "cell_type": "markdown",
   "metadata": {},
   "source": [
    "### Introducción\n",
    "<p style=\"text-align: justify;\">Los métodos electroquímicos tienen una amplia gama de aplicaciones, aún dentro de la química analítica. Donde otros métodos solo podrían determinar, por ejemplo, la cantidad total de cobre en solución, con métodos EQs se podría distinguir entre la cantidad de Cu(I) y Cu(II).<a href=\"#b5\"><sup>[5]</sup></a> Adicionalmente, cuando se comparan con métodos espectrofotométricos o cromatográficos, por ejemplo, resultan mucho más baratos. </p>\n",
    "<p style=\"text-align: justify;\"> Una celda electroquímica generalmente cuenta con dos conductores eléctricos sumergidos en soluciones de electrolitos, a los cuales denominamos electrodos. Para que circule una corriente en una celda es necesario 1) que los electrodos se conecten externamente mediante un conductor metálico, 2) que las dos soluciones de electrolito estén en contacto para permitir el movimiento de iones de una a otra y 3) que pueda tener lugar una reacción de transferencia de electrones en cada uno de los electrodos<a href=\"#b6\"><sup>[6]</sup></a>. </p>\n",
    "\n",
    "<img src=\"https://bl3301files.storage.live.com/y4m2yO2Mf6QFsP-a1HrNN630GygbXmatA9gWhxMY7j6cFHKH4b1yt_GIJXp3RtNQbMmhATXvLqdCq2P4NAyl4gdORY1YX3-iBdsHbRyqp00Wq2Y7hj7RoHkcY_50g6cJCtFk3SbAurVbe073Dv7o8LiAZoIl9rQlq5mBmhu4mSS4Uc-jMEQqJ5nLB_iHmqWi3Aw?width=790&height=539&cropmode=none\" width=\"400\" height=\"250\" />\n",
    "<p style=\"text-align: center;\"><cite> <b>Figura I: Celda electroquímica galvánica con un circuito abierto<a href=\"#b6\"><sup>[6]</sup></a></cite></p>\n",
    "\n",
    "<p style=\"text-align: justify;\"> El potencial de una celda electroquímica es la diferencia entre el potencial de uno de los electrodos y el potencial del otro. Por esto, es útil pensar en la reacción de una celda EQ como si estuviese formada por dos semirreacciones de semicelda, cada una de las cuales posee un potencial de electrodo característico. Sin embargo, es importante notar que no existe método alguno para determinar el valor absoluto del potencial de un electrodo; esta incapacidad no es necesariamente una desventaja ya que los potenciales relativos medidos respecto a un electrodo de referencia son igual de útiles. Estos potenciales relativos pueden ser utilizados para calcular tanto potenciales de celda reales como constantes de equilibrio en procesos redox.</p> \n",
    "\n",
    "<p style=\"text-align: justify;\">La respuesta de un buen electrodo indicador a cambios de actividad debe ser 1) rápida y 2) una reproducible. Aunque existen errores que son imposibles de eliminar por completo, como el asociado al potencial líquido-líquido, y aunque no existe indicador perfectamente selectivo, hemos desarrollado excelentes opciones. Estos se dividen en dos categorías: electrodos metálicos y de membrana. Aquí se mencionarán principalmente los de membrana, y entre ellos los de vidrio, ya que son los más ocupados en análisis ácido-base. </p> \n",
    "\n",
    "<p style=\"text-align: center;\"><b>Tabla I: Tipos de electrodos de membrana selectiva de iones </b><a href=\"#b6\"><sup>[6]</sup></a></p>\n",
    "<img src=\"https://bl3301files.storage.live.com/y4mOywAcDNDfjvnhNs2edgTIVOKmSQIEU2xZcxc8uzc9sti2A-PcHZ2ZX8_XF5rWhvRRrBs12XYs7sJ_7DBN7eL3h8UyNLkxqfabPPa_TZqn94RB4-eLjguXVAMq9MbDF9HucpAblzyi4B5Nb2DVm7lifCEP4btI65gQEC9tx1pH372CJtTiqxz7ERRBr3hwe1Q?width=573&height=434&cropmode=none\" width=\"350\" height=\"250\" />\n",
    "\n",
    "\n",
    "<p style=\"text-align: justify;\">El electrodo de vidrio es el más antiguo de los electrodos de membrana, y aún sigue siendo el más utilizado<a href=\"#b6\"><sup>[6]</sup></a>. Desde los años 30´s la manera más adecuada de analizar pH ha sido midiendo la diferencia de potencial a través de una membrana de vidrio que separa la solución de analito de una solución de referencia de acidez fija. En la figura (II) se observa una celda característica para medición de pH. La figura (II.b) ilustra la configuración más común para medir el pH mediante un electrodo de vidrio En ella, el electrodo de vidrio y su electrodo de referencia interno Ag-AgCl se encuentran en el centro de una sonda cilíndrica. Un electrodo de referencia externo (generalmente de tipo Ag-AgCl) rodea al electrodo de vidrio; la presencia del electrodo de referencia externo no es tan obvia como en el diseño más anticuado (II.a). La membrana de vidrio sensible al pH está unida a la base de la sonda, y actúa como puente salino.</p>\n",
    "<img src=\"https://bl3301files.storage.live.com/y4mAAP70rYYqZt9Co4iU97iDbIT_dLtQhorgkkR-5YNiOP-AVd4MCzwCRkufSLqCgS1Y3LxUDAIu5e29-laqfAr3QoPSx_ZzIqAWXlm3vMfqNAyejEpn_WxFDHkWNDiILqvSqSiubn02Am124inaT-ofPr9f302MH_wXDC9RthU-cQULZYlsPki4lNTZsKeHSY2?width=636&height=449&cropmode=none\" width=\"400\" height=\"200\" />\n",
    "\n",
    "<p style=\"text-align: center;\"><cite> <b>Figura II:</b> Sistema de electrodos típico para medir el pH. a) Electrodo de vidrio (indicador) y electrodo de calomel saturado (de referencia) sumergidos en una solución de pH desconocido. b) Sonda de combinación que está constituida por un electrodo indicador de vidrio y un electrodo de referencia de Ag-AgCl. Un segundo electrodo de Ag-AgCl funciona como la referencia interna del electrodo de vidrio <a href=\"#b6\"><sup>[6]</sup></a></cite></p>\n",
    "\n",
    "<p style=\"text-align: justify;\">En este caso, se llevará a cabo una reacción simple ácido-base entre el ácido acetilsalicílico y el hidróxido de sodio para formar acetilsalicilato de sodio, según la reacción:</p>\n",
    "<img src=\"https://bl3301files.storage.live.com/y4mdAPSnKsHQzX596DmEiW3w6PNyXSBP-SoSUdkxWyH-S8ijgSGdTH0ADQ5wAZHjCR41v4LaEG9FF4fo9Png8SVPfzL3Cphtus_OSyJHupTxjMxWYnvaB5EexH5sOFORNlzYj7PkilKWzoZ8aqyvEHcp7wQ1JbZynip9WEStsWdqZJpa_cMy9jXlO4m0t8a4Chn?width=547&height=193&cropmode=none\" width=\"400\" height=\"90\" />\n",
    "\n",
    "<p style=\"text-align: center;\"><cite> <b>Figura III: </b>Reacción de hidróxido de sodio y ácido acetil salicílico</cite></p>\n",
    "\n",
    "<p style=\"text-align: justify;\">Este compuesto, el cual pertenece a la familia de las drogas antiinflamatorias no-esteroideas (NSAIDS) y es utilizada comúnmente para tratar dolores, fiebre, e inflamaciones, forma una parte importante de la industria farmacéutica, y por lo tanto su determinación precisa y exacta es indispensable. Según <a href=\"#b7\"><sup>[7]</sup></a> el estándar de la industria es que la pureza debe estar entre (99.5-100.5)%, y este rango levanta la necesidad de buenas técnicas de determinación. Entre estas existen titulaciones simples ácido-base, retrotitulaciones, y técnicas espectrofotométricas, entre otras. En esta práctica se realizará una determinación por potenciometría.</p>"
   ]
  },
  {
   "cell_type": "markdown",
   "metadata": {},
   "source": [
    "### Reactivos\n",
    "* NaOH 0.1 M </b><a href=\"#t1\"><sup>[tox]</sup></a></p>\n",
    "* Ftalato ácido de potasio.</b><a href=\"#t2\"><sup>[tox]</sup></a></p>\n",
    "* Indicador Fenolftaleína.\n",
    "* Tabletas con aspirina\n",
    "\n",
    "### Equipo\n",
    "\n",
    "<ul>\n",
    "     <li>Potenciómetro</li>\n",
    "     <li>Un Matraz aforado de 250 mL </li>\n",
    "     <li>Un soporte universal </li>\n",
    "     <li>Una parrilla con agitación</li>\n",
    "     <li>Una pinza para bureta</li>\n",
    "     <li>Una bureta de 50 mL</li>\n",
    "     <li>Un agitador magnético (Tamaño arroz)</li>\n",
    "     <li>3 vasos de precipitados de 250 mL</li>\n",
    "     <li>3 vasos de precipitados de 50 mL</li>\n",
    "     <li>1 pipeta volumétrica de 10 mL</li>\t\n",
    "     <li>1 pipeta volumétrica de 25 mL</li>\n",
    "     <li>1 mortero</li>\t\t\t\t\n",
    "     <li>Una pizeta</li>\n",
    "     <li>Papel para limpiar los electrodos</li>\n",
    "     <li>Una perilla</li>\n",
    "     <li>Espátula</li>\n",
    "</ul>\n"
   ]
  },
  {
   "cell_type": "markdown",
   "metadata": {},
   "source": [
    "# Metodología \n",
    "<img src=\"https://bl3301files.storage.live.com/y4mjiWfhYc1pO9J1O6Zb483g-a8Iog7KoYLnPG3rZfIGQnhaEKpLeF66DuO9vTjf9GAV6cSxBhY8jXty2Y1dYVPTpwBvzQuZVPx_iVKXPpkOSj1Mado5vfMsWxWWClKtFbWEXon2Y2G_Hb6wzpKdo72sVlU3IJp4ENy9cBsblgjmmy8obHG8CvsGcyjZ4S4tngr?width=2625&height=1298&cropmode=none\" width=\"600\" height=\"300\" />"
   ]
  },
  {
   "cell_type": "markdown",
   "metadata": {},
   "source": [
    "# Toxicología <a id=\"tox\"></a>\n",
    "|Compuesto|Precuaciones|Primeros Auxilios|\n",
    "|:------:|:--------:|:--------------:|\n",
    "|<b>NaOH</b><img src=\"https://bl3301files.storage.live.com/y4mO4tNXJmfL9-v7OS5W4dmucocg142fh3u-ZgYDOTuHQNjD3XFlOpYqQYFaVsuMpNRXCdLKfdBxvVxD5rGRRIrwcPyyc66cQXkn1uNYKSbTycsz_6shZS0yuFu-nwBWdCkmX6lMfgxx3rOd-lqduwtpwsvFefT-eqDAUYVFHgyL0EhNKMMAJLi2qyY97yI1FZp?width=281&height=364&cropmode=none\" width=\"80\" height=\"100\" />|Puede ser corrosivo a metales. Causa quemaduras severas a la piel y daño serio a los ojos.<a name=\"t1\"></a></li>|<p><b>Inhalación:</b> Buscar aire fresco, consultar ayuda médica de ser necesario.</p><p> <b>Contacto dérmico: </b>Lavar con agua y jabón por 15 minutos. Quitar ropa y zapatos contaminados inmediatamente.<p><b> Contacto ocular:</b> Lavar con agua abundante manteniendo los p·rpados abiertos.</p> <p><b> Ingestión: </b> Enjuagar la boca con agua. No inducir al vómito. </p> |\n",
    "|<b>Ftalato ácido de potasio</b><img src=\"https://bl3301files.storage.live.com/y4mVQwflRFzMwKMSwGcLeLQvUYjHdgg89WOPSfALX-TCUp016Y4Awt-k_-H-dCzeN8fOH2uNGQi7Z_S0cajUIG3lChycGAeoHg0jqgov2cP4qh5oZez8tDAzmRwg4Vz5vqEL5WLc0aaFdMqFG3VbQVqeF58nQ8CCA7w9xYYBgYHNKi_0MdM9nAWTfxU7qGJ5FkN?width=281&height=364&cropmode=none\" width=\"80\" height=\"100\" />| Sustancia clasificada como NO PELIGROSA.  <a name=\"t2\"></a></li>|<p><b>Inhalación:</b> Buscar aire fresco, consultar ayuda médica de ser necesario.</p><p> <b>Contacto dérmico:</b>Lavar abundantemente con agua<p><b> Contacto ocular</b>Lavar con agua abundante manteniendo los párpados abiertos.</p> <p><b> Ingestión: </b> Beber agua abundante. Provocar el vómito. Pedir atención médica </p>|\n",
    "\n",
    "\n",
    " \n",
    "<!-- |<p><b>NaOH</b></p>|   dfdfdf|<p><b>Inhalación:</b></p><p> <b>Contacto dérmico:</b><p><b> Contacto ocular</b>: Enjuagar</p> <p><b> Ingestión: </b> </p>| -->\n",
    "\n"
   ]
  },
  {
   "cell_type": "markdown",
   "metadata": {},
   "source": [
    "## Referencias\n",
    "<ol>\n",
    "    <li>Mendham,   J.   and   Vogel,   A.,   1989.Vogel's textbook  of  quantitative  chemical  analysis.  5th ed. John Wiley: Longman Scientific & Technical, pp.72-78.<a name=\"b1\"></a></li>\n",
    "    <li>Norma Oficial  Mexicana:NOM-001-SAG/GAN-2015, Sistema Nacional de Identificación Animal para Bovinos y Colmenas, de 29/05/2015.</li><a name=\"b2\"></a>\n",
    "    <li>2012. Vocabulario Internacional de Metrología. 3rd  ed.  Madrid:  Centro  Español  de Metrología, pp.57-58.<a name=\"b3\"></a></li>\n",
    "    <li>Norma Oficial  Mexicana:NOM-038-SCFI-2000, Pesas de clases exactitud E1, E2, F1, F2, M1, M2 Y M3 <a name=\"b4\"></a></li>\n",
    "    <li>C. Harris, D., 2007. Quantitative chemical analysis. 8th ed. New York, NY: W.H. Freeman and Co., pp.80-100.<a name=\"b5\"></a></li>\n",
    "    <li>Skoog, D., Holler, F. and Crouch, S., 2018. Principles of instrumental analysis. 7th ed. Australia: CENGAGE Learning, pp.60-90.<a name=\"b6\"></a></li>\n",
    "    <li>The International Pharmacopoeia. 2019. Acetylsalicylic acid (Acidum acetylsalicylicum). [online] Available at: <https://apps.who.int/phint/pdf/b/6.1.5.Acetylsalicylic-acid-(Acidum-acetylsalicylicum).pdf> [Accessed 15 February 2021].<a name=\"b7\"></a></li>\n",
    "   \n",
    "    \n",
    "</ol>"
   ]
  },
  {
   "cell_type": "markdown",
   "metadata": {},
   "source": [
    "# PRACTICA 2 COMIENZA AQUI "
   ]
  },
  {
   "cell_type": "code",
   "execution_count": 90,
   "metadata": {
    "scrolled": true
   },
   "outputs": [
    {
     "data": {
      "text/html": [
       "<div>\n",
       "<style scoped>\n",
       "    .dataframe tbody tr th:only-of-type {\n",
       "        vertical-align: middle;\n",
       "    }\n",
       "\n",
       "    .dataframe tbody tr th {\n",
       "        vertical-align: top;\n",
       "    }\n",
       "\n",
       "    .dataframe thead th {\n",
       "        text-align: right;\n",
       "    }\n",
       "</style>\n",
       "<table border=\"1\" class=\"dataframe\">\n",
       "  <thead>\n",
       "    <tr style=\"text-align: right;\">\n",
       "      <th></th>\n",
       "      <th>Ensayo</th>\n",
       "      <th>Masa KHP (g)</th>\n",
       "      <th>Volumen Final (ml)</th>\n",
       "      <th>Concentracion (M)</th>\n",
       "    </tr>\n",
       "  </thead>\n",
       "  <tbody>\n",
       "    <tr>\n",
       "      <th>0</th>\n",
       "      <td>1</td>\n",
       "      <td>0.7064</td>\n",
       "      <td>0.0354</td>\n",
       "      <td>0.097712</td>\n",
       "    </tr>\n",
       "    <tr>\n",
       "      <th>1</th>\n",
       "      <td>2</td>\n",
       "      <td>0.7077</td>\n",
       "      <td>0.0346</td>\n",
       "      <td>0.100156</td>\n",
       "    </tr>\n",
       "    <tr>\n",
       "      <th>2</th>\n",
       "      <td>3</td>\n",
       "      <td>0.7026</td>\n",
       "      <td>0.0339</td>\n",
       "      <td>0.101487</td>\n",
       "    </tr>\n",
       "  </tbody>\n",
       "</table>\n",
       "</div>"
      ],
      "text/plain": [
       "   Ensayo  Masa KHP (g)  Volumen Final (ml)  Concentracion (M)\n",
       "0       1        0.7064              0.0354           0.097712\n",
       "1       2        0.7077              0.0346           0.100156\n",
       "2       3        0.7026              0.0339           0.101487"
      ]
     },
     "execution_count": 90,
     "metadata": {},
     "output_type": "execute_result"
    }
   ],
   "source": [
    "KHP_MM = 204.22\n",
    "\n",
    "NAOH_TIT = pd.DataFrame(\n",
    "    {\n",
    "        'Ensayo':[1,2,3],\n",
    "        'Masa KHP (g)':[0.7064,0.7077,0.7026],\n",
    "        'Volumen Final (ml)':[0.0354,0.0346,0.0339]\n",
    "    }\n",
    ")\n",
    "NAOH_TIT['Concentracion (M)'] = (NAOH_TIT['Masa KHP (g)'] / KHP_MM / NAOH_TIT['Volumen Final (ml)'])\n",
    "#NAOH_TIT.append()\n",
    "NAOH_TIT\n",
    "\n"
   ]
  },
  {
   "cell_type": "code",
   "execution_count": 39,
   "metadata": {},
   "outputs": [],
   "source": [
    "#titulaciones\n",
    "import matplotlib.pyplot as plt\n",
    "\n",
    "tit_1 = pd.DataFrame(\n",
    "    {\n",
    "        'Volumen (ml)':[0,1,2,3,3.5,4,4.5,5,5.5,6,6.5,7,7.5,8,8.5,9,9.5,10,10.5,\n",
    "                        11,11.5,12,12.5,13,13.5,14,14.5,15,15.5,16,16.5,17,17.5,\n",
    "                        18,18.5,19,19.5,20,20.5,21,21.5,22,22.5,22.7,22.9,23,23.5,\n",
    "                        23.7,24.5,25.5,26.5,27.5,28.5,29.5,30.5,31.5],\n",
    "        'Potencial (mV)': [2.58,2.82,3.04,3.21,3.29,3.36,3.4,3.45,3.5,3.55,3.59,3.63,\n",
    "                           3.67,3.7,3.74,3.78,3.82,3.86,3.88,3.92,3.96,3.99,4.03,4.07,\n",
    "                           4.11,4.15,4.19,4.23,4.28,4.32,4.37,4.43,4.49,4.56,4.63,4.7,\n",
    "                           4.81,4.92,5.03,5.23,5.49,6.02,6.12,6.33,6.44,6.63,6.82,6.94,\n",
    "                           11.5,12.05,12.27,12.36,12.44,12.48,12.52,12.53]\n",
    "    }\n",
    ")\n",
    "\n",
    "tit_2 = pd.DataFrame(\n",
    "    {\n",
    "        'Volumen (ml)':[0,5,10,15,20,21.5,23,23.5,23.7,24,24.2,25,26,27.1,28,29,30],\n",
    "        'Potencial (mV)':[2.68,3.43,3.83,4.16,4.66,4.93,5.45,5.91,6.11,6.48,6.85,11.6,12.04,12.24,12.33,12.42,12.47]\n",
    "    }\n",
    ")\n",
    "\n",
    "tit_3 = pd.DataFrame(\n",
    "    {\n",
    "        'Volumen (ml)':[0,5,10,15,20,21.5,23,23.5,23.7,24,25,26,27.1,28,29,30],\n",
    "        'Potencial (mV)':[2.62,3.41,3.82,4.22,4.94,5.69,6.29,6.55,6.82,10.57,11.87,12.14,12.28,12.37,12.43,12.44]\n",
    "    }\n",
    ")\n"
   ]
  },
  {
   "cell_type": "code",
   "execution_count": 71,
   "metadata": {
    "scrolled": true
   },
   "outputs": [],
   "source": [
    "x1, y1, x2 , y2 , x3, y3 = tit_1['Volumen (ml)'], tit_1['Potencial (mV)'], tit_2['Volumen (ml)'], tit_2['Potencial (mV)'], tit_3['Volumen (ml)'], tit_3['Potencial (mV)']\n",
    "\n",
    "def plot_all():\n",
    "    fig, ax = plt.subplots()\n",
    "    ax.plot(x1, y1)\n",
    "    ax.plot(x2, y2)\n",
    "    ax.plot(x3, y3)\n",
    "    ax.set_xlabel('Volumen (ml)')\n",
    "    ax.set_ylabel('Potencial (mV)')\n",
    "    ax.set_title('Titulaciones')\n",
    "    plt.legend([\"Titulacion 1\", \"Titulacion 2\", \"Titulacion 3\"])\n",
    "    \n",
    "#plot_all()"
   ]
  },
  {
   "cell_type": "markdown",
   "metadata": {
    "variables": {
     "plot_all()": "<img src=\"data:image/png;base64,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\n\"/>"
    }
   },
   "source": [
    "# Grafica de titulaciones\n",
    "\n",
    "{{plot_all()}}"
   ]
  },
  {
   "cell_type": "code",
   "execution_count": null,
   "metadata": {},
   "outputs": [],
   "source": []
  },
  {
   "cell_type": "code",
   "execution_count": null,
   "metadata": {},
   "outputs": [],
   "source": []
  }
 ],
 "metadata": {
  "celltoolbar": "Edit Metadata",
  "hide_input": false,
  "kernelspec": {
   "display_name": "Python 3",
   "language": "python",
   "name": "python3"
  },
  "language_info": {
   "codemirror_mode": {
    "name": "ipython",
    "version": 3
   },
   "file_extension": ".py",
   "mimetype": "text/x-python",
   "name": "python",
   "nbconvert_exporter": "python",
   "pygments_lexer": "ipython3",
   "version": "3.9.1"
  }
 },
 "nbformat": 4,
 "nbformat_minor": 4
}
